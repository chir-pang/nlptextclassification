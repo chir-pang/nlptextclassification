{
  "nbformat": 4,
  "nbformat_minor": 0,
  "metadata": {
    "colab": {
      "name": "BackTester.ipynb",
      "provenance": [],
      "collapsed_sections": [],
      "include_colab_link": true
    },
    "kernelspec": {
      "name": "python3",
      "display_name": "Python 3"
    }
  },
  "cells": [
    {
      "cell_type": "markdown",
      "metadata": {
        "id": "view-in-github",
        "colab_type": "text"
      },
      "source": [
        "<a href=\"https://colab.research.google.com/github/chir-pang/nlptextclassification/blob/master/BackTester.ipynb\" target=\"_parent\"><img src=\"https://colab.research.google.com/assets/colab-badge.svg\" alt=\"Open In Colab\"/></a>"
      ]
    },
    {
      "cell_type": "code",
      "metadata": {
        "id": "Sj7218S2vBy9",
        "colab_type": "code",
        "colab": {
          "base_uri": "https://localhost:8080/",
          "height": 190
        },
        "outputId": "b457f30f-5af6-4379-d10a-83c446d8a08b"
      },
      "source": [
        "pip install import_ipynb"
      ],
      "execution_count": null,
      "outputs": [
        {
          "output_type": "stream",
          "text": [
            "Collecting import_ipynb\n",
            "  Downloading https://files.pythonhosted.org/packages/63/35/495e0021bfdcc924c7cdec4e9fbb87c88dd03b9b9b22419444dc370c8a45/import-ipynb-0.1.3.tar.gz\n",
            "Building wheels for collected packages: import-ipynb\n",
            "  Building wheel for import-ipynb (setup.py) ... \u001b[?25l\u001b[?25hdone\n",
            "  Created wheel for import-ipynb: filename=import_ipynb-0.1.3-cp36-none-any.whl size=2976 sha256=33132d7840768e0b0653a5bb2c0325333168f3d4b6c2ea8206f564422eb5e4ce\n",
            "  Stored in directory: /root/.cache/pip/wheels/b4/7b/e9/a3a6e496115dffdb4e3085d0ae39ffe8a814eacc44bbf494b5\n",
            "Successfully built import-ipynb\n",
            "Installing collected packages: import-ipynb\n",
            "Successfully installed import-ipynb-0.1.3\n"
          ],
          "name": "stdout"
        }
      ]
    },
    {
      "cell_type": "code",
      "metadata": {
        "id": "Hkd69qErkhTh",
        "colab_type": "code",
        "colab": {
          "base_uri": "https://localhost:8080/",
          "height": 1000
        },
        "outputId": "340cd2e3-699e-4590-b9ce-196330dedf0b"
      },
      "source": [
        "!pip install kiteconnect"
      ],
      "execution_count": 1,
      "outputs": [
        {
          "output_type": "stream",
          "text": [
            "Collecting kiteconnect\n",
            "  Downloading https://files.pythonhosted.org/packages/b3/ca/13d0565cb51baa1df6344f2dd7f10eb32c0e28a7213a49d82d70cab9326a/kiteconnect-3.8.2.tar.gz\n",
            "Requirement already satisfied: requests>=2.18.4 in /usr/local/lib/python3.6/dist-packages (from kiteconnect) (2.23.0)\n",
            "Requirement already satisfied: six>=1.11.0 in /usr/local/lib/python3.6/dist-packages (from kiteconnect) (1.15.0)\n",
            "Collecting pyOpenSSL>=17.5.0\n",
            "\u001b[?25l  Downloading https://files.pythonhosted.org/packages/9e/de/f8342b68fa9e981d348039954657bdf681b2ab93de27443be51865ffa310/pyOpenSSL-19.1.0-py2.py3-none-any.whl (53kB)\n",
            "\u001b[K     |████████████████████████████████| 61kB 2.9MB/s \n",
            "\u001b[?25hCollecting enum34>=1.1.6\n",
            "  Downloading https://files.pythonhosted.org/packages/63/f6/ccb1c83687756aeabbf3ca0f213508fcfb03883ff200d201b3a4c60cedcc/enum34-1.1.10-py3-none-any.whl\n",
            "Requirement already satisfied: python-dateutil>=2.6.1 in /usr/local/lib/python3.6/dist-packages (from kiteconnect) (2.8.1)\n",
            "Collecting autobahn[twisted]>=17.10.1\n",
            "\u001b[?25l  Downloading https://files.pythonhosted.org/packages/6f/2a/8874a5a32a56ecc9c859f1daa281ffd87ec6047e49ab30804a0b3b2707d8/autobahn-20.7.1-py2.py3-none-any.whl (1.5MB)\n",
            "\u001b[K     |████████████████████████████████| 1.5MB 7.8MB/s \n",
            "\u001b[?25hRequirement already satisfied: chardet<4,>=3.0.2 in /usr/local/lib/python3.6/dist-packages (from requests>=2.18.4->kiteconnect) (3.0.4)\n",
            "Requirement already satisfied: certifi>=2017.4.17 in /usr/local/lib/python3.6/dist-packages (from requests>=2.18.4->kiteconnect) (2020.6.20)\n",
            "Requirement already satisfied: idna<3,>=2.5 in /usr/local/lib/python3.6/dist-packages (from requests>=2.18.4->kiteconnect) (2.10)\n",
            "Requirement already satisfied: urllib3!=1.25.0,!=1.25.1,<1.26,>=1.21.1 in /usr/local/lib/python3.6/dist-packages (from requests>=2.18.4->kiteconnect) (1.24.3)\n",
            "Collecting cryptography>=2.8\n",
            "\u001b[?25l  Downloading https://files.pythonhosted.org/packages/c0/9c/647e559a6e8be493dc2a7a5d15d26cb501ca60ec299b356f23839a673a83/cryptography-3.1-cp35-abi3-manylinux2010_x86_64.whl (2.6MB)\n",
            "\u001b[K     |████████████████████████████████| 2.6MB 23.5MB/s \n",
            "\u001b[?25hCollecting txaio>=20.3.1\n",
            "  Downloading https://files.pythonhosted.org/packages/4f/82/0cd8d81d57e55a598cd4cef10c6e971dbcaf437e4f138dc1624cf7c1388e/txaio-20.4.1-py2.py3-none-any.whl\n",
            "Collecting twisted>=20.3.0; extra == \"twisted\"\n",
            "\u001b[?25l  Downloading https://files.pythonhosted.org/packages/b7/04/1a664c9e5ec0224a1c1a154ddecaa4dc7b8967521bba225efcc41a03d5f3/Twisted-20.3.0-cp36-cp36m-manylinux1_x86_64.whl (3.1MB)\n",
            "\u001b[K     |████████████████████████████████| 3.1MB 31.1MB/s \n",
            "\u001b[?25hCollecting zope.interface>=3.6.0; extra == \"twisted\"\n",
            "\u001b[?25l  Downloading https://files.pythonhosted.org/packages/57/33/565274c28a11af60b7cfc0519d46bde4125fcd7d32ebc0a81b480d0e8da6/zope.interface-5.1.0-cp36-cp36m-manylinux2010_x86_64.whl (234kB)\n",
            "\u001b[K     |████████████████████████████████| 235kB 46.0MB/s \n",
            "\u001b[?25hRequirement already satisfied: attrs>=19.2.0; extra == \"twisted\" in /usr/local/lib/python3.6/dist-packages (from autobahn[twisted]>=17.10.1->kiteconnect) (20.1.0)\n",
            "Requirement already satisfied: cffi!=1.11.3,>=1.8 in /usr/local/lib/python3.6/dist-packages (from cryptography>=2.8->pyOpenSSL>=17.5.0->kiteconnect) (1.14.2)\n",
            "Collecting constantly>=15.1\n",
            "  Downloading https://files.pythonhosted.org/packages/b9/65/48c1909d0c0aeae6c10213340ce682db01b48ea900a7d9fce7a7910ff318/constantly-15.1.0-py2.py3-none-any.whl\n",
            "Collecting PyHamcrest!=1.10.0,>=1.9.0\n",
            "\u001b[?25l  Downloading https://files.pythonhosted.org/packages/40/16/e54cc65891f01cb62893540f44ffd3e8dab0a22443e1b438f1a9f5574bee/PyHamcrest-2.0.2-py3-none-any.whl (52kB)\n",
            "\u001b[K     |████████████████████████████████| 61kB 7.2MB/s \n",
            "\u001b[?25hCollecting Automat>=0.3.0\n",
            "  Downloading https://files.pythonhosted.org/packages/dd/83/5f6f3c1a562674d65efc320257bdc0873ec53147835aeef7762fe7585273/Automat-20.2.0-py2.py3-none-any.whl\n",
            "Collecting incremental>=16.10.1\n",
            "  Downloading https://files.pythonhosted.org/packages/f5/1d/c98a587dc06e107115cf4a58b49de20b19222c83d75335a192052af4c4b7/incremental-17.5.0-py2.py3-none-any.whl\n",
            "Collecting hyperlink>=17.1.1\n",
            "\u001b[?25l  Downloading https://files.pythonhosted.org/packages/88/a5/74f77547e9b175eb894d4fec5c76b0c8176c045e5bf3ac6a4d4d3feab4bb/hyperlink-20.0.1-py2.py3-none-any.whl (48kB)\n",
            "\u001b[K     |████████████████████████████████| 51kB 6.2MB/s \n",
            "\u001b[?25hRequirement already satisfied: setuptools in /usr/local/lib/python3.6/dist-packages (from zope.interface>=3.6.0; extra == \"twisted\"->autobahn[twisted]>=17.10.1->kiteconnect) (49.6.0)\n",
            "Requirement already satisfied: pycparser in /usr/local/lib/python3.6/dist-packages (from cffi!=1.11.3,>=1.8->cryptography>=2.8->pyOpenSSL>=17.5.0->kiteconnect) (2.20)\n",
            "Building wheels for collected packages: kiteconnect\n",
            "\u001b[33m  WARNING: Legacy build of wheel for 'kiteconnect' created no files.\n",
            "  Command arguments: /usr/bin/python3 -u -c 'import sys, setuptools, tokenize; sys.argv[0] = '\"'\"'/tmp/pip-install-0_5l7v01/kiteconnect/setup.py'\"'\"'; __file__='\"'\"'/tmp/pip-install-0_5l7v01/kiteconnect/setup.py'\"'\"';f=getattr(tokenize, '\"'\"'open'\"'\"', open)(__file__);code=f.read().replace('\"'\"'\\r\\n'\"'\"', '\"'\"'\\n'\"'\"');f.close();exec(compile(code, __file__, '\"'\"'exec'\"'\"'))' bdist_wheel -d /tmp/pip-wheel-b1p7slud --python-tag cp36\n",
            "  Command output:\n",
            "  running bdist_wheel\n",
            "  /tmp/pip-install-0_5l7v01/kiteconnect/setup.py:76: UserWarning: kiteconnect3.8.2 does not support building wheels\n",
            "    version=about[\"__version__\"]\n",
            "  ----------------------------------------\u001b[0m\n",
            "  Building wheel for kiteconnect (setup.py) ... \u001b[?25l\u001b[?25hdone\n",
            "  Running setup.py clean for kiteconnect\n",
            "Failed to build kiteconnect\n",
            "Installing collected packages: cryptography, pyOpenSSL, enum34, txaio, constantly, PyHamcrest, Automat, incremental, zope.interface, hyperlink, twisted, autobahn, kiteconnect\n",
            "    Running setup.py install for kiteconnect ... \u001b[?25l\u001b[?25hdone\n",
            "Successfully installed Automat-20.2.0 PyHamcrest-2.0.2 autobahn-20.7.1 constantly-15.1.0 cryptography-3.1 enum34-1.1.10 hyperlink-20.0.1 incremental-17.5.0 kiteconnect-3.8.2 pyOpenSSL-19.1.0 twisted-20.3.0 txaio-20.4.1 zope.interface-5.1.0\n"
          ],
          "name": "stdout"
        },
        {
          "output_type": "display_data",
          "data": {
            "application/vnd.colab-display-data+json": {
              "pip_warning": {
                "packages": [
                  "enum"
                ]
              }
            }
          },
          "metadata": {
            "tags": []
          }
        }
      ]
    },
    {
      "cell_type": "code",
      "metadata": {
        "id": "ybKPDvVje0Yr",
        "colab_type": "code",
        "colab": {
          "base_uri": "https://localhost:8080/",
          "height": 122
        },
        "outputId": "c2cd9ce8-3162-4820-9e15-bc700958f8a7"
      },
      "source": [
        "from google.colab import drive\n",
        "drive.mount('/content/gdrive')"
      ],
      "execution_count": null,
      "outputs": [
        {
          "output_type": "stream",
          "text": [
            "Go to this URL in a browser: https://accounts.google.com/o/oauth2/auth?client_id=947318989803-6bn6qk8qdgf4n4g3pfee6491hc0brc4i.apps.googleusercontent.com&redirect_uri=urn%3aietf%3awg%3aoauth%3a2.0%3aoob&scope=email%20https%3a%2f%2fwww.googleapis.com%2fauth%2fdocs.test%20https%3a%2f%2fwww.googleapis.com%2fauth%2fdrive%20https%3a%2f%2fwww.googleapis.com%2fauth%2fdrive.photos.readonly%20https%3a%2f%2fwww.googleapis.com%2fauth%2fpeopleapi.readonly&response_type=code\n",
            "\n",
            "Enter your authorization code:\n",
            "··········\n",
            "Mounted at /content/gdrive\n"
          ],
          "name": "stdout"
        }
      ]
    },
    {
      "cell_type": "code",
      "metadata": {
        "id": "GReJFps5f3K8",
        "colab_type": "code",
        "colab": {
          "base_uri": "https://localhost:8080/",
          "height": 119
        },
        "outputId": "4a7df4b8-2b6f-499b-fb20-753dd84c4bf9"
      },
      "source": [
        "!ls \"/content/gdrive/My Drive/Colab Notebooks/\"\n"
      ],
      "execution_count": null,
      "outputs": [
        {
          "output_type": "stream",
          "text": [
            "ADX_signals.ipynb\t RelativeStrength.ipynb\n",
            "BackTester.ipynb\t Results_equity_rs_buy.xlsx\n",
            "Breakout_atr.ipynb\t Results_equity_rs_pure_stocks.xlsx\n",
            "Future_equity_codes.csv  Results_equity_rs.xlsx\n",
            "Indicators.ipynb\t RS_Execution.ipynb\n",
            "LiveTradingModel.ipynb\t VHF-MACD.ipynb\n"
          ],
          "name": "stdout"
        }
      ]
    },
    {
      "cell_type": "code",
      "metadata": {
        "id": "vI1t4NhGfZfV",
        "colab_type": "code",
        "colab": {
          "base_uri": "https://localhost:8080/",
          "height": 54
        },
        "outputId": "80b42a1a-6b89-469a-92c2-be8accdab471"
      },
      "source": [
        "!cat '/content/gdrive/My Drive/Colab Notebooks/Breakout_atr.ipynb'"
      ],
      "execution_count": null,
      "outputs": [
        {
          "output_type": "stream",
          "text": [
            "{\"nbformat\":4,\"nbformat_minor\":0,\"metadata\":{\"colab\":{\"name\":\"Breakout_atr.ipynb\",\"provenance\":[],\"authorship_tag\":\"ABX9TyM1L9tgitBk9S2kdaaThTmd\"},\"kernelspec\":{\"name\":\"python3\",\"display_name\":\"Python 3\"}},\"cells\":[{\"cell_type\":\"code\",\"metadata\":{\"id\":\"KOO2OSxRpXbl\",\"colab_type\":\"code\",\"colab\":{\"base_uri\":\"https://localhost:8080/\",\"height\":190},\"executionInfo\":{\"status\":\"ok\",\"timestamp\":1597889710586,\"user_tz\":-330,\"elapsed\":11664,\"user\":{\"displayName\":\"Chirag Pangoriya\",\"photoUrl\":\"\",\"userId\":\"03597992445652118502\"}},\"outputId\":\"99f92769-f1f9-4cdd-b09c-fda5eff782f2\"},\"source\":[\"pip install import_ipynb\"],\"execution_count\":1,\"outputs\":[{\"output_type\":\"stream\",\"text\":[\"Collecting import_ipynb\\n\",\"  Downloading https://files.pythonhosted.org/packages/63/35/495e0021bfdcc924c7cdec4e9fbb87c88dd03b9b9b22419444dc370c8a45/import-ipynb-0.1.3.tar.gz\\n\",\"Building wheels for collected packages: import-ipynb\\n\",\"  Building wheel for import-ipynb (setup.py) ... \\u001b[?25l\\u001b[?25hdone\\n\",\"  Created wheel for import-ipynb: filename=import_ipynb-0.1.3-cp36-none-any.whl size=2976 sha256=e81317d3768d22a06d69a66e6e691192ce642a8c579902cb0afa90afc403844b\\n\",\"  Stored in directory: /root/.cache/pip/wheels/b4/7b/e9/a3a6e496115dffdb4e3085d0ae39ffe8a814eacc44bbf494b5\\n\",\"Successfully built import-ipynb\\n\",\"Installing collected packages: import-ipynb\\n\",\"Successfully installed import-ipynb-0.1.3\\n\"],\"name\":\"stdout\"}]},{\"cell_type\":\"code\",\"metadata\":{\"id\":\"NwaTa5y1paRX\",\"colab_type\":\"code\",\"colab\":{\"base_uri\":\"https://localhost:8080/\",\"height\":122},\"executionInfo\":{\"status\":\"ok\",\"timestamp\":1597889735679,\"user_tz\":-330,\"elapsed\":36747,\"user\":{\"displayName\":\"Chirag Pangoriya\",\"photoUrl\":\"\",\"userId\":\"03597992445652118502\"}},\"outputId\":\"646c660a-1fc1-43d2-802c-fb99c06af4c8\"},\"source\":[\"from google.colab import drive\\n\",\"drive.mount('/content/gdrive')\"],\"execution_count\":2,\"outputs\":[{\"output_type\":\"stream\",\"text\":[\"Go to this URL in a browser: https://accounts.google.com/o/oauth2/auth?client_id=947318989803-6bn6qk8qdgf4n4g3pfee6491hc0brc4i.apps.googleusercontent.com&redirect_uri=urn%3aietf%3awg%3aoauth%3a2.0%3aoob&scope=email%20https%3a%2f%2fwww.googleapis.com%2fauth%2fdocs.test%20https%3a%2f%2fwww.googleapis.com%2fauth%2fdrive%20https%3a%2f%2fwww.googleapis.com%2fauth%2fdrive.photos.readonly%20https%3a%2f%2fwww.googleapis.com%2fauth%2fpeopleapi.readonly&response_type=code\\n\",\"\\n\",\"Enter your authorization code:\\n\",\"··········\\n\",\"Mounted at /content/gdrive\\n\"],\"name\":\"stdout\"}]},{\"cell_type\":\"code\",\"metadata\":{\"id\":\"ppPQBITNphMP\",\"colab_type\":\"code\",\"colab\":{\"base_uri\":\"https://localhost:8080/\",\"height\":54},\"executionInfo\":{\"status\":\"ok\",\"timestamp\":1597889804776,\"user_tz\":-330,\"elapsed\":3378,\"user\":{\"displayName\":\"Chirag Pangoriya\",\"photoUrl\":\"\",\"userId\":\"03597992445652118502\"}},\"outputId\":\"7cbe356e-3d70-4208-bf43-90c46ca2331c\"},\"source\":[\"!cat '/content/gdrive/My Drive/Colab Notebooks/Indicators.ipynb'\"],\"execution_count\":6,\"outputs\":[{\"output_type\":\"stream\",\"text\":[\"{\\\"nbformat\\\":4,\\\"nbformat_minor\\\":0,\\\"metadata\\\":{\\\"colab\\\":{\\\"name\\\":\\\"Indicators.ipynb\\\",\\\"provenance\\\":[]},\\\"kernelspec\\\":{\\\"name\\\":\\\"python3\\\",\\\"display_name\\\":\\\"Python 3\\\"}},\\\"cells\\\":[{\\\"cell_type\\\":\\\"code\\\",\\\"metadata\\\":{\\\"id\\\":\\\"XQ_jmNFWC-dW\\\",\\\"colab_type\\\":\\\"code\\\",\\\"colab\\\":{}},\\\"source\\\":[\\\"def VHF_self(close_price, n):\\\\n\\\",\\\"  \\\\n\\\",\\\"  HCP = close_price.rolling(n, min_periods = n).max()\\\\n\\\",\\\"  \\\\n\\\",\\\"  LCP = close_price.rolling(n, min_periods = n).min()\\\\n\\\",\\\"  \\\\n\\\",\\\"  shifted_series = abs(close_price - close_price.shift(1))\\\\n\\\",\\\"  \\\\n\\\",\\\"  denominator = shifted_series.rolling(n, min_periods = n).sum()\\\\n\\\",\\\" \\\\n\\\",\\\"  VHF = (HCP - LCP)/(denominator)\\\\n\\\",\\\"  return VHF\\\"],\\\"execution_count\\\":null,\\\"outputs\\\":[]},{\\\"cell_type\\\":\\\"code\\\",\\\"metadata\\\":{\\\"id\\\":\\\"5nCKqSroTIaO\\\",\\\"colab_type\\\":\\\"code\\\",\\\"colab\\\":{}},\\\"source\\\":[\\\"def VHF_self_Zerodha(close_price,high_price, low_price, n):\\\\n\\\",\\\"  \\\\n\\\",\\\"  HCP = high_price.rolling(n, min_periods = n).max()\\\\n\\\",\\\"  \\\\n\\\",\\\"  LCP = low_price.rolling(n, min_periods = n).min()\\\\n\\\",\\\"  \\\\n\\\",\\\"  shifted_series = abs(close_price - close_price.shift(1))\\\\n\\\",\\\"  \\\\n\\\",\\\"  denominator = shifted_series.rolling(n, min_periods = n).sum()\\\\n\\\",\\\" \\\\n\\\",\\\"  VHF = (HCP - LCP)/(denominator)\\\\n\\\",\\\"  return VHF\\\\n\\\",\\\"\\\\n\\\",\\\"\\\\n\\\",\\\"# print(df1['Close'])\\\\n\\\",\\\"# print(df1['Close'].rolling(14, min_periods = 0).max())\\\\n\\\",\\\"# shifted_series = df1['Close'].shift(1)\\\\n\\\",\\\"# shifted_series = abs(df1['Close'] - shifted_series)\\\\n\\\",\\\"# print(shifted_series.rolling(14, min_periods = 14).sum())\\\"],\\\"execution_count\\\":null,\\\"outputs\\\":[]},{\\\"cell_type\\\":\\\"code\\\",\\\"metadata\\\":{\\\"id\\\":\\\"oaq2EwnjejTX\\\",\\\"colab_type\\\":\\\"code\\\",\\\"colab\\\":{}},\\\"source\\\":[\\\"def EMA_self(data_list, n):\\\\n\\\",\\\"#   smoothing factor = sf\\\\n\\\",\\\"#   sf = 2/(n+1)\\\\n\\\",\\\"  sma = data_list.rolling(n).mean()\\\\n\\\",\\\"  modPrice = data_list.copy()\\\\n\\\",\\\"  modPrice[0:n] = sma[0:n]\\\\n\\\",\\\"  ema = modPrice.ewm(span = n, adjust = False).mean()\\\\n\\\",\\\"  return ema\\\"],\\\"execution_count\\\":null,\\\"outputs\\\":[]},{\\\"cell_type\\\":\\\"code\\\",\\\"metadata\\\":{\\\"id\\\":\\\"QH2XbkRvelvC\\\",\\\"colab_type\\\":\\\"code\\\",\\\"colab\\\":{}},\\\"source\\\":[\\\"def MACD_self(data_list, n1, n2, n3):\\\\n\\\",\\\"  macd = EMA_self(data_list, n2) - EMA_self(data_list, n1)\\\\n\\\",\\\"  macd_signal = EMA_self(macd, n3)\\\\n\\\",\\\"  return macd, macd_signal\\\"],\\\"execution_count\\\":null,\\\"outputs\\\":[]},{\\\"cell_type\\\":\\\"code\\\",\\\"metadata\\\":{\\\"id\\\":\\\"BmYxJ_Maeond\\\",\\\"colab_type\\\":\\\"code\\\",\\\"colab\\\":{}},\\\"source\\\":[\\\"def ATR_self(data, n):\\\\n\\\",\\\"  true_range = pd.Series()\\\\n\\\",\\\"  for i in range(1, len(data['high'].index)):\\\\n\\\",\\\"    # try:\\\\n\\\",\\\"    true_range[data['high'].index[i]]   =   (max((data['high'])[i]-(data['low'])[i], abs((data['high'])[i]-(data['close'])[i-1]), abs((data['low'])[i]-(data['close'])[i-1])))\\\\n\\\",\\\"    # except indexError:\\\\n\\\",\\\"    #   continue\\\\n\\\",\\\"  atr = (true_range).ewm(alpha = 1/(n), adjust = False).mean()\\\\n\\\",\\\"  # atr = ( atr.shift(1)*13 + true_range ) /  14\\\\n\\\",\\\"  return atr\\\"],\\\"execution_count\\\":null,\\\"outputs\\\":[]},{\\\"cell_type\\\":\\\"code\\\",\\\"metadata\\\":{\\\"id\\\":\\\"CXYuKwyPl6yC\\\",\\\"colab_type\\\":\\\"code\\\",\\\"colab\\\":{}},\\\"source\\\":[\\\"def ADX_self(data, n):\\\\n\\\",\\\"  \\\"],\\\"execution_count\\\":null,\\\"outputs\\\":[]},{\\\"cell_type\\\":\\\"code\\\",\\\"metadata\\\":{\\\"id\\\":\\\"YbS0xo9Lz2Yd\\\",\\\"colab_type\\\":\\\"code\\\",\\\"colab\\\":{\\\"base_uri\\\":\\\"https://localhost:8080/\\\",\\\"height\\\":300},\\\"executionInfo\\\":{\\\"status\\\":\\\"error\\\",\\\"timestamp\\\":1597624023893,\\\"user_tz\\\":-330,\\\"elapsed\\\":2141,\\\"user\\\":{\\\"displayName\\\":\\\"Chirag Pangoriya\\\",\\\"photoUrl\\\":\\\"\\\",\\\"userId\\\":\\\"03597992445652118502\\\"}},\\\"outputId\\\":\\\"7bdb2a51-5514-4674-b10d-b4d26b7163cf\\\"},\\\"source\\\":[\\\"from ta.trend import ADXIndicator\\\"],\\\"execution_count\\\":1,\\\"outputs\\\":[{\\\"output_type\\\":\\\"error\\\",\\\"ename\\\":\\\"ModuleNotFoundError\\\",\\\"evalue\\\":\\\"ignored\\\",\\\"traceback\\\":[\\\"\\\\u001b[0;31m---------------------------------------------------------------------------\\\\u001b[0m\\\",\\\"\\\\u001b[0;31mModuleNotFoundError\\\\u001b[0m                       Traceback (most recent call last)\\\",\\\"\\\\u001b[0;32m<ipython-input-1-459918b0b66a>\\\\u001b[0m in \\\\u001b[0;36m<module>\\\\u001b[0;34m()\\\\u001b[0m\\\\n\\\\u001b[0;32m----> 1\\\\u001b[0;31m \\\\u001b[0;32mfrom\\\\u001b[0m \\\\u001b[0mta\\\\u001b[0m\\\\u001b[0;34m.\\\\u001b[0m\\\\u001b[0mtrend\\\\u001b[0m \\\\u001b[0;32mimport\\\\u001b[0m \\\\u001b[0mADXIndicator\\\\u001b[0m\\\\u001b[0;34m\\\\u001b[0m\\\\u001b[0;34m\\\\u001b[0m\\\\u001b[0m\\\\n\\\\u001b[0m\\\",\\\"\\\\u001b[0;31mModuleNotFoundError\\\\u001b[0m: No module named 'ta'\\\",\\\"\\\",\\\"\\\\u001b[0;31m---------------------------------------------------------------------------\\\\u001b[0;32m\\\\nNOTE: If your import is failing due to a missing package, you can\\\\nmanually install dependencies using either !pip or !apt.\\\\n\\\\nTo view examples of installing some common dependencies, click the\\\\n\\\\\\\"Open Examples\\\\\\\" button below.\\\\n\\\\u001b[0;31m---------------------------------------------------------------------------\\\\u001b[0m\\\\n\\\"]}]},{\\\"cell_type\\\":\\\"code\\\",\\\"metadata\\\":{\\\"id\\\":\\\"w5PqySVzz7JT\\\",\\\"colab_type\\\":\\\"code\\\",\\\"colab\\\":{\\\"base_uri\\\":\\\"https://localhost:8080/\\\",\\\"height\\\":241},\\\"executionInfo\\\":{\\\"status\\\":\\\"ok\\\",\\\"timestamp\\\":1597624336981,\\\"user_tz\\\":-330,\\\"elapsed\\\":9802,\\\"user\\\":{\\\"displayName\\\":\\\"Chirag Pangoriya\\\",\\\"photoUrl\\\":\\\"\\\",\\\"userId\\\":\\\"03597992445652118502\\\"}},\\\"outputId\\\":\\\"28faea85-fd81-4132-b56e-c17c4b6b34ec\\\"},\\\"source\\\":[\\\"pip install ta-lib\\\"],\\\"execution_count\\\":2,\\\"outputs\\\":[{\\\"output_type\\\":\\\"stream\\\",\\\"text\\\":[\\\"Collecting ta-lib\\\\n\\\",\\\"\\\\u001b[?25l  Downloading https://files.pythonhosted.org/packages/d7/15/ebf1a6ebcf7580dc53e342979c7425affc38ef272bc10a7f4565ee87b394/TA-Lib-0.4.18.tar.gz (265kB)\\\\n\\\",\\\"\\\\r\\\\u001b[K     |█▎                              | 10kB 15.7MB/s eta 0:00:01\\\\r\\\\u001b[K     |██▌                             | 20kB 1.7MB/s eta 0:00:01\\\\r\\\\u001b[K     |███▊                            | 30kB 2.2MB/s eta 0:00:01\\\\r\\\\u001b[K     |█████                           | 40kB 2.5MB/s eta 0:00:01\\\\r\\\\u001b[K     |██████▏                         | 51kB 2.0MB/s eta 0:00:01\\\\r\\\\u001b[K     |███████▍                        | 61kB 2.3MB/s eta 0:00:01\\\\r\\\\u001b[K     |████████▋                       | 71kB 2.4MB/s eta 0:00:01\\\\r\\\\u001b[K     |█████████▉                      | 81kB 2.7MB/s eta 0:00:01\\\\r\\\\u001b[K     |███████████                     | 92kB 2.9MB/s eta 0:00:01\\\\r\\\\u001b[K     |████████████▎                   | 102kB 2.7MB/s eta 0:00:01\\\\r\\\\u001b[K     |█████████████▋                  | 112kB 2.7MB/s eta 0:00:01\\\\r\\\\u001b[K     |██████████████▉                 | 122kB 2.7MB/s eta 0:00:01\\\\r\\\\u001b[K     |████████████████                | 133kB 2.7MB/s eta 0:00:01\\\\r\\\\u001b[K     |█████████████████▎              | 143kB 2.7MB/s eta 0:00:01\\\\r\\\\u001b[K     |██████████████████▌             | 153kB 2.7MB/s eta 0:00:01\\\\r\\\\u001b[K     |███████████████████▊            | 163kB 2.7MB/s eta 0:00:01\\\\r\\\\u001b[K     |█████████████████████           | 174kB 2.7MB/s eta 0:00:01\\\\r\\\\u001b[K     |██████████████████████▏         | 184kB 2.7MB/s eta 0:00:01\\\\r\\\\u001b[K     |███████████████████████▍        | 194kB 2.7MB/s eta 0:00:01\\\\r\\\\u001b[K     |████████████████████████▋       | 204kB 2.7MB/s eta 0:00:01\\\\r\\\\u001b[K     |█████████████████████████▉      | 215kB 2.7MB/s eta 0:00:01\\\\r\\\\u001b[K     |███████████████████████████▏    | 225kB 2.7MB/s eta 0:00:01\\\\r\\\\u001b[K     |████████████████████████████▍   | 235kB 2.7MB/s eta 0:00:01\\\\r\\\\u001b[K     |█████████████████████████████▋  | 245kB 2.7MB/s eta 0:00:01\\\\r\\\\u001b[K     |██████████████████████████████▉ | 256kB 2.7MB/s eta 0:00:01\\\\r\\\\u001b[K     |████████████████████████████████| 266kB 2.7MB/s \\\\n\\\",\\\"\\\\u001b[?25hRequirement already satisfied: numpy in /usr/local/lib/python3.6/dist-packages (from ta-lib) (1.18.5)\\\\n\\\",\\\"Building wheels for collected packages: ta-lib\\\\n\\\",\\\"  Building wheel for ta-lib (setup.py) ... \\\\u001b[?25lerror\\\\n\\\",\\\"\\\\u001b[31m  ERROR: Failed building wheel for ta-lib\\\\u001b[0m\\\\n\\\",\\\"\\\\u001b[?25h  Running setup.py clean for ta-lib\\\\n\\\",\\\"Failed to build ta-lib\\\\n\\\",\\\"Installing collected packages: ta-lib\\\\n\\\",\\\"    Running setup.py install for ta-lib ... \\\\u001b[?25l\\\\u001b[?25herror\\\\n\\\",\\\"\\\\u001b[31mERROR: Command errored out with exit status 1: /usr/bin/python3 -u -c 'import sys, setuptools, tokenize; sys.argv[0] = '\\\\\\\"'\\\\\\\"'/tmp/pip-install-lr5212sm/ta-lib/setup.py'\\\\\\\"'\\\\\\\"'; __file__='\\\\\\\"'\\\\\\\"'/tmp/pip-install-lr5212sm/ta-lib/setup.py'\\\\\\\"'\\\\\\\"';f=getattr(tokenize, '\\\\\\\"'\\\\\\\"'open'\\\\\\\"'\\\\\\\"', open)(__file__);code=f.read().replace('\\\\\\\"'\\\\\\\"'\\\\\\\\r\\\\\\\\n'\\\\\\\"'\\\\\\\"', '\\\\\\\"'\\\\\\\"'\\\\\\\\n'\\\\\\\"'\\\\\\\"');f.close();exec(compile(code, __file__, '\\\\\\\"'\\\\\\\"'exec'\\\\\\\"'\\\\\\\"'))' install --record /tmp/pip-record-jl4sgq3k/install-record.txt --single-version-externally-managed --compile Check the logs for full command output.\\\\u001b[0m\\\\n\\\"],\\\"name\\\":\\\"stdout\\\"}]},{\\\"cell_type\\\":\\\"code\\\",\\\"metadata\\\":{\\\"id\\\":\\\"fQZjYWoW1Jt-\\\",\\\"colab_type\\\":\\\"code\\\",\\\"colab\\\":{},\\\"executionInfo\\\":{\\\"status\\\":\\\"ok\\\",\\\"timestamp\\\":1597624595945,\\\"user_tz\\\":-330,\\\"elapsed\\\":1144,\\\"user\\\":{\\\"displayName\\\":\\\"Chirag Pangoriya\\\",\\\"photoUrl\\\":\\\"\\\",\\\"userId\\\":\\\"03597992445652118502\\\"}}},\\\"source\\\":[\\\"import pandas as pd\\\\n\\\",\\\"import io\\\\n\\\",\\\"import re\\\\n\\\",\\\"import matplotlib.pyplot as plt\\\\n\\\",\\\"import sys\\\\n\\\",\\\"import itertools\\\\n\\\",\\\"import statistics\\\\n\\\",\\\"from google.colab import files\\\\n\\\",\\\"import logging\\\\n\\\",\\\"import datetime\\\\n\\\",\\\"import math\\\"],\\\"execution_count\\\":3,\\\"outputs\\\":[]},{\\\"cell_type\\\":\\\"code\\\",\\\"metadata\\\":{\\\"id\\\":\\\"RKmMrQgS2LEj\\\",\\\"colab_type\\\":\\\"code\\\",\\\"colab\\\":{\\\"base_uri\\\":\\\"https://localhost:8080/\\\",\\\"height\\\":224},\\\"executionInfo\\\":{\\\"status\\\":\\\"ok\\\",\\\"timestamp\\\":1597624609474,\\\"user_tz\\\":-330,\\\"elapsed\\\":8795,\\\"user\\\":{\\\"displayName\\\":\\\"Chirag Pangoriya\\\",\\\"photoUrl\\\":\\\"\\\",\\\"userId\\\":\\\"03597992445652118502\\\"}},\\\"outputId\\\":\\\"234c64aa-c9e3-45e0-cc6f-ebb6c5b0cc0c\\\"},\\\"source\\\":[\\\"pip install ta-lib\\\"],\\\"execution_count\\\":4,\\\"outputs\\\":[{\\\"output_type\\\":\\\"stream\\\",\\\"text\\\":[\\\"Collecting ta-lib\\\\n\\\",\\\"  Using cached https://files.pythonhosted.org/packages/d7/15/ebf1a6ebcf7580dc53e342979c7425affc38ef272bc10a7f4565ee87b394/TA-Lib-0.4.18.tar.gz\\\\n\\\",\\\"Requirement already satisfied: numpy in /usr/local/lib/python3.6/dist-packages (from ta-lib) (1.18.5)\\\\n\\\",\\\"Building wheels for collected packages: ta-lib\\\\n\\\",\\\"  Building wheel for ta-lib (setup.py) ... \\\\u001b[?25lerror\\\\n\\\",\\\"\\\\u001b[31m  ERROR: Failed building wheel for ta-lib\\\\u001b[0m\\\\n\\\",\\\"\\\\u001b[?25h  Running setup.py clean for ta-lib\\\\n\\\",\\\"Failed to build ta-lib\\\\n\\\",\\\"Installing collected packages: ta-lib\\\\n\\\",\\\"    Running setup.py install for ta-lib ... \\\\u001b[?25l\\\\u001b[?25herror\\\\n\\\",\\\"\\\\u001b[31mERROR: Command errored out with exit status 1: /usr/bin/python3 -u -c 'import sys, setuptools, tokenize; sys.argv[0] = '\\\\\\\"'\\\\\\\"'/tmp/pip-install-9x60z3zl/ta-lib/setup.py'\\\\\\\"'\\\\\\\"'; __file__='\\\\\\\"'\\\\\\\"'/tmp/pip-install-9x60z3zl/ta-lib/setup.py'\\\\\\\"'\\\\\\\"';f=getattr(tokenize, '\\\\\\\"'\\\\\\\"'open'\\\\\\\"'\\\\\\\"', open)(__file__);code=f.read().replace('\\\\\\\"'\\\\\\\"'\\\\\\\\r\\\\\\\\n'\\\\\\\"'\\\\\\\"', '\\\\\\\"'\\\\\\\"'\\\\\\\\n'\\\\\\\"'\\\\\\\"');f.close();exec(compile(code, __file__, '\\\\\\\"'\\\\\\\"'exec'\\\\\\\"'\\\\\\\"'))' install --record /tmp/pip-record-6yjhcg5k/install-record.txt --single-version-externally-managed --compile Check the logs for full command output.\\\\u001b[0m\\\\n\\\"],\\\"name\\\":\\\"stdout\\\"}]},{\\\"cell_type\\\":\\\"code\\\",\\\"metadata\\\":{\\\"id\\\":\\\"5kESbiYr2MgT\\\",\\\"colab_type\\\":\\\"code\\\",\\\"colab\\\":{\\\"base_uri\\\":\\\"https://localhost:8080/\\\",\\\"height\\\":130},\\\"executionInfo\\\":{\\\"status\\\":\\\"error\\\",\\\"timestamp\\\":1597624676741,\\\"user_tz\\\":-330,\\\"elapsed\\\":1044,\\\"user\\\":{\\\"displayName\\\":\\\"Chirag Pangoriya\\\",\\\"photoUrl\\\":\\\"\\\",\\\"userId\\\":\\\"03597992445652118502\\\"}},\\\"outputId\\\":\\\"86dcdd32-cd92-411e-cc5d-42330df0c2b8\\\"},\\\"source\\\":[\\\"ruby -e \\\\\\\"$(curl -fsSL https://raw.githubusercontent.com/Homebrew/install/master/install)\\\\\\\"\\\"],\\\"execution_count\\\":5,\\\"outputs\\\":[{\\\"output_type\\\":\\\"error\\\",\\\"ename\\\":\\\"SyntaxError\\\",\\\"evalue\\\":\\\"ignored\\\",\\\"traceback\\\":[\\\"\\\\u001b[0;36m  File \\\\u001b[0;32m\\\\\\\"<ipython-input-5-741fef1358d0>\\\\\\\"\\\\u001b[0;36m, line \\\\u001b[0;32m1\\\\u001b[0m\\\\n\\\\u001b[0;31m    ruby -e \\\\\\\"$(curl -fsSL https://raw.githubusercontent.com/Homebrew/install/master/install)\\\\\\\"\\\\u001b[0m\\\\n\\\\u001b[0m                                                                                            ^\\\\u001b[0m\\\\n\\\\u001b[0;31mSyntaxError\\\\u001b[0m\\\\u001b[0;31m:\\\\u001b[0m invalid syntax\\\\n\\\"]}]},{\\\"cell_type\\\":\\\"code\\\",\\\"metadata\\\":{\\\"id\\\":\\\"2ea6whTb2e0S\\\",\\\"colab_type\\\":\\\"code\\\",\\\"colab\\\":{\\\"base_uri\\\":\\\"https://localhost:8080/\\\",\\\"height\\\":130},\\\"executionInfo\\\":{\\\"status\\\":\\\"error\\\",\\\"timestamp\\\":1597625148601,\\\"user_tz\\\":-330,\\\"elapsed\\\":1145,\\\"user\\\":{\\\"displayName\\\":\\\"Chirag Pangoriya\\\",\\\"photoUrl\\\":\\\"\\\",\\\"userId\\\":\\\"03597992445652118502\\\"}},\\\"outputId\\\":\\\"75f25025-ec13-4495-c640-648a340a7db4\\\"},\\\"source\\\":[\\\"$ pip install TA-Lib\\\"],\\\"execution_count\\\":9,\\\"outputs\\\":[{\\\"output_type\\\":\\\"error\\\",\\\"ename\\\":\\\"SyntaxError\\\",\\\"evalue\\\":\\\"ignored\\\",\\\"traceback\\\":[\\\"\\\\u001b[0;36m  File \\\\u001b[0;32m\\\\\\\"<ipython-input-9-647f4ca88345>\\\\\\\"\\\\u001b[0;36m, line \\\\u001b[0;32m1\\\\u001b[0m\\\\n\\\\u001b[0;31m    $ pip install TA-Lib\\\\u001b[0m\\\\n\\\\u001b[0m    ^\\\\u001b[0m\\\\n\\\\u001b[0;31mSyntaxError\\\\u001b[0m\\\\u001b[0;31m:\\\\u001b[0m invalid syntax\\\\n\\\"]}]},{\\\"cell_type\\\":\\\"code\\\",\\\"metadata\\\":{\\\"id\\\":\\\"DwArWOlf244h\\\",\\\"colab_type\\\":\\\"code\\\",\\\"colab\\\":{\\\"base_uri\\\":\\\"https://localhost:8080/\\\",\\\"height\\\":1000},\\\"executionInfo\\\":{\\\"status\\\":\\\"ok\\\",\\\"timestamp\\\":1597625982093,\\\"user_tz\\\":-330,\\\"elapsed\\\":171976,\\\"user\\\":{\\\"displayName\\\":\\\"Chirag Pangoriya\\\",\\\"photoUrl\\\":\\\"\\\",\\\"userId\\\":\\\"03597992445652118502\\\"}},\\\"outputId\\\":\\\"22ccef29-952c-4556-fb87-981abf410b62\\\"},\\\"source\\\":[\\\"!wget http://prdownloads.sourceforge.net/ta-lib/ta-lib-0.4.0-src.tar.gz\\\\n\\\",\\\"!tar -xzvf ta-lib-0.4.0-src.tar.gz\\\\n\\\",\\\"%cd ta-lib\\\\n\\\",\\\"!./configure --prefix=/usr\\\\n\\\",\\\"!make\\\\n\\\",\\\"!make install\\\\n\\\",\\\"!pip install Ta-Lib\\\\n\\\",\\\"import talib\\\"],\\\"execution_count\\\":12,\\\"outputs\\\":[{\\\"output_type\\\":\\\"stream\\\",\\\"text\\\":[\\\"--2020-08-17 00:56:51--  http://prdownloads.sourceforge.net/ta-lib/ta-lib-0.4.0-src.tar.gz\\\\n\\\",\\\"Resolving prdownloads.sourceforge.net (prdownloads.sourceforge.net)... 216.105.38.13\\\\n\\\",\\\"Connecting to prdownloads.sourceforge.net (prdownloads.sourceforge.net)|216.105.38.13|:80... connected.\\\\n\\\",\\\"HTTP request sent, awaiting response... 301 Moved Permanently\\\\n\\\",\\\"Location: http://downloads.sourceforge.net/project/ta-lib/ta-lib/0.4.0/ta-lib-0.4.0-src.tar.gz [following]\\\\n\\\",\\\"--2020-08-17 00:56:51--  http://downloads.sourceforge.net/project/ta-lib/ta-lib/0.4.0/ta-lib-0.4.0-src.tar.gz\\\\n\\\",\\\"Resolving downloads.sourceforge.net (downloads.sourceforge.net)... 216.105.38.13\\\\n\\\",\\\"Reusing existing connection to prdownloads.sourceforge.net:80.\\\\n\\\",\\\"HTTP request sent, awaiting response... 302 Found\\\\n\\\",\\\"Location: https://phoenixnap.dl.sourceforge.net/project/ta-lib/ta-lib/0.4.0/ta-lib-0.4.0-src.tar.gz [following]\\\\n\\\",\\\"--2020-08-17 00:56:51--  https://phoenixnap.dl.sourceforge.net/project/ta-lib/ta-lib/0.4.0/ta-lib-0.4.0-src.tar.gz\\\\n\\\",\\\"Resolving phoenixnap.dl.sourceforge.net (phoenixnap.dl.sourceforge.net)... 184.164.141.26\\\\n\\\",\\\"Connecting to phoenixnap.dl.sourceforge.net (phoenixnap.dl.sourceforge.net)|184.164.141.26|:443... connected.\\\\n\\\",\\\"HTTP request sent, awaiting response... 200 OK\\\\n\\\",\\\"Length: 1330299 (1.3M) [application/x-gzip]\\\\n\\\",\\\"Saving to: ‘ta-lib-0.4.0-src.tar.gz’\\\\n\\\",\\\"\\\\n\\\",\\\"\\\\rta-lib-0.4.0-src.ta   0%[                    ]       0  --.-KB/s               \\\\rta-lib-0.4.0-src.ta  15%[==>                 ] 199.76K   980KB/s               \\\\rta-lib-0.4.0-src.ta 100%[===================>]   1.27M  3.72MB/s    in 0.3s    \\\\n\\\",\\\"\\\\n\\\",\\\"2020-08-17 00:56:52 (3.72 MB/s) - ‘ta-lib-0.4.0-src.tar.gz’ saved [1330299/1330299]\\\\n\\\",\\\"\\\\n\\\",\\\"ta-lib/\\\\n\\\",\\\"ta-lib/config.sub\\\\n\\\",\\\"ta-lib/aclocal.m4\\\\n\\\",\\\"ta-lib/CHANGELOG.TXT\\\\n\\\",\\\"ta-lib/include/\\\\n\\\",\\\"ta-lib/include/ta_abstract.h\\\\n\\\",\\\"ta-lib/include/ta_func.h\\\\n\\\",\\\"ta-lib/include/ta_common.h\\\\n\\\",\\\"ta-lib/include/ta_config.h.in\\\\n\\\",\\\"ta-lib/include/Makefile.am\\\\n\\\",\\\"ta-lib/include/ta_libc.h\\\\n\\\",\\\"ta-lib/include/ta_defs.h\\\\n\\\",\\\"ta-lib/missing\\\\n\\\",\\\"ta-lib/ta-lib.spec.in\\\\n\\\",\\\"ta-lib/config.guess\\\\n\\\",\\\"ta-lib/Makefile.in\\\\n\\\",\\\"ta-lib/ta-lib.dpkg.in\\\\n\\\",\\\"ta-lib/Makefile.am\\\\n\\\",\\\"ta-lib/autogen.sh\\\\n\\\",\\\"ta-lib/install-sh\\\\n\\\",\\\"ta-lib/configure\\\\n\\\",\\\"ta-lib/depcomp\\\\n\\\",\\\"ta-lib/HISTORY.TXT\\\\n\\\",\\\"ta-lib/configure.in\\\\n\\\",\\\"ta-lib/autom4te.cache/\\\\n\\\",\\\"ta-lib/autom4te.cache/output.0\\\\n\\\",\\\"ta-lib/autom4te.cache/requests\\\\n\\\",\\\"ta-lib/autom4te.cache/output.1\\\\n\\\",\\\"ta-lib/autom4te.cache/traces.0\\\\n\\\",\\\"ta-lib/autom4te.cache/traces.1\\\\n\\\",\\\"ta-lib/ltmain.sh\\\\n\\\",\\\"ta-lib/ta-lib-config.in\\\\n\\\",\\\"ta-lib/src/\\\\n\\\",\\\"ta-lib/src/ta_func/\\\\n\\\",\\\"ta-lib/src/ta_func/ta_MACDFIX.c\\\\n\\\",\\\"ta-lib/src/ta_func/ta_CDLPIERCING.c\\\\n\\\",\\\"ta-lib/src/ta_func/ta_DIV.c\\\\n\\\",\\\"ta-lib/src/ta_func/ta_ROCR100.c\\\\n\\\",\\\"ta-lib/src/ta_func/ta_ADXR.c\\\\n\\\",\\\"ta-lib/src/ta_func/ta_MAVP.c\\\\n\\\",\\\"ta-lib/src/ta_func/ta_CDLCLOSINGMARUBOZU.c\\\\n\\\",\\\"ta-lib/src/ta_func/ta_COSH.c\\\\n\\\",\\\"ta-lib/src/ta_func/ta_EXP.c\\\\n\\\",\\\"ta-lib/src/ta_func/ta_MINMAXINDEX.c\\\\n\\\",\\\"ta-lib/src/ta_func/ta_SQRT.c\\\\n\\\",\\\"ta-lib/src/ta_func/ta_FLOOR.c\\\\n\\\",\\\"ta-lib/src/ta_func/ta_CDLCONCEALBABYSWALL.c\\\\n\\\",\\\"ta-lib/src/ta_func/ta_NATR.c\\\\n\\\",\\\"ta-lib/src/ta_func/ta_CDLHARAMICROSS.c\\\\n\\\",\\\"ta-lib/src/ta_func/ta_MINUS_DM.c\\\\n\\\",\\\"ta-lib/src/ta_func/ta_LOG10.c\\\\n\\\",\\\"ta-lib/src/ta_func/ta_LINEARREG_ANGLE.c\\\\n\\\",\\\"ta-lib/src/ta_func/ta_RSI.c\\\\n\\\",\\\"ta-lib/src/ta_func/ta_CDLABANDONEDBABY.c\\\\n\\\",\\\"ta-lib/src/ta_func/ta_SAR.c\\\\n\\\",\\\"ta-lib/src/ta_func/ta_CDLBREAKAWAY.c\\\\n\\\",\\\"ta-lib/src/ta_func/ta_CDLDRAGONFLYDOJI.c\\\\n\\\",\\\"ta-lib/src/ta_func/ta_CDLHIGHWAVE.c\\\\n\\\",\\\"ta-lib/src/ta_func/ta_CDLKICKING.c\\\\n\\\",\\\"ta-lib/src/ta_func/ta_CDLDOJISTAR.c\\\\n\\\",\\\"ta-lib/src/ta_func/ta_VAR.c\\\\n\\\",\\\"ta-lib/src/ta_func/ta_CDLMATCHINGLOW.c\\\\n\\\",\\\"ta-lib/src/ta_func/ta_CDLGAPSIDESIDEWHITE.c\\\\n\\\",\\\"ta-lib/src/ta_func/ta_CDLMARUBOZU.c\\\\n\\\",\\\"ta-lib/src/ta_func/ta_AROONOSC.c\\\\n\\\",\\\"ta-lib/src/ta_func/ta_WCLPRICE.c\\\\n\\\",\\\"ta-lib/src/ta_func/ta_CDLEVENINGDOJISTAR.c\\\\n\\\",\\\"ta-lib/src/ta_func/ta_CDL3INSIDE.c\\\\n\\\",\\\"ta-lib/src/ta_func/ta_OBV.c\\\\n\\\",\\\"ta-lib/src/ta_func/ta_AROON.c\\\\n\\\",\\\"ta-lib/src/ta_func/ta_CDLBELTHOLD.c\\\\n\\\",\\\"ta-lib/src/ta_func/ta_CDLSPINNINGTOP.c\\\\n\\\",\\\"ta-lib/src/ta_func/ta_AD.c\\\\n\\\",\\\"ta-lib/src/ta_func/ta_MAX.c\\\\n\\\",\\\"ta-lib/src/ta_func/ta_CDLENGULFING.c\\\\n\\\",\\\"ta-lib/src/ta_func/ta_MINMAX.c\\\\n\\\",\\\"ta-lib/src/ta_func/ta_CDLINNECK.c\\\\n\\\",\\\"ta-lib/src/ta_func/ta_STDDEV.c\\\\n\\\",\\\"ta-lib/src/ta_func/ta_NVI.c\\\\n\\\",\\\"ta-lib/src/ta_func/ta_CDLHAMMER.c\\\\n\\\",\\\"ta-lib/src/ta_func/ta_ASIN.c\\\\n\\\",\\\"ta-lib/src/ta_func/ta_SUM.c\\\\n\\\",\\\"ta-lib/src/ta_func/ta_STOCH.c\\\\n\\\",\\\"ta-lib/src/ta_func/ta_CDLLONGLEGGEDDOJI.c\\\\n\\\",\\\"ta-lib/src/ta_func/ta_MEDPRICE.c\\\\n\\\",\\\"ta-lib/src/ta_func/ta_CDL3STARSINSOUTH.c\\\\n\\\",\\\"ta-lib/src/ta_func/ta_HT_TRENDMODE.c\\\\n\\\",\\\"ta-lib/src/ta_func/ta_BBANDS.c\\\\n\\\",\\\"ta-lib/src/ta_func/ta_CDLMORNINGSTAR.c\\\\n\\\",\\\"ta-lib/src/ta_func/ta_HT_DCPHASE.c\\\\n\\\",\\\"ta-lib/src/ta_func/ta_CDLLONGLINE.c\\\\n\\\",\\\"ta-lib/src/ta_func/ta_TAN.c\\\\n\\\",\\\"ta-lib/src/ta_func/ta_SMA.c\\\\n\\\",\\\"ta-lib/src/ta_func/ta_DX.c\\\\n\\\",\\\"ta-lib/src/ta_func/ta_MIDPOINT.c\\\\n\\\",\\\"ta-lib/src/ta_func/ta_CDL2CROWS.c\\\\n\\\",\\\"ta-lib/src/ta_func/ta_CORREL.c\\\\n\\\",\\\"ta-lib/src/ta_func/ta_CDL3BLACKCROWS.c\\\\n\\\",\\\"ta-lib/src/ta_func/ta_ADD.c\\\\n\\\",\\\"ta-lib/src/ta_func/Makefile.in\\\\n\\\",\\\"ta-lib/src/ta_func/ta_CDLTHRUSTING.c\\\\n\\\",\\\"ta-lib/src/ta_func/ta_SUB.c\\\\n\\\",\\\"ta-lib/src/ta_func/ta_CDLSTALLEDPATTERN.c\\\\n\\\",\\\"ta-lib/src/ta_func/ta_CDLTRISTAR.c\\\\n\\\",\\\"ta-lib/src/ta_func/ta_MA.c\\\\n\\\",\\\"ta-lib/src/ta_func/ta_HT_SINE.c\\\\n\\\",\\\"ta-lib/src/ta_func/ta_ACOS.c\\\\n\\\",\\\"ta-lib/src/ta_func/ta_CDLSTICKSANDWICH.c\\\\n\\\",\\\"ta-lib/src/ta_func/ta_SINH.c\\\\n\\\",\\\"ta-lib/src/ta_func/ta_utility.h\\\\n\\\",\\\"ta-lib/src/ta_func/ta_CDLSHORTLINE.c\\\\n\\\",\\\"ta-lib/src/ta_func/ta_ATAN.c\\\\n\\\",\\\"ta-lib/src/ta_func/ta_CDLADVANCEBLOCK.c\\\\n\\\",\\\"ta-lib/src/ta_func/ta_CDLKICKINGBYLENGTH.c\\\\n\\\",\\\"ta-lib/src/ta_func/ta_CDLSHOOTINGSTAR.c\\\\n\\\",\\\"ta-lib/src/ta_func/ta_ROCR.c\\\\n\\\",\\\"ta-lib/src/ta_func/ta_WMA.c\\\\n\\\",\\\"ta-lib/src/ta_func/ta_CDLDARKCLOUDCOVER.c\\\\n\\\",\\\"ta-lib/src/ta_func/ta_CDLXSIDEGAP3METHODS.c\\\\n\\\",\\\"ta-lib/src/ta_func/ta_TYPPRICE.c\\\\n\\\",\\\"ta-lib/src/ta_func/ta_CDL3WHITESOLDIERS.c\\\\n\\\",\\\"ta-lib/src/ta_func/Makefile.am\\\\n\\\",\\\"ta-lib/src/ta_func/ta_MACDEXT.c\\\\n\\\",\\\"ta-lib/src/ta_func/ta_ADX.c\\\\n\\\",\\\"ta-lib/src/ta_func/ta_PLUS_DM.c\\\\n\\\",\\\"ta-lib/src/ta_func/ta_CDLUPSIDEGAP2CROWS.c\\\\n\\\",\\\"ta-lib/src/ta_func/ta_LN.c\\\\n\\\",\\\"ta-lib/src/ta_func/ta_DEMA.c\\\\n\\\",\\\"ta-lib/src/ta_func/ta_CDL3OUTSIDE.c\\\\n\\\",\\\"ta-lib/src/ta_func/ta_CDLTASUKIGAP.c\\\\n\\\",\\\"ta-lib/src/ta_func/ta_MAMA.c\\\\n\\\",\\\"ta-lib/src/ta_func/ta_CDLMORNINGDOJISTAR.c\\\\n\\\",\\\"ta-lib/src/ta_func/ta_PLUS_DI.c\\\\n\\\",\\\"ta-lib/src/ta_func/ta_MININDEX.c\\\\n\\\",\\\"ta-lib/src/ta_func/ta_COS.c\\\\n\\\",\\\"ta-lib/src/ta_func/ta_HT_TRENDLINE.c\\\\n\\\",\\\"ta-lib/src/ta_func/ta_MIDPRICE.c\\\\n\\\",\\\"ta-lib/src/ta_func/ta_CEIL.c\\\\n\\\",\\\"ta-lib/src/ta_func/ta_TRIMA.c\\\\n\\\",\\\"ta-lib/src/ta_func/ta_CDLSEPARATINGLINES.c\\\\n\\\",\\\"ta-lib/src/ta_func/ta_ROCP.c\\\\n\\\",\\\"ta-lib/src/ta_func/ta_CDLHOMINGPIGEON.c\\\\n\\\",\\\"ta-lib/src/ta_func/ta_CDLHANGINGMAN.c\\\\n\\\",\\\"ta-lib/src/ta_func/ta_AVGPRICE.c\\\\n\\\",\\\"ta-lib/src/ta_func/ta_APO.c\\\\n\\\",\\\"ta-lib/src/ta_func/ta_CDLRISEFALL3METHODS.c\\\\n\\\",\\\"ta-lib/src/ta_func/ta_TRANGE.c\\\\n\\\",\\\"ta-lib/src/ta_func/ta_TSF.c\\\\n\\\",\\\"ta-lib/src/ta_func/ta_LINEARREG.c\\\\n\\\",\\\"ta-lib/src/ta_func/ta_PVI.c\\\\n\\\",\\\"ta-lib/src/ta_func/ta_CDLHIKKAKEMOD.c\\\\n\\\",\\\"ta-lib/src/ta_func/ta_MFI.c\\\\n\\\",\\\"ta-lib/src/ta_func/ta_CDLHARAMI.c\\\\n\\\",\\\"ta-lib/src/ta_func/ta_MACD.c\\\\n\\\",\\\"ta-lib/src/ta_func/ta_BETA.c\\\\n\\\",\\\"ta-lib/src/ta_func/ta_CDLINVERTEDHAMMER.c\\\\n\\\",\\\"ta-lib/src/ta_func/ta_LINEARREG_SLOPE.c\\\\n\\\",\\\"ta-lib/src/ta_func/ta_STOCHF.c\\\\n\\\",\\\"ta-lib/src/ta_func/ta_MIN.c\\\\n\\\",\\\"ta-lib/src/ta_func/ta_CDLIDENTICAL3CROWS.c\\\\n\\\",\\\"ta-lib/src/ta_func/ta_CDLRICKSHAWMAN.c\\\\n\\\",\\\"ta-lib/src/ta_func/ta_T3.c\\\\n\\\",\\\"ta-lib/src/ta_func/ta_CDLMATHOLD.c\\\\n\\\",\\\"ta-lib/src/ta_func/ta_CDLUNIQUE3RIVER.c\\\\n\\\",\\\"ta-lib/src/ta_func/ta_ADOSC.c\\\\n\\\",\\\"ta-lib/src/ta_func/ta_MAXINDEX.c\\\\n\\\",\\\"ta-lib/src/ta_func/ta_ULTOSC.c\\\\n\\\",\\\"ta-lib/src/ta_func/ta_TRIX.c\\\\n\\\",\\\"ta-lib/src/ta_func/ta_MOM.c\\\\n\\\",\\\"ta-lib/src/ta_func/ta_CDLDOJI.c\\\\n\\\",\\\"ta-lib/src/ta_func/ta_EMA.c\\\\n\\\",\\\"ta-lib/src/ta_func/ta_STOCHRSI.c\\\\n\\\",\\\"ta-lib/src/ta_func/ta_ROC.c\\\\n\\\",\\\"ta-lib/src/ta_func/ta_CDLEVENINGSTAR.c\\\\n\\\",\\\"ta-lib/src/ta_func/ta_CDLCOUNTERATTACK.c\\\\n\\\",\\\"ta-lib/src/ta_func/ta_LINEARREG_INTERCEPT.c\\\\n\\\",\\\"ta-lib/src/ta_func/ta_SAREXT.c\\\\n\\\",\\\"ta-lib/src/ta_func/ta_WILLR.c\\\\n\\\",\\\"ta-lib/src/ta_func/ta_MULT.c\\\\n\\\",\\\"ta-lib/src/ta_func/ta_ATR.c\\\\n\\\",\\\"ta-lib/src/ta_func/ta_BOP.c\\\\n\\\",\\\"ta-lib/src/ta_func/ta_CMO.c\\\\n\\\",\\\"ta-lib/src/ta_func/ta_CDLONNECK.c\\\\n\\\",\\\"ta-lib/src/ta_func/ta_CCI.c\\\\n\\\",\\\"ta-lib/src/ta_func/ta_CDLLADDERBOTTOM.c\\\\n\\\",\\\"ta-lib/src/ta_func/ta_HT_PHASOR.c\\\\n\\\",\\\"ta-lib/src/ta_func/ta_utility.c\\\\n\\\",\\\"ta-lib/src/ta_func/ta_PPO.c\\\\n\\\",\\\"ta-lib/src/ta_func/ta_CDLHIKKAKE.c\\\\n\\\",\\\"ta-lib/src/ta_func/ta_HT_DCPERIOD.c\\\\n\\\",\\\"ta-lib/src/ta_func/ta_CDL3LINESTRIKE.c\\\\n\\\",\\\"ta-lib/src/ta_func/ta_TEMA.c\\\\n\\\",\\\"ta-lib/src/ta_func/ta_SIN.c\\\\n\\\",\\\"ta-lib/src/ta_func/ta_MINUS_DI.c\\\\n\\\",\\\"ta-lib/src/ta_func/ta_KAMA.c\\\\n\\\",\\\"ta-lib/src/ta_func/ta_TANH.c\\\\n\\\",\\\"ta-lib/src/ta_func/ta_CDLTAKURI.c\\\\n\\\",\\\"ta-lib/src/ta_func/ta_CDLGRAVESTONEDOJI.c\\\\n\\\",\\\"ta-lib/src/ta_common/\\\\n\\\",\\\"ta-lib/src/ta_common/ta_pragma.h\\\\n\\\",\\\"ta-lib/src/ta_common/ta_magic_nb.h\\\\n\\\",\\\"ta-lib/src/ta_common/ta_retcode.csv\\\\n\\\",\\\"ta-lib/src/ta_common/Makefile.in\\\\n\\\",\\\"ta-lib/src/ta_common/Makefile.am\\\\n\\\",\\\"ta-lib/src/ta_common/ta_memory.h\\\\n\\\",\\\"ta-lib/src/ta_common/ta_version.c\\\\n\\\",\\\"ta-lib/src/ta_common/ta_global.h\\\\n\\\",\\\"ta-lib/src/ta_common/ta_global.c\\\\n\\\",\\\"ta-lib/src/ta_common/ta_retcode.c\\\\n\\\",\\\"ta-lib/src/Makefile.in\\\\n\\\",\\\"ta-lib/src/ta_abstract/\\\\n\\\",\\\"ta-lib/src/ta_abstract/frames/\\\\n\\\",\\\"ta-lib/src/ta_abstract/frames/ta_frame.c\\\\n\\\",\\\"ta-lib/src/ta_abstract/frames/ta_frame.h\\\\n\\\",\\\"ta-lib/src/ta_abstract/excel_glue.c\\\\n\\\",\\\"ta-lib/src/ta_abstract/ta_frame_priv.h\\\\n\\\",\\\"ta-lib/src/ta_abstract/ta_func_api.c\\\\n\\\",\\\"ta-lib/src/ta_abstract/Makefile.in\\\\n\\\",\\\"ta-lib/src/ta_abstract/ta_def_ui.h\\\\n\\\",\\\"ta-lib/src/ta_abstract/Makefile.am\\\\n\\\",\\\"ta-lib/src/ta_abstract/ta_abstract.c\\\\n\\\",\\\"ta-lib/src/ta_abstract/ta_group_idx.c\\\\n\\\",\\\"ta-lib/src/ta_abstract/tables/\\\\n\\\",\\\"ta-lib/src/ta_abstract/tables/table_u.c\\\\n\\\",\\\"ta-lib/src/ta_abstract/tables/table_x.c\\\\n\\\",\\\"ta-lib/src/ta_abstract/tables/table_r.c\\\\n\\\",\\\"ta-lib/src/ta_abstract/tables/table_f.c\\\\n\\\",\\\"ta-lib/src/ta_abstract/tables/table_j.c\\\\n\\\",\\\"ta-lib/src/ta_abstract/tables/table_e.c\\\\n\\\",\\\"ta-lib/src/ta_abstract/tables/table_t.c\\\\n\\\",\\\"ta-lib/src/ta_abstract/tables/table_n.c\\\\n\\\",\\\"ta-lib/src/ta_abstract/tables/table_i.c\\\\n\\\",\\\"ta-lib/src/ta_abstract/tables/table_c.c\\\\n\\\",\\\"ta-lib/src/ta_abstract/tables/table_l.c\\\\n\\\",\\\"ta-lib/src/ta_abstract/tables/table_k.c\\\\n\\\",\\\"ta-lib/src/ta_abstract/tables/table_g.c\\\\n\\\",\\\"ta-lib/src/ta_abstract/tables/table_d.c\\\\n\\\",\\\"ta-lib/src/ta_abstract/tables/table_h.c\\\\n\\\",\\\"ta-lib/src/ta_abstract/tables/table_o.c\\\\n\\\",\\\"ta-lib/src/ta_abstract/tables/table_b.c\\\\n\\\",\\\"ta-lib/src/ta_abstract/tables/table_q.c\\\\n\\\",\\\"ta-lib/src/ta_abstract/tables/table_v.c\\\\n\\\",\\\"ta-lib/src/ta_abstract/tables/table_m.c\\\\n\\\",\\\"ta-lib/src/ta_abstract/tables/table_s.c\\\\n\\\",\\\"ta-lib/src/ta_abstract/tables/table_y.c\\\\n\\\",\\\"ta-lib/src/ta_abstract/tables/table_p.c\\\\n\\\",\\\"ta-lib/src/ta_abstract/tables/table_z.c\\\\n\\\",\\\"ta-lib/src/ta_abstract/tables/table_a.c\\\\n\\\",\\\"ta-lib/src/ta_abstract/tables/table_w.c\\\\n\\\",\\\"ta-lib/src/ta_abstract/ta_def_ui.c\\\\n\\\",\\\"ta-lib/src/ta_abstract/templates/\\\\n\\\",\\\"ta-lib/src/ta_abstract/templates/ta_x.c.template\\\\n\\\",\\\"ta-lib/src/ta_abstract/templates/ta_java_defs.h.template\\\\n\\\",\\\"ta-lib/src/ta_abstract/templates/excel_glue.c.template\\\\n\\\",\\\"ta-lib/src/ta_abstract/templates/ta_group_idx.c.template\\\\n\\\",\\\"ta-lib/src/ta_abstract/templates/ta_frame.c.template\\\\n\\\",\\\"ta-lib/src/ta_abstract/templates/CoreAnnotated.java.template\\\\n\\\",\\\"ta-lib/src/ta_abstract/templates/ta_func.h.template\\\\n\\\",\\\"ta-lib/src/ta_abstract/templates/ta_frame.h.template\\\\n\\\",\\\"ta-lib/src/ta_abstract/templates/Makefile.am.template\\\\n\\\",\\\"ta-lib/src/ta_abstract/templates/ta_func_api.c.template\\\\n\\\",\\\"ta-lib/src/ta_abstract/templates/ta_func.swg.template\\\\n\\\",\\\"ta-lib/src/ta_abstract/templates/ta_retcode.c.template\\\\n\\\",\\\"ta-lib/src/ta_abstract/ta_java_defs.h\\\\n\\\",\\\"ta-lib/src/Makefile.am\\\\n\\\",\\\"ta-lib/src/tools/\\\\n\\\",\\\"ta-lib/src/tools/ta_regtest/\\\\n\\\",\\\"ta-lib/src/tools/ta_regtest/test_util.c\\\\n\\\",\\\"ta-lib/src/tools/ta_regtest/ta_test_func.h\\\\n\\\",\\\"ta-lib/src/tools/ta_regtest/test_data.c\\\\n\\\",\\\"ta-lib/src/tools/ta_regtest/ta_gDataHigh.c\\\\n\\\",\\\"ta-lib/src/tools/ta_regtest/Makefile.in\\\\n\\\",\\\"ta-lib/src/tools/ta_regtest/test_internals.c\\\\n\\\",\\\"ta-lib/src/tools/ta_regtest/Makefile.am\\\\n\\\",\\\"ta-lib/src/tools/ta_regtest/ta_regtest.c\\\\n\\\",\\\"ta-lib/src/tools/ta_regtest/ta_gDataOpen.c\\\\n\\\",\\\"ta-lib/src/tools/ta_regtest/ta_gDataClose.c\\\\n\\\",\\\"ta-lib/src/tools/ta_regtest/test_abstract.c\\\\n\\\",\\\"ta-lib/src/tools/ta_regtest/ta_test_func/\\\\n\\\",\\\"ta-lib/src/tools/ta_regtest/ta_test_func/test_bbands.c\\\\n\\\",\\\"ta-lib/src/tools/ta_regtest/ta_test_func/test_stddev.c\\\\n\\\",\\\"ta-lib/src/tools/ta_regtest/ta_test_func/test_1in_2out.c\\\\n\\\",\\\"ta-lib/src/tools/ta_regtest/ta_test_func/test_sar.c\\\\n\\\",\\\"ta-lib/src/tools/ta_regtest/ta_test_func/test_1in_1out.c\\\\n\\\",\\\"ta-lib/src/tools/ta_regtest/ta_test_func/test_trange.c\\\\n\\\",\\\"ta-lib/src/tools/ta_regtest/ta_test_func/test_macd.c\\\\n\\\",\\\"ta-lib/src/tools/ta_regtest/ta_test_func/test_po.c\\\\n\\\",\\\"ta-lib/src/tools/ta_regtest/ta_test_func/test_per_hlc.c\\\\n\\\",\\\"ta-lib/src/tools/ta_regtest/ta_test_func/test_mom.c\\\\n\\\",\\\"ta-lib/src/tools/ta_regtest/ta_test_func/test_per_ohlc.c\\\\n\\\",\\\"ta-lib/src/tools/ta_regtest/ta_test_func/test_adx.c\\\\n\\\",\\\"ta-lib/src/tools/ta_regtest/ta_test_func/test_candlestick.c\\\\n\\\",\\\"ta-lib/src/tools/ta_regtest/ta_test_func/test_rsi.c\\\\n\\\",\\\"ta-lib/src/tools/ta_regtest/ta_test_func/test_per_ema.c\\\\n\\\",\\\"ta-lib/src/tools/ta_regtest/ta_test_func/test_minmax.c\\\\n\\\",\\\"ta-lib/src/tools/ta_regtest/ta_test_func/test_per_hlcv.c\\\\n\\\",\\\"ta-lib/src/tools/ta_regtest/ta_test_func/test_per_hl.c\\\\n\\\",\\\"ta-lib/src/tools/ta_regtest/ta_test_func/test_stoch.c\\\\n\\\",\\\"ta-lib/src/tools/ta_regtest/ta_test_func/test_ma.c\\\\n\\\",\\\"ta-lib/src/tools/ta_regtest/ta_error_number.h\\\\n\\\",\\\"ta-lib/src/tools/ta_regtest/ta_test_priv.h\\\\n\\\",\\\"ta-lib/src/tools/ta_regtest/ReadMe.txt\\\\n\\\",\\\"ta-lib/src/tools/ta_regtest/ta_gDataLow.c\\\\n\\\",\\\"ta-lib/src/tools/Makefile.in\\\\n\\\",\\\"ta-lib/src/tools/Makefile.am\\\\n\\\",\\\"ta-lib/src/tools/gen_code/\\\\n\\\",\\\"ta-lib/src/tools/gen_code/java/\\\\n\\\",\\\"ta-lib/src/tools/gen_code/java/PrettyCode.java\\\\n\\\",\\\"ta-lib/src/tools/gen_code/java/Main.java\\\\n\\\",\\\"ta-lib/src/tools/gen_code/gen_code.c\\\\n\\\",\\\"ta-lib/src/tools/gen_code/Makefile.in\\\\n\\\",\\\"ta-lib/src/tools/gen_code/Makefile.am\\\\n\\\",\\\"ta-lib/src/tools/gen_code/mcpp.exe\\\\n\\\",\\\"/content/ta-lib\\\\n\\\",\\\"checking for a BSD-compatible install... /usr/bin/install -c\\\\n\\\",\\\"checking whether build environment is sane... yes\\\\n\\\",\\\"checking for a thread-safe mkdir -p... /bin/mkdir -p\\\\n\\\",\\\"checking for gawk... no\\\\n\\\",\\\"checking for mawk... mawk\\\\n\\\",\\\"checking whether make sets $(MAKE)... yes\\\\n\\\",\\\"checking for gcc... gcc\\\\n\\\",\\\"checking for C compiler default output file name... a.out\\\\n\\\",\\\"checking whether the C compiler works... yes\\\\n\\\",\\\"checking whether we are cross compiling... no\\\\n\\\",\\\"checking for suffix of executables... \\\\n\\\",\\\"checking for suffix of object files... o\\\\n\\\",\\\"checking whether we are using the GNU C compiler... yes\\\\n\\\",\\\"checking whether gcc accepts -g... yes\\\\n\\\",\\\"checking for gcc option to accept ISO C89... none needed\\\\n\\\",\\\"checking for style of include used by make... GNU\\\\n\\\",\\\"checking dependency style of gcc... gcc3\\\\n\\\",\\\"checking build system type... x86_64-unknown-linux-gnu\\\\n\\\",\\\"checking host system type... x86_64-unknown-linux-gnu\\\\n\\\",\\\"checking for a sed that does not truncate output... /bin/sed\\\\n\\\",\\\"checking for grep that handles long lines and -e... /bin/grep\\\\n\\\",\\\"checking for egrep... /bin/grep -E\\\\n\\\",\\\"checking for ld used by gcc... /usr/bin/ld\\\\n\\\",\\\"checking if the linker (/usr/bin/ld) is GNU ld... yes\\\\n\\\",\\\"checking for /usr/bin/ld option to reload object files... -r\\\\n\\\",\\\"checking for BSD-compatible nm... /usr/bin/nm -B\\\\n\\\",\\\"checking whether ln -s works... yes\\\\n\\\",\\\"checking how to recognise dependent libraries... pass_all\\\\n\\\",\\\"./configure: line 4354: /usr/bin/file: No such file or directory\\\\n\\\",\\\"checking how to run the C preprocessor... gcc -E\\\\n\\\",\\\"checking for ANSI C header files... yes\\\\n\\\",\\\"checking for sys/types.h... yes\\\\n\\\",\\\"checking for sys/stat.h... yes\\\\n\\\",\\\"checking for stdlib.h... yes\\\\n\\\",\\\"checking for string.h... yes\\\\n\\\",\\\"checking for memory.h... yes\\\\n\\\",\\\"checking for strings.h... yes\\\\n\\\",\\\"checking for inttypes.h... yes\\\\n\\\",\\\"checking for stdint.h... yes\\\\n\\\",\\\"checking for unistd.h... yes\\\\n\\\",\\\"checking dlfcn.h usability... yes\\\\n\\\",\\\"checking dlfcn.h presence... yes\\\\n\\\",\\\"checking for dlfcn.h... yes\\\\n\\\",\\\"checking for g++... g++\\\\n\\\",\\\"checking whether we are using the GNU C++ compiler... yes\\\\n\\\",\\\"checking whether g++ accepts -g... yes\\\\n\\\",\\\"checking dependency style of g++... gcc3\\\\n\\\",\\\"checking how to run the C++ preprocessor... g++ -E\\\\n\\\",\\\"checking for g77... no\\\\n\\\",\\\"checking for xlf... no\\\\n\\\",\\\"checking for f77... f77\\\\n\\\",\\\"checking whether we are using the GNU Fortran 77 compiler... yes\\\\n\\\",\\\"checking whether f77 accepts -g... yes\\\\n\\\",\\\"checking the maximum length of command line arguments... 32768\\\\n\\\",\\\"checking command to parse /usr/bin/nm -B output from gcc object... ok\\\\n\\\",\\\"checking for objdir... .libs\\\\n\\\",\\\"checking for ar... ar\\\\n\\\",\\\"checking for ranlib... ranlib\\\\n\\\",\\\"checking for strip... strip\\\\n\\\",\\\"checking if gcc supports -fno-rtti -fno-exceptions... no\\\\n\\\",\\\"checking for gcc option to produce PIC... -fPIC\\\\n\\\",\\\"checking if gcc PIC flag -fPIC works... yes\\\\n\\\",\\\"checking if gcc static flag -static works... yes\\\\n\\\",\\\"checking if gcc supports -c -o file.o... yes\\\\n\\\",\\\"checking whether the gcc linker (/usr/bin/ld) supports shared libraries... yes\\\\n\\\",\\\"checking whether -lc should be explicitly linked in... no\\\\n\\\",\\\"checking dynamic linker characteristics... GNU/Linux ld.so\\\\n\\\",\\\"checking how to hardcode library paths into programs... immediate\\\\n\\\",\\\"checking whether stripping libraries is possible... yes\\\\n\\\",\\\"checking if libtool supports shared libraries... yes\\\\n\\\",\\\"checking whether to build shared libraries... yes\\\\n\\\",\\\"checking whether to build static libraries... yes\\\\n\\\",\\\"configure: creating libtool\\\\n\\\",\\\"appending configuration tag \\\\\\\"CXX\\\\\\\" to libtool\\\\n\\\",\\\"checking for ld used by g++... /usr/bin/ld\\\\n\\\",\\\"checking if the linker (/usr/bin/ld) is GNU ld... yes\\\\n\\\",\\\"checking whether the g++ linker (/usr/bin/ld) supports shared libraries... yes\\\\n\\\",\\\"checking for g++ option to produce PIC... -fPIC\\\\n\\\",\\\"checking if g++ PIC flag -fPIC works... yes\\\\n\\\",\\\"checking if g++ static flag -static works... yes\\\\n\\\",\\\"checking if g++ supports -c -o file.o... yes\\\\n\\\",\\\"checking whether the g++ linker (/usr/bin/ld) supports shared libraries... yes\\\\n\\\",\\\"checking dynamic linker characteristics... GNU/Linux ld.so\\\\n\\\",\\\"checking how to hardcode library paths into programs... immediate\\\\n\\\",\\\"appending configuration tag \\\\\\\"F77\\\\\\\" to libtool\\\\n\\\",\\\"checking if libtool supports shared libraries... yes\\\\n\\\",\\\"checking whether to build shared libraries... yes\\\\n\\\",\\\"checking whether to build static libraries... yes\\\\n\\\",\\\"checking for f77 option to produce PIC... -fPIC\\\\n\\\",\\\"checking if f77 PIC flag -fPIC works... yes\\\\n\\\",\\\"checking if f77 static flag -static works... yes\\\\n\\\",\\\"checking if f77 supports -c -o file.o... yes\\\\n\\\",\\\"checking whether the f77 linker (/usr/bin/ld) supports shared libraries... yes\\\\n\\\",\\\"checking dynamic linker characteristics... GNU/Linux ld.so\\\\n\\\",\\\"checking how to hardcode library paths into programs... immediate\\\\n\\\",\\\"checking for dlopen in -ldl... yes\\\\n\\\",\\\"checking for pthread_create in -lpthread... yes\\\\n\\\",\\\"checking for ANSI C header files... (cached) yes\\\\n\\\",\\\"checking float.h usability... yes\\\\n\\\",\\\"checking float.h presence... yes\\\\n\\\",\\\"checking for float.h... yes\\\\n\\\",\\\"checking for inttypes.h... (cached) yes\\\\n\\\",\\\"checking limits.h usability... yes\\\\n\\\",\\\"checking limits.h presence... yes\\\\n\\\",\\\"checking for limits.h... yes\\\\n\\\",\\\"checking locale.h usability... yes\\\\n\\\",\\\"checking locale.h presence... yes\\\\n\\\",\\\"checking for locale.h... yes\\\\n\\\",\\\"checking stddef.h usability... yes\\\\n\\\",\\\"checking stddef.h presence... yes\\\\n\\\",\\\"checking for stddef.h... yes\\\\n\\\",\\\"checking for stdint.h... (cached) yes\\\\n\\\",\\\"checking for stdlib.h... (cached) yes\\\\n\\\",\\\"checking for string.h... (cached) yes\\\\n\\\",\\\"checking for unistd.h... (cached) yes\\\\n\\\",\\\"checking wchar.h usability... yes\\\\n\\\",\\\"checking wchar.h presence... yes\\\\n\\\",\\\"checking for wchar.h... yes\\\\n\\\",\\\"checking wctype.h usability... yes\\\\n\\\",\\\"checking wctype.h presence... yes\\\\n\\\",\\\"checking for wctype.h... yes\\\\n\\\",\\\"checking for an ANSI C-conforming const... yes\\\\n\\\",\\\"checking for size_t... yes\\\\n\\\",\\\"checking whether struct tm is in sys/time.h or time.h... time.h\\\\n\\\",\\\"checking for working volatile... yes\\\\n\\\",\\\"checking for ptrdiff_t... yes\\\\n\\\",\\\"checking return type of signal handlers... void\\\\n\\\",\\\"checking for working strcoll... yes\\\\n\\\",\\\"checking for strftime... yes\\\\n\\\",\\\"checking for working strtod... yes\\\\n\\\",\\\"checking for vprintf... yes\\\\n\\\",\\\"checking for _doprnt... no\\\\n\\\",\\\"checking for floor... no\\\\n\\\",\\\"checking for isascii... yes\\\\n\\\",\\\"checking for localeconv... yes\\\\n\\\",\\\"checking for mblen... yes\\\\n\\\",\\\"checking for memmove... yes\\\\n\\\",\\\"checking for memset... yes\\\\n\\\",\\\"checking for modf... yes\\\\n\\\",\\\"checking for pow... no\\\\n\\\",\\\"checking for sqrt... no\\\\n\\\",\\\"checking for strcasecmp... yes\\\\n\\\",\\\"checking for strchr... yes\\\\n\\\",\\\"checking for strerror... yes\\\\n\\\",\\\"checking for strncasecmp... yes\\\\n\\\",\\\"checking for strrchr... yes\\\\n\\\",\\\"checking for strstr... yes\\\\n\\\",\\\"checking for strtol... yes\\\\n\\\",\\\"checking for strtoul... yes\\\\n\\\",\\\"configure: creating ./config.status\\\\n\\\",\\\"config.status: creating Makefile\\\\n\\\",\\\"config.status: creating src/Makefile\\\\n\\\",\\\"config.status: creating src/ta_abstract/Makefile\\\\n\\\",\\\"config.status: creating src/ta_common/Makefile\\\\n\\\",\\\"config.status: creating src/ta_func/Makefile\\\\n\\\",\\\"config.status: creating src/tools/Makefile\\\\n\\\",\\\"config.status: creating src/tools/gen_code/Makefile\\\\n\\\",\\\"config.status: creating src/tools/ta_regtest/Makefile\\\\n\\\",\\\"config.status: creating ta-lib-config\\\\n\\\",\\\"config.status: creating ta-lib.spec\\\\n\\\",\\\"config.status: creating ta-lib.dpkg\\\\n\\\",\\\"config.status: creating include/ta_config.h\\\\n\\\",\\\"config.status: executing depfiles commands\\\\n\\\",\\\"Making all in src\\\\n\\\",\\\"make[1]: Entering directory '/content/ta-lib/src'\\\\n\\\",\\\"Making all in ta_abstract\\\\n\\\",\\\"make[2]: Entering directory '/content/ta-lib/src/ta_abstract'\\\\n\\\",\\\"/bin/bash ../../libtool --tag=CC   --mode=compile gcc -DHAVE_CONFIG_H -I. -I../../include  -I../ta_common/ -Iframes/   -g -O2 -MT libta_abstract_la-ta_group_idx.lo -MD -MP -MF .deps/libta_abstract_la-ta_group_idx.Tpo -c -o libta_abstract_la-ta_group_idx.lo `test -f 'ta_group_idx.c' || echo './'`ta_group_idx.c\\\\n\\\",\\\"mkdir .libs\\\\n\\\",\\\" gcc -DHAVE_CONFIG_H -I. -I../../include -I../ta_common/ -Iframes/ -g -O2 -MT libta_abstract_la-ta_group_idx.lo -MD -MP -MF .deps/libta_abstract_la-ta_group_idx.Tpo -c ta_group_idx.c  -fPIC -DPIC -o .libs/libta_abstract_la-ta_group_idx.o\\\\n\\\",\\\" gcc -DHAVE_CONFIG_H -I. -I../../include -I../ta_common/ -Iframes/ -g -O2 -MT libta_abstract_la-ta_group_idx.lo -MD -MP -MF .deps/libta_abstract_la-ta_group_idx.Tpo -c ta_group_idx.c -o libta_abstract_la-ta_group_idx.o >/dev/null 2>&1\\\\n\\\",\\\"mv -f .deps/libta_abstract_la-ta_group_idx.Tpo .deps/libta_abstract_la-ta_group_idx.Plo\\\\n\\\",\\\"/bin/bash ../../libtool --tag=CC   --mode=compile gcc -DHAVE_CONFIG_H -I. -I../../include  -I../ta_common/ -Iframes/   -g -O2 -MT libta_abstract_la-ta_def_ui.lo -MD -MP -MF .deps/libta_abstract_la-ta_def_ui.Tpo -c -o libta_abstract_la-ta_def_ui.lo `test -f 'ta_def_ui.c' || echo './'`ta_def_ui.c\\\\n\\\",\\\" gcc -DHAVE_CONFIG_H -I. -I../../include -I../ta_common/ -Iframes/ -g -O2 -MT libta_abstract_la-ta_def_ui.lo -MD -MP -MF .deps/libta_abstract_la-ta_def_ui.Tpo -c ta_def_ui.c  -fPIC -DPIC -o .libs/libta_abstract_la-ta_def_ui.o\\\\n\\\",\\\" gcc -DHAVE_CONFIG_H -I. -I../../include -I../ta_common/ -Iframes/ -g -O2 -MT libta_abstract_la-ta_def_ui.lo -MD -MP -MF .deps/libta_abstract_la-ta_def_ui.Tpo -c ta_def_ui.c -o libta_abstract_la-ta_def_ui.o >/dev/null 2>&1\\\\n\\\",\\\"mv -f .deps/libta_abstract_la-ta_def_ui.Tpo .deps/libta_abstract_la-ta_def_ui.Plo\\\\n\\\",\\\"/bin/bash ../../libtool --tag=CC   --mode=compile gcc -DHAVE_CONFIG_H -I. -I../../include  -I../ta_common/ -Iframes/   -g -O2 -MT libta_abstract_la-ta_abstract.lo -MD -MP -MF .deps/libta_abstract_la-ta_abstract.Tpo -c -o libta_abstract_la-ta_abstract.lo `test -f 'ta_abstract.c' || echo './'`ta_abstract.c\\\\n\\\",\\\" gcc -DHAVE_CONFIG_H -I. -I../../include -I../ta_common/ -Iframes/ -g -O2 -MT libta_abstract_la-ta_abstract.lo -MD -MP -MF .deps/libta_abstract_la-ta_abstract.Tpo -c ta_abstract.c  -fPIC -DPIC -o .libs/libta_abstract_la-ta_abstract.o\\\\n\\\",\\\" gcc -DHAVE_CONFIG_H -I. -I../../include -I../ta_common/ -Iframes/ -g -O2 -MT libta_abstract_la-ta_abstract.lo -MD -MP -MF .deps/libta_abstract_la-ta_abstract.Tpo -c ta_abstract.c -o libta_abstract_la-ta_abstract.o >/dev/null 2>&1\\\\n\\\",\\\"mv -f .deps/libta_abstract_la-ta_abstract.Tpo .deps/libta_abstract_la-ta_abstract.Plo\\\\n\\\",\\\"/bin/bash ../../libtool --tag=CC   --mode=compile gcc -DHAVE_CONFIG_H -I. -I../../include  -I../ta_common/ -Iframes/   -g -O2 -MT libta_abstract_la-ta_func_api.lo -MD -MP -MF .deps/libta_abstract_la-ta_func_api.Tpo -c -o libta_abstract_la-ta_func_api.lo `test -f 'ta_func_api.c' || echo './'`ta_func_api.c\\\\n\\\",\\\" gcc -DHAVE_CONFIG_H -I. -I../../include -I../ta_common/ -Iframes/ -g -O2 -MT libta_abstract_la-ta_func_api.lo -MD -MP -MF .deps/libta_abstract_la-ta_func_api.Tpo -c ta_func_api.c  -fPIC -DPIC -o .libs/libta_abstract_la-ta_func_api.o\\\\n\\\",\\\" gcc -DHAVE_CONFIG_H -I. -I../../include -I../ta_common/ -Iframes/ -g -O2 -MT libta_abstract_la-ta_func_api.lo -MD -MP -MF .deps/libta_abstract_la-ta_func_api.Tpo -c ta_func_api.c -o libta_abstract_la-ta_func_api.o >/dev/null 2>&1\\\\n\\\",\\\"mv -f .deps/libta_abstract_la-ta_func_api.Tpo .deps/libta_abstract_la-ta_func_api.Plo\\\\n\\\",\\\"/bin/bash ../../libtool --tag=CC   --mode=compile gcc -DHAVE_CONFIG_H -I. -I../../include  -I../ta_common/ -Iframes/   -g -O2 -MT libta_abstract_la-ta_frame.lo -MD -MP -MF .deps/libta_abstract_la-ta_frame.Tpo -c -o libta_abstract_la-ta_frame.lo `test -f 'frames/ta_frame.c' || echo './'`frames/ta_frame.c\\\\n\\\",\\\" gcc -DHAVE_CONFIG_H -I. -I../../include -I../ta_common/ -Iframes/ -g -O2 -MT libta_abstract_la-ta_frame.lo -MD -MP -MF .deps/libta_abstract_la-ta_frame.Tpo -c frames/ta_frame.c  -fPIC -DPIC -o .libs/libta_abstract_la-ta_frame.o\\\\n\\\",\\\" gcc -DHAVE_CONFIG_H -I. -I../../include -I../ta_common/ -Iframes/ -g -O2 -MT libta_abstract_la-ta_frame.lo -MD -MP -MF .deps/libta_abstract_la-ta_frame.Tpo -c frames/ta_frame.c -o libta_abstract_la-ta_frame.o >/dev/null 2>&1\\\\n\\\",\\\"mv -f .deps/libta_abstract_la-ta_frame.Tpo .deps/libta_abstract_la-ta_frame.Plo\\\\n\\\",\\\"/bin/bash ../../libtool --tag=CC   --mode=compile gcc -DHAVE_CONFIG_H -I. -I../../include  -I../ta_common/ -Iframes/   -g -O2 -MT libta_abstract_la-table_a.lo -MD -MP -MF .deps/libta_abstract_la-table_a.Tpo -c -o libta_abstract_la-table_a.lo `test -f 'tables/table_a.c' || echo './'`tables/table_a.c\\\\n\\\",\\\" gcc -DHAVE_CONFIG_H -I. -I../../include -I../ta_common/ -Iframes/ -g -O2 -MT libta_abstract_la-table_a.lo -MD -MP -MF .deps/libta_abstract_la-table_a.Tpo -c tables/table_a.c  -fPIC -DPIC -o .libs/libta_abstract_la-table_a.o\\\\n\\\",\\\" gcc -DHAVE_CONFIG_H -I. -I../../include -I../ta_common/ -Iframes/ -g -O2 -MT libta_abstract_la-table_a.lo -MD -MP -MF .deps/libta_abstract_la-table_a.Tpo -c tables/table_a.c -o libta_abstract_la-table_a.o >/dev/null 2>&1\\\\n\\\",\\\"mv -f .deps/libta_abstract_la-table_a.Tpo .deps/libta_abstract_la-table_a.Plo\\\\n\\\",\\\"/bin/bash ../../libtool --tag=CC   --mode=compile gcc -DHAVE_CONFIG_H -I. -I../../include  -I../ta_common/ -Iframes/   -g -O2 -MT libta_abstract_la-table_b.lo -MD -MP -MF .deps/libta_abstract_la-table_b.Tpo -c -o libta_abstract_la-table_b.lo `test -f 'tables/table_b.c' || echo './'`tables/table_b.c\\\\n\\\",\\\" gcc -DHAVE_CONFIG_H -I. -I../../include -I../ta_common/ -Iframes/ -g -O2 -MT libta_abstract_la-table_b.lo -MD -MP -MF .deps/libta_abstract_la-table_b.Tpo -c tables/table_b.c  -fPIC -DPIC -o .libs/libta_abstract_la-table_b.o\\\\n\\\",\\\" gcc -DHAVE_CONFIG_H -I. -I../../include -I../ta_common/ -Iframes/ -g -O2 -MT libta_abstract_la-table_b.lo -MD -MP -MF .deps/libta_abstract_la-table_b.Tpo -c tables/table_b.c -o libta_abstract_la-table_b.o >/dev/null 2>&1\\\\n\\\",\\\"mv -f .deps/libta_abstract_la-table_b.Tpo .deps/libta_abstract_la-table_b.Plo\\\\n\\\",\\\"/bin/bash ../../libtool --tag=CC   --mode=compile gcc -DHAVE_CONFIG_H -I. -I../../include  -I../ta_common/ -Iframes/   -g -O2 -MT libta_abstract_la-table_c.lo -MD -MP -MF .deps/libta_abstract_la-table_c.Tpo -c -o libta_abstract_la-table_c.lo `test -f 'tables/table_c.c' || echo './'`tables/table_c.c\\\\n\\\",\\\" gcc -DHAVE_CONFIG_H -I. -I../../include -I../ta_common/ -Iframes/ -g -O2 -MT libta_abstract_la-table_c.lo -MD -MP -MF .deps/libta_abstract_la-table_c.Tpo -c tables/table_c.c  -fPIC -DPIC -o .libs/libta_abstract_la-table_c.o\\\\n\\\",\\\" gcc -DHAVE_CONFIG_H -I. -I../../include -I../ta_common/ -Iframes/ -g -O2 -MT libta_abstract_la-table_c.lo -MD -MP -MF .deps/libta_abstract_la-table_c.Tpo -c tables/table_c.c -o libta_abstract_la-table_c.o >/dev/null 2>&1\\\\n\\\",\\\"mv -f .deps/libta_abstract_la-table_c.Tpo .deps/libta_abstract_la-table_c.Plo\\\\n\\\",\\\"/bin/bash ../../libtool --tag=CC   --mode=compile gcc -DHAVE_CONFIG_H -I. -I../../include  -I../ta_common/ -Iframes/   -g -O2 -MT libta_abstract_la-table_d.lo -MD -MP -MF .deps/libta_abstract_la-table_d.Tpo -c -o libta_abstract_la-table_d.lo `test -f 'tables/table_d.c' || echo './'`tables/table_d.c\\\\n\\\",\\\" gcc -DHAVE_CONFIG_H -I. -I../../include -I../ta_common/ -Iframes/ -g -O2 -MT libta_abstract_la-table_d.lo -MD -MP -MF .deps/libta_abstract_la-table_d.Tpo -c tables/table_d.c  -fPIC -DPIC -o .libs/libta_abstract_la-table_d.o\\\\n\\\",\\\" gcc -DHAVE_CONFIG_H -I. -I../../include -I../ta_common/ -Iframes/ -g -O2 -MT libta_abstract_la-table_d.lo -MD -MP -MF .deps/libta_abstract_la-table_d.Tpo -c tables/table_d.c -o libta_abstract_la-table_d.o >/dev/null 2>&1\\\\n\\\",\\\"mv -f .deps/libta_abstract_la-table_d.Tpo .deps/libta_abstract_la-table_d.Plo\\\\n\\\",\\\"/bin/bash ../../libtool --tag=CC   --mode=compile gcc -DHAVE_CONFIG_H -I. -I../../include  -I../ta_common/ -Iframes/   -g -O2 -MT libta_abstract_la-table_e.lo -MD -MP -MF .deps/libta_abstract_la-table_e.Tpo -c -o libta_abstract_la-table_e.lo `test -f 'tables/table_e.c' || echo './'`tables/table_e.c\\\\n\\\",\\\" gcc -DHAVE_CONFIG_H -I. -I../../include -I../ta_common/ -Iframes/ -g -O2 -MT libta_abstract_la-table_e.lo -MD -MP -MF .deps/libta_abstract_la-table_e.Tpo -c tables/table_e.c  -fPIC -DPIC -o .libs/libta_abstract_la-table_e.o\\\\n\\\",\\\" gcc -DHAVE_CONFIG_H -I. -I../../include -I../ta_common/ -Iframes/ -g -O2 -MT libta_abstract_la-table_e.lo -MD -MP -MF .deps/libta_abstract_la-table_e.Tpo -c tables/table_e.c -o libta_abstract_la-table_e.o >/dev/null 2>&1\\\\n\\\",\\\"mv -f .deps/libta_abstract_la-table_e.Tpo .deps/libta_abstract_la-table_e.Plo\\\\n\\\",\\\"/bin/bash ../../libtool --tag=CC   --mode=compile gcc -DHAVE_CONFIG_H -I. -I../../include  -I../ta_common/ -Iframes/   -g -O2 -MT libta_abstract_la-table_f.lo -MD -MP -MF .deps/libta_abstract_la-table_f.Tpo -c -o libta_abstract_la-table_f.lo `test -f 'tables/table_f.c' || echo './'`tables/table_f.c\\\\n\\\",\\\" gcc -DHAVE_CONFIG_H -I. -I../../include -I../ta_common/ -Iframes/ -g -O2 -MT libta_abstract_la-table_f.lo -MD -MP -MF .deps/libta_abstract_la-table_f.Tpo -c tables/table_f.c  -fPIC -DPIC -o .libs/libta_abstract_la-table_f.o\\\\n\\\",\\\" gcc -DHAVE_CONFIG_H -I. -I../../include -I../ta_common/ -Iframes/ -g -O2 -MT libta_abstract_la-table_f.lo -MD -MP -MF .deps/libta_abstract_la-table_f.Tpo -c tables/table_f.c -o libta_abstract_la-table_f.o >/dev/null 2>&1\\\\n\\\",\\\"mv -f .deps/libta_abstract_la-table_f.Tpo .deps/libta_abstract_la-table_f.Plo\\\\n\\\",\\\"/bin/bash ../../libtool --tag=CC   --mode=compile gcc -DHAVE_CONFIG_H -I. -I../../include  -I../ta_common/ -Iframes/   -g -O2 -MT libta_abstract_la-table_g.lo -MD -MP -MF .deps/libta_abstract_la-table_g.Tpo -c -o libta_abstract_la-table_g.lo `test -f 'tables/table_g.c' || echo './'`tables/table_g.c\\\\n\\\",\\\" gcc -DHAVE_CONFIG_H -I. -I../../include -I../ta_common/ -Iframes/ -g -O2 -MT libta_abstract_la-table_g.lo -MD -MP -MF .deps/libta_abstract_la-table_g.Tpo -c tables/table_g.c  -fPIC -DPIC -o .libs/libta_abstract_la-table_g.o\\\\n\\\",\\\" gcc -DHAVE_CONFIG_H -I. -I../../include -I../ta_common/ -Iframes/ -g -O2 -MT libta_abstract_la-table_g.lo -MD -MP -MF .deps/libta_abstract_la-table_g.Tpo -c tables/table_g.c -o libta_abstract_la-table_g.o >/dev/null 2>&1\\\\n\\\",\\\"mv -f .deps/libta_abstract_la-table_g.Tpo .deps/libta_abstract_la-table_g.Plo\\\\n\\\",\\\"/bin/bash ../../libtool --tag=CC   --mode=compile gcc -DHAVE_CONFIG_H -I. -I../../include  -I../ta_common/ -Iframes/   -g -O2 -MT libta_abstract_la-table_h.lo -MD -MP -MF .deps/libta_abstract_la-table_h.Tpo -c -o libta_abstract_la-table_h.lo `test -f 'tables/table_h.c' || echo './'`tables/table_h.c\\\\n\\\",\\\" gcc -DHAVE_CONFIG_H -I. -I../../include -I../ta_common/ -Iframes/ -g -O2 -MT libta_abstract_la-table_h.lo -MD -MP -MF .deps/libta_abstract_la-table_h.Tpo -c tables/table_h.c  -fPIC -DPIC -o .libs/libta_abstract_la-table_h.o\\\\n\\\",\\\" gcc -DHAVE_CONFIG_H -I. -I../../include -I../ta_common/ -Iframes/ -g -O2 -MT libta_abstract_la-table_h.lo -MD -MP -MF .deps/libta_abstract_la-table_h.Tpo -c tables/table_h.c -o libta_abstract_la-table_h.o >/dev/null 2>&1\\\\n\\\",\\\"mv -f .deps/libta_abstract_la-table_h.Tpo .deps/libta_abstract_la-table_h.Plo\\\\n\\\",\\\"/bin/bash ../../libtool --tag=CC   --mode=compile gcc -DHAVE_CONFIG_H -I. -I../../include  -I../ta_common/ -Iframes/   -g -O2 -MT libta_abstract_la-table_i.lo -MD -MP -MF .deps/libta_abstract_la-table_i.Tpo -c -o libta_abstract_la-table_i.lo `test -f 'tables/table_i.c' || echo './'`tables/table_i.c\\\\n\\\",\\\" gcc -DHAVE_CONFIG_H -I. -I../../include -I../ta_common/ -Iframes/ -g -O2 -MT libta_abstract_la-table_i.lo -MD -MP -MF .deps/libta_abstract_la-table_i.Tpo -c tables/table_i.c  -fPIC -DPIC -o .libs/libta_abstract_la-table_i.o\\\\n\\\",\\\" gcc -DHAVE_CONFIG_H -I. -I../../include -I../ta_common/ -Iframes/ -g -O2 -MT libta_abstract_la-table_i.lo -MD -MP -MF .deps/libta_abstract_la-table_i.Tpo -c tables/table_i.c -o libta_abstract_la-table_i.o >/dev/null 2>&1\\\\n\\\",\\\"mv -f .deps/libta_abstract_la-table_i.Tpo .deps/libta_abstract_la-table_i.Plo\\\\n\\\",\\\"/bin/bash ../../libtool --tag=CC   --mode=compile gcc -DHAVE_CONFIG_H -I. -I../../include  -I../ta_common/ -Iframes/   -g -O2 -MT libta_abstract_la-table_j.lo -MD -MP -MF .deps/libta_abstract_la-table_j.Tpo -c -o libta_abstract_la-table_j.lo `test -f 'tables/table_j.c' || echo './'`tables/table_j.c\\\\n\\\",\\\" gcc -DHAVE_CONFIG_H -I. -I../../include -I../ta_common/ -Iframes/ -g -O2 -MT libta_abstract_la-table_j.lo -MD -MP -MF .deps/libta_abstract_la-table_j.Tpo -c tables/table_j.c  -fPIC -DPIC -o .libs/libta_abstract_la-table_j.o\\\\n\\\",\\\" gcc -DHAVE_CONFIG_H -I. -I../../include -I../ta_common/ -Iframes/ -g -O2 -MT libta_abstract_la-table_j.lo -MD -MP -MF .deps/libta_abstract_la-table_j.Tpo -c tables/table_j.c -o libta_abstract_la-table_j.o >/dev/null 2>&1\\\\n\\\",\\\"mv -f .deps/libta_abstract_la-table_j.Tpo .deps/libta_abstract_la-table_j.Plo\\\\n\\\",\\\"/bin/bash ../../libtool --tag=CC   --mode=compile gcc -DHAVE_CONFIG_H -I. -I../../include  -I../ta_common/ -Iframes/   -g -O2 -MT libta_abstract_la-table_k.lo -MD -MP -MF .deps/libta_abstract_la-table_k.Tpo -c -o libta_abstract_la-table_k.lo `test -f 'tables/table_k.c' || echo './'`tables/table_k.c\\\\n\\\",\\\" gcc -DHAVE_CONFIG_H -I. -I../../include -I../ta_common/ -Iframes/ -g -O2 -MT libta_abstract_la-table_k.lo -MD -MP -MF .deps/libta_abstract_la-table_k.Tpo -c tables/table_k.c  -fPIC -DPIC -o .libs/libta_abstract_la-table_k.o\\\\n\\\",\\\" gcc -DHAVE_CONFIG_H -I. -I../../include -I../ta_common/ -Iframes/ -g -O2 -MT libta_abstract_la-table_k.lo -MD -MP -MF .deps/libta_abstract_la-table_k.Tpo -c tables/table_k.c -o libta_abstract_la-table_k.o >/dev/null 2>&1\\\\n\\\",\\\"mv -f .deps/libta_abstract_la-table_k.Tpo .deps/libta_abstract_la-table_k.Plo\\\\n\\\",\\\"/bin/bash ../../libtool --tag=CC   --mode=compile gcc -DHAVE_CONFIG_H -I. -I../../include  -I../ta_common/ -Iframes/   -g -O2 -MT libta_abstract_la-table_l.lo -MD -MP -MF .deps/libta_abstract_la-table_l.Tpo -c -o libta_abstract_la-table_l.lo `test -f 'tables/table_l.c' || echo './'`tables/table_l.c\\\\n\\\",\\\" gcc -DHAVE_CONFIG_H -I. -I../../include -I../ta_common/ -Iframes/ -g -O2 -MT libta_abstract_la-table_l.lo -MD -MP -MF .deps/libta_abstract_la-table_l.Tpo -c tables/table_l.c  -fPIC -DPIC -o .libs/libta_abstract_la-table_l.o\\\\n\\\",\\\" gcc -DHAVE_CONFIG_H -I. -I../../include -I../ta_common/ -Iframes/ -g -O2 -MT libta_abstract_la-table_l.lo -MD -MP -MF .deps/libta_abstract_la-table_l.Tpo -c tables/table_l.c -o libta_abstract_la-table_l.o >/dev/null 2>&1\\\\n\\\",\\\"mv -f .deps/libta_abstract_la-table_l.Tpo .deps/libta_abstract_la-table_l.Plo\\\\n\\\",\\\"/bin/bash ../../libtool --tag=CC   --mode=compile gcc -DHAVE_CONFIG_H -I. -I../../include  -I../ta_common/ -Iframes/   -g -O2 -MT libta_abstract_la-table_m.lo -MD -MP -MF .deps/libta_abstract_la-table_m.Tpo -c -o libta_abstract_la-table_m.lo `test -f 'tables/table_m.c' || echo './'`tables/table_m.c\\\\n\\\",\\\" gcc -DHAVE_CONFIG_H -I. -I../../include -I../ta_common/ -Iframes/ -g -O2 -MT libta_abstract_la-table_m.lo -MD -MP -MF .deps/libta_abstract_la-table_m.Tpo -c tables/table_m.c  -fPIC -DPIC -o .libs/libta_abstract_la-table_m.o\\\\n\\\",\\\" gcc -DHAVE_CONFIG_H -I. -I../../include -I../ta_common/ -Iframes/ -g -O2 -MT libta_abstract_la-table_m.lo -MD -MP -MF .deps/libta_abstract_la-table_m.Tpo -c tables/table_m.c -o libta_abstract_la-table_m.o >/dev/null 2>&1\\\\n\\\",\\\"mv -f .deps/libta_abstract_la-table_m.Tpo .deps/libta_abstract_la-table_m.Plo\\\\n\\\",\\\"/bin/bash ../../libtool --tag=CC   --mode=compile gcc -DHAVE_CONFIG_H -I. -I../../include  -I../ta_common/ -Iframes/   -g -O2 -MT libta_abstract_la-table_n.lo -MD -MP -MF .deps/libta_abstract_la-table_n.Tpo -c -o libta_abstract_la-table_n.lo `test -f 'tables/table_n.c' || echo './'`tables/table_n.c\\\\n\\\",\\\" gcc -DHAVE_CONFIG_H -I. -I../../include -I../ta_common/ -Iframes/ -g -O2 -MT libta_abstract_la-table_n.lo -MD -MP -MF .deps/libta_abstract_la-table_n.Tpo -c tables/table_n.c  -fPIC -DPIC -o .libs/libta_abstract_la-table_n.o\\\\n\\\",\\\" gcc -DHAVE_CONFIG_H -I. -I../../include -I../ta_common/ -Iframes/ -g -O2 -MT libta_abstract_la-table_n.lo -MD -MP -MF .deps/libta_abstract_la-table_n.Tpo -c tables/table_n.c -o libta_abstract_la-table_n.o >/dev/null 2>&1\\\\n\\\",\\\"mv -f .deps/libta_abstract_la-table_n.Tpo .deps/libta_abstract_la-table_n.Plo\\\\n\\\",\\\"/bin/bash ../../libtool --tag=CC   --mode=compile gcc -DHAVE_CONFIG_H -I. -I../../include  -I../ta_common/ -Iframes/   -g -O2 -MT libta_abstract_la-table_o.lo -MD -MP -MF .deps/libta_abstract_la-table_o.Tpo -c -o libta_abstract_la-table_o.lo `test -f 'tables/table_o.c' || echo './'`tables/table_o.c\\\\n\\\",\\\" gcc -DHAVE_CONFIG_H -I. -I../../include -I../ta_common/ -Iframes/ -g -O2 -MT libta_abstract_la-table_o.lo -MD -MP -MF .deps/libta_abstract_la-table_o.Tpo -c tables/table_o.c  -fPIC -DPIC -o .libs/libta_abstract_la-table_o.o\\\\n\\\",\\\" gcc -DHAVE_CONFIG_H -I. -I../../include -I../ta_common/ -Iframes/ -g -O2 -MT libta_abstract_la-table_o.lo -MD -MP -MF .deps/libta_abstract_la-table_o.Tpo -c tables/table_o.c -o libta_abstract_la-table_o.o >/dev/null 2>&1\\\\n\\\",\\\"mv -f .deps/libta_abstract_la-table_o.Tpo .deps/libta_abstract_la-table_o.Plo\\\\n\\\",\\\"/bin/bash ../../libtool --tag=CC   --mode=compile gcc -DHAVE_CONFIG_H -I. -I../../include  -I../ta_common/ -Iframes/   -g -O2 -MT libta_abstract_la-table_p.lo -MD -MP -MF .deps/libta_abstract_la-table_p.Tpo -c -o libta_abstract_la-table_p.lo `test -f 'tables/table_p.c' || echo './'`tables/table_p.c\\\\n\\\",\\\" gcc -DHAVE_CONFIG_H -I. -I../../include -I../ta_common/ -Iframes/ -g -O2 -MT libta_abstract_la-table_p.lo -MD -MP -MF .deps/libta_abstract_la-table_p.Tpo -c tables/table_p.c  -fPIC -DPIC -o .libs/libta_abstract_la-table_p.o\\\\n\\\",\\\" gcc -DHAVE_CONFIG_H -I. -I../../include -I../ta_common/ -Iframes/ -g -O2 -MT libta_abstract_la-table_p.lo -MD -MP -MF .deps/libta_abstract_la-table_p.Tpo -c tables/table_p.c -o libta_abstract_la-table_p.o >/dev/null 2>&1\\\\n\\\",\\\"mv -f .deps/libta_abstract_la-table_p.Tpo .deps/libta_abstract_la-table_p.Plo\\\\n\\\",\\\"/bin/bash ../../libtool --tag=CC   --mode=compile gcc -DHAVE_CONFIG_H -I. -I../../include  -I../ta_common/ -Iframes/   -g -O2 -MT libta_abstract_la-table_q.lo -MD -MP -MF .deps/libta_abstract_la-table_q.Tpo -c -o libta_abstract_la-table_q.lo `test -f 'tables/table_q.c' || echo './'`tables/table_q.c\\\\n\\\",\\\" gcc -DHAVE_CONFIG_H -I. -I../../include -I../ta_common/ -Iframes/ -g -O2 -MT libta_abstract_la-table_q.lo -MD -MP -MF .deps/libta_abstract_la-table_q.Tpo -c tables/table_q.c  -fPIC -DPIC -o .libs/libta_abstract_la-table_q.o\\\\n\\\",\\\" gcc -DHAVE_CONFIG_H -I. -I../../include -I../ta_common/ -Iframes/ -g -O2 -MT libta_abstract_la-table_q.lo -MD -MP -MF .deps/libta_abstract_la-table_q.Tpo -c tables/table_q.c -o libta_abstract_la-table_q.o >/dev/null 2>&1\\\\n\\\",\\\"mv -f .deps/libta_abstract_la-table_q.Tpo .deps/libta_abstract_la-table_q.Plo\\\\n\\\",\\\"/bin/bash ../../libtool --tag=CC   --mode=compile gcc -DHAVE_CONFIG_H -I. -I../../include  -I../ta_common/ -Iframes/   -g -O2 -MT libta_abstract_la-table_r.lo -MD -MP -MF .deps/libta_abstract_la-table_r.Tpo -c -o libta_abstract_la-table_r.lo `test -f 'tables/table_r.c' || echo './'`tables/table_r.c\\\\n\\\",\\\" gcc -DHAVE_CONFIG_H -I. -I../../include -I../ta_common/ -Iframes/ -g -O2 -MT libta_abstract_la-table_r.lo -MD -MP -MF .deps/libta_abstract_la-table_r.Tpo -c tables/table_r.c  -fPIC -DPIC -o .libs/libta_abstract_la-table_r.o\\\\n\\\",\\\" gcc -DHAVE_CONFIG_H -I. -I../../include -I../ta_common/ -Iframes/ -g -O2 -MT libta_abstract_la-table_r.lo -MD -MP -MF .deps/libta_abstract_la-table_r.Tpo -c tables/table_r.c -o libta_abstract_la-table_r.o >/dev/null 2>&1\\\\n\\\",\\\"mv -f .deps/libta_abstract_la-table_r.Tpo .deps/libta_abstract_la-table_r.Plo\\\\n\\\",\\\"/bin/bash ../../libtool --tag=CC   --mode=compile gcc -DHAVE_CONFIG_H -I. -I../../include  -I../ta_common/ -Iframes/   -g -O2 -MT libta_abstract_la-table_s.lo -MD -MP -MF .deps/libta_abstract_la-table_s.Tpo -c -o libta_abstract_la-table_s.lo `test -f 'tables/table_s.c' || echo './'`tables/table_s.c\\\\n\\\",\\\" gcc -DHAVE_CONFIG_H -I. -I../../include -I../ta_common/ -Iframes/ -g -O2 -MT libta_abstract_la-table_s.lo -MD -MP -MF .deps/libta_abstract_la-table_s.Tpo -c tables/table_s.c  -fPIC -DPIC -o .libs/libta_abstract_la-table_s.o\\\\n\\\",\\\" gcc -DHAVE_CONFIG_H -I. -I../../include -I../ta_common/ -Iframes/ -g -O2 -MT libta_abstract_la-table_s.lo -MD -MP -MF .deps/libta_abstract_la-table_s.Tpo -c tables/table_s.c -o libta_abstract_la-table_s.o >/dev/null 2>&1\\\\n\\\",\\\"mv -f .deps/libta_abstract_la-table_s.Tpo .deps/libta_abstract_la-table_s.Plo\\\\n\\\",\\\"/bin/bash ../../libtool --tag=CC   --mode=compile gcc -DHAVE_CONFIG_H -I. -I../../include  -I../ta_common/ -Iframes/   -g -O2 -MT libta_abstract_la-table_t.lo -MD -MP -MF .deps/libta_abstract_la-table_t.Tpo -c -o libta_abstract_la-table_t.lo `test -f 'tables/table_t.c' || echo './'`tables/table_t.c\\\\n\\\",\\\" gcc -DHAVE_CONFIG_H -I. -I../../include -I../ta_common/ -Iframes/ -g -O2 -MT libta_abstract_la-table_t.lo -MD -MP -MF .deps/libta_abstract_la-table_t.Tpo -c tables/table_t.c  -fPIC -DPIC -o .libs/libta_abstract_la-table_t.o\\\\n\\\",\\\" gcc -DHAVE_CONFIG_H -I. -I../../include -I../ta_common/ -Iframes/ -g -O2 -MT libta_abstract_la-table_t.lo -MD -MP -MF .deps/libta_abstract_la-table_t.Tpo -c tables/table_t.c -o libta_abstract_la-table_t.o >/dev/null 2>&1\\\\n\\\",\\\"mv -f .deps/libta_abstract_la-table_t.Tpo .deps/libta_abstract_la-table_t.Plo\\\\n\\\",\\\"/bin/bash ../../libtool --tag=CC   --mode=compile gcc -DHAVE_CONFIG_H -I. -I../../include  -I../ta_common/ -Iframes/   -g -O2 -MT libta_abstract_la-table_u.lo -MD -MP -MF .deps/libta_abstract_la-table_u.Tpo -c -o libta_abstract_la-table_u.lo `test -f 'tables/table_u.c' || echo './'`tables/table_u.c\\\\n\\\",\\\" gcc -DHAVE_CONFIG_H -I. -I../../include -I../ta_common/ -Iframes/ -g -O2 -MT libta_abstract_la-table_u.lo -MD -MP -MF .deps/libta_abstract_la-table_u.Tpo -c tables/table_u.c  -fPIC -DPIC -o .libs/libta_abstract_la-table_u.o\\\\n\\\",\\\" gcc -DHAVE_CONFIG_H -I. -I../../include -I../ta_common/ -Iframes/ -g -O2 -MT libta_abstract_la-table_u.lo -MD -MP -MF .deps/libta_abstract_la-table_u.Tpo -c tables/table_u.c -o libta_abstract_la-table_u.o >/dev/null 2>&1\\\\n\\\",\\\"mv -f .deps/libta_abstract_la-table_u.Tpo .deps/libta_abstract_la-table_u.Plo\\\\n\\\",\\\"/bin/bash ../../libtool --tag=CC   --mode=compile gcc -DHAVE_CONFIG_H -I. -I../../include  -I../ta_common/ -Iframes/   -g -O2 -MT libta_abstract_la-table_v.lo -MD -MP -MF .deps/libta_abstract_la-table_v.Tpo -c -o libta_abstract_la-table_v.lo `test -f 'tables/table_v.c' || echo './'`tables/table_v.c\\\\n\\\",\\\" gcc -DHAVE_CONFIG_H -I. -I../../include -I../ta_common/ -Iframes/ -g -O2 -MT libta_abstract_la-table_v.lo -MD -MP -MF .deps/libta_abstract_la-table_v.Tpo -c tables/table_v.c  -fPIC -DPIC -o .libs/libta_abstract_la-table_v.o\\\\n\\\",\\\" gcc -DHAVE_CONFIG_H -I. -I../../include -I../ta_common/ -Iframes/ -g -O2 -MT libta_abstract_la-table_v.lo -MD -MP -MF .deps/libta_abstract_la-table_v.Tpo -c tables/table_v.c -o libta_abstract_la-table_v.o >/dev/null 2>&1\\\\n\\\",\\\"mv -f .deps/libta_abstract_la-table_v.Tpo .deps/libta_abstract_la-table_v.Plo\\\\n\\\",\\\"/bin/bash ../../libtool --tag=CC   --mode=compile gcc -DHAVE_CONFIG_H -I. -I../../include  -I../ta_common/ -Iframes/   -g -O2 -MT libta_abstract_la-table_w.lo -MD -MP -MF .deps/libta_abstract_la-table_w.Tpo -c -o libta_abstract_la-table_w.lo `test -f 'tables/table_w.c' || echo './'`tables/table_w.c\\\\n\\\",\\\" gcc -DHAVE_CONFIG_H -I. -I../../include -I../ta_common/ -Iframes/ -g -O2 -MT libta_abstract_la-table_w.lo -MD -MP -MF .deps/libta_abstract_la-table_w.Tpo -c tables/table_w.c  -fPIC -DPIC -o .libs/libta_abstract_la-table_w.o\\\\n\\\",\\\" gcc -DHAVE_CONFIG_H -I. -I../../include -I../ta_common/ -Iframes/ -g -O2 -MT libta_abstract_la-table_w.lo -MD -MP -MF .deps/libta_abstract_la-table_w.Tpo -c tables/table_w.c -o libta_abstract_la-table_w.o >/dev/null 2>&1\\\\n\\\",\\\"mv -f .deps/libta_abstract_la-table_w.Tpo .deps/libta_abstract_la-table_w.Plo\\\\n\\\",\\\"/bin/bash ../../libtool --tag=CC   --mode=compile gcc -DHAVE_CONFIG_H -I. -I../../include  -I../ta_common/ -Iframes/   -g -O2 -MT libta_abstract_la-table_x.lo -MD -MP -MF .deps/libta_abstract_la-table_x.Tpo -c -o libta_abstract_la-table_x.lo `test -f 'tables/table_x.c' || echo './'`tables/table_x.c\\\\n\\\",\\\" gcc -DHAVE_CONFIG_H -I. -I../../include -I../ta_common/ -Iframes/ -g -O2 -MT libta_abstract_la-table_x.lo -MD -MP -MF .deps/libta_abstract_la-table_x.Tpo -c tables/table_x.c  -fPIC -DPIC -o .libs/libta_abstract_la-table_x.o\\\\n\\\",\\\" gcc -DHAVE_CONFIG_H -I. -I../../include -I../ta_common/ -Iframes/ -g -O2 -MT libta_abstract_la-table_x.lo -MD -MP -MF .deps/libta_abstract_la-table_x.Tpo -c tables/table_x.c -o libta_abstract_la-table_x.o >/dev/null 2>&1\\\\n\\\",\\\"mv -f .deps/libta_abstract_la-table_x.Tpo .deps/libta_abstract_la-table_x.Plo\\\\n\\\",\\\"/bin/bash ../../libtool --tag=CC   --mode=compile gcc -DHAVE_CONFIG_H -I. -I../../include  -I../ta_common/ -Iframes/   -g -O2 -MT libta_abstract_la-table_y.lo -MD -MP -MF .deps/libta_abstract_la-table_y.Tpo -c -o libta_abstract_la-table_y.lo `test -f 'tables/table_y.c' || echo './'`tables/table_y.c\\\\n\\\",\\\" gcc -DHAVE_CONFIG_H -I. -I../../include -I../ta_common/ -Iframes/ -g -O2 -MT libta_abstract_la-table_y.lo -MD -MP -MF .deps/libta_abstract_la-table_y.Tpo -c tables/table_y.c  -fPIC -DPIC -o .libs/libta_abstract_la-table_y.o\\\\n\\\",\\\" gcc -DHAVE_CONFIG_H -I. -I../../include -I../ta_common/ -Iframes/ -g -O2 -MT libta_abstract_la-table_y.lo -MD -MP -MF .deps/libta_abstract_la-table_y.Tpo -c tables/table_y.c -o libta_abstract_la-table_y.o >/dev/null 2>&1\\\\n\\\",\\\"mv -f .deps/libta_abstract_la-table_y.Tpo .deps/libta_abstract_la-table_y.Plo\\\\n\\\",\\\"/bin/bash ../../libtool --tag=CC   --mode=compile gcc -DHAVE_CONFIG_H -I. -I../../include  -I../ta_common/ -Iframes/   -g -O2 -MT libta_abstract_la-table_z.lo -MD -MP -MF .deps/libta_abstract_la-table_z.Tpo -c -o libta_abstract_la-table_z.lo `test -f 'tables/table_z.c' || echo './'`tables/table_z.c\\\\n\\\",\\\" gcc -DHAVE_CONFIG_H -I. -I../../include -I../ta_common/ -Iframes/ -g -O2 -MT libta_abstract_la-table_z.lo -MD -MP -MF .deps/libta_abstract_la-table_z.Tpo -c tables/table_z.c  -fPIC -DPIC -o .libs/libta_abstract_la-table_z.o\\\\n\\\",\\\" gcc -DHAVE_CONFIG_H -I. -I../../include -I../ta_common/ -Iframes/ -g -O2 -MT libta_abstract_la-table_z.lo -MD -MP -MF .deps/libta_abstract_la-table_z.Tpo -c tables/table_z.c -o libta_abstract_la-table_z.o >/dev/null 2>&1\\\\n\\\",\\\"mv -f .deps/libta_abstract_la-table_z.Tpo .deps/libta_abstract_la-table_z.Plo\\\\n\\\",\\\"/bin/bash ../../libtool --tag=CC   --mode=link gcc  -g -O2 -version-info 0:0:0  -o libta_abstract.la  libta_abstract_la-ta_group_idx.lo libta_abstract_la-ta_def_ui.lo libta_abstract_la-ta_abstract.lo libta_abstract_la-ta_func_api.lo libta_abstract_la-ta_frame.lo libta_abstract_la-table_a.lo libta_abstract_la-table_b.lo libta_abstract_la-table_c.lo libta_abstract_la-table_d.lo libta_abstract_la-table_e.lo libta_abstract_la-table_f.lo libta_abstract_la-table_g.lo libta_abstract_la-table_h.lo libta_abstract_la-table_i.lo libta_abstract_la-table_j.lo libta_abstract_la-table_k.lo libta_abstract_la-table_l.lo libta_abstract_la-table_m.lo libta_abstract_la-table_n.lo libta_abstract_la-table_o.lo libta_abstract_la-table_p.lo libta_abstract_la-table_q.lo libta_abstract_la-table_r.lo libta_abstract_la-table_s.lo libta_abstract_la-table_t.lo libta_abstract_la-table_u.lo libta_abstract_la-table_v.lo libta_abstract_la-table_w.lo libta_abstract_la-table_x.lo libta_abstract_la-table_y.lo libta_abstract_la-table_z.lo  -lpthread -ldl \\\\n\\\",\\\"libtool: link: warning: `-version-info/-version-number' is ignored for convenience libraries\\\\n\\\",\\\"ar cru .libs/libta_abstract.a .libs/libta_abstract_la-ta_group_idx.o .libs/libta_abstract_la-ta_def_ui.o .libs/libta_abstract_la-ta_abstract.o .libs/libta_abstract_la-ta_func_api.o .libs/libta_abstract_la-ta_frame.o .libs/libta_abstract_la-table_a.o .libs/libta_abstract_la-table_b.o .libs/libta_abstract_la-table_c.o .libs/libta_abstract_la-table_d.o .libs/libta_abstract_la-table_e.o .libs/libta_abstract_la-table_f.o .libs/libta_abstract_la-table_g.o .libs/libta_abstract_la-table_h.o .libs/libta_abstract_la-table_i.o .libs/libta_abstract_la-table_j.o .libs/libta_abstract_la-table_k.o .libs/libta_abstract_la-table_l.o .libs/libta_abstract_la-table_m.o .libs/libta_abstract_la-table_n.o .libs/libta_abstract_la-table_o.o .libs/libta_abstract_la-table_p.o .libs/libta_abstract_la-table_q.o .libs/libta_abstract_la-table_r.o .libs/libta_abstract_la-table_s.o .libs/libta_abstract_la-table_t.o .libs/libta_abstract_la-table_u.o .libs/libta_abstract_la-table_v.o .libs/libta_abstract_la-table_w.o .libs/libta_abstract_la-table_x.o .libs/libta_abstract_la-table_y.o .libs/libta_abstract_la-table_z.o\\\\n\\\",\\\"ar: `u' modifier ignored since `D' is the default (see `U')\\\\n\\\",\\\"ranlib .libs/libta_abstract.a\\\\n\\\",\\\"creating libta_abstract.la\\\\n\\\",\\\"(cd .libs && rm -f libta_abstract.la && ln -s ../libta_abstract.la libta_abstract.la)\\\\n\\\",\\\"/bin/bash ../../libtool --tag=CC   --mode=compile gcc -DHAVE_CONFIG_H -I. -I../../include  -DTA_GEN_CODE -I../ta_common/ -Iframes/   -g -O2 -MT libta_abstract_gc_la-ta_group_idx.lo -MD -MP -MF .deps/libta_abstract_gc_la-ta_group_idx.Tpo -c -o libta_abstract_gc_la-ta_group_idx.lo `test -f 'ta_group_idx.c' || echo './'`ta_group_idx.c\\\\n\\\",\\\" gcc -DHAVE_CONFIG_H -I. -I../../include -DTA_GEN_CODE -I../ta_common/ -Iframes/ -g -O2 -MT libta_abstract_gc_la-ta_group_idx.lo -MD -MP -MF .deps/libta_abstract_gc_la-ta_group_idx.Tpo -c ta_group_idx.c  -fPIC -DPIC -o .libs/libta_abstract_gc_la-ta_group_idx.o\\\\n\\\",\\\" gcc -DHAVE_CONFIG_H -I. -I../../include -DTA_GEN_CODE -I../ta_common/ -Iframes/ -g -O2 -MT libta_abstract_gc_la-ta_group_idx.lo -MD -MP -MF .deps/libta_abstract_gc_la-ta_group_idx.Tpo -c ta_group_idx.c -o libta_abstract_gc_la-ta_group_idx.o >/dev/null 2>&1\\\\n\\\",\\\"mv -f .deps/libta_abstract_gc_la-ta_group_idx.Tpo .deps/libta_abstract_gc_la-ta_group_idx.Plo\\\\n\\\",\\\"/bin/bash ../../libtool --tag=CC   --mode=compile gcc -DHAVE_CONFIG_H -I. -I../../include  -DTA_GEN_CODE -I../ta_common/ -Iframes/   -g -O2 -MT libta_abstract_gc_la-ta_def_ui.lo -MD -MP -MF .deps/libta_abstract_gc_la-ta_def_ui.Tpo -c -o libta_abstract_gc_la-ta_def_ui.lo `test -f 'ta_def_ui.c' || echo './'`ta_def_ui.c\\\\n\\\",\\\" gcc -DHAVE_CONFIG_H -I. -I../../include -DTA_GEN_CODE -I../ta_common/ -Iframes/ -g -O2 -MT libta_abstract_gc_la-ta_def_ui.lo -MD -MP -MF .deps/libta_abstract_gc_la-ta_def_ui.Tpo -c ta_def_ui.c  -fPIC -DPIC -o .libs/libta_abstract_gc_la-ta_def_ui.o\\\\n\\\",\\\" gcc -DHAVE_CONFIG_H -I. -I../../include -DTA_GEN_CODE -I../ta_common/ -Iframes/ -g -O2 -MT libta_abstract_gc_la-ta_def_ui.lo -MD -MP -MF .deps/libta_abstract_gc_la-ta_def_ui.Tpo -c ta_def_ui.c -o libta_abstract_gc_la-ta_def_ui.o >/dev/null 2>&1\\\\n\\\",\\\"mv -f .deps/libta_abstract_gc_la-ta_def_ui.Tpo .deps/libta_abstract_gc_la-ta_def_ui.Plo\\\\n\\\",\\\"/bin/bash ../../libtool --tag=CC   --mode=compile gcc -DHAVE_CONFIG_H -I. -I../../include  -DTA_GEN_CODE -I../ta_common/ -Iframes/   -g -O2 -MT libta_abstract_gc_la-ta_abstract.lo -MD -MP -MF .deps/libta_abstract_gc_la-ta_abstract.Tpo -c -o libta_abstract_gc_la-ta_abstract.lo `test -f 'ta_abstract.c' || echo './'`ta_abstract.c\\\\n\\\",\\\" gcc -DHAVE_CONFIG_H -I. -I../../include -DTA_GEN_CODE -I../ta_common/ -Iframes/ -g -O2 -MT libta_abstract_gc_la-ta_abstract.lo -MD -MP -MF .deps/libta_abstract_gc_la-ta_abstract.Tpo -c ta_abstract.c  -fPIC -DPIC -o .libs/libta_abstract_gc_la-ta_abstract.o\\\\n\\\",\\\" gcc -DHAVE_CONFIG_H -I. -I../../include -DTA_GEN_CODE -I../ta_common/ -Iframes/ -g -O2 -MT libta_abstract_gc_la-ta_abstract.lo -MD -MP -MF .deps/libta_abstract_gc_la-ta_abstract.Tpo -c ta_abstract.c -o libta_abstract_gc_la-ta_abstract.o >/dev/null 2>&1\\\\n\\\",\\\"mv -f .deps/libta_abstract_gc_la-ta_abstract.Tpo .deps/libta_abstract_gc_la-ta_abstract.Plo\\\\n\\\",\\\"/bin/bash ../../libtool --tag=CC   --mode=compile gcc -DHAVE_CONFIG_H -I. -I../../include  -DTA_GEN_CODE -I../ta_common/ -Iframes/   -g -O2 -MT libta_abstract_gc_la-ta_func_api.lo -MD -MP -MF .deps/libta_abstract_gc_la-ta_func_api.Tpo -c -o libta_abstract_gc_la-ta_func_api.lo `test -f 'ta_func_api.c' || echo './'`ta_func_api.c\\\\n\\\",\\\" gcc -DHAVE_CONFIG_H -I. -I../../include -DTA_GEN_CODE -I../ta_common/ -Iframes/ -g -O2 -MT libta_abstract_gc_la-ta_func_api.lo -MD -MP -MF .deps/libta_abstract_gc_la-ta_func_api.Tpo -c ta_func_api.c  -fPIC -DPIC -o .libs/libta_abstract_gc_la-ta_func_api.o\\\\n\\\",\\\" gcc -DHAVE_CONFIG_H -I. -I../../include -DTA_GEN_CODE -I../ta_common/ -Iframes/ -g -O2 -MT libta_abstract_gc_la-ta_func_api.lo -MD -MP -MF .deps/libta_abstract_gc_la-ta_func_api.Tpo -c ta_func_api.c -o libta_abstract_gc_la-ta_func_api.o >/dev/null 2>&1\\\\n\\\",\\\"mv -f .deps/libta_abstract_gc_la-ta_func_api.Tpo .deps/libta_abstract_gc_la-ta_func_api.Plo\\\\n\\\",\\\"/bin/bash ../../libtool --tag=CC   --mode=compile gcc -DHAVE_CONFIG_H -I. -I../../include  -DTA_GEN_CODE -I../ta_common/ -Iframes/   -g -O2 -MT libta_abstract_gc_la-ta_frame.lo -MD -MP -MF .deps/libta_abstract_gc_la-ta_frame.Tpo -c -o libta_abstract_gc_la-ta_frame.lo `test -f 'frames/ta_frame.c' || echo './'`frames/ta_frame.c\\\\n\\\",\\\" gcc -DHAVE_CONFIG_H -I. -I../../include -DTA_GEN_CODE -I../ta_common/ -Iframes/ -g -O2 -MT libta_abstract_gc_la-ta_frame.lo -MD -MP -MF .deps/libta_abstract_gc_la-ta_frame.Tpo -c frames/ta_frame.c  -fPIC -DPIC -o .libs/libta_abstract_gc_la-ta_frame.o\\\\n\\\",\\\" gcc -DHAVE_CONFIG_H -I. -I../../include -DTA_GEN_CODE -I../ta_common/ -Iframes/ -g -O2 -MT libta_abstract_gc_la-ta_frame.lo -MD -MP -MF .deps/libta_abstract_gc_la-ta_frame.Tpo -c frames/ta_frame.c -o libta_abstract_gc_la-ta_frame.o >/dev/null 2>&1\\\\n\\\",\\\"mv -f .deps/libta_abstract_gc_la-ta_frame.Tpo .deps/libta_abstract_gc_la-ta_frame.Plo\\\\n\\\",\\\"/bin/bash ../../libtool --tag=CC   --mode=compile gcc -DHAVE_CONFIG_H -I. -I../../include  -DTA_GEN_CODE -I../ta_common/ -Iframes/   -g -O2 -MT libta_abstract_gc_la-table_a.lo -MD -MP -MF .deps/libta_abstract_gc_la-table_a.Tpo -c -o libta_abstract_gc_la-table_a.lo `test -f 'tables/table_a.c' || echo './'`tables/table_a.c\\\\n\\\",\\\" gcc -DHAVE_CONFIG_H -I. -I../../include -DTA_GEN_CODE -I../ta_common/ -Iframes/ -g -O2 -MT libta_abstract_gc_la-table_a.lo -MD -MP -MF .deps/libta_abstract_gc_la-table_a.Tpo -c tables/table_a.c  -fPIC -DPIC -o .libs/libta_abstract_gc_la-table_a.o\\\\n\\\",\\\" gcc -DHAVE_CONFIG_H -I. -I../../include -DTA_GEN_CODE -I../ta_common/ -Iframes/ -g -O2 -MT libta_abstract_gc_la-table_a.lo -MD -MP -MF .deps/libta_abstract_gc_la-table_a.Tpo -c tables/table_a.c -o libta_abstract_gc_la-table_a.o >/dev/null 2>&1\\\\n\\\",\\\"mv -f .deps/libta_abstract_gc_la-table_a.Tpo .deps/libta_abstract_gc_la-table_a.Plo\\\\n\\\",\\\"/bin/bash ../../libtool --tag=CC   --mode=compile gcc -DHAVE_CONFIG_H -I. -I../../include  -DTA_GEN_CODE -I../ta_common/ -Iframes/   -g -O2 -MT libta_abstract_gc_la-table_b.lo -MD -MP -MF .deps/libta_abstract_gc_la-table_b.Tpo -c -o libta_abstract_gc_la-table_b.lo `test -f 'tables/table_b.c' || echo './'`tables/table_b.c\\\\n\\\",\\\" gcc -DHAVE_CONFIG_H -I. -I../../include -DTA_GEN_CODE -I../ta_common/ -Iframes/ -g -O2 -MT libta_abstract_gc_la-table_b.lo -MD -MP -MF .deps/libta_abstract_gc_la-table_b.Tpo -c tables/table_b.c  -fPIC -DPIC -o .libs/libta_abstract_gc_la-table_b.o\\\\n\\\",\\\" gcc -DHAVE_CONFIG_H -I. -I../../include -DTA_GEN_CODE -I../ta_common/ -Iframes/ -g -O2 -MT libta_abstract_gc_la-table_b.lo -MD -MP -MF .deps/libta_abstract_gc_la-table_b.Tpo -c tables/table_b.c -o libta_abstract_gc_la-table_b.o >/dev/null 2>&1\\\\n\\\",\\\"mv -f .deps/libta_abstract_gc_la-table_b.Tpo .deps/libta_abstract_gc_la-table_b.Plo\\\\n\\\",\\\"/bin/bash ../../libtool --tag=CC   --mode=compile gcc -DHAVE_CONFIG_H -I. -I../../include  -DTA_GEN_CODE -I../ta_common/ -Iframes/   -g -O2 -MT libta_abstract_gc_la-table_c.lo -MD -MP -MF .deps/libta_abstract_gc_la-table_c.Tpo -c -o libta_abstract_gc_la-table_c.lo `test -f 'tables/table_c.c' || echo './'`tables/table_c.c\\\\n\\\",\\\" gcc -DHAVE_CONFIG_H -I. -I../../include -DTA_GEN_CODE -I../ta_common/ -Iframes/ -g -O2 -MT libta_abstract_gc_la-table_c.lo -MD -MP -MF .deps/libta_abstract_gc_la-table_c.Tpo -c tables/table_c.c  -fPIC -DPIC -o .libs/libta_abstract_gc_la-table_c.o\\\\n\\\",\\\" gcc -DHAVE_CONFIG_H -I. -I../../include -DTA_GEN_CODE -I../ta_common/ -Iframes/ -g -O2 -MT libta_abstract_gc_la-table_c.lo -MD -MP -MF .deps/libta_abstract_gc_la-table_c.Tpo -c tables/table_c.c -o libta_abstract_gc_la-table_c.o >/dev/null 2>&1\\\\n\\\",\\\"mv -f .deps/libta_abstract_gc_la-table_c.Tpo .deps/libta_abstract_gc_la-table_c.Plo\\\\n\\\",\\\"/bin/bash ../../libtool --tag=CC   --mode=compile gcc -DHAVE_CONFIG_H -I. -I../../include  -DTA_GEN_CODE -I../ta_common/ -Iframes/   -g -O2 -MT libta_abstract_gc_la-table_d.lo -MD -MP -MF .deps/libta_abstract_gc_la-table_d.Tpo -c -o libta_abstract_gc_la-table_d.lo `test -f 'tables/table_d.c' || echo './'`tables/table_d.c\\\\n\\\",\\\" gcc -DHAVE_CONFIG_H -I. -I../../include -DTA_GEN_CODE -I../ta_common/ -Iframes/ -g -O2 -MT libta_abstract_gc_la-table_d.lo -MD -MP -MF .deps/libta_abstract_gc_la-table_d.Tpo -c tables/table_d.c  -fPIC -DPIC -o .libs/libta_abstract_gc_la-table_d.o\\\\n\\\",\\\" gcc -DHAVE_CONFIG_H -I. -I../../include -DTA_GEN_CODE -I../ta_common/ -Iframes/ -g -O2 -MT libta_abstract_gc_la-table_d.lo -MD -MP -MF .deps/libta_abstract_gc_la-table_d.Tpo -c tables/table_d.c -o libta_abstract_gc_la-table_d.o >/dev/null 2>&1\\\\n\\\",\\\"mv -f .deps/libta_abstract_gc_la-table_d.Tpo .deps/libta_abstract_gc_la-table_d.Plo\\\\n\\\",\\\"/bin/bash ../../libtool --tag=CC   --mode=compile gcc -DHAVE_CONFIG_H -I. -I../../include  -DTA_GEN_CODE -I../ta_common/ -Iframes/   -g -O2 -MT libta_abstract_gc_la-table_e.lo -MD -MP -MF .deps/libta_abstract_gc_la-table_e.Tpo -c -o libta_abstract_gc_la-table_e.lo `test -f 'tables/table_e.c' || echo './'`tables/table_e.c\\\\n\\\",\\\" gcc -DHAVE_CONFIG_H -I. -I../../include -DTA_GEN_CODE -I../ta_common/ -Iframes/ -g -O2 -MT libta_abstract_gc_la-table_e.lo -MD -MP -MF .deps/libta_abstract_gc_la-table_e.Tpo -c tables/table_e.c  -fPIC -DPIC -o .libs/libta_abstract_gc_la-table_e.o\\\\n\\\",\\\" gcc -DHAVE_CONFIG_H -I. -I../../include -DTA_GEN_CODE -I../ta_common/ -Iframes/ -g -O2 -MT libta_abstract_gc_la-table_e.lo -MD -MP -MF .deps/libta_abstract_gc_la-table_e.Tpo -c tables/table_e.c -o libta_abstract_gc_la-table_e.o >/dev/null 2>&1\\\\n\\\",\\\"mv -f .deps/libta_abstract_gc_la-table_e.Tpo .deps/libta_abstract_gc_la-table_e.Plo\\\\n\\\",\\\"/bin/bash ../../libtool --tag=CC   --mode=compile gcc -DHAVE_CONFIG_H -I. -I../../include  -DTA_GEN_CODE -I../ta_common/ -Iframes/   -g -O2 -MT libta_abstract_gc_la-table_f.lo -MD -MP -MF .deps/libta_abstract_gc_la-table_f.Tpo -c -o libta_abstract_gc_la-table_f.lo `test -f 'tables/table_f.c' || echo './'`tables/table_f.c\\\\n\\\",\\\" gcc -DHAVE_CONFIG_H -I. -I../../include -DTA_GEN_CODE -I../ta_common/ -Iframes/ -g -O2 -MT libta_abstract_gc_la-table_f.lo -MD -MP -MF .deps/libta_abstract_gc_la-table_f.Tpo -c tables/table_f.c  -fPIC -DPIC -o .libs/libta_abstract_gc_la-table_f.o\\\\n\\\",\\\" gcc -DHAVE_CONFIG_H -I. -I../../include -DTA_GEN_CODE -I../ta_common/ -Iframes/ -g -O2 -MT libta_abstract_gc_la-table_f.lo -MD -MP -MF .deps/libta_abstract_gc_la-table_f.Tpo -c tables/table_f.c -o libta_abstract_gc_la-table_f.o >/dev/null 2>&1\\\\n\\\",\\\"mv -f .deps/libta_abstract_gc_la-table_f.Tpo .deps/libta_abstract_gc_la-table_f.Plo\\\\n\\\",\\\"/bin/bash ../../libtool --tag=CC   --mode=compile gcc -DHAVE_CONFIG_H -I. -I../../include  -DTA_GEN_CODE -I../ta_common/ -Iframes/   -g -O2 -MT libta_abstract_gc_la-table_g.lo -MD -MP -MF .deps/libta_abstract_gc_la-table_g.Tpo -c -o libta_abstract_gc_la-table_g.lo `test -f 'tables/table_g.c' || echo './'`tables/table_g.c\\\\n\\\",\\\" gcc -DHAVE_CONFIG_H -I. -I../../include -DTA_GEN_CODE -I../ta_common/ -Iframes/ -g -O2 -MT libta_abstract_gc_la-table_g.lo -MD -MP -MF .deps/libta_abstract_gc_la-table_g.Tpo -c tables/table_g.c  -fPIC -DPIC -o .libs/libta_abstract_gc_la-table_g.o\\\\n\\\",\\\" gcc -DHAVE_CONFIG_H -I. -I../../include -DTA_GEN_CODE -I../ta_common/ -Iframes/ -g -O2 -MT libta_abstract_gc_la-table_g.lo -MD -MP -MF .deps/libta_abstract_gc_la-table_g.Tpo -c tables/table_g.c -o libta_abstract_gc_la-table_g.o >/dev/null 2>&1\\\\n\\\",\\\"mv -f .deps/libta_abstract_gc_la-table_g.Tpo .deps/libta_abstract_gc_la-table_g.Plo\\\\n\\\",\\\"/bin/bash ../../libtool --tag=CC   --mode=compile gcc -DHAVE_CONFIG_H -I. -I../../include  -DTA_GEN_CODE -I../ta_common/ -Iframes/   -g -O2 -MT libta_abstract_gc_la-table_h.lo -MD -MP -MF .deps/libta_abstract_gc_la-table_h.Tpo -c -o libta_abstract_gc_la-table_h.lo `test -f 'tables/table_h.c' || echo './'`tables/table_h.c\\\\n\\\",\\\" gcc -DHAVE_CONFIG_H -I. -I../../include -DTA_GEN_CODE -I../ta_common/ -Iframes/ -g -O2 -MT libta_abstract_gc_la-table_h.lo -MD -MP -MF .deps/libta_abstract_gc_la-table_h.Tpo -c tables/table_h.c  -fPIC -DPIC -o .libs/libta_abstract_gc_la-table_h.o\\\\n\\\",\\\" gcc -DHAVE_CONFIG_H -I. -I../../include -DTA_GEN_CODE -I../ta_common/ -Iframes/ -g -O2 -MT libta_abstract_gc_la-table_h.lo -MD -MP -MF .deps/libta_abstract_gc_la-table_h.Tpo -c tables/table_h.c -o libta_abstract_gc_la-table_h.o >/dev/null 2>&1\\\\n\\\",\\\"mv -f .deps/libta_abstract_gc_la-table_h.Tpo .deps/libta_abstract_gc_la-table_h.Plo\\\\n\\\",\\\"/bin/bash ../../libtool --tag=CC   --mode=compile gcc -DHAVE_CONFIG_H -I. -I../../include  -DTA_GEN_CODE -I../ta_common/ -Iframes/   -g -O2 -MT libta_abstract_gc_la-table_i.lo -MD -MP -MF .deps/libta_abstract_gc_la-table_i.Tpo -c -o libta_abstract_gc_la-table_i.lo `test -f 'tables/table_i.c' || echo './'`tables/table_i.c\\\\n\\\",\\\" gcc -DHAVE_CONFIG_H -I. -I../../include -DTA_GEN_CODE -I../ta_common/ -Iframes/ -g -O2 -MT libta_abstract_gc_la-table_i.lo -MD -MP -MF .deps/libta_abstract_gc_la-table_i.Tpo -c tables/table_i.c  -fPIC -DPIC -o .libs/libta_abstract_gc_la-table_i.o\\\\n\\\",\\\" gcc -DHAVE_CONFIG_H -I. -I../../include -DTA_GEN_CODE -I../ta_common/ -Iframes/ -g -O2 -MT libta_abstract_gc_la-table_i.lo -MD -MP -MF .deps/libta_abstract_gc_la-table_i.Tpo -c tables/table_i.c -o libta_abstract_gc_la-table_i.o >/dev/null 2>&1\\\\n\\\",\\\"mv -f .deps/libta_abstract_gc_la-table_i.Tpo .deps/libta_abstract_gc_la-table_i.Plo\\\\n\\\",\\\"/bin/bash ../../libtool --tag=CC   --mode=compile gcc -DHAVE_CONFIG_H -I. -I../../include  -DTA_GEN_CODE -I../ta_common/ -Iframes/   -g -O2 -MT libta_abstract_gc_la-table_j.lo -MD -MP -MF .deps/libta_abstract_gc_la-table_j.Tpo -c -o libta_abstract_gc_la-table_j.lo `test -f 'tables/table_j.c' || echo './'`tables/table_j.c\\\\n\\\",\\\" gcc -DHAVE_CONFIG_H -I. -I../../include -DTA_GEN_CODE -I../ta_common/ -Iframes/ -g -O2 -MT libta_abstract_gc_la-table_j.lo -MD -MP -MF .deps/libta_abstract_gc_la-table_j.Tpo -c tables/table_j.c  -fPIC -DPIC -o .libs/libta_abstract_gc_la-table_j.o\\\\n\\\",\\\" gcc -DHAVE_CONFIG_H -I. -I../../include -DTA_GEN_CODE -I../ta_common/ -Iframes/ -g -O2 -MT libta_abstract_gc_la-table_j.lo -MD -MP -MF .deps/libta_abstract_gc_la-table_j.Tpo -c tables/table_j.c -o libta_abstract_gc_la-table_j.o >/dev/null 2>&1\\\\n\\\",\\\"mv -f .deps/libta_abstract_gc_la-table_j.Tpo .deps/libta_abstract_gc_la-table_j.Plo\\\\n\\\",\\\"/bin/bash ../../libtool --tag=CC   --mode=compile gcc -DHAVE_CONFIG_H -I. -I../../include  -DTA_GEN_CODE -I../ta_common/ -Iframes/   -g -O2 -MT libta_abstract_gc_la-table_k.lo -MD -MP -MF .deps/libta_abstract_gc_la-table_k.Tpo -c -o libta_abstract_gc_la-table_k.lo `test -f 'tables/table_k.c' || echo './'`tables/table_k.c\\\\n\\\",\\\" gcc -DHAVE_CONFIG_H -I. -I../../include -DTA_GEN_CODE -I../ta_common/ -Iframes/ -g -O2 -MT libta_abstract_gc_la-table_k.lo -MD -MP -MF .deps/libta_abstract_gc_la-table_k.Tpo -c tables/table_k.c  -fPIC -DPIC -o .libs/libta_abstract_gc_la-table_k.o\\\\n\\\",\\\" gcc -DHAVE_CONFIG_H -I. -I../../include -DTA_GEN_CODE -I../ta_common/ -Iframes/ -g -O2 -MT libta_abstract_gc_la-table_k.lo -MD -MP -MF .deps/libta_abstract_gc_la-table_k.Tpo -c tables/table_k.c -o libta_abstract_gc_la-table_k.o >/dev/null 2>&1\\\\n\\\",\\\"mv -f .deps/libta_abstract_gc_la-table_k.Tpo .deps/libta_abstract_gc_la-table_k.Plo\\\\n\\\",\\\"/bin/bash ../../libtool --tag=CC   --mode=compile gcc -DHAVE_CONFIG_H -I. -I../../include  -DTA_GEN_CODE -I../ta_common/ -Iframes/   -g -O2 -MT libta_abstract_gc_la-table_l.lo -MD -MP -MF .deps/libta_abstract_gc_la-table_l.Tpo -c -o libta_abstract_gc_la-table_l.lo `test -f 'tables/table_l.c' || echo './'`tables/table_l.c\\\\n\\\",\\\" gcc -DHAVE_CONFIG_H -I. -I../../include -DTA_GEN_CODE -I../ta_common/ -Iframes/ -g -O2 -MT libta_abstract_gc_la-table_l.lo -MD -MP -MF .deps/libta_abstract_gc_la-table_l.Tpo -c tables/table_l.c  -fPIC -DPIC -o .libs/libta_abstract_gc_la-table_l.o\\\\n\\\",\\\" gcc -DHAVE_CONFIG_H -I. -I../../include -DTA_GEN_CODE -I../ta_common/ -Iframes/ -g -O2 -MT libta_abstract_gc_la-table_l.lo -MD -MP -MF .deps/libta_abstract_gc_la-table_l.Tpo -c tables/table_l.c -o libta_abstract_gc_la-table_l.o >/dev/null 2>&1\\\\n\\\",\\\"mv -f .deps/libta_abstract_gc_la-table_l.Tpo .deps/libta_abstract_gc_la-table_l.Plo\\\\n\\\",\\\"/bin/bash ../../libtool --tag=CC   --mode=compile gcc -DHAVE_CONFIG_H -I. -I../../include  -DTA_GEN_CODE -I../ta_common/ -Iframes/   -g -O2 -MT libta_abstract_gc_la-table_m.lo -MD -MP -MF .deps/libta_abstract_gc_la-table_m.Tpo -c -o libta_abstract_gc_la-table_m.lo `test -f 'tables/table_m.c' || echo './'`tables/table_m.c\\\\n\\\",\\\" gcc -DHAVE_CONFIG_H -I. -I../../include -DTA_GEN_CODE -I../ta_common/ -Iframes/ -g -O2 -MT libta_abstract_gc_la-table_m.lo -MD -MP -MF .deps/libta_abstract_gc_la-table_m.Tpo -c tables/table_m.c  -fPIC -DPIC -o .libs/libta_abstract_gc_la-table_m.o\\\\n\\\",\\\" gcc -DHAVE_CONFIG_H -I. -I../../include -DTA_GEN_CODE -I../ta_common/ -Iframes/ -g -O2 -MT libta_abstract_gc_la-table_m.lo -MD -MP -MF .deps/libta_abstract_gc_la-table_m.Tpo -c tables/table_m.c -o libta_abstract_gc_la-table_m.o >/dev/null 2>&1\\\\n\\\",\\\"mv -f .deps/libta_abstract_gc_la-table_m.Tpo .deps/libta_abstract_gc_la-table_m.Plo\\\\n\\\",\\\"/bin/bash ../../libtool --tag=CC   --mode=compile gcc -DHAVE_CONFIG_H -I. -I../../include  -DTA_GEN_CODE -I../ta_common/ -Iframes/   -g -O2 -MT libta_abstract_gc_la-table_n.lo -MD -MP -MF .deps/libta_abstract_gc_la-table_n.Tpo -c -o libta_abstract_gc_la-table_n.lo `test -f 'tables/table_n.c' || echo './'`tables/table_n.c\\\\n\\\",\\\" gcc -DHAVE_CONFIG_H -I. -I../../include -DTA_GEN_CODE -I../ta_common/ -Iframes/ -g -O2 -MT libta_abstract_gc_la-table_n.lo -MD -MP -MF .deps/libta_abstract_gc_la-table_n.Tpo -c tables/table_n.c  -fPIC -DPIC -o .libs/libta_abstract_gc_la-table_n.o\\\\n\\\",\\\" gcc -DHAVE_CONFIG_H -I. -I../../include -DTA_GEN_CODE -I../ta_common/ -Iframes/ -g -O2 -MT libta_abstract_gc_la-table_n.lo -MD -MP -MF .deps/libta_abstract_gc_la-table_n.Tpo -c tables/table_n.c -o libta_abstract_gc_la-table_n.o >/dev/null 2>&1\\\\n\\\",\\\"mv -f .deps/libta_abstract_gc_la-table_n.Tpo .deps/libta_abstract_gc_la-table_n.Plo\\\\n\\\",\\\"/bin/bash ../../libtool --tag=CC   --mode=compile gcc -DHAVE_CONFIG_H -I. -I../../include  -DTA_GEN_CODE -I../ta_common/ -Iframes/   -g -O2 -MT libta_abstract_gc_la-table_o.lo -MD -MP -MF .deps/libta_abstract_gc_la-table_o.Tpo -c -o libta_abstract_gc_la-table_o.lo `test -f 'tables/table_o.c' || echo './'`tables/table_o.c\\\\n\\\",\\\" gcc -DHAVE_CONFIG_H -I. -I../../include -DTA_GEN_CODE -I../ta_common/ -Iframes/ -g -O2 -MT libta_abstract_gc_la-table_o.lo -MD -MP -MF .deps/libta_abstract_gc_la-table_o.Tpo -c tables/table_o.c  -fPIC -DPIC -o .libs/libta_abstract_gc_la-table_o.o\\\\n\\\",\\\" gcc -DHAVE_CONFIG_H -I. -I../../include -DTA_GEN_CODE -I../ta_common/ -Iframes/ -g -O2 -MT libta_abstract_gc_la-table_o.lo -MD -MP -MF .deps/libta_abstract_gc_la-table_o.Tpo -c tables/table_o.c -o libta_abstract_gc_la-table_o.o >/dev/null 2>&1\\\\n\\\",\\\"mv -f .deps/libta_abstract_gc_la-table_o.Tpo .deps/libta_abstract_gc_la-table_o.Plo\\\\n\\\",\\\"/bin/bash ../../libtool --tag=CC   --mode=compile gcc -DHAVE_CONFIG_H -I. -I../../include  -DTA_GEN_CODE -I../ta_common/ -Iframes/   -g -O2 -MT libta_abstract_gc_la-table_p.lo -MD -MP -MF .deps/libta_abstract_gc_la-table_p.Tpo -c -o libta_abstract_gc_la-table_p.lo `test -f 'tables/table_p.c' || echo './'`tables/table_p.c\\\\n\\\",\\\" gcc -DHAVE_CONFIG_H -I. -I../../include -DTA_GEN_CODE -I../ta_common/ -Iframes/ -g -O2 -MT libta_abstract_gc_la-table_p.lo -MD -MP -MF .deps/libta_abstract_gc_la-table_p.Tpo -c tables/table_p.c  -fPIC -DPIC -o .libs/libta_abstract_gc_la-table_p.o\\\\n\\\",\\\" gcc -DHAVE_CONFIG_H -I. -I../../include -DTA_GEN_CODE -I../ta_common/ -Iframes/ -g -O2 -MT libta_abstract_gc_la-table_p.lo -MD -MP -MF .deps/libta_abstract_gc_la-table_p.Tpo -c tables/table_p.c -o libta_abstract_gc_la-table_p.o >/dev/null 2>&1\\\\n\\\",\\\"mv -f .deps/libta_abstract_gc_la-table_p.Tpo .deps/libta_abstract_gc_la-table_p.Plo\\\\n\\\",\\\"/bin/bash ../../libtool --tag=CC   --mode=compile gcc -DHAVE_CONFIG_H -I. -I../../include  -DTA_GEN_CODE -I../ta_common/ -Iframes/   -g -O2 -MT libta_abstract_gc_la-table_q.lo -MD -MP -MF .deps/libta_abstract_gc_la-table_q.Tpo -c -o libta_abstract_gc_la-table_q.lo `test -f 'tables/table_q.c' || echo './'`tables/table_q.c\\\\n\\\",\\\" gcc -DHAVE_CONFIG_H -I. -I../../include -DTA_GEN_CODE -I../ta_common/ -Iframes/ -g -O2 -MT libta_abstract_gc_la-table_q.lo -MD -MP -MF .deps/libta_abstract_gc_la-table_q.Tpo -c tables/table_q.c  -fPIC -DPIC -o .libs/libta_abstract_gc_la-table_q.o\\\\n\\\",\\\" gcc -DHAVE_CONFIG_H -I. -I../../include -DTA_GEN_CODE -I../ta_common/ -Iframes/ -g -O2 -MT libta_abstract_gc_la-table_q.lo -MD -MP -MF .deps/libta_abstract_gc_la-table_q.Tpo -c tables/table_q.c -o libta_abstract_gc_la-table_q.o >/dev/null 2>&1\\\\n\\\",\\\"mv -f .deps/libta_abstract_gc_la-table_q.Tpo .deps/libta_abstract_gc_la-table_q.Plo\\\\n\\\",\\\"/bin/bash ../../libtool --tag=CC   --mode=compile gcc -DHAVE_CONFIG_H -I. -I../../include  -DTA_GEN_CODE -I../ta_common/ -Iframes/   -g -O2 -MT libta_abstract_gc_la-table_r.lo -MD -MP -MF .deps/libta_abstract_gc_la-table_r.Tpo -c -o libta_abstract_gc_la-table_r.lo `test -f 'tables/table_r.c' || echo './'`tables/table_r.c\\\\n\\\",\\\" gcc -DHAVE_CONFIG_H -I. -I../../include -DTA_GEN_CODE -I../ta_common/ -Iframes/ -g -O2 -MT libta_abstract_gc_la-table_r.lo -MD -MP -MF .deps/libta_abstract_gc_la-table_r.Tpo -c tables/table_r.c  -fPIC -DPIC -o .libs/libta_abstract_gc_la-table_r.o\\\\n\\\",\\\" gcc -DHAVE_CONFIG_H -I. -I../../include -DTA_GEN_CODE -I../ta_common/ -Iframes/ -g -O2 -MT libta_abstract_gc_la-table_r.lo -MD -MP -MF .deps/libta_abstract_gc_la-table_r.Tpo -c tables/table_r.c -o libta_abstract_gc_la-table_r.o >/dev/null 2>&1\\\\n\\\",\\\"mv -f .deps/libta_abstract_gc_la-table_r.Tpo .deps/libta_abstract_gc_la-table_r.Plo\\\\n\\\",\\\"/bin/bash ../../libtool --tag=CC   --mode=compile gcc -DHAVE_CONFIG_H -I. -I../../include  -DTA_GEN_CODE -I../ta_common/ -Iframes/   -g -O2 -MT libta_abstract_gc_la-table_s.lo -MD -MP -MF .deps/libta_abstract_gc_la-table_s.Tpo -c -o libta_abstract_gc_la-table_s.lo `test -f 'tables/table_s.c' || echo './'`tables/table_s.c\\\\n\\\",\\\" gcc -DHAVE_CONFIG_H -I. -I../../include -DTA_GEN_CODE -I../ta_common/ -Iframes/ -g -O2 -MT libta_abstract_gc_la-table_s.lo -MD -MP -MF .deps/libta_abstract_gc_la-table_s.Tpo -c tables/table_s.c  -fPIC -DPIC -o .libs/libta_abstract_gc_la-table_s.o\\\\n\\\",\\\" gcc -DHAVE_CONFIG_H -I. -I../../include -DTA_GEN_CODE -I../ta_common/ -Iframes/ -g -O2 -MT libta_abstract_gc_la-table_s.lo -MD -MP -MF .deps/libta_abstract_gc_la-table_s.Tpo -c tables/table_s.c -o libta_abstract_gc_la-table_s.o >/dev/null 2>&1\\\\n\\\",\\\"mv -f .deps/libta_abstract_gc_la-table_s.Tpo .deps/libta_abstract_gc_la-table_s.Plo\\\\n\\\",\\\"/bin/bash ../../libtool --tag=CC   --mode=compile gcc -DHAVE_CONFIG_H -I. -I../../include  -DTA_GEN_CODE -I../ta_common/ -Iframes/   -g -O2 -MT libta_abstract_gc_la-table_t.lo -MD -MP -MF .deps/libta_abstract_gc_la-table_t.Tpo -c -o libta_abstract_gc_la-table_t.lo `test -f 'tables/table_t.c' || echo './'`tables/table_t.c\\\\n\\\",\\\" gcc -DHAVE_CONFIG_H -I. -I../../include -DTA_GEN_CODE -I../ta_common/ -Iframes/ -g -O2 -MT libta_abstract_gc_la-table_t.lo -MD -MP -MF .deps/libta_abstract_gc_la-table_t.Tpo -c tables/table_t.c  -fPIC -DPIC -o .libs/libta_abstract_gc_la-table_t.o\\\\n\\\",\\\" gcc -DHAVE_CONFIG_H -I. -I../../include -DTA_GEN_CODE -I../ta_common/ -Iframes/ -g -O2 -MT libta_abstract_gc_la-table_t.lo -MD -MP -MF .deps/libta_abstract_gc_la-table_t.Tpo -c tables/table_t.c -o libta_abstract_gc_la-table_t.o >/dev/null 2>&1\\\\n\\\",\\\"mv -f .deps/libta_abstract_gc_la-table_t.Tpo .deps/libta_abstract_gc_la-table_t.Plo\\\\n\\\",\\\"/bin/bash ../../libtool --tag=CC   --mode=compile gcc -DHAVE_CONFIG_H -I. -I../../include  -DTA_GEN_CODE -I../ta_common/ -Iframes/   -g -O2 -MT libta_abstract_gc_la-table_u.lo -MD -MP -MF .deps/libta_abstract_gc_la-table_u.Tpo -c -o libta_abstract_gc_la-table_u.lo `test -f 'tables/table_u.c' || echo './'`tables/table_u.c\\\\n\\\",\\\" gcc -DHAVE_CONFIG_H -I. -I../../include -DTA_GEN_CODE -I../ta_common/ -Iframes/ -g -O2 -MT libta_abstract_gc_la-table_u.lo -MD -MP -MF .deps/libta_abstract_gc_la-table_u.Tpo -c tables/table_u.c  -fPIC -DPIC -o .libs/libta_abstract_gc_la-table_u.o\\\\n\\\",\\\" gcc -DHAVE_CONFIG_H -I. -I../../include -DTA_GEN_CODE -I../ta_common/ -Iframes/ -g -O2 -MT libta_abstract_gc_la-table_u.lo -MD -MP -MF .deps/libta_abstract_gc_la-table_u.Tpo -c tables/table_u.c -o libta_abstract_gc_la-table_u.o >/dev/null 2>&1\\\\n\\\",\\\"mv -f .deps/libta_abstract_gc_la-table_u.Tpo .deps/libta_abstract_gc_la-table_u.Plo\\\\n\\\",\\\"/bin/bash ../../libtool --tag=CC   --mode=compile gcc -DHAVE_CONFIG_H -I. -I../../include  -DTA_GEN_CODE -I../ta_common/ -Iframes/   -g -O2 -MT libta_abstract_gc_la-table_v.lo -MD -MP -MF .deps/libta_abstract_gc_la-table_v.Tpo -c -o libta_abstract_gc_la-table_v.lo `test -f 'tables/table_v.c' || echo './'`tables/table_v.c\\\\n\\\",\\\" gcc -DHAVE_CONFIG_H -I. -I../../include -DTA_GEN_CODE -I../ta_common/ -Iframes/ -g -O2 -MT libta_abstract_gc_la-table_v.lo -MD -MP -MF .deps/libta_abstract_gc_la-table_v.Tpo -c tables/table_v.c  -fPIC -DPIC -o .libs/libta_abstract_gc_la-table_v.o\\\\n\\\",\\\" gcc -DHAVE_CONFIG_H -I. -I../../include -DTA_GEN_CODE -I../ta_common/ -Iframes/ -g -O2 -MT libta_abstract_gc_la-table_v.lo -MD -MP -MF .deps/libta_abstract_gc_la-table_v.Tpo -c tables/table_v.c -o libta_abstract_gc_la-table_v.o >/dev/null 2>&1\\\\n\\\",\\\"mv -f .deps/libta_abstract_gc_la-table_v.Tpo .deps/libta_abstract_gc_la-table_v.Plo\\\\n\\\",\\\"/bin/bash ../../libtool --tag=CC   --mode=compile gcc -DHAVE_CONFIG_H -I. -I../../include  -DTA_GEN_CODE -I../ta_common/ -Iframes/   -g -O2 -MT libta_abstract_gc_la-table_w.lo -MD -MP -MF .deps/libta_abstract_gc_la-table_w.Tpo -c -o libta_abstract_gc_la-table_w.lo `test -f 'tables/table_w.c' || echo './'`tables/table_w.c\\\\n\\\",\\\" gcc -DHAVE_CONFIG_H -I. -I../../include -DTA_GEN_CODE -I../ta_common/ -Iframes/ -g -O2 -MT libta_abstract_gc_la-table_w.lo -MD -MP -MF .deps/libta_abstract_gc_la-table_w.Tpo -c tables/table_w.c  -fPIC -DPIC -o .libs/libta_abstract_gc_la-table_w.o\\\\n\\\",\\\" gcc -DHAVE_CONFIG_H -I. -I../../include -DTA_GEN_CODE -I../ta_common/ -Iframes/ -g -O2 -MT libta_abstract_gc_la-table_w.lo -MD -MP -MF .deps/libta_abstract_gc_la-table_w.Tpo -c tables/table_w.c -o libta_abstract_gc_la-table_w.o >/dev/null 2>&1\\\\n\\\",\\\"mv -f .deps/libta_abstract_gc_la-table_w.Tpo .deps/libta_abstract_gc_la-table_w.Plo\\\\n\\\",\\\"/bin/bash ../../libtool --tag=CC   --mode=compile gcc -DHAVE_CONFIG_H -I. -I../../include  -DTA_GEN_CODE -I../ta_common/ -Iframes/   -g -O2 -MT libta_abstract_gc_la-table_x.lo -MD -MP -MF .deps/libta_abstract_gc_la-table_x.Tpo -c -o libta_abstract_gc_la-table_x.lo `test -f 'tables/table_x.c' || echo './'`tables/table_x.c\\\\n\\\",\\\" gcc -DHAVE_CONFIG_H -I. -I../../include -DTA_GEN_CODE -I../ta_common/ -Iframes/ -g -O2 -MT libta_abstract_gc_la-table_x.lo -MD -MP -MF .deps/libta_abstract_gc_la-table_x.Tpo -c tables/table_x.c  -fPIC -DPIC -o .libs/libta_abstract_gc_la-table_x.o\\\\n\\\",\\\" gcc -DHAVE_CONFIG_H -I. -I../../include -DTA_GEN_CODE -I../ta_common/ -Iframes/ -g -O2 -MT libta_abstract_gc_la-table_x.lo -MD -MP -MF .deps/libta_abstract_gc_la-table_x.Tpo -c tables/table_x.c -o libta_abstract_gc_la-table_x.o >/dev/null 2>&1\\\\n\\\",\\\"mv -f .deps/libta_abstract_gc_la-table_x.Tpo .deps/libta_abstract_gc_la-table_x.Plo\\\\n\\\",\\\"/bin/bash ../../libtool --tag=CC   --mode=compile gcc -DHAVE_CONFIG_H -I. -I../../include  -DTA_GEN_CODE -I../ta_common/ -Iframes/   -g -O2 -MT libta_abstract_gc_la-table_y.lo -MD -MP -MF .deps/libta_abstract_gc_la-table_y.Tpo -c -o libta_abstract_gc_la-table_y.lo `test -f 'tables/table_y.c' || echo './'`tables/table_y.c\\\\n\\\",\\\" gcc -DHAVE_CONFIG_H -I. -I../../include -DTA_GEN_CODE -I../ta_common/ -Iframes/ -g -O2 -MT libta_abstract_gc_la-table_y.lo -MD -MP -MF .deps/libta_abstract_gc_la-table_y.Tpo -c tables/table_y.c  -fPIC -DPIC -o .libs/libta_abstract_gc_la-table_y.o\\\\n\\\",\\\" gcc -DHAVE_CONFIG_H -I. -I../../include -DTA_GEN_CODE -I../ta_common/ -Iframes/ -g -O2 -MT libta_abstract_gc_la-table_y.lo -MD -MP -MF .deps/libta_abstract_gc_la-table_y.Tpo -c tables/table_y.c -o libta_abstract_gc_la-table_y.o >/dev/null 2>&1\\\\n\\\",\\\"mv -f .deps/libta_abstract_gc_la-table_y.Tpo .deps/libta_abstract_gc_la-table_y.Plo\\\\n\\\",\\\"/bin/bash ../../libtool --tag=CC   --mode=compile gcc -DHAVE_CONFIG_H -I. -I../../include  -DTA_GEN_CODE -I../ta_common/ -Iframes/   -g -O2 -MT libta_abstract_gc_la-table_z.lo -MD -MP -MF .deps/libta_abstract_gc_la-table_z.Tpo -c -o libta_abstract_gc_la-table_z.lo `test -f 'tables/table_z.c' || echo './'`tables/table_z.c\\\\n\\\",\\\" gcc -DHAVE_CONFIG_H -I. -I../../include -DTA_GEN_CODE -I../ta_common/ -Iframes/ -g -O2 -MT libta_abstract_gc_la-table_z.lo -MD -MP -MF .deps/libta_abstract_gc_la-table_z.Tpo -c tables/table_z.c  -fPIC -DPIC -o .libs/libta_abstract_gc_la-table_z.o\\\\n\\\",\\\" gcc -DHAVE_CONFIG_H -I. -I../../include -DTA_GEN_CODE -I../ta_common/ -Iframes/ -g -O2 -MT libta_abstract_gc_la-table_z.lo -MD -MP -MF .deps/libta_abstract_gc_la-table_z.Tpo -c tables/table_z.c -o libta_abstract_gc_la-table_z.o >/dev/null 2>&1\\\\n\\\",\\\"mv -f .deps/libta_abstract_gc_la-table_z.Tpo .deps/libta_abstract_gc_la-table_z.Plo\\\\n\\\",\\\"/bin/bash ../../libtool --tag=CC   --mode=link gcc  -g -O2 -version-info 0:0:0  -o libta_abstract_gc.la  libta_abstract_gc_la-ta_group_idx.lo libta_abstract_gc_la-ta_def_ui.lo libta_abstract_gc_la-ta_abstract.lo libta_abstract_gc_la-ta_func_api.lo libta_abstract_gc_la-ta_frame.lo libta_abstract_gc_la-table_a.lo libta_abstract_gc_la-table_b.lo libta_abstract_gc_la-table_c.lo libta_abstract_gc_la-table_d.lo libta_abstract_gc_la-table_e.lo libta_abstract_gc_la-table_f.lo libta_abstract_gc_la-table_g.lo libta_abstract_gc_la-table_h.lo libta_abstract_gc_la-table_i.lo libta_abstract_gc_la-table_j.lo libta_abstract_gc_la-table_k.lo libta_abstract_gc_la-table_l.lo libta_abstract_gc_la-table_m.lo libta_abstract_gc_la-table_n.lo libta_abstract_gc_la-table_o.lo libta_abstract_gc_la-table_p.lo libta_abstract_gc_la-table_q.lo libta_abstract_gc_la-table_r.lo libta_abstract_gc_la-table_s.lo libta_abstract_gc_la-table_t.lo libta_abstract_gc_la-table_u.lo libta_abstract_gc_la-table_v.lo libta_abstract_gc_la-table_w.lo libta_abstract_gc_la-table_x.lo libta_abstract_gc_la-table_y.lo libta_abstract_gc_la-table_z.lo  -lpthread -ldl \\\\n\\\",\\\"libtool: link: warning: `-version-info/-version-number' is ignored for convenience libraries\\\\n\\\",\\\"ar cru .libs/libta_abstract_gc.a .libs/libta_abstract_gc_la-ta_group_idx.o .libs/libta_abstract_gc_la-ta_def_ui.o .libs/libta_abstract_gc_la-ta_abstract.o .libs/libta_abstract_gc_la-ta_func_api.o .libs/libta_abstract_gc_la-ta_frame.o .libs/libta_abstract_gc_la-table_a.o .libs/libta_abstract_gc_la-table_b.o .libs/libta_abstract_gc_la-table_c.o .libs/libta_abstract_gc_la-table_d.o .libs/libta_abstract_gc_la-table_e.o .libs/libta_abstract_gc_la-table_f.o .libs/libta_abstract_gc_la-table_g.o .libs/libta_abstract_gc_la-table_h.o .libs/libta_abstract_gc_la-table_i.o .libs/libta_abstract_gc_la-table_j.o .libs/libta_abstract_gc_la-table_k.o .libs/libta_abstract_gc_la-table_l.o .libs/libta_abstract_gc_la-table_m.o .libs/libta_abstract_gc_la-table_n.o .libs/libta_abstract_gc_la-table_o.o .libs/libta_abstract_gc_la-table_p.o .libs/libta_abstract_gc_la-table_q.o .libs/libta_abstract_gc_la-table_r.o .libs/libta_abstract_gc_la-table_s.o .libs/libta_abstract_gc_la-table_t.o .libs/libta_abstract_gc_la-table_u.o .libs/libta_abstract_gc_la-table_v.o .libs/libta_abstract_gc_la-table_w.o .libs/libta_abstract_gc_la-table_x.o .libs/libta_abstract_gc_la-table_y.o .libs/libta_abstract_gc_la-table_z.o\\\\n\\\",\\\"ar: `u' modifier ignored since `D' is the default (see `U')\\\\n\\\",\\\"ranlib .libs/libta_abstract_gc.a\\\\n\\\",\\\"creating libta_abstract_gc.la\\\\n\\\",\\\"(cd .libs && rm -f libta_abstract_gc.la && ln -s ../libta_abstract_gc.la libta_abstract_gc.la)\\\\n\\\",\\\"make[2]: Leaving directory '/content/ta-lib/src/ta_abstract'\\\\n\\\",\\\"Making all in ta_common\\\\n\\\",\\\"make[2]: Entering directory '/content/ta-lib/src/ta_common'\\\\n\\\",\\\"/bin/bash ../../libtool --tag=CC   --mode=compile gcc -DHAVE_CONFIG_H -I. -I../../include  -I../ta_common/   -g -O2 -MT ta_global.lo -MD -MP -MF .deps/ta_global.Tpo -c -o ta_global.lo ta_global.c\\\\n\\\",\\\"mkdir .libs\\\\n\\\",\\\" gcc -DHAVE_CONFIG_H -I. -I../../include -I../ta_common/ -g -O2 -MT ta_global.lo -MD -MP -MF .deps/ta_global.Tpo -c ta_global.c  -fPIC -DPIC -o .libs/ta_global.o\\\\n\\\",\\\" gcc -DHAVE_CONFIG_H -I. -I../../include -I../ta_common/ -g -O2 -MT ta_global.lo -MD -MP -MF .deps/ta_global.Tpo -c ta_global.c -o ta_global.o >/dev/null 2>&1\\\\n\\\",\\\"mv -f .deps/ta_global.Tpo .deps/ta_global.Plo\\\\n\\\",\\\"/bin/bash ../../libtool --tag=CC   --mode=compile gcc -DHAVE_CONFIG_H -I. -I../../include  -I../ta_common/   -g -O2 -MT ta_retcode.lo -MD -MP -MF .deps/ta_retcode.Tpo -c -o ta_retcode.lo ta_retcode.c\\\\n\\\",\\\" gcc -DHAVE_CONFIG_H -I. -I../../include -I../ta_common/ -g -O2 -MT ta_retcode.lo -MD -MP -MF .deps/ta_retcode.Tpo -c ta_retcode.c  -fPIC -DPIC -o .libs/ta_retcode.o\\\\n\\\",\\\" gcc -DHAVE_CONFIG_H -I. -I../../include -I../ta_common/ -g -O2 -MT ta_retcode.lo -MD -MP -MF .deps/ta_retcode.Tpo -c ta_retcode.c -o ta_retcode.o >/dev/null 2>&1\\\\n\\\",\\\"mv -f .deps/ta_retcode.Tpo .deps/ta_retcode.Plo\\\\n\\\",\\\"/bin/bash ../../libtool --tag=CC   --mode=compile gcc -DHAVE_CONFIG_H -I. -I../../include  -I../ta_common/   -g -O2 -MT ta_version.lo -MD -MP -MF .deps/ta_version.Tpo -c -o ta_version.lo ta_version.c\\\\n\\\",\\\" gcc -DHAVE_CONFIG_H -I. -I../../include -I../ta_common/ -g -O2 -MT ta_version.lo -MD -MP -MF .deps/ta_version.Tpo -c ta_version.c  -fPIC -DPIC -o .libs/ta_version.o\\\\n\\\",\\\" gcc -DHAVE_CONFIG_H -I. -I../../include -I../ta_common/ -g -O2 -MT ta_version.lo -MD -MP -MF .deps/ta_version.Tpo -c ta_version.c -o ta_version.o >/dev/null 2>&1\\\\n\\\",\\\"mv -f .deps/ta_version.Tpo .deps/ta_version.Plo\\\\n\\\",\\\"/bin/bash ../../libtool --tag=CC   --mode=link gcc  -g -O2 -version-info 0:0:0  -o libta_common.la  ta_global.lo ta_retcode.lo ta_version.lo  -lpthread -ldl \\\\n\\\",\\\"libtool: link: warning: `-version-info/-version-number' is ignored for convenience libraries\\\\n\\\",\\\"ar cru .libs/libta_common.a .libs/ta_global.o .libs/ta_retcode.o .libs/ta_version.o\\\\n\\\",\\\"ar: `u' modifier ignored since `D' is the default (see `U')\\\\n\\\",\\\"ranlib .libs/libta_common.a\\\\n\\\",\\\"creating libta_common.la\\\\n\\\",\\\"(cd .libs && rm -f libta_common.la && ln -s ../libta_common.la libta_common.la)\\\\n\\\",\\\"make[2]: Leaving directory '/content/ta-lib/src/ta_common'\\\\n\\\",\\\"Making all in ta_func\\\\n\\\",\\\"make[2]: Entering directory '/content/ta-lib/src/ta_func'\\\\n\\\",\\\"/bin/bash ../../libtool --tag=CC   --mode=compile gcc -DHAVE_CONFIG_H -I. -I../../include  -I../ta_common/   -g -O2 -MT ta_utility.lo -MD -MP -MF .deps/ta_utility.Tpo -c -o ta_utility.lo ta_utility.c\\\\n\\\",\\\"mkdir .libs\\\\n\\\",\\\" gcc -DHAVE_CONFIG_H -I. -I../../include -I../ta_common/ -g -O2 -MT ta_utility.lo -MD -MP -MF .deps/ta_utility.Tpo -c ta_utility.c  -fPIC -DPIC -o .libs/ta_utility.o\\\\n\\\",\\\" gcc -DHAVE_CONFIG_H -I. -I../../include -I../ta_common/ -g -O2 -MT ta_utility.lo -MD -MP -MF .deps/ta_utility.Tpo -c ta_utility.c -o ta_utility.o >/dev/null 2>&1\\\\n\\\",\\\"mv -f .deps/ta_utility.Tpo .deps/ta_utility.Plo\\\\n\\\",\\\"/bin/bash ../../libtool --tag=CC   --mode=compile gcc -DHAVE_CONFIG_H -I. -I../../include  -I../ta_common/   -g -O2 -MT ta_ACOS.lo -MD -MP -MF .deps/ta_ACOS.Tpo -c -o ta_ACOS.lo ta_ACOS.c\\\\n\\\",\\\" gcc -DHAVE_CONFIG_H -I. -I../../include -I../ta_common/ -g -O2 -MT ta_ACOS.lo -MD -MP -MF .deps/ta_ACOS.Tpo -c ta_ACOS.c  -fPIC -DPIC -o .libs/ta_ACOS.o\\\\n\\\",\\\" gcc -DHAVE_CONFIG_H -I. -I../../include -I../ta_common/ -g -O2 -MT ta_ACOS.lo -MD -MP -MF .deps/ta_ACOS.Tpo -c ta_ACOS.c -o ta_ACOS.o >/dev/null 2>&1\\\\n\\\",\\\"mv -f .deps/ta_ACOS.Tpo .deps/ta_ACOS.Plo\\\\n\\\",\\\"/bin/bash ../../libtool --tag=CC   --mode=compile gcc -DHAVE_CONFIG_H -I. -I../../include  -I../ta_common/   -g -O2 -MT ta_AD.lo -MD -MP -MF .deps/ta_AD.Tpo -c -o ta_AD.lo ta_AD.c\\\\n\\\",\\\" gcc -DHAVE_CONFIG_H -I. -I../../include -I../ta_common/ -g -O2 -MT ta_AD.lo -MD -MP -MF .deps/ta_AD.Tpo -c ta_AD.c  -fPIC -DPIC -o .libs/ta_AD.o\\\\n\\\",\\\" gcc -DHAVE_CONFIG_H -I. -I../../include -I../ta_common/ -g -O2 -MT ta_AD.lo -MD -MP -MF .deps/ta_AD.Tpo -c ta_AD.c -o ta_AD.o >/dev/null 2>&1\\\\n\\\",\\\"mv -f .deps/ta_AD.Tpo .deps/ta_AD.Plo\\\\n\\\",\\\"/bin/bash ../../libtool --tag=CC   --mode=compile gcc -DHAVE_CONFIG_H -I. -I../../include  -I../ta_common/   -g -O2 -MT ta_ADD.lo -MD -MP -MF .deps/ta_ADD.Tpo -c -o ta_ADD.lo ta_ADD.c\\\\n\\\",\\\" gcc -DHAVE_CONFIG_H -I. -I../../include -I../ta_common/ -g -O2 -MT ta_ADD.lo -MD -MP -MF .deps/ta_ADD.Tpo -c ta_ADD.c  -fPIC -DPIC -o .libs/ta_ADD.o\\\\n\\\",\\\" gcc -DHAVE_CONFIG_H -I. -I../../include -I../ta_common/ -g -O2 -MT ta_ADD.lo -MD -MP -MF .deps/ta_ADD.Tpo -c ta_ADD.c -o ta_ADD.o >/dev/null 2>&1\\\\n\\\",\\\"mv -f .deps/ta_ADD.Tpo .deps/ta_ADD.Plo\\\\n\\\",\\\"/bin/bash ../../libtool --tag=CC   --mode=compile gcc -DHAVE_CONFIG_H -I. -I../../include  -I../ta_common/   -g -O2 -MT ta_ADOSC.lo -MD -MP -MF .deps/ta_ADOSC.Tpo -c -o ta_ADOSC.lo ta_ADOSC.c\\\\n\\\",\\\" gcc -DHAVE_CONFIG_H -I. -I../../include -I../ta_common/ -g -O2 -MT ta_ADOSC.lo -MD -MP -MF .deps/ta_ADOSC.Tpo -c ta_ADOSC.c  -fPIC -DPIC -o .libs/ta_ADOSC.o\\\\n\\\",\\\" gcc -DHAVE_CONFIG_H -I. -I../../include -I../ta_common/ -g -O2 -MT ta_ADOSC.lo -MD -MP -MF .deps/ta_ADOSC.Tpo -c ta_ADOSC.c -o ta_ADOSC.o >/dev/null 2>&1\\\\n\\\",\\\"mv -f .deps/ta_ADOSC.Tpo .deps/ta_ADOSC.Plo\\\\n\\\",\\\"/bin/bash ../../libtool --tag=CC   --mode=compile gcc -DHAVE_CONFIG_H -I. -I../../include  -I../ta_common/   -g -O2 -MT ta_ADX.lo -MD -MP -MF .deps/ta_ADX.Tpo -c -o ta_ADX.lo ta_ADX.c\\\\n\\\",\\\" gcc -DHAVE_CONFIG_H -I. -I../../include -I../ta_common/ -g -O2 -MT ta_ADX.lo -MD -MP -MF .deps/ta_ADX.Tpo -c ta_ADX.c  -fPIC -DPIC -o .libs/ta_ADX.o\\\\n\\\",\\\" gcc -DHAVE_CONFIG_H -I. -I../../include -I../ta_common/ -g -O2 -MT ta_ADX.lo -MD -MP -MF .deps/ta_ADX.Tpo -c ta_ADX.c -o ta_ADX.o >/dev/null 2>&1\\\\n\\\",\\\"mv -f .deps/ta_ADX.Tpo .deps/ta_ADX.Plo\\\\n\\\",\\\"/bin/bash ../../libtool --tag=CC   --mode=compile gcc -DHAVE_CONFIG_H -I. -I../../include  -I../ta_common/   -g -O2 -MT ta_ADXR.lo -MD -MP -MF .deps/ta_ADXR.Tpo -c -o ta_ADXR.lo ta_ADXR.c\\\\n\\\",\\\" gcc -DHAVE_CONFIG_H -I. -I../../include -I../ta_common/ -g -O2 -MT ta_ADXR.lo -MD -MP -MF .deps/ta_ADXR.Tpo -c ta_ADXR.c  -fPIC -DPIC -o .libs/ta_ADXR.o\\\\n\\\",\\\" gcc -DHAVE_CONFIG_H -I. -I../../include -I../ta_common/ -g -O2 -MT ta_ADXR.lo -MD -MP -MF .deps/ta_ADXR.Tpo -c ta_ADXR.c -o ta_ADXR.o >/dev/null 2>&1\\\\n\\\",\\\"mv -f .deps/ta_ADXR.Tpo .deps/ta_ADXR.Plo\\\\n\\\",\\\"/bin/bash ../../libtool --tag=CC   --mode=compile gcc -DHAVE_CONFIG_H -I. -I../../include  -I../ta_common/   -g -O2 -MT ta_APO.lo -MD -MP -MF .deps/ta_APO.Tpo -c -o ta_APO.lo ta_APO.c\\\\n\\\",\\\" gcc -DHAVE_CONFIG_H -I. -I../../include -I../ta_common/ -g -O2 -MT ta_APO.lo -MD -MP -MF .deps/ta_APO.Tpo -c ta_APO.c  -fPIC -DPIC -o .libs/ta_APO.o\\\\n\\\",\\\" gcc -DHAVE_CONFIG_H -I. -I../../include -I../ta_common/ -g -O2 -MT ta_APO.lo -MD -MP -MF .deps/ta_APO.Tpo -c ta_APO.c -o ta_APO.o >/dev/null 2>&1\\\\n\\\",\\\"mv -f .deps/ta_APO.Tpo .deps/ta_APO.Plo\\\\n\\\",\\\"/bin/bash ../../libtool --tag=CC   --mode=compile gcc -DHAVE_CONFIG_H -I. -I../../include  -I../ta_common/   -g -O2 -MT ta_AROON.lo -MD -MP -MF .deps/ta_AROON.Tpo -c -o ta_AROON.lo ta_AROON.c\\\\n\\\",\\\" gcc -DHAVE_CONFIG_H -I. -I../../include -I../ta_common/ -g -O2 -MT ta_AROON.lo -MD -MP -MF .deps/ta_AROON.Tpo -c ta_AROON.c  -fPIC -DPIC -o .libs/ta_AROON.o\\\\n\\\",\\\" gcc -DHAVE_CONFIG_H -I. -I../../include -I../ta_common/ -g -O2 -MT ta_AROON.lo -MD -MP -MF .deps/ta_AROON.Tpo -c ta_AROON.c -o ta_AROON.o >/dev/null 2>&1\\\\n\\\",\\\"mv -f .deps/ta_AROON.Tpo .deps/ta_AROON.Plo\\\\n\\\",\\\"/bin/bash ../../libtool --tag=CC   --mode=compile gcc -DHAVE_CONFIG_H -I. -I../../include  -I../ta_common/   -g -O2 -MT ta_AROONOSC.lo -MD -MP -MF .deps/ta_AROONOSC.Tpo -c -o ta_AROONOSC.lo ta_AROONOSC.c\\\\n\\\",\\\" gcc -DHAVE_CONFIG_H -I. -I../../include -I../ta_common/ -g -O2 -MT ta_AROONOSC.lo -MD -MP -MF .deps/ta_AROONOSC.Tpo -c ta_AROONOSC.c  -fPIC -DPIC -o .libs/ta_AROONOSC.o\\\\n\\\",\\\" gcc -DHAVE_CONFIG_H -I. -I../../include -I../ta_common/ -g -O2 -MT ta_AROONOSC.lo -MD -MP -MF .deps/ta_AROONOSC.Tpo -c ta_AROONOSC.c -o ta_AROONOSC.o >/dev/null 2>&1\\\\n\\\",\\\"mv -f .deps/ta_AROONOSC.Tpo .deps/ta_AROONOSC.Plo\\\\n\\\",\\\"/bin/bash ../../libtool --tag=CC   --mode=compile gcc -DHAVE_CONFIG_H -I. -I../../include  -I../ta_common/   -g -O2 -MT ta_ASIN.lo -MD -MP -MF .deps/ta_ASIN.Tpo -c -o ta_ASIN.lo ta_ASIN.c\\\\n\\\",\\\" gcc -DHAVE_CONFIG_H -I. -I../../include -I../ta_common/ -g -O2 -MT ta_ASIN.lo -MD -MP -MF .deps/ta_ASIN.Tpo -c ta_ASIN.c  -fPIC -DPIC -o .libs/ta_ASIN.o\\\\n\\\",\\\" gcc -DHAVE_CONFIG_H -I. -I../../include -I../ta_common/ -g -O2 -MT ta_ASIN.lo -MD -MP -MF .deps/ta_ASIN.Tpo -c ta_ASIN.c -o ta_ASIN.o >/dev/null 2>&1\\\\n\\\",\\\"mv -f .deps/ta_ASIN.Tpo .deps/ta_ASIN.Plo\\\\n\\\",\\\"/bin/bash ../../libtool --tag=CC   --mode=compile gcc -DHAVE_CONFIG_H -I. -I../../include  -I../ta_common/   -g -O2 -MT ta_ATAN.lo -MD -MP -MF .deps/ta_ATAN.Tpo -c -o ta_ATAN.lo ta_ATAN.c\\\\n\\\",\\\" gcc -DHAVE_CONFIG_H -I. -I../../include -I../ta_common/ -g -O2 -MT ta_ATAN.lo -MD -MP -MF .deps/ta_ATAN.Tpo -c ta_ATAN.c  -fPIC -DPIC -o .libs/ta_ATAN.o\\\\n\\\",\\\" gcc -DHAVE_CONFIG_H -I. -I../../include -I../ta_common/ -g -O2 -MT ta_ATAN.lo -MD -MP -MF .deps/ta_ATAN.Tpo -c ta_ATAN.c -o ta_ATAN.o >/dev/null 2>&1\\\\n\\\",\\\"mv -f .deps/ta_ATAN.Tpo .deps/ta_ATAN.Plo\\\\n\\\",\\\"/bin/bash ../../libtool --tag=CC   --mode=compile gcc -DHAVE_CONFIG_H -I. -I../../include  -I../ta_common/   -g -O2 -MT ta_ATR.lo -MD -MP -MF .deps/ta_ATR.Tpo -c -o ta_ATR.lo ta_ATR.c\\\\n\\\",\\\" gcc -DHAVE_CONFIG_H -I. -I../../include -I../ta_common/ -g -O2 -MT ta_ATR.lo -MD -MP -MF .deps/ta_ATR.Tpo -c ta_ATR.c  -fPIC -DPIC -o .libs/ta_ATR.o\\\\n\\\",\\\" gcc -DHAVE_CONFIG_H -I. -I../../include -I../ta_common/ -g -O2 -MT ta_ATR.lo -MD -MP -MF .deps/ta_ATR.Tpo -c ta_ATR.c -o ta_ATR.o >/dev/null 2>&1\\\\n\\\",\\\"mv -f .deps/ta_ATR.Tpo .deps/ta_ATR.Plo\\\\n\\\",\\\"/bin/bash ../../libtool --tag=CC   --mode=compile gcc -DHAVE_CONFIG_H -I. -I../../include  -I../ta_common/   -g -O2 -MT ta_AVGPRICE.lo -MD -MP -MF .deps/ta_AVGPRICE.Tpo -c -o ta_AVGPRICE.lo ta_AVGPRICE.c\\\\n\\\",\\\" gcc -DHAVE_CONFIG_H -I. -I../../include -I../ta_common/ -g -O2 -MT ta_AVGPRICE.lo -MD -MP -MF .deps/ta_AVGPRICE.Tpo -c ta_AVGPRICE.c  -fPIC -DPIC -o .libs/ta_AVGPRICE.o\\\\n\\\",\\\" gcc -DHAVE_CONFIG_H -I. -I../../include -I../ta_common/ -g -O2 -MT ta_AVGPRICE.lo -MD -MP -MF .deps/ta_AVGPRICE.Tpo -c ta_AVGPRICE.c -o ta_AVGPRICE.o >/dev/null 2>&1\\\\n\\\",\\\"mv -f .deps/ta_AVGPRICE.Tpo .deps/ta_AVGPRICE.Plo\\\\n\\\",\\\"/bin/bash ../../libtool --tag=CC   --mode=compile gcc -DHAVE_CONFIG_H -I. -I../../include  -I../ta_common/   -g -O2 -MT ta_BBANDS.lo -MD -MP -MF .deps/ta_BBANDS.Tpo -c -o ta_BBANDS.lo ta_BBANDS.c\\\\n\\\",\\\" gcc -DHAVE_CONFIG_H -I. -I../../include -I../ta_common/ -g -O2 -MT ta_BBANDS.lo -MD -MP -MF .deps/ta_BBANDS.Tpo -c ta_BBANDS.c  -fPIC -DPIC -o .libs/ta_BBANDS.o\\\\n\\\",\\\" gcc -DHAVE_CONFIG_H -I. -I../../include -I../ta_common/ -g -O2 -MT ta_BBANDS.lo -MD -MP -MF .deps/ta_BBANDS.Tpo -c ta_BBANDS.c -o ta_BBANDS.o >/dev/null 2>&1\\\\n\\\",\\\"mv -f .deps/ta_BBANDS.Tpo .deps/ta_BBANDS.Plo\\\\n\\\",\\\"/bin/bash ../../libtool --tag=CC   --mode=compile gcc -DHAVE_CONFIG_H -I. -I../../include  -I../ta_common/   -g -O2 -MT ta_BETA.lo -MD -MP -MF .deps/ta_BETA.Tpo -c -o ta_BETA.lo ta_BETA.c\\\\n\\\",\\\" gcc -DHAVE_CONFIG_H -I. -I../../include -I../ta_common/ -g -O2 -MT ta_BETA.lo -MD -MP -MF .deps/ta_BETA.Tpo -c ta_BETA.c  -fPIC -DPIC -o .libs/ta_BETA.o\\\\n\\\",\\\" gcc -DHAVE_CONFIG_H -I. -I../../include -I../ta_common/ -g -O2 -MT ta_BETA.lo -MD -MP -MF .deps/ta_BETA.Tpo -c ta_BETA.c -o ta_BETA.o >/dev/null 2>&1\\\\n\\\",\\\"mv -f .deps/ta_BETA.Tpo .deps/ta_BETA.Plo\\\\n\\\",\\\"/bin/bash ../../libtool --tag=CC   --mode=compile gcc -DHAVE_CONFIG_H -I. -I../../include  -I../ta_common/   -g -O2 -MT ta_BOP.lo -MD -MP -MF .deps/ta_BOP.Tpo -c -o ta_BOP.lo ta_BOP.c\\\\n\\\",\\\" gcc -DHAVE_CONFIG_H -I. -I../../include -I../ta_common/ -g -O2 -MT ta_BOP.lo -MD -MP -MF .deps/ta_BOP.Tpo -c ta_BOP.c  -fPIC -DPIC -o .libs/ta_BOP.o\\\\n\\\",\\\" gcc -DHAVE_CONFIG_H -I. -I../../include -I../ta_common/ -g -O2 -MT ta_BOP.lo -MD -MP -MF .deps/ta_BOP.Tpo -c ta_BOP.c -o ta_BOP.o >/dev/null 2>&1\\\\n\\\",\\\"mv -f .deps/ta_BOP.Tpo .deps/ta_BOP.Plo\\\\n\\\",\\\"/bin/bash ../../libtool --tag=CC   --mode=compile gcc -DHAVE_CONFIG_H -I. -I../../include  -I../ta_common/   -g -O2 -MT ta_CCI.lo -MD -MP -MF .deps/ta_CCI.Tpo -c -o ta_CCI.lo ta_CCI.c\\\\n\\\",\\\" gcc -DHAVE_CONFIG_H -I. -I../../include -I../ta_common/ -g -O2 -MT ta_CCI.lo -MD -MP -MF .deps/ta_CCI.Tpo -c ta_CCI.c  -fPIC -DPIC -o .libs/ta_CCI.o\\\\n\\\",\\\" gcc -DHAVE_CONFIG_H -I. -I../../include -I../ta_common/ -g -O2 -MT ta_CCI.lo -MD -MP -MF .deps/ta_CCI.Tpo -c ta_CCI.c -o ta_CCI.o >/dev/null 2>&1\\\\n\\\",\\\"mv -f .deps/ta_CCI.Tpo .deps/ta_CCI.Plo\\\\n\\\",\\\"/bin/bash ../../libtool --tag=CC   --mode=compile gcc -DHAVE_CONFIG_H -I. -I../../include  -I../ta_common/   -g -O2 -MT ta_CDL2CROWS.lo -MD -MP -MF .deps/ta_CDL2CROWS.Tpo -c -o ta_CDL2CROWS.lo ta_CDL2CROWS.c\\\\n\\\",\\\" gcc -DHAVE_CONFIG_H -I. -I../../include -I../ta_common/ -g -O2 -MT ta_CDL2CROWS.lo -MD -MP -MF .deps/ta_CDL2CROWS.Tpo -c ta_CDL2CROWS.c  -fPIC -DPIC -o .libs/ta_CDL2CROWS.o\\\\n\\\",\\\" gcc -DHAVE_CONFIG_H -I. -I../../include -I../ta_common/ -g -O2 -MT ta_CDL2CROWS.lo -MD -MP -MF .deps/ta_CDL2CROWS.Tpo -c ta_CDL2CROWS.c -o ta_CDL2CROWS.o >/dev/null 2>&1\\\\n\\\",\\\"mv -f .deps/ta_CDL2CROWS.Tpo .deps/ta_CDL2CROWS.Plo\\\\n\\\",\\\"/bin/bash ../../libtool --tag=CC   --mode=compile gcc -DHAVE_CONFIG_H -I. -I../../include  -I../ta_common/   -g -O2 -MT ta_CDL3BLACKCROWS.lo -MD -MP -MF .deps/ta_CDL3BLACKCROWS.Tpo -c -o ta_CDL3BLACKCROWS.lo ta_CDL3BLACKCROWS.c\\\\n\\\",\\\" gcc -DHAVE_CONFIG_H -I. -I../../include -I../ta_common/ -g -O2 -MT ta_CDL3BLACKCROWS.lo -MD -MP -MF .deps/ta_CDL3BLACKCROWS.Tpo -c ta_CDL3BLACKCROWS.c  -fPIC -DPIC -o .libs/ta_CDL3BLACKCROWS.o\\\\n\\\",\\\" gcc -DHAVE_CONFIG_H -I. -I../../include -I../ta_common/ -g -O2 -MT ta_CDL3BLACKCROWS.lo -MD -MP -MF .deps/ta_CDL3BLACKCROWS.Tpo -c ta_CDL3BLACKCROWS.c -o ta_CDL3BLACKCROWS.o >/dev/null 2>&1\\\\n\\\",\\\"mv -f .deps/ta_CDL3BLACKCROWS.Tpo .deps/ta_CDL3BLACKCROWS.Plo\\\\n\\\",\\\"/bin/bash ../../libtool --tag=CC   --mode=compile gcc -DHAVE_CONFIG_H -I. -I../../include  -I../ta_common/   -g -O2 -MT ta_CDL3INSIDE.lo -MD -MP -MF .deps/ta_CDL3INSIDE.Tpo -c -o ta_CDL3INSIDE.lo ta_CDL3INSIDE.c\\\\n\\\",\\\" gcc -DHAVE_CONFIG_H -I. -I../../include -I../ta_common/ -g -O2 -MT ta_CDL3INSIDE.lo -MD -MP -MF .deps/ta_CDL3INSIDE.Tpo -c ta_CDL3INSIDE.c  -fPIC -DPIC -o .libs/ta_CDL3INSIDE.o\\\\n\\\",\\\" gcc -DHAVE_CONFIG_H -I. -I../../include -I../ta_common/ -g -O2 -MT ta_CDL3INSIDE.lo -MD -MP -MF .deps/ta_CDL3INSIDE.Tpo -c ta_CDL3INSIDE.c -o ta_CDL3INSIDE.o >/dev/null 2>&1\\\\n\\\",\\\"mv -f .deps/ta_CDL3INSIDE.Tpo .deps/ta_CDL3INSIDE.Plo\\\\n\\\",\\\"/bin/bash ../../libtool --tag=CC   --mode=compile gcc -DHAVE_CONFIG_H -I. -I../../include  -I../ta_common/   -g -O2 -MT ta_CDL3LINESTRIKE.lo -MD -MP -MF .deps/ta_CDL3LINESTRIKE.Tpo -c -o ta_CDL3LINESTRIKE.lo ta_CDL3LINESTRIKE.c\\\\n\\\",\\\" gcc -DHAVE_CONFIG_H -I. -I../../include -I../ta_common/ -g -O2 -MT ta_CDL3LINESTRIKE.lo -MD -MP -MF .deps/ta_CDL3LINESTRIKE.Tpo -c ta_CDL3LINESTRIKE.c  -fPIC -DPIC -o .libs/ta_CDL3LINESTRIKE.o\\\\n\\\",\\\" gcc -DHAVE_CONFIG_H -I. -I../../include -I../ta_common/ -g -O2 -MT ta_CDL3LINESTRIKE.lo -MD -MP -MF .deps/ta_CDL3LINESTRIKE.Tpo -c ta_CDL3LINESTRIKE.c -o ta_CDL3LINESTRIKE.o >/dev/null 2>&1\\\\n\\\",\\\"mv -f .deps/ta_CDL3LINESTRIKE.Tpo .deps/ta_CDL3LINESTRIKE.Plo\\\\n\\\",\\\"/bin/bash ../../libtool --tag=CC   --mode=compile gcc -DHAVE_CONFIG_H -I. -I../../include  -I../ta_common/   -g -O2 -MT ta_CDL3OUTSIDE.lo -MD -MP -MF .deps/ta_CDL3OUTSIDE.Tpo -c -o ta_CDL3OUTSIDE.lo ta_CDL3OUTSIDE.c\\\\n\\\",\\\" gcc -DHAVE_CONFIG_H -I. -I../../include -I../ta_common/ -g -O2 -MT ta_CDL3OUTSIDE.lo -MD -MP -MF .deps/ta_CDL3OUTSIDE.Tpo -c ta_CDL3OUTSIDE.c  -fPIC -DPIC -o .libs/ta_CDL3OUTSIDE.o\\\\n\\\",\\\" gcc -DHAVE_CONFIG_H -I. -I../../include -I../ta_common/ -g -O2 -MT ta_CDL3OUTSIDE.lo -MD -MP -MF .deps/ta_CDL3OUTSIDE.Tpo -c ta_CDL3OUTSIDE.c -o ta_CDL3OUTSIDE.o >/dev/null 2>&1\\\\n\\\",\\\"mv -f .deps/ta_CDL3OUTSIDE.Tpo .deps/ta_CDL3OUTSIDE.Plo\\\\n\\\",\\\"/bin/bash ../../libtool --tag=CC   --mode=compile gcc -DHAVE_CONFIG_H -I. -I../../include  -I../ta_common/   -g -O2 -MT ta_CDL3STARSINSOUTH.lo -MD -MP -MF .deps/ta_CDL3STARSINSOUTH.Tpo -c -o ta_CDL3STARSINSOUTH.lo ta_CDL3STARSINSOUTH.c\\\\n\\\",\\\" gcc -DHAVE_CONFIG_H -I. -I../../include -I../ta_common/ -g -O2 -MT ta_CDL3STARSINSOUTH.lo -MD -MP -MF .deps/ta_CDL3STARSINSOUTH.Tpo -c ta_CDL3STARSINSOUTH.c  -fPIC -DPIC -o .libs/ta_CDL3STARSINSOUTH.o\\\\n\\\",\\\" gcc -DHAVE_CONFIG_H -I. -I../../include -I../ta_common/ -g -O2 -MT ta_CDL3STARSINSOUTH.lo -MD -MP -MF .deps/ta_CDL3STARSINSOUTH.Tpo -c ta_CDL3STARSINSOUTH.c -o ta_CDL3STARSINSOUTH.o >/dev/null 2>&1\\\\n\\\",\\\"mv -f .deps/ta_CDL3STARSINSOUTH.Tpo .deps/ta_CDL3STARSINSOUTH.Plo\\\\n\\\",\\\"/bin/bash ../../libtool --tag=CC   --mode=compile gcc -DHAVE_CONFIG_H -I. -I../../include  -I../ta_common/   -g -O2 -MT ta_CDL3WHITESOLDIERS.lo -MD -MP -MF .deps/ta_CDL3WHITESOLDIERS.Tpo -c -o ta_CDL3WHITESOLDIERS.lo ta_CDL3WHITESOLDIERS.c\\\\n\\\",\\\" gcc -DHAVE_CONFIG_H -I. -I../../include -I../ta_common/ -g -O2 -MT ta_CDL3WHITESOLDIERS.lo -MD -MP -MF .deps/ta_CDL3WHITESOLDIERS.Tpo -c ta_CDL3WHITESOLDIERS.c  -fPIC -DPIC -o .libs/ta_CDL3WHITESOLDIERS.o\\\\n\\\",\\\" gcc -DHAVE_CONFIG_H -I. -I../../include -I../ta_common/ -g -O2 -MT ta_CDL3WHITESOLDIERS.lo -MD -MP -MF .deps/ta_CDL3WHITESOLDIERS.Tpo -c ta_CDL3WHITESOLDIERS.c -o ta_CDL3WHITESOLDIERS.o >/dev/null 2>&1\\\\n\\\",\\\"mv -f .deps/ta_CDL3WHITESOLDIERS.Tpo .deps/ta_CDL3WHITESOLDIERS.Plo\\\\n\\\",\\\"/bin/bash ../../libtool --tag=CC   --mode=compile gcc -DHAVE_CONFIG_H -I. -I../../include  -I../ta_common/   -g -O2 -MT ta_CDLABANDONEDBABY.lo -MD -MP -MF .deps/ta_CDLABANDONEDBABY.Tpo -c -o ta_CDLABANDONEDBABY.lo ta_CDLABANDONEDBABY.c\\\\n\\\",\\\" gcc -DHAVE_CONFIG_H -I. -I../../include -I../ta_common/ -g -O2 -MT ta_CDLABANDONEDBABY.lo -MD -MP -MF .deps/ta_CDLABANDONEDBABY.Tpo -c ta_CDLABANDONEDBABY.c  -fPIC -DPIC -o .libs/ta_CDLABANDONEDBABY.o\\\\n\\\",\\\" gcc -DHAVE_CONFIG_H -I. -I../../include -I../ta_common/ -g -O2 -MT ta_CDLABANDONEDBABY.lo -MD -MP -MF .deps/ta_CDLABANDONEDBABY.Tpo -c ta_CDLABANDONEDBABY.c -o ta_CDLABANDONEDBABY.o >/dev/null 2>&1\\\\n\\\",\\\"mv -f .deps/ta_CDLABANDONEDBABY.Tpo .deps/ta_CDLABANDONEDBABY.Plo\\\\n\\\",\\\"/bin/bash ../../libtool --tag=CC   --mode=compile gcc -DHAVE_CONFIG_H -I. -I../../include  -I../ta_common/   -g -O2 -MT ta_CDLADVANCEBLOCK.lo -MD -MP -MF .deps/ta_CDLADVANCEBLOCK.Tpo -c -o ta_CDLADVANCEBLOCK.lo ta_CDLADVANCEBLOCK.c\\\\n\\\",\\\" gcc -DHAVE_CONFIG_H -I. -I../../include -I../ta_common/ -g -O2 -MT ta_CDLADVANCEBLOCK.lo -MD -MP -MF .deps/ta_CDLADVANCEBLOCK.Tpo -c ta_CDLADVANCEBLOCK.c  -fPIC -DPIC -o .libs/ta_CDLADVANCEBLOCK.o\\\\n\\\",\\\" gcc -DHAVE_CONFIG_H -I. -I../../include -I../ta_common/ -g -O2 -MT ta_CDLADVANCEBLOCK.lo -MD -MP -MF .deps/ta_CDLADVANCEBLOCK.Tpo -c ta_CDLADVANCEBLOCK.c -o ta_CDLADVANCEBLOCK.o >/dev/null 2>&1\\\\n\\\",\\\"mv -f .deps/ta_CDLADVANCEBLOCK.Tpo .deps/ta_CDLADVANCEBLOCK.Plo\\\\n\\\",\\\"/bin/bash ../../libtool --tag=CC   --mode=compile gcc -DHAVE_CONFIG_H -I. -I../../include  -I../ta_common/   -g -O2 -MT ta_CDLBELTHOLD.lo -MD -MP -MF .deps/ta_CDLBELTHOLD.Tpo -c -o ta_CDLBELTHOLD.lo ta_CDLBELTHOLD.c\\\\n\\\",\\\" gcc -DHAVE_CONFIG_H -I. -I../../include -I../ta_common/ -g -O2 -MT ta_CDLBELTHOLD.lo -MD -MP -MF .deps/ta_CDLBELTHOLD.Tpo -c ta_CDLBELTHOLD.c  -fPIC -DPIC -o .libs/ta_CDLBELTHOLD.o\\\\n\\\",\\\" gcc -DHAVE_CONFIG_H -I. -I../../include -I../ta_common/ -g -O2 -MT ta_CDLBELTHOLD.lo -MD -MP -MF .deps/ta_CDLBELTHOLD.Tpo -c ta_CDLBELTHOLD.c -o ta_CDLBELTHOLD.o >/dev/null 2>&1\\\\n\\\",\\\"mv -f .deps/ta_CDLBELTHOLD.Tpo .deps/ta_CDLBELTHOLD.Plo\\\\n\\\",\\\"/bin/bash ../../libtool --tag=CC   --mode=compile gcc -DHAVE_CONFIG_H -I. -I../../include  -I../ta_common/   -g -O2 -MT ta_CDLBREAKAWAY.lo -MD -MP -MF .deps/ta_CDLBREAKAWAY.Tpo -c -o ta_CDLBREAKAWAY.lo ta_CDLBREAKAWAY.c\\\\n\\\",\\\" gcc -DHAVE_CONFIG_H -I. -I../../include -I../ta_common/ -g -O2 -MT ta_CDLBREAKAWAY.lo -MD -MP -MF .deps/ta_CDLBREAKAWAY.Tpo -c ta_CDLBREAKAWAY.c  -fPIC -DPIC -o .libs/ta_CDLBREAKAWAY.o\\\\n\\\",\\\" gcc -DHAVE_CONFIG_H -I. -I../../include -I../ta_common/ -g -O2 -MT ta_CDLBREAKAWAY.lo -MD -MP -MF .deps/ta_CDLBREAKAWAY.Tpo -c ta_CDLBREAKAWAY.c -o ta_CDLBREAKAWAY.o >/dev/null 2>&1\\\\n\\\",\\\"mv -f .deps/ta_CDLBREAKAWAY.Tpo .deps/ta_CDLBREAKAWAY.Plo\\\\n\\\",\\\"/bin/bash ../../libtool --tag=CC   --mode=compile gcc -DHAVE_CONFIG_H -I. -I../../include  -I../ta_common/   -g -O2 -MT ta_CDLCLOSINGMARUBOZU.lo -MD -MP -MF .deps/ta_CDLCLOSINGMARUBOZU.Tpo -c -o ta_CDLCLOSINGMARUBOZU.lo ta_CDLCLOSINGMARUBOZU.c\\\\n\\\",\\\" gcc -DHAVE_CONFIG_H -I. -I../../include -I../ta_common/ -g -O2 -MT ta_CDLCLOSINGMARUBOZU.lo -MD -MP -MF .deps/ta_CDLCLOSINGMARUBOZU.Tpo -c ta_CDLCLOSINGMARUBOZU.c  -fPIC -DPIC -o .libs/ta_CDLCLOSINGMARUBOZU.o\\\\n\\\",\\\" gcc -DHAVE_CONFIG_H -I. -I../../include -I../ta_common/ -g -O2 -MT ta_CDLCLOSINGMARUBOZU.lo -MD -MP -MF .deps/ta_CDLCLOSINGMARUBOZU.Tpo -c ta_CDLCLOSINGMARUBOZU.c -o ta_CDLCLOSINGMARUBOZU.o >/dev/null 2>&1\\\\n\\\",\\\"mv -f .deps/ta_CDLCLOSINGMARUBOZU.Tpo .deps/ta_CDLCLOSINGMARUBOZU.Plo\\\\n\\\",\\\"/bin/bash ../../libtool --tag=CC   --mode=compile gcc -DHAVE_CONFIG_H -I. -I../../include  -I../ta_common/   -g -O2 -MT ta_CDLCONCEALBABYSWALL.lo -MD -MP -MF .deps/ta_CDLCONCEALBABYSWALL.Tpo -c -o ta_CDLCONCEALBABYSWALL.lo ta_CDLCONCEALBABYSWALL.c\\\\n\\\",\\\" gcc -DHAVE_CONFIG_H -I. -I../../include -I../ta_common/ -g -O2 -MT ta_CDLCONCEALBABYSWALL.lo -MD -MP -MF .deps/ta_CDLCONCEALBABYSWALL.Tpo -c ta_CDLCONCEALBABYSWALL.c  -fPIC -DPIC -o .libs/ta_CDLCONCEALBABYSWALL.o\\\\n\\\",\\\" gcc -DHAVE_CONFIG_H -I. -I../../include -I../ta_common/ -g -O2 -MT ta_CDLCONCEALBABYSWALL.lo -MD -MP -MF .deps/ta_CDLCONCEALBABYSWALL.Tpo -c ta_CDLCONCEALBABYSWALL.c -o ta_CDLCONCEALBABYSWALL.o >/dev/null 2>&1\\\\n\\\",\\\"mv -f .deps/ta_CDLCONCEALBABYSWALL.Tpo .deps/ta_CDLCONCEALBABYSWALL.Plo\\\\n\\\",\\\"/bin/bash ../../libtool --tag=CC   --mode=compile gcc -DHAVE_CONFIG_H -I. -I../../include  -I../ta_common/   -g -O2 -MT ta_CDLCOUNTERATTACK.lo -MD -MP -MF .deps/ta_CDLCOUNTERATTACK.Tpo -c -o ta_CDLCOUNTERATTACK.lo ta_CDLCOUNTERATTACK.c\\\\n\\\",\\\" gcc -DHAVE_CONFIG_H -I. -I../../include -I../ta_common/ -g -O2 -MT ta_CDLCOUNTERATTACK.lo -MD -MP -MF .deps/ta_CDLCOUNTERATTACK.Tpo -c ta_CDLCOUNTERATTACK.c  -fPIC -DPIC -o .libs/ta_CDLCOUNTERATTACK.o\\\\n\\\",\\\" gcc -DHAVE_CONFIG_H -I. -I../../include -I../ta_common/ -g -O2 -MT ta_CDLCOUNTERATTACK.lo -MD -MP -MF .deps/ta_CDLCOUNTERATTACK.Tpo -c ta_CDLCOUNTERATTACK.c -o ta_CDLCOUNTERATTACK.o >/dev/null 2>&1\\\\n\\\",\\\"mv -f .deps/ta_CDLCOUNTERATTACK.Tpo .deps/ta_CDLCOUNTERATTACK.Plo\\\\n\\\",\\\"/bin/bash ../../libtool --tag=CC   --mode=compile gcc -DHAVE_CONFIG_H -I. -I../../include  -I../ta_common/   -g -O2 -MT ta_CDLDARKCLOUDCOVER.lo -MD -MP -MF .deps/ta_CDLDARKCLOUDCOVER.Tpo -c -o ta_CDLDARKCLOUDCOVER.lo ta_CDLDARKCLOUDCOVER.c\\\\n\\\",\\\" gcc -DHAVE_CONFIG_H -I. -I../../include -I../ta_common/ -g -O2 -MT ta_CDLDARKCLOUDCOVER.lo -MD -MP -MF .deps/ta_CDLDARKCLOUDCOVER.Tpo -c ta_CDLDARKCLOUDCOVER.c  -fPIC -DPIC -o .libs/ta_CDLDARKCLOUDCOVER.o\\\\n\\\",\\\" gcc -DHAVE_CONFIG_H -I. -I../../include -I../ta_common/ -g -O2 -MT ta_CDLDARKCLOUDCOVER.lo -MD -MP -MF .deps/ta_CDLDARKCLOUDCOVER.Tpo -c ta_CDLDARKCLOUDCOVER.c -o ta_CDLDARKCLOUDCOVER.o >/dev/null 2>&1\\\\n\\\",\\\"mv -f .deps/ta_CDLDARKCLOUDCOVER.Tpo .deps/ta_CDLDARKCLOUDCOVER.Plo\\\\n\\\",\\\"/bin/bash ../../libtool --tag=CC   --mode=compile gcc -DHAVE_CONFIG_H -I. -I../../include  -I../ta_common/   -g -O2 -MT ta_CDLDOJI.lo -MD -MP -MF .deps/ta_CDLDOJI.Tpo -c -o ta_CDLDOJI.lo ta_CDLDOJI.c\\\\n\\\",\\\" gcc -DHAVE_CONFIG_H -I. -I../../include -I../ta_common/ -g -O2 -MT ta_CDLDOJI.lo -MD -MP -MF .deps/ta_CDLDOJI.Tpo -c ta_CDLDOJI.c  -fPIC -DPIC -o .libs/ta_CDLDOJI.o\\\\n\\\",\\\" gcc -DHAVE_CONFIG_H -I. -I../../include -I../ta_common/ -g -O2 -MT ta_CDLDOJI.lo -MD -MP -MF .deps/ta_CDLDOJI.Tpo -c ta_CDLDOJI.c -o ta_CDLDOJI.o >/dev/null 2>&1\\\\n\\\",\\\"mv -f .deps/ta_CDLDOJI.Tpo .deps/ta_CDLDOJI.Plo\\\\n\\\",\\\"/bin/bash ../../libtool --tag=CC   --mode=compile gcc -DHAVE_CONFIG_H -I. -I../../include  -I../ta_common/   -g -O2 -MT ta_CDLDOJISTAR.lo -MD -MP -MF .deps/ta_CDLDOJISTAR.Tpo -c -o ta_CDLDOJISTAR.lo ta_CDLDOJISTAR.c\\\\n\\\",\\\" gcc -DHAVE_CONFIG_H -I. -I../../include -I../ta_common/ -g -O2 -MT ta_CDLDOJISTAR.lo -MD -MP -MF .deps/ta_CDLDOJISTAR.Tpo -c ta_CDLDOJISTAR.c  -fPIC -DPIC -o .libs/ta_CDLDOJISTAR.o\\\\n\\\",\\\" gcc -DHAVE_CONFIG_H -I. -I../../include -I../ta_common/ -g -O2 -MT ta_CDLDOJISTAR.lo -MD -MP -MF .deps/ta_CDLDOJISTAR.Tpo -c ta_CDLDOJISTAR.c -o ta_CDLDOJISTAR.o >/dev/null 2>&1\\\\n\\\",\\\"mv -f .deps/ta_CDLDOJISTAR.Tpo .deps/ta_CDLDOJISTAR.Plo\\\\n\\\",\\\"/bin/bash ../../libtool --tag=CC   --mode=compile gcc -DHAVE_CONFIG_H -I. -I../../include  -I../ta_common/   -g -O2 -MT ta_CDLDRAGONFLYDOJI.lo -MD -MP -MF .deps/ta_CDLDRAGONFLYDOJI.Tpo -c -o ta_CDLDRAGONFLYDOJI.lo ta_CDLDRAGONFLYDOJI.c\\\\n\\\",\\\" gcc -DHAVE_CONFIG_H -I. -I../../include -I../ta_common/ -g -O2 -MT ta_CDLDRAGONFLYDOJI.lo -MD -MP -MF .deps/ta_CDLDRAGONFLYDOJI.Tpo -c ta_CDLDRAGONFLYDOJI.c  -fPIC -DPIC -o .libs/ta_CDLDRAGONFLYDOJI.o\\\\n\\\",\\\" gcc -DHAVE_CONFIG_H -I. -I../../include -I../ta_common/ -g -O2 -MT ta_CDLDRAGONFLYDOJI.lo -MD -MP -MF .deps/ta_CDLDRAGONFLYDOJI.Tpo -c ta_CDLDRAGONFLYDOJI.c -o ta_CDLDRAGONFLYDOJI.o >/dev/null 2>&1\\\\n\\\",\\\"mv -f .deps/ta_CDLDRAGONFLYDOJI.Tpo .deps/ta_CDLDRAGONFLYDOJI.Plo\\\\n\\\",\\\"/bin/bash ../../libtool --tag=CC   --mode=compile gcc -DHAVE_CONFIG_H -I. -I../../include  -I../ta_common/   -g -O2 -MT ta_CDLENGULFING.lo -MD -MP -MF .deps/ta_CDLENGULFING.Tpo -c -o ta_CDLENGULFING.lo ta_CDLENGULFING.c\\\\n\\\",\\\" gcc -DHAVE_CONFIG_H -I. -I../../include -I../ta_common/ -g -O2 -MT ta_CDLENGULFING.lo -MD -MP -MF .deps/ta_CDLENGULFING.Tpo -c ta_CDLENGULFING.c  -fPIC -DPIC -o .libs/ta_CDLENGULFING.o\\\\n\\\",\\\" gcc -DHAVE_CONFIG_H -I. -I../../include -I../ta_common/ -g -O2 -MT ta_CDLENGULFING.lo -MD -MP -MF .deps/ta_CDLENGULFING.Tpo -c ta_CDLENGULFING.c -o ta_CDLENGULFING.o >/dev/null 2>&1\\\\n\\\",\\\"mv -f .deps/ta_CDLENGULFING.Tpo .deps/ta_CDLENGULFING.Plo\\\\n\\\",\\\"/bin/bash ../../libtool --tag=CC   --mode=compile gcc -DHAVE_CONFIG_H -I. -I../../include  -I../ta_common/   -g -O2 -MT ta_CDLEVENINGDOJISTAR.lo -MD -MP -MF .deps/ta_CDLEVENINGDOJISTAR.Tpo -c -o ta_CDLEVENINGDOJISTAR.lo ta_CDLEVENINGDOJISTAR.c\\\\n\\\",\\\" gcc -DHAVE_CONFIG_H -I. -I../../include -I../ta_common/ -g -O2 -MT ta_CDLEVENINGDOJISTAR.lo -MD -MP -MF .deps/ta_CDLEVENINGDOJISTAR.Tpo -c ta_CDLEVENINGDOJISTAR.c  -fPIC -DPIC -o .libs/ta_CDLEVENINGDOJISTAR.o\\\\n\\\",\\\" gcc -DHAVE_CONFIG_H -I. -I../../include -I../ta_common/ -g -O2 -MT ta_CDLEVENINGDOJISTAR.lo -MD -MP -MF .deps/ta_CDLEVENINGDOJISTAR.Tpo -c ta_CDLEVENINGDOJISTAR.c -o ta_CDLEVENINGDOJISTAR.o >/dev/null 2>&1\\\\n\\\",\\\"mv -f .deps/ta_CDLEVENINGDOJISTAR.Tpo .deps/ta_CDLEVENINGDOJISTAR.Plo\\\\n\\\",\\\"/bin/bash ../../libtool --tag=CC   --mode=compile gcc -DHAVE_CONFIG_H -I. -I../../include  -I../ta_common/   -g -O2 -MT ta_CDLEVENINGSTAR.lo -MD -MP -MF .deps/ta_CDLEVENINGSTAR.Tpo -c -o ta_CDLEVENINGSTAR.lo ta_CDLEVENINGSTAR.c\\\\n\\\",\\\" gcc -DHAVE_CONFIG_H -I. -I../../include -I../ta_common/ -g -O2 -MT ta_CDLEVENINGSTAR.lo -MD -MP -MF .deps/ta_CDLEVENINGSTAR.Tpo -c ta_CDLEVENINGSTAR.c  -fPIC -DPIC -o .libs/ta_CDLEVENINGSTAR.o\\\\n\\\",\\\" gcc -DHAVE_CONFIG_H -I. -I../../include -I../ta_common/ -g -O2 -MT ta_CDLEVENINGSTAR.lo -MD -MP -MF .deps/ta_CDLEVENINGSTAR.Tpo -c ta_CDLEVENINGSTAR.c -o ta_CDLEVENINGSTAR.o >/dev/null 2>&1\\\\n\\\",\\\"mv -f .deps/ta_CDLEVENINGSTAR.Tpo .deps/ta_CDLEVENINGSTAR.Plo\\\\n\\\",\\\"/bin/bash ../../libtool --tag=CC   --mode=compile gcc -DHAVE_CONFIG_H -I. -I../../include  -I../ta_common/   -g -O2 -MT ta_CDLGAPSIDESIDEWHITE.lo -MD -MP -MF .deps/ta_CDLGAPSIDESIDEWHITE.Tpo -c -o ta_CDLGAPSIDESIDEWHITE.lo ta_CDLGAPSIDESIDEWHITE.c\\\\n\\\",\\\" gcc -DHAVE_CONFIG_H -I. -I../../include -I../ta_common/ -g -O2 -MT ta_CDLGAPSIDESIDEWHITE.lo -MD -MP -MF .deps/ta_CDLGAPSIDESIDEWHITE.Tpo -c ta_CDLGAPSIDESIDEWHITE.c  -fPIC -DPIC -o .libs/ta_CDLGAPSIDESIDEWHITE.o\\\\n\\\",\\\" gcc -DHAVE_CONFIG_H -I. -I../../include -I../ta_common/ -g -O2 -MT ta_CDLGAPSIDESIDEWHITE.lo -MD -MP -MF .deps/ta_CDLGAPSIDESIDEWHITE.Tpo -c ta_CDLGAPSIDESIDEWHITE.c -o ta_CDLGAPSIDESIDEWHITE.o >/dev/null 2>&1\\\\n\\\",\\\"mv -f .deps/ta_CDLGAPSIDESIDEWHITE.Tpo .deps/ta_CDLGAPSIDESIDEWHITE.Plo\\\\n\\\",\\\"/bin/bash ../../libtool --tag=CC   --mode=compile gcc -DHAVE_CONFIG_H -I. -I../../include  -I../ta_common/   -g -O2 -MT ta_CDLGRAVESTONEDOJI.lo -MD -MP -MF .deps/ta_CDLGRAVESTONEDOJI.Tpo -c -o ta_CDLGRAVESTONEDOJI.lo ta_CDLGRAVESTONEDOJI.c\\\\n\\\",\\\" gcc -DHAVE_CONFIG_H -I. -I../../include -I../ta_common/ -g -O2 -MT ta_CDLGRAVESTONEDOJI.lo -MD -MP -MF .deps/ta_CDLGRAVESTONEDOJI.Tpo -c ta_CDLGRAVESTONEDOJI.c  -fPIC -DPIC -o .libs/ta_CDLGRAVESTONEDOJI.o\\\\n\\\",\\\" gcc -DHAVE_CONFIG_H -I. -I../../include -I../ta_common/ -g -O2 -MT ta_CDLGRAVESTONEDOJI.lo -MD -MP -MF .deps/ta_CDLGRAVESTONEDOJI.Tpo -c ta_CDLGRAVESTONEDOJI.c -o ta_CDLGRAVESTONEDOJI.o >/dev/null 2>&1\\\\n\\\",\\\"mv -f .deps/ta_CDLGRAVESTONEDOJI.Tpo .deps/ta_CDLGRAVESTONEDOJI.Plo\\\\n\\\",\\\"/bin/bash ../../libtool --tag=CC   --mode=compile gcc -DHAVE_CONFIG_H -I. -I../../include  -I../ta_common/   -g -O2 -MT ta_CDLHAMMER.lo -MD -MP -MF .deps/ta_CDLHAMMER.Tpo -c -o ta_CDLHAMMER.lo ta_CDLHAMMER.c\\\\n\\\",\\\" gcc -DHAVE_CONFIG_H -I. -I../../include -I../ta_common/ -g -O2 -MT ta_CDLHAMMER.lo -MD -MP -MF .deps/ta_CDLHAMMER.Tpo -c ta_CDLHAMMER.c  -fPIC -DPIC -o .libs/ta_CDLHAMMER.o\\\\n\\\",\\\" gcc -DHAVE_CONFIG_H -I. -I../../include -I../ta_common/ -g -O2 -MT ta_CDLHAMMER.lo -MD -MP -MF .deps/ta_CDLHAMMER.Tpo -c ta_CDLHAMMER.c -o ta_CDLHAMMER.o >/dev/null 2>&1\\\\n\\\",\\\"mv -f .deps/ta_CDLHAMMER.Tpo .deps/ta_CDLHAMMER.Plo\\\\n\\\",\\\"/bin/bash ../../libtool --tag=CC   --mode=compile gcc -DHAVE_CONFIG_H -I. -I../../include  -I../ta_common/   -g -O2 -MT ta_CDLHANGINGMAN.lo -MD -MP -MF .deps/ta_CDLHANGINGMAN.Tpo -c -o ta_CDLHANGINGMAN.lo ta_CDLHANGINGMAN.c\\\\n\\\",\\\" gcc -DHAVE_CONFIG_H -I. -I../../include -I../ta_common/ -g -O2 -MT ta_CDLHANGINGMAN.lo -MD -MP -MF .deps/ta_CDLHANGINGMAN.Tpo -c ta_CDLHANGINGMAN.c  -fPIC -DPIC -o .libs/ta_CDLHANGINGMAN.o\\\\n\\\",\\\" gcc -DHAVE_CONFIG_H -I. -I../../include -I../ta_common/ -g -O2 -MT ta_CDLHANGINGMAN.lo -MD -MP -MF .deps/ta_CDLHANGINGMAN.Tpo -c ta_CDLHANGINGMAN.c -o ta_CDLHANGINGMAN.o >/dev/null 2>&1\\\\n\\\",\\\"mv -f .deps/ta_CDLHANGINGMAN.Tpo .deps/ta_CDLHANGINGMAN.Plo\\\\n\\\",\\\"/bin/bash ../../libtool --tag=CC   --mode=compile gcc -DHAVE_CONFIG_H -I. -I../../include  -I../ta_common/   -g -O2 -MT ta_CDLHARAMI.lo -MD -MP -MF .deps/ta_CDLHARAMI.Tpo -c -o ta_CDLHARAMI.lo ta_CDLHARAMI.c\\\\n\\\",\\\" gcc -DHAVE_CONFIG_H -I. -I../../include -I../ta_common/ -g -O2 -MT ta_CDLHARAMI.lo -MD -MP -MF .deps/ta_CDLHARAMI.Tpo -c ta_CDLHARAMI.c  -fPIC -DPIC -o .libs/ta_CDLHARAMI.o\\\\n\\\",\\\" gcc -DHAVE_CONFIG_H -I. -I../../include -I../ta_common/ -g -O2 -MT ta_CDLHARAMI.lo -MD -MP -MF .deps/ta_CDLHARAMI.Tpo -c ta_CDLHARAMI.c -o ta_CDLHARAMI.o >/dev/null 2>&1\\\\n\\\",\\\"mv -f .deps/ta_CDLHARAMI.Tpo .deps/ta_CDLHARAMI.Plo\\\\n\\\",\\\"/bin/bash ../../libtool --tag=CC   --mode=compile gcc -DHAVE_CONFIG_H -I. -I../../include  -I../ta_common/   -g -O2 -MT ta_CDLHARAMICROSS.lo -MD -MP -MF .deps/ta_CDLHARAMICROSS.Tpo -c -o ta_CDLHARAMICROSS.lo ta_CDLHARAMICROSS.c\\\\n\\\",\\\" gcc -DHAVE_CONFIG_H -I. -I../../include -I../ta_common/ -g -O2 -MT ta_CDLHARAMICROSS.lo -MD -MP -MF .deps/ta_CDLHARAMICROSS.Tpo -c ta_CDLHARAMICROSS.c  -fPIC -DPIC -o .libs/ta_CDLHARAMICROSS.o\\\\n\\\",\\\" gcc -DHAVE_CONFIG_H -I. -I../../include -I../ta_common/ -g -O2 -MT ta_CDLHARAMICROSS.lo -MD -MP -MF .deps/ta_CDLHARAMICROSS.Tpo -c ta_CDLHARAMICROSS.c -o ta_CDLHARAMICROSS.o >/dev/null 2>&1\\\\n\\\",\\\"mv -f .deps/ta_CDLHARAMICROSS.Tpo .deps/ta_CDLHARAMICROSS.Plo\\\\n\\\",\\\"/bin/bash ../../libtool --tag=CC   --mode=compile gcc -DHAVE_CONFIG_H -I. -I../../include  -I../ta_common/   -g -O2 -MT ta_CDLHIGHWAVE.lo -MD -MP -MF .deps/ta_CDLHIGHWAVE.Tpo -c -o ta_CDLHIGHWAVE.lo ta_CDLHIGHWAVE.c\\\\n\\\",\\\" gcc -DHAVE_CONFIG_H -I. -I../../include -I../ta_common/ -g -O2 -MT ta_CDLHIGHWAVE.lo -MD -MP -MF .deps/ta_CDLHIGHWAVE.Tpo -c ta_CDLHIGHWAVE.c  -fPIC -DPIC -o .libs/ta_CDLHIGHWAVE.o\\\\n\\\",\\\" gcc -DHAVE_CONFIG_H -I. -I../../include -I../ta_common/ -g -O2 -MT ta_CDLHIGHWAVE.lo -MD -MP -MF .deps/ta_CDLHIGHWAVE.Tpo -c ta_CDLHIGHWAVE.c -o ta_CDLHIGHWAVE.o >/dev/null 2>&1\\\\n\\\",\\\"mv -f .deps/ta_CDLHIGHWAVE.Tpo .deps/ta_CDLHIGHWAVE.Plo\\\\n\\\",\\\"/bin/bash ../../libtool --tag=CC   --mode=compile gcc -DHAVE_CONFIG_H -I. -I../../include  -I../ta_common/   -g -O2 -MT ta_CDLHIKKAKE.lo -MD -MP -MF .deps/ta_CDLHIKKAKE.Tpo -c -o ta_CDLHIKKAKE.lo ta_CDLHIKKAKE.c\\\\n\\\",\\\" gcc -DHAVE_CONFIG_H -I. -I../../include -I../ta_common/ -g -O2 -MT ta_CDLHIKKAKE.lo -MD -MP -MF .deps/ta_CDLHIKKAKE.Tpo -c ta_CDLHIKKAKE.c  -fPIC -DPIC -o .libs/ta_CDLHIKKAKE.o\\\\n\\\",\\\" gcc -DHAVE_CONFIG_H -I. -I../../include -I../ta_common/ -g -O2 -MT ta_CDLHIKKAKE.lo -MD -MP -MF .deps/ta_CDLHIKKAKE.Tpo -c ta_CDLHIKKAKE.c -o ta_CDLHIKKAKE.o >/dev/null 2>&1\\\\n\\\",\\\"mv -f .deps/ta_CDLHIKKAKE.Tpo .deps/ta_CDLHIKKAKE.Plo\\\\n\\\",\\\"/bin/bash ../../libtool --tag=CC   --mode=compile gcc -DHAVE_CONFIG_H -I. -I../../include  -I../ta_common/   -g -O2 -MT ta_CDLHIKKAKEMOD.lo -MD -MP -MF .deps/ta_CDLHIKKAKEMOD.Tpo -c -o ta_CDLHIKKAKEMOD.lo ta_CDLHIKKAKEMOD.c\\\\n\\\",\\\" gcc -DHAVE_CONFIG_H -I. -I../../include -I../ta_common/ -g -O2 -MT ta_CDLHIKKAKEMOD.lo -MD -MP -MF .deps/ta_CDLHIKKAKEMOD.Tpo -c ta_CDLHIKKAKEMOD.c  -fPIC -DPIC -o .libs/ta_CDLHIKKAKEMOD.o\\\\n\\\",\\\" gcc -DHAVE_CONFIG_H -I. -I../../include -I../ta_common/ -g -O2 -MT ta_CDLHIKKAKEMOD.lo -MD -MP -MF .deps/ta_CDLHIKKAKEMOD.Tpo -c ta_CDLHIKKAKEMOD.c -o ta_CDLHIKKAKEMOD.o >/dev/null 2>&1\\\\n\\\",\\\"mv -f .deps/ta_CDLHIKKAKEMOD.Tpo .deps/ta_CDLHIKKAKEMOD.Plo\\\\n\\\",\\\"/bin/bash ../../libtool --tag=CC   --mode=compile gcc -DHAVE_CONFIG_H -I. -I../../include  -I../ta_common/   -g -O2 -MT ta_CDLHOMINGPIGEON.lo -MD -MP -MF .deps/ta_CDLHOMINGPIGEON.Tpo -c -o ta_CDLHOMINGPIGEON.lo ta_CDLHOMINGPIGEON.c\\\\n\\\",\\\" gcc -DHAVE_CONFIG_H -I. -I../../include -I../ta_common/ -g -O2 -MT ta_CDLHOMINGPIGEON.lo -MD -MP -MF .deps/ta_CDLHOMINGPIGEON.Tpo -c ta_CDLHOMINGPIGEON.c  -fPIC -DPIC -o .libs/ta_CDLHOMINGPIGEON.o\\\\n\\\",\\\" gcc -DHAVE_CONFIG_H -I. -I../../include -I../ta_common/ -g -O2 -MT ta_CDLHOMINGPIGEON.lo -MD -MP -MF .deps/ta_CDLHOMINGPIGEON.Tpo -c ta_CDLHOMINGPIGEON.c -o ta_CDLHOMINGPIGEON.o >/dev/null 2>&1\\\\n\\\",\\\"mv -f .deps/ta_CDLHOMINGPIGEON.Tpo .deps/ta_CDLHOMINGPIGEON.Plo\\\\n\\\",\\\"/bin/bash ../../libtool --tag=CC   --mode=compile gcc -DHAVE_CONFIG_H -I. -I../../include  -I../ta_common/   -g -O2 -MT ta_CDLIDENTICAL3CROWS.lo -MD -MP -MF .deps/ta_CDLIDENTICAL3CROWS.Tpo -c -o ta_CDLIDENTICAL3CROWS.lo ta_CDLIDENTICAL3CROWS.c\\\\n\\\",\\\" gcc -DHAVE_CONFIG_H -I. -I../../include -I../ta_common/ -g -O2 -MT ta_CDLIDENTICAL3CROWS.lo -MD -MP -MF .deps/ta_CDLIDENTICAL3CROWS.Tpo -c ta_CDLIDENTICAL3CROWS.c  -fPIC -DPIC -o .libs/ta_CDLIDENTICAL3CROWS.o\\\\n\\\",\\\" gcc -DHAVE_CONFIG_H -I. -I../../include -I../ta_common/ -g -O2 -MT ta_CDLIDENTICAL3CROWS.lo -MD -MP -MF .deps/ta_CDLIDENTICAL3CROWS.Tpo -c ta_CDLIDENTICAL3CROWS.c -o ta_CDLIDENTICAL3CROWS.o >/dev/null 2>&1\\\\n\\\",\\\"mv -f .deps/ta_CDLIDENTICAL3CROWS.Tpo .deps/ta_CDLIDENTICAL3CROWS.Plo\\\\n\\\",\\\"/bin/bash ../../libtool --tag=CC   --mode=compile gcc -DHAVE_CONFIG_H -I. -I../../include  -I../ta_common/   -g -O2 -MT ta_CDLINNECK.lo -MD -MP -MF .deps/ta_CDLINNECK.Tpo -c -o ta_CDLINNECK.lo ta_CDLINNECK.c\\\\n\\\",\\\" gcc -DHAVE_CONFIG_H -I. -I../../include -I../ta_common/ -g -O2 -MT ta_CDLINNECK.lo -MD -MP -MF .deps/ta_CDLINNECK.Tpo -c ta_CDLINNECK.c  -fPIC -DPIC -o .libs/ta_CDLINNECK.o\\\\n\\\",\\\" gcc -DHAVE_CONFIG_H -I. -I../../include -I../ta_common/ -g -O2 -MT ta_CDLINNECK.lo -MD -MP -MF .deps/ta_CDLINNECK.Tpo -c ta_CDLINNECK.c -o ta_CDLINNECK.o >/dev/null 2>&1\\\\n\\\",\\\"mv -f .deps/ta_CDLINNECK.Tpo .deps/ta_CDLINNECK.Plo\\\\n\\\",\\\"/bin/bash ../../libtool --tag=CC   --mode=compile gcc -DHAVE_CONFIG_H -I. -I../../include  -I../ta_common/   -g -O2 -MT ta_CDLINVERTEDHAMMER.lo -MD -MP -MF .deps/ta_CDLINVERTEDHAMMER.Tpo -c -o ta_CDLINVERTEDHAMMER.lo ta_CDLINVERTEDHAMMER.c\\\\n\\\",\\\" gcc -DHAVE_CONFIG_H -I. -I../../include -I../ta_common/ -g -O2 -MT ta_CDLINVERTEDHAMMER.lo -MD -MP -MF .deps/ta_CDLINVERTEDHAMMER.Tpo -c ta_CDLINVERTEDHAMMER.c  -fPIC -DPIC -o .libs/ta_CDLINVERTEDHAMMER.o\\\\n\\\",\\\" gcc -DHAVE_CONFIG_H -I. -I../../include -I../ta_common/ -g -O2 -MT ta_CDLINVERTEDHAMMER.lo -MD -MP -MF .deps/ta_CDLINVERTEDHAMMER.Tpo -c ta_CDLINVERTEDHAMMER.c -o ta_CDLINVERTEDHAMMER.o >/dev/null 2>&1\\\\n\\\",\\\"mv -f .deps/ta_CDLINVERTEDHAMMER.Tpo .deps/ta_CDLINVERTEDHAMMER.Plo\\\\n\\\",\\\"/bin/bash ../../libtool --tag=CC   --mode=compile gcc -DHAVE_CONFIG_H -I. -I../../include  -I../ta_common/   -g -O2 -MT ta_CDLKICKING.lo -MD -MP -MF .deps/ta_CDLKICKING.Tpo -c -o ta_CDLKICKING.lo ta_CDLKICKING.c\\\\n\\\",\\\" gcc -DHAVE_CONFIG_H -I. -I../../include -I../ta_common/ -g -O2 -MT ta_CDLKICKING.lo -MD -MP -MF .deps/ta_CDLKICKING.Tpo -c ta_CDLKICKING.c  -fPIC -DPIC -o .libs/ta_CDLKICKING.o\\\\n\\\",\\\" gcc -DHAVE_CONFIG_H -I. -I../../include -I../ta_common/ -g -O2 -MT ta_CDLKICKING.lo -MD -MP -MF .deps/ta_CDLKICKING.Tpo -c ta_CDLKICKING.c -o ta_CDLKICKING.o >/dev/null 2>&1\\\\n\\\",\\\"mv -f .deps/ta_CDLKICKING.Tpo .deps/ta_CDLKICKING.Plo\\\\n\\\",\\\"/bin/bash ../../libtool --tag=CC   --mode=compile gcc -DHAVE_CONFIG_H -I. -I../../include  -I../ta_common/   -g -O2 -MT ta_CDLKICKINGBYLENGTH.lo -MD -MP -MF .deps/ta_CDLKICKINGBYLENGTH.Tpo -c -o ta_CDLKICKINGBYLENGTH.lo ta_CDLKICKINGBYLENGTH.c\\\\n\\\",\\\" gcc -DHAVE_CONFIG_H -I. -I../../include -I../ta_common/ -g -O2 -MT ta_CDLKICKINGBYLENGTH.lo -MD -MP -MF .deps/ta_CDLKICKINGBYLENGTH.Tpo -c ta_CDLKICKINGBYLENGTH.c  -fPIC -DPIC -o .libs/ta_CDLKICKINGBYLENGTH.o\\\\n\\\",\\\" gcc -DHAVE_CONFIG_H -I. -I../../include -I../ta_common/ -g -O2 -MT ta_CDLKICKINGBYLENGTH.lo -MD -MP -MF .deps/ta_CDLKICKINGBYLENGTH.Tpo -c ta_CDLKICKINGBYLENGTH.c -o ta_CDLKICKINGBYLENGTH.o >/dev/null 2>&1\\\\n\\\",\\\"mv -f .deps/ta_CDLKICKINGBYLENGTH.Tpo .deps/ta_CDLKICKINGBYLENGTH.Plo\\\\n\\\",\\\"/bin/bash ../../libtool --tag=CC   --mode=compile gcc -DHAVE_CONFIG_H -I. -I../../include  -I../ta_common/   -g -O2 -MT ta_CDLLADDERBOTTOM.lo -MD -MP -MF .deps/ta_CDLLADDERBOTTOM.Tpo -c -o ta_CDLLADDERBOTTOM.lo ta_CDLLADDERBOTTOM.c\\\\n\\\",\\\" gcc -DHAVE_CONFIG_H -I. -I../../include -I../ta_common/ -g -O2 -MT ta_CDLLADDERBOTTOM.lo -MD -MP -MF .deps/ta_CDLLADDERBOTTOM.Tpo -c ta_CDLLADDERBOTTOM.c  -fPIC -DPIC -o .libs/ta_CDLLADDERBOTTOM.o\\\\n\\\",\\\" gcc -DHAVE_CONFIG_H -I. -I../../include -I../ta_common/ -g -O2 -MT ta_CDLLADDERBOTTOM.lo -MD -MP -MF .deps/ta_CDLLADDERBOTTOM.Tpo -c ta_CDLLADDERBOTTOM.c -o ta_CDLLADDERBOTTOM.o >/dev/null 2>&1\\\\n\\\",\\\"mv -f .deps/ta_CDLLADDERBOTTOM.Tpo .deps/ta_CDLLADDERBOTTOM.Plo\\\\n\\\",\\\"/bin/bash ../../libtool --tag=CC   --mode=compile gcc -DHAVE_CONFIG_H -I. -I../../include  -I../ta_common/   -g -O2 -MT ta_CDLLONGLEGGEDDOJI.lo -MD -MP -MF .deps/ta_CDLLONGLEGGEDDOJI.Tpo -c -o ta_CDLLONGLEGGEDDOJI.lo ta_CDLLONGLEGGEDDOJI.c\\\\n\\\",\\\" gcc -DHAVE_CONFIG_H -I. -I../../include -I../ta_common/ -g -O2 -MT ta_CDLLONGLEGGEDDOJI.lo -MD -MP -MF .deps/ta_CDLLONGLEGGEDDOJI.Tpo -c ta_CDLLONGLEGGEDDOJI.c  -fPIC -DPIC -o .libs/ta_CDLLONGLEGGEDDOJI.o\\\\n\\\",\\\" gcc -DHAVE_CONFIG_H -I. -I../../include -I../ta_common/ -g -O2 -MT ta_CDLLONGLEGGEDDOJI.lo -MD -MP -MF .deps/ta_CDLLONGLEGGEDDOJI.Tpo -c ta_CDLLONGLEGGEDDOJI.c -o ta_CDLLONGLEGGEDDOJI.o >/dev/null 2>&1\\\\n\\\",\\\"mv -f .deps/ta_CDLLONGLEGGEDDOJI.Tpo .deps/ta_CDLLONGLEGGEDDOJI.Plo\\\\n\\\",\\\"/bin/bash ../../libtool --tag=CC   --mode=compile gcc -DHAVE_CONFIG_H -I. -I../../include  -I../ta_common/   -g -O2 -MT ta_CDLLONGLINE.lo -MD -MP -MF .deps/ta_CDLLONGLINE.Tpo -c -o ta_CDLLONGLINE.lo ta_CDLLONGLINE.c\\\\n\\\",\\\" gcc -DHAVE_CONFIG_H -I. -I../../include -I../ta_common/ -g -O2 -MT ta_CDLLONGLINE.lo -MD -MP -MF .deps/ta_CDLLONGLINE.Tpo -c ta_CDLLONGLINE.c  -fPIC -DPIC -o .libs/ta_CDLLONGLINE.o\\\\n\\\",\\\" gcc -DHAVE_CONFIG_H -I. -I../../include -I../ta_common/ -g -O2 -MT ta_CDLLONGLINE.lo -MD -MP -MF .deps/ta_CDLLONGLINE.Tpo -c ta_CDLLONGLINE.c -o ta_CDLLONGLINE.o >/dev/null 2>&1\\\\n\\\",\\\"mv -f .deps/ta_CDLLONGLINE.Tpo .deps/ta_CDLLONGLINE.Plo\\\\n\\\",\\\"/bin/bash ../../libtool --tag=CC   --mode=compile gcc -DHAVE_CONFIG_H -I. -I../../include  -I../ta_common/   -g -O2 -MT ta_CDLMARUBOZU.lo -MD -MP -MF .deps/ta_CDLMARUBOZU.Tpo -c -o ta_CDLMARUBOZU.lo ta_CDLMARUBOZU.c\\\\n\\\",\\\" gcc -DHAVE_CONFIG_H -I. -I../../include -I../ta_common/ -g -O2 -MT ta_CDLMARUBOZU.lo -MD -MP -MF .deps/ta_CDLMARUBOZU.Tpo -c ta_CDLMARUBOZU.c  -fPIC -DPIC -o .libs/ta_CDLMARUBOZU.o\\\\n\\\",\\\" gcc -DHAVE_CONFIG_H -I. -I../../include -I../ta_common/ -g -O2 -MT ta_CDLMARUBOZU.lo -MD -MP -MF .deps/ta_CDLMARUBOZU.Tpo -c ta_CDLMARUBOZU.c -o ta_CDLMARUBOZU.o >/dev/null 2>&1\\\\n\\\",\\\"mv -f .deps/ta_CDLMARUBOZU.Tpo .deps/ta_CDLMARUBOZU.Plo\\\\n\\\",\\\"/bin/bash ../../libtool --tag=CC   --mode=compile gcc -DHAVE_CONFIG_H -I. -I../../include  -I../ta_common/   -g -O2 -MT ta_CDLMATCHINGLOW.lo -MD -MP -MF .deps/ta_CDLMATCHINGLOW.Tpo -c -o ta_CDLMATCHINGLOW.lo ta_CDLMATCHINGLOW.c\\\\n\\\",\\\" gcc -DHAVE_CONFIG_H -I. -I../../include -I../ta_common/ -g -O2 -MT ta_CDLMATCHINGLOW.lo -MD -MP -MF .deps/ta_CDLMATCHINGLOW.Tpo -c ta_CDLMATCHINGLOW.c  -fPIC -DPIC -o .libs/ta_CDLMATCHINGLOW.o\\\\n\\\",\\\" gcc -DHAVE_CONFIG_H -I. -I../../include -I../ta_common/ -g -O2 -MT ta_CDLMATCHINGLOW.lo -MD -MP -MF .deps/ta_CDLMATCHINGLOW.Tpo -c ta_CDLMATCHINGLOW.c -o ta_CDLMATCHINGLOW.o >/dev/null 2>&1\\\\n\\\",\\\"mv -f .deps/ta_CDLMATCHINGLOW.Tpo .deps/ta_CDLMATCHINGLOW.Plo\\\\n\\\",\\\"/bin/bash ../../libtool --tag=CC   --mode=compile gcc -DHAVE_CONFIG_H -I. -I../../include  -I../ta_common/   -g -O2 -MT ta_CDLMATHOLD.lo -MD -MP -MF .deps/ta_CDLMATHOLD.Tpo -c -o ta_CDLMATHOLD.lo ta_CDLMATHOLD.c\\\\n\\\",\\\" gcc -DHAVE_CONFIG_H -I. -I../../include -I../ta_common/ -g -O2 -MT ta_CDLMATHOLD.lo -MD -MP -MF .deps/ta_CDLMATHOLD.Tpo -c ta_CDLMATHOLD.c  -fPIC -DPIC -o .libs/ta_CDLMATHOLD.o\\\\n\\\",\\\" gcc -DHAVE_CONFIG_H -I. -I../../include -I../ta_common/ -g -O2 -MT ta_CDLMATHOLD.lo -MD -MP -MF .deps/ta_CDLMATHOLD.Tpo -c ta_CDLMATHOLD.c -o ta_CDLMATHOLD.o >/dev/null 2>&1\\\\n\\\",\\\"mv -f .deps/ta_CDLMATHOLD.Tpo .deps/ta_CDLMATHOLD.Plo\\\\n\\\",\\\"/bin/bash ../../libtool --tag=CC   --mode=compile gcc -DHAVE_CONFIG_H -I. -I../../include  -I../ta_common/   -g -O2 -MT ta_CDLMORNINGDOJISTAR.lo -MD -MP -MF .deps/ta_CDLMORNINGDOJISTAR.Tpo -c -o ta_CDLMORNINGDOJISTAR.lo ta_CDLMORNINGDOJISTAR.c\\\\n\\\",\\\" gcc -DHAVE_CONFIG_H -I. -I../../include -I../ta_common/ -g -O2 -MT ta_CDLMORNINGDOJISTAR.lo -MD -MP -MF .deps/ta_CDLMORNINGDOJISTAR.Tpo -c ta_CDLMORNINGDOJISTAR.c  -fPIC -DPIC -o .libs/ta_CDLMORNINGDOJISTAR.o\\\\n\\\",\\\" gcc -DHAVE_CONFIG_H -I. -I../../include -I../ta_common/ -g -O2 -MT ta_CDLMORNINGDOJISTAR.lo -MD -MP -MF .deps/ta_CDLMORNINGDOJISTAR.Tpo -c ta_CDLMORNINGDOJISTAR.c -o ta_CDLMORNINGDOJISTAR.o >/dev/null 2>&1\\\\n\\\",\\\"mv -f .deps/ta_CDLMORNINGDOJISTAR.Tpo .deps/ta_CDLMORNINGDOJISTAR.Plo\\\\n\\\",\\\"/bin/bash ../../libtool --tag=CC   --mode=compile gcc -DHAVE_CONFIG_H -I. -I../../include  -I../ta_common/   -g -O2 -MT ta_CDLMORNINGSTAR.lo -MD -MP -MF .deps/ta_CDLMORNINGSTAR.Tpo -c -o ta_CDLMORNINGSTAR.lo ta_CDLMORNINGSTAR.c\\\\n\\\",\\\" gcc -DHAVE_CONFIG_H -I. -I../../include -I../ta_common/ -g -O2 -MT ta_CDLMORNINGSTAR.lo -MD -MP -MF .deps/ta_CDLMORNINGSTAR.Tpo -c ta_CDLMORNINGSTAR.c  -fPIC -DPIC -o .libs/ta_CDLMORNINGSTAR.o\\\\n\\\",\\\" gcc -DHAVE_CONFIG_H -I. -I../../include -I../ta_common/ -g -O2 -MT ta_CDLMORNINGSTAR.lo -MD -MP -MF .deps/ta_CDLMORNINGSTAR.Tpo -c ta_CDLMORNINGSTAR.c -o ta_CDLMORNINGSTAR.o >/dev/null 2>&1\\\\n\\\",\\\"mv -f .deps/ta_CDLMORNINGSTAR.Tpo .deps/ta_CDLMORNINGSTAR.Plo\\\\n\\\",\\\"/bin/bash ../../libtool --tag=CC   --mode=compile gcc -DHAVE_CONFIG_H -I. -I../../include  -I../ta_common/   -g -O2 -MT ta_CDLONNECK.lo -MD -MP -MF .deps/ta_CDLONNECK.Tpo -c -o ta_CDLONNECK.lo ta_CDLONNECK.c\\\\n\\\",\\\" gcc -DHAVE_CONFIG_H -I. -I../../include -I../ta_common/ -g -O2 -MT ta_CDLONNECK.lo -MD -MP -MF .deps/ta_CDLONNECK.Tpo -c ta_CDLONNECK.c  -fPIC -DPIC -o .libs/ta_CDLONNECK.o\\\\n\\\",\\\" gcc -DHAVE_CONFIG_H -I. -I../../include -I../ta_common/ -g -O2 -MT ta_CDLONNECK.lo -MD -MP -MF .deps/ta_CDLONNECK.Tpo -c ta_CDLONNECK.c -o ta_CDLONNECK.o >/dev/null 2>&1\\\\n\\\",\\\"mv -f .deps/ta_CDLONNECK.Tpo .deps/ta_CDLONNECK.Plo\\\\n\\\",\\\"/bin/bash ../../libtool --tag=CC   --mode=compile gcc -DHAVE_CONFIG_H -I. -I../../include  -I../ta_common/   -g -O2 -MT ta_CDLPIERCING.lo -MD -MP -MF .deps/ta_CDLPIERCING.Tpo -c -o ta_CDLPIERCING.lo ta_CDLPIERCING.c\\\\n\\\",\\\" gcc -DHAVE_CONFIG_H -I. -I../../include -I../ta_common/ -g -O2 -MT ta_CDLPIERCING.lo -MD -MP -MF .deps/ta_CDLPIERCING.Tpo -c ta_CDLPIERCING.c  -fPIC -DPIC -o .libs/ta_CDLPIERCING.o\\\\n\\\",\\\" gcc -DHAVE_CONFIG_H -I. -I../../include -I../ta_common/ -g -O2 -MT ta_CDLPIERCING.lo -MD -MP -MF .deps/ta_CDLPIERCING.Tpo -c ta_CDLPIERCING.c -o ta_CDLPIERCING.o >/dev/null 2>&1\\\\n\\\",\\\"mv -f .deps/ta_CDLPIERCING.Tpo .deps/ta_CDLPIERCING.Plo\\\\n\\\",\\\"/bin/bash ../../libtool --tag=CC   --mode=compile gcc -DHAVE_CONFIG_H -I. -I../../include  -I../ta_common/   -g -O2 -MT ta_CDLRICKSHAWMAN.lo -MD -MP -MF .deps/ta_CDLRICKSHAWMAN.Tpo -c -o ta_CDLRICKSHAWMAN.lo ta_CDLRICKSHAWMAN.c\\\\n\\\",\\\" gcc -DHAVE_CONFIG_H -I. -I../../include -I../ta_common/ -g -O2 -MT ta_CDLRICKSHAWMAN.lo -MD -MP -MF .deps/ta_CDLRICKSHAWMAN.Tpo -c ta_CDLRICKSHAWMAN.c  -fPIC -DPIC -o .libs/ta_CDLRICKSHAWMAN.o\\\\n\\\",\\\" gcc -DHAVE_CONFIG_H -I. -I../../include -I../ta_common/ -g -O2 -MT ta_CDLRICKSHAWMAN.lo -MD -MP -MF .deps/ta_CDLRICKSHAWMAN.Tpo -c ta_CDLRICKSHAWMAN.c -o ta_CDLRICKSHAWMAN.o >/dev/null 2>&1\\\\n\\\",\\\"mv -f .deps/ta_CDLRICKSHAWMAN.Tpo .deps/ta_CDLRICKSHAWMAN.Plo\\\\n\\\",\\\"/bin/bash ../../libtool --tag=CC   --mode=compile gcc -DHAVE_CONFIG_H -I. -I../../include  -I../ta_common/   -g -O2 -MT ta_CDLRISEFALL3METHODS.lo -MD -MP -MF .deps/ta_CDLRISEFALL3METHODS.Tpo -c -o ta_CDLRISEFALL3METHODS.lo ta_CDLRISEFALL3METHODS.c\\\\n\\\",\\\" gcc -DHAVE_CONFIG_H -I. -I../../include -I../ta_common/ -g -O2 -MT ta_CDLRISEFALL3METHODS.lo -MD -MP -MF .deps/ta_CDLRISEFALL3METHODS.Tpo -c ta_CDLRISEFALL3METHODS.c  -fPIC -DPIC -o .libs/ta_CDLRISEFALL3METHODS.o\\\\n\\\",\\\" gcc -DHAVE_CONFIG_H -I. -I../../include -I../ta_common/ -g -O2 -MT ta_CDLRISEFALL3METHODS.lo -MD -MP -MF .deps/ta_CDLRISEFALL3METHODS.Tpo -c ta_CDLRISEFALL3METHODS.c -o ta_CDLRISEFALL3METHODS.o >/dev/null 2>&1\\\\n\\\",\\\"mv -f .deps/ta_CDLRISEFALL3METHODS.Tpo .deps/ta_CDLRISEFALL3METHODS.Plo\\\\n\\\",\\\"/bin/bash ../../libtool --tag=CC   --mode=compile gcc -DHAVE_CONFIG_H -I. -I../../include  -I../ta_common/   -g -O2 -MT ta_CDLSEPARATINGLINES.lo -MD -MP -MF .deps/ta_CDLSEPARATINGLINES.Tpo -c -o ta_CDLSEPARATINGLINES.lo ta_CDLSEPARATINGLINES.c\\\\n\\\",\\\" gcc -DHAVE_CONFIG_H -I. -I../../include -I../ta_common/ -g -O2 -MT ta_CDLSEPARATINGLINES.lo -MD -MP -MF .deps/ta_CDLSEPARATINGLINES.Tpo -c ta_CDLSEPARATINGLINES.c  -fPIC -DPIC -o .libs/ta_CDLSEPARATINGLINES.o\\\\n\\\",\\\" gcc -DHAVE_CONFIG_H -I. -I../../include -I../ta_common/ -g -O2 -MT ta_CDLSEPARATINGLINES.lo -MD -MP -MF .deps/ta_CDLSEPARATINGLINES.Tpo -c ta_CDLSEPARATINGLINES.c -o ta_CDLSEPARATINGLINES.o >/dev/null 2>&1\\\\n\\\",\\\"mv -f .deps/ta_CDLSEPARATINGLINES.Tpo .deps/ta_CDLSEPARATINGLINES.Plo\\\\n\\\",\\\"/bin/bash ../../libtool --tag=CC   --mode=compile gcc -DHAVE_CONFIG_H -I. -I../../include  -I../ta_common/   -g -O2 -MT ta_CDLSHOOTINGSTAR.lo -MD -MP -MF .deps/ta_CDLSHOOTINGSTAR.Tpo -c -o ta_CDLSHOOTINGSTAR.lo ta_CDLSHOOTINGSTAR.c\\\\n\\\",\\\" gcc -DHAVE_CONFIG_H -I. -I../../include -I../ta_common/ -g -O2 -MT ta_CDLSHOOTINGSTAR.lo -MD -MP -MF .deps/ta_CDLSHOOTINGSTAR.Tpo -c ta_CDLSHOOTINGSTAR.c  -fPIC -DPIC -o .libs/ta_CDLSHOOTINGSTAR.o\\\\n\\\",\\\" gcc -DHAVE_CONFIG_H -I. -I../../include -I../ta_common/ -g -O2 -MT ta_CDLSHOOTINGSTAR.lo -MD -MP -MF .deps/ta_CDLSHOOTINGSTAR.Tpo -c ta_CDLSHOOTINGSTAR.c -o ta_CDLSHOOTINGSTAR.o >/dev/null 2>&1\\\\n\\\",\\\"mv -f .deps/ta_CDLSHOOTINGSTAR.Tpo .deps/ta_CDLSHOOTINGSTAR.Plo\\\\n\\\",\\\"/bin/bash ../../libtool --tag=CC   --mode=compile gcc -DHAVE_CONFIG_H -I. -I../../include  -I../ta_common/   -g -O2 -MT ta_CDLSHORTLINE.lo -MD -MP -MF .deps/ta_CDLSHORTLINE.Tpo -c -o ta_CDLSHORTLINE.lo ta_CDLSHORTLINE.c\\\\n\\\",\\\" gcc -DHAVE_CONFIG_H -I. -I../../include -I../ta_common/ -g -O2 -MT ta_CDLSHORTLINE.lo -MD -MP -MF .deps/ta_CDLSHORTLINE.Tpo -c ta_CDLSHORTLINE.c  -fPIC -DPIC -o .libs/ta_CDLSHORTLINE.o\\\\n\\\",\\\" gcc -DHAVE_CONFIG_H -I. -I../../include -I../ta_common/ -g -O2 -MT ta_CDLSHORTLINE.lo -MD -MP -MF .deps/ta_CDLSHORTLINE.Tpo -c ta_CDLSHORTLINE.c -o ta_CDLSHORTLINE.o >/dev/null 2>&1\\\\n\\\",\\\"mv -f .deps/ta_CDLSHORTLINE.Tpo .deps/ta_CDLSHORTLINE.Plo\\\\n\\\",\\\"/bin/bash ../../libtool --tag=CC   --mode=compile gcc -DHAVE_CONFIG_H -I. -I../../include  -I../ta_common/   -g -O2 -MT ta_CDLSPINNINGTOP.lo -MD -MP -MF .deps/ta_CDLSPINNINGTOP.Tpo -c -o ta_CDLSPINNINGTOP.lo ta_CDLSPINNINGTOP.c\\\\n\\\",\\\" gcc -DHAVE_CONFIG_H -I. -I../../include -I../ta_common/ -g -O2 -MT ta_CDLSPINNINGTOP.lo -MD -MP -MF .deps/ta_CDLSPINNINGTOP.Tpo -c ta_CDLSPINNINGTOP.c  -fPIC -DPIC -o .libs/ta_CDLSPINNINGTOP.o\\\\n\\\",\\\" gcc -DHAVE_CONFIG_H -I. -I../../include -I../ta_common/ -g -O2 -MT ta_CDLSPINNINGTOP.lo -MD -MP -MF .deps/ta_CDLSPINNINGTOP.Tpo -c ta_CDLSPINNINGTOP.c -o ta_CDLSPINNINGTOP.o >/dev/null 2>&1\\\\n\\\",\\\"mv -f .deps/ta_CDLSPINNINGTOP.Tpo .deps/ta_CDLSPINNINGTOP.Plo\\\\n\\\",\\\"/bin/bash ../../libtool --tag=CC   --mode=compile gcc -DHAVE_CONFIG_H -I. -I../../include  -I../ta_common/   -g -O2 -MT ta_CDLSTALLEDPATTERN.lo -MD -MP -MF .deps/ta_CDLSTALLEDPATTERN.Tpo -c -o ta_CDLSTALLEDPATTERN.lo ta_CDLSTALLEDPATTERN.c\\\\n\\\",\\\" gcc -DHAVE_CONFIG_H -I. -I../../include -I../ta_common/ -g -O2 -MT ta_CDLSTALLEDPATTERN.lo -MD -MP -MF .deps/ta_CDLSTALLEDPATTERN.Tpo -c ta_CDLSTALLEDPATTERN.c  -fPIC -DPIC -o .libs/ta_CDLSTALLEDPATTERN.o\\\\n\\\",\\\" gcc -DHAVE_CONFIG_H -I. -I../../include -I../ta_common/ -g -O2 -MT ta_CDLSTALLEDPATTERN.lo -MD -MP -MF .deps/ta_CDLSTALLEDPATTERN.Tpo -c ta_CDLSTALLEDPATTERN.c -o ta_CDLSTALLEDPATTERN.o >/dev/null 2>&1\\\\n\\\",\\\"mv -f .deps/ta_CDLSTALLEDPATTERN.Tpo .deps/ta_CDLSTALLEDPATTERN.Plo\\\\n\\\",\\\"/bin/bash ../../libtool --tag=CC   --mode=compile gcc -DHAVE_CONFIG_H -I. -I../../include  -I../ta_common/   -g -O2 -MT ta_CDLSTICKSANDWICH.lo -MD -MP -MF .deps/ta_CDLSTICKSANDWICH.Tpo -c -o ta_CDLSTICKSANDWICH.lo ta_CDLSTICKSANDWICH.c\\\\n\\\",\\\" gcc -DHAVE_CONFIG_H -I. -I../../include -I../ta_common/ -g -O2 -MT ta_CDLSTICKSANDWICH.lo -MD -MP -MF .deps/ta_CDLSTICKSANDWICH.Tpo -c ta_CDLSTICKSANDWICH.c  -fPIC -DPIC -o .libs/ta_CDLSTICKSANDWICH.o\\\\n\\\",\\\" gcc -DHAVE_CONFIG_H -I. -I../../include -I../ta_common/ -g -O2 -MT ta_CDLSTICKSANDWICH.lo -MD -MP -MF .deps/ta_CDLSTICKSANDWICH.Tpo -c ta_CDLSTICKSANDWICH.c -o ta_CDLSTICKSANDWICH.o >/dev/null 2>&1\\\\n\\\",\\\"mv -f .deps/ta_CDLSTICKSANDWICH.Tpo .deps/ta_CDLSTICKSANDWICH.Plo\\\\n\\\",\\\"/bin/bash ../../libtool --tag=CC   --mode=compile gcc -DHAVE_CONFIG_H -I. -I../../include  -I../ta_common/   -g -O2 -MT ta_CDLTAKURI.lo -MD -MP -MF .deps/ta_CDLTAKURI.Tpo -c -o ta_CDLTAKURI.lo ta_CDLTAKURI.c\\\\n\\\",\\\" gcc -DHAVE_CONFIG_H -I. -I../../include -I../ta_common/ -g -O2 -MT ta_CDLTAKURI.lo -MD -MP -MF .deps/ta_CDLTAKURI.Tpo -c ta_CDLTAKURI.c  -fPIC -DPIC -o .libs/ta_CDLTAKURI.o\\\\n\\\",\\\" gcc -DHAVE_CONFIG_H -I. -I../../include -I../ta_common/ -g -O2 -MT ta_CDLTAKURI.lo -MD -MP -MF .deps/ta_CDLTAKURI.Tpo -c ta_CDLTAKURI.c -o ta_CDLTAKURI.o >/dev/null 2>&1\\\\n\\\",\\\"mv -f .deps/ta_CDLTAKURI.Tpo .deps/ta_CDLTAKURI.Plo\\\\n\\\",\\\"/bin/bash ../../libtool --tag=CC   --mode=compile gcc -DHAVE_CONFIG_H -I. -I../../include  -I../ta_common/   -g -O2 -MT ta_CDLTASUKIGAP.lo -MD -MP -MF .deps/ta_CDLTASUKIGAP.Tpo -c -o ta_CDLTASUKIGAP.lo ta_CDLTASUKIGAP.c\\\\n\\\",\\\" gcc -DHAVE_CONFIG_H -I. -I../../include -I../ta_common/ -g -O2 -MT ta_CDLTASUKIGAP.lo -MD -MP -MF .deps/ta_CDLTASUKIGAP.Tpo -c ta_CDLTASUKIGAP.c  -fPIC -DPIC -o .libs/ta_CDLTASUKIGAP.o\\\\n\\\",\\\" gcc -DHAVE_CONFIG_H -I. -I../../include -I../ta_common/ -g -O2 -MT ta_CDLTASUKIGAP.lo -MD -MP -MF .deps/ta_CDLTASUKIGAP.Tpo -c ta_CDLTASUKIGAP.c -o ta_CDLTASUKIGAP.o >/dev/null 2>&1\\\\n\\\",\\\"mv -f .deps/ta_CDLTASUKIGAP.Tpo .deps/ta_CDLTASUKIGAP.Plo\\\\n\\\",\\\"/bin/bash ../../libtool --tag=CC   --mode=compile gcc -DHAVE_CONFIG_H -I. -I../../include  -I../ta_common/   -g -O2 -MT ta_CDLTHRUSTING.lo -MD -MP -MF .deps/ta_CDLTHRUSTING.Tpo -c -o ta_CDLTHRUSTING.lo ta_CDLTHRUSTING.c\\\\n\\\",\\\" gcc -DHAVE_CONFIG_H -I. -I../../include -I../ta_common/ -g -O2 -MT ta_CDLTHRUSTING.lo -MD -MP -MF .deps/ta_CDLTHRUSTING.Tpo -c ta_CDLTHRUSTING.c  -fPIC -DPIC -o .libs/ta_CDLTHRUSTING.o\\\\n\\\",\\\" gcc -DHAVE_CONFIG_H -I. -I../../include -I../ta_common/ -g -O2 -MT ta_CDLTHRUSTING.lo -MD -MP -MF .deps/ta_CDLTHRUSTING.Tpo -c ta_CDLTHRUSTING.c -o ta_CDLTHRUSTING.o >/dev/null 2>&1\\\\n\\\",\\\"mv -f .deps/ta_CDLTHRUSTING.Tpo .deps/ta_CDLTHRUSTING.Plo\\\\n\\\",\\\"/bin/bash ../../libtool --tag=CC   --mode=compile gcc -DHAVE_CONFIG_H -I. -I../../include  -I../ta_common/   -g -O2 -MT ta_CDLTRISTAR.lo -MD -MP -MF .deps/ta_CDLTRISTAR.Tpo -c -o ta_CDLTRISTAR.lo ta_CDLTRISTAR.c\\\\n\\\",\\\" gcc -DHAVE_CONFIG_H -I. -I../../include -I../ta_common/ -g -O2 -MT ta_CDLTRISTAR.lo -MD -MP -MF .deps/ta_CDLTRISTAR.Tpo -c ta_CDLTRISTAR.c  -fPIC -DPIC -o .libs/ta_CDLTRISTAR.o\\\\n\\\",\\\" gcc -DHAVE_CONFIG_H -I. -I../../include -I../ta_common/ -g -O2 -MT ta_CDLTRISTAR.lo -MD -MP -MF .deps/ta_CDLTRISTAR.Tpo -c ta_CDLTRISTAR.c -o ta_CDLTRISTAR.o >/dev/null 2>&1\\\\n\\\",\\\"mv -f .deps/ta_CDLTRISTAR.Tpo .deps/ta_CDLTRISTAR.Plo\\\\n\\\",\\\"/bin/bash ../../libtool --tag=CC   --mode=compile gcc -DHAVE_CONFIG_H -I. -I../../include  -I../ta_common/   -g -O2 -MT ta_CDLUNIQUE3RIVER.lo -MD -MP -MF .deps/ta_CDLUNIQUE3RIVER.Tpo -c -o ta_CDLUNIQUE3RIVER.lo ta_CDLUNIQUE3RIVER.c\\\\n\\\",\\\" gcc -DHAVE_CONFIG_H -I. -I../../include -I../ta_common/ -g -O2 -MT ta_CDLUNIQUE3RIVER.lo -MD -MP -MF .deps/ta_CDLUNIQUE3RIVER.Tpo -c ta_CDLUNIQUE3RIVER.c  -fPIC -DPIC -o .libs/ta_CDLUNIQUE3RIVER.o\\\\n\\\",\\\" gcc -DHAVE_CONFIG_H -I. -I../../include -I../ta_common/ -g -O2 -MT ta_CDLUNIQUE3RIVER.lo -MD -MP -MF .deps/ta_CDLUNIQUE3RIVER.Tpo -c ta_CDLUNIQUE3RIVER.c -o ta_CDLUNIQUE3RIVER.o >/dev/null 2>&1\\\\n\\\",\\\"mv -f .deps/ta_CDLUNIQUE3RIVER.Tpo .deps/ta_CDLUNIQUE3RIVER.Plo\\\\n\\\",\\\"/bin/bash ../../libtool --tag=CC   --mode=compile gcc -DHAVE_CONFIG_H -I. -I../../include  -I../ta_common/   -g -O2 -MT ta_CDLUPSIDEGAP2CROWS.lo -MD -MP -MF .deps/ta_CDLUPSIDEGAP2CROWS.Tpo -c -o ta_CDLUPSIDEGAP2CROWS.lo ta_CDLUPSIDEGAP2CROWS.c\\\\n\\\",\\\" gcc -DHAVE_CONFIG_H -I. -I../../include -I../ta_common/ -g -O2 -MT ta_CDLUPSIDEGAP2CROWS.lo -MD -MP -MF .deps/ta_CDLUPSIDEGAP2CROWS.Tpo -c ta_CDLUPSIDEGAP2CROWS.c  -fPIC -DPIC -o .libs/ta_CDLUPSIDEGAP2CROWS.o\\\\n\\\",\\\" gcc -DHAVE_CONFIG_H -I. -I../../include -I../ta_common/ -g -O2 -MT ta_CDLUPSIDEGAP2CROWS.lo -MD -MP -MF .deps/ta_CDLUPSIDEGAP2CROWS.Tpo -c ta_CDLUPSIDEGAP2CROWS.c -o ta_CDLUPSIDEGAP2CROWS.o >/dev/null 2>&1\\\\n\\\",\\\"mv -f .deps/ta_CDLUPSIDEGAP2CROWS.Tpo .deps/ta_CDLUPSIDEGAP2CROWS.Plo\\\\n\\\",\\\"/bin/bash ../../libtool --tag=CC   --mode=compile gcc -DHAVE_CONFIG_H -I. -I../../include  -I../ta_common/   -g -O2 -MT ta_CDLXSIDEGAP3METHODS.lo -MD -MP -MF .deps/ta_CDLXSIDEGAP3METHODS.Tpo -c -o ta_CDLXSIDEGAP3METHODS.lo ta_CDLXSIDEGAP3METHODS.c\\\\n\\\",\\\" gcc -DHAVE_CONFIG_H -I. -I../../include -I../ta_common/ -g -O2 -MT ta_CDLXSIDEGAP3METHODS.lo -MD -MP -MF .deps/ta_CDLXSIDEGAP3METHODS.Tpo -c ta_CDLXSIDEGAP3METHODS.c  -fPIC -DPIC -o .libs/ta_CDLXSIDEGAP3METHODS.o\\\\n\\\",\\\" gcc -DHAVE_CONFIG_H -I. -I../../include -I../ta_common/ -g -O2 -MT ta_CDLXSIDEGAP3METHODS.lo -MD -MP -MF .deps/ta_CDLXSIDEGAP3METHODS.Tpo -c ta_CDLXSIDEGAP3METHODS.c -o ta_CDLXSIDEGAP3METHODS.o >/dev/null 2>&1\\\\n\\\",\\\"mv -f .deps/ta_CDLXSIDEGAP3METHODS.Tpo .deps/ta_CDLXSIDEGAP3METHODS.Plo\\\\n\\\",\\\"/bin/bash ../../libtool --tag=CC   --mode=compile gcc -DHAVE_CONFIG_H -I. -I../../include  -I../ta_common/   -g -O2 -MT ta_CEIL.lo -MD -MP -MF .deps/ta_CEIL.Tpo -c -o ta_CEIL.lo ta_CEIL.c\\\\n\\\",\\\" gcc -DHAVE_CONFIG_H -I. -I../../include -I../ta_common/ -g -O2 -MT ta_CEIL.lo -MD -MP -MF .deps/ta_CEIL.Tpo -c ta_CEIL.c  -fPIC -DPIC -o .libs/ta_CEIL.o\\\\n\\\",\\\" gcc -DHAVE_CONFIG_H -I. -I../../include -I../ta_common/ -g -O2 -MT ta_CEIL.lo -MD -MP -MF .deps/ta_CEIL.Tpo -c ta_CEIL.c -o ta_CEIL.o >/dev/null 2>&1\\\\n\\\",\\\"mv -f .deps/ta_CEIL.Tpo .deps/ta_CEIL.Plo\\\\n\\\",\\\"/bin/bash ../../libtool --tag=CC   --mode=compile gcc -DHAVE_CONFIG_H -I. -I../../include  -I../ta_common/   -g -O2 -MT ta_CMO.lo -MD -MP -MF .deps/ta_CMO.Tpo -c -o ta_CMO.lo ta_CMO.c\\\\n\\\",\\\" gcc -DHAVE_CONFIG_H -I. -I../../include -I../ta_common/ -g -O2 -MT ta_CMO.lo -MD -MP -MF .deps/ta_CMO.Tpo -c ta_CMO.c  -fPIC -DPIC -o .libs/ta_CMO.o\\\\n\\\",\\\" gcc -DHAVE_CONFIG_H -I. -I../../include -I../ta_common/ -g -O2 -MT ta_CMO.lo -MD -MP -MF .deps/ta_CMO.Tpo -c ta_CMO.c -o ta_CMO.o >/dev/null 2>&1\\\\n\\\",\\\"mv -f .deps/ta_CMO.Tpo .deps/ta_CMO.Plo\\\\n\\\",\\\"/bin/bash ../../libtool --tag=CC   --mode=compile gcc -DHAVE_CONFIG_H -I. -I../../include  -I../ta_common/   -g -O2 -MT ta_CORREL.lo -MD -MP -MF .deps/ta_CORREL.Tpo -c -o ta_CORREL.lo ta_CORREL.c\\\\n\\\",\\\" gcc -DHAVE_CONFIG_H -I. -I../../include -I../ta_common/ -g -O2 -MT ta_CORREL.lo -MD -MP -MF .deps/ta_CORREL.Tpo -c ta_CORREL.c  -fPIC -DPIC -o .libs/ta_CORREL.o\\\\n\\\",\\\" gcc -DHAVE_CONFIG_H -I. -I../../include -I../ta_common/ -g -O2 -MT ta_CORREL.lo -MD -MP -MF .deps/ta_CORREL.Tpo -c ta_CORREL.c -o ta_CORREL.o >/dev/null 2>&1\\\\n\\\",\\\"mv -f .deps/ta_CORREL.Tpo .deps/ta_CORREL.Plo\\\\n\\\",\\\"/bin/bash ../../libtool --tag=CC   --mode=compile gcc -DHAVE_CONFIG_H -I. -I../../include  -I../ta_common/   -g -O2 -MT ta_COS.lo -MD -MP -MF .deps/ta_COS.Tpo -c -o ta_COS.lo ta_COS.c\\\\n\\\",\\\" gcc -DHAVE_CONFIG_H -I. -I../../include -I../ta_common/ -g -O2 -MT ta_COS.lo -MD -MP -MF .deps/ta_COS.Tpo -c ta_COS.c  -fPIC -DPIC -o .libs/ta_COS.o\\\\n\\\",\\\" gcc -DHAVE_CONFIG_H -I. -I../../include -I../ta_common/ -g -O2 -MT ta_COS.lo -MD -MP -MF .deps/ta_COS.Tpo -c ta_COS.c -o ta_COS.o >/dev/null 2>&1\\\\n\\\",\\\"mv -f .deps/ta_COS.Tpo .deps/ta_COS.Plo\\\\n\\\",\\\"/bin/bash ../../libtool --tag=CC   --mode=compile gcc -DHAVE_CONFIG_H -I. -I../../include  -I../ta_common/   -g -O2 -MT ta_COSH.lo -MD -MP -MF .deps/ta_COSH.Tpo -c -o ta_COSH.lo ta_COSH.c\\\\n\\\",\\\" gcc -DHAVE_CONFIG_H -I. -I../../include -I../ta_common/ -g -O2 -MT ta_COSH.lo -MD -MP -MF .deps/ta_COSH.Tpo -c ta_COSH.c  -fPIC -DPIC -o .libs/ta_COSH.o\\\\n\\\",\\\" gcc -DHAVE_CONFIG_H -I. -I../../include -I../ta_common/ -g -O2 -MT ta_COSH.lo -MD -MP -MF .deps/ta_COSH.Tpo -c ta_COSH.c -o ta_COSH.o >/dev/null 2>&1\\\\n\\\",\\\"mv -f .deps/ta_COSH.Tpo .deps/ta_COSH.Plo\\\\n\\\",\\\"/bin/bash ../../libtool --tag=CC   --mode=compile gcc -DHAVE_CONFIG_H -I. -I../../include  -I../ta_common/   -g -O2 -MT ta_DEMA.lo -MD -MP -MF .deps/ta_DEMA.Tpo -c -o ta_DEMA.lo ta_DEMA.c\\\\n\\\",\\\" gcc -DHAVE_CONFIG_H -I. -I../../include -I../ta_common/ -g -O2 -MT ta_DEMA.lo -MD -MP -MF .deps/ta_DEMA.Tpo -c ta_DEMA.c  -fPIC -DPIC -o .libs/ta_DEMA.o\\\\n\\\",\\\" gcc -DHAVE_CONFIG_H -I. -I../../include -I../ta_common/ -g -O2 -MT ta_DEMA.lo -MD -MP -MF .deps/ta_DEMA.Tpo -c ta_DEMA.c -o ta_DEMA.o >/dev/null 2>&1\\\\n\\\",\\\"mv -f .deps/ta_DEMA.Tpo .deps/ta_DEMA.Plo\\\\n\\\",\\\"/bin/bash ../../libtool --tag=CC   --mode=compile gcc -DHAVE_CONFIG_H -I. -I../../include  -I../ta_common/   -g -O2 -MT ta_DIV.lo -MD -MP -MF .deps/ta_DIV.Tpo -c -o ta_DIV.lo ta_DIV.c\\\\n\\\",\\\" gcc -DHAVE_CONFIG_H -I. -I../../include -I../ta_common/ -g -O2 -MT ta_DIV.lo -MD -MP -MF .deps/ta_DIV.Tpo -c ta_DIV.c  -fPIC -DPIC -o .libs/ta_DIV.o\\\\n\\\",\\\" gcc -DHAVE_CONFIG_H -I. -I../../include -I../ta_common/ -g -O2 -MT ta_DIV.lo -MD -MP -MF .deps/ta_DIV.Tpo -c ta_DIV.c -o ta_DIV.o >/dev/null 2>&1\\\\n\\\",\\\"mv -f .deps/ta_DIV.Tpo .deps/ta_DIV.Plo\\\\n\\\",\\\"/bin/bash ../../libtool --tag=CC   --mode=compile gcc -DHAVE_CONFIG_H -I. -I../../include  -I../ta_common/   -g -O2 -MT ta_DX.lo -MD -MP -MF .deps/ta_DX.Tpo -c -o ta_DX.lo ta_DX.c\\\\n\\\",\\\" gcc -DHAVE_CONFIG_H -I. -I../../include -I../ta_common/ -g -O2 -MT ta_DX.lo -MD -MP -MF .deps/ta_DX.Tpo -c ta_DX.c  -fPIC -DPIC -o .libs/ta_DX.o\\\\n\\\",\\\" gcc -DHAVE_CONFIG_H -I. -I../../include -I../ta_common/ -g -O2 -MT ta_DX.lo -MD -MP -MF .deps/ta_DX.Tpo -c ta_DX.c -o ta_DX.o >/dev/null 2>&1\\\\n\\\",\\\"mv -f .deps/ta_DX.Tpo .deps/ta_DX.Plo\\\\n\\\",\\\"/bin/bash ../../libtool --tag=CC   --mode=compile gcc -DHAVE_CONFIG_H -I. -I../../include  -I../ta_common/   -g -O2 -MT ta_EMA.lo -MD -MP -MF .deps/ta_EMA.Tpo -c -o ta_EMA.lo ta_EMA.c\\\\n\\\",\\\" gcc -DHAVE_CONFIG_H -I. -I../../include -I../ta_common/ -g -O2 -MT ta_EMA.lo -MD -MP -MF .deps/ta_EMA.Tpo -c ta_EMA.c  -fPIC -DPIC -o .libs/ta_EMA.o\\\\n\\\",\\\" gcc -DHAVE_CONFIG_H -I. -I../../include -I../ta_common/ -g -O2 -MT ta_EMA.lo -MD -MP -MF .deps/ta_EMA.Tpo -c ta_EMA.c -o ta_EMA.o >/dev/null 2>&1\\\\n\\\",\\\"mv -f .deps/ta_EMA.Tpo .deps/ta_EMA.Plo\\\\n\\\",\\\"/bin/bash ../../libtool --tag=CC   --mode=compile gcc -DHAVE_CONFIG_H -I. -I../../include  -I../ta_common/   -g -O2 -MT ta_EXP.lo -MD -MP -MF .deps/ta_EXP.Tpo -c -o ta_EXP.lo ta_EXP.c\\\\n\\\",\\\" gcc -DHAVE_CONFIG_H -I. -I../../include -I../ta_common/ -g -O2 -MT ta_EXP.lo -MD -MP -MF .deps/ta_EXP.Tpo -c ta_EXP.c  -fPIC -DPIC -o .libs/ta_EXP.o\\\\n\\\",\\\" gcc -DHAVE_CONFIG_H -I. -I../../include -I../ta_common/ -g -O2 -MT ta_EXP.lo -MD -MP -MF .deps/ta_EXP.Tpo -c ta_EXP.c -o ta_EXP.o >/dev/null 2>&1\\\\n\\\",\\\"mv -f .deps/ta_EXP.Tpo .deps/ta_EXP.Plo\\\\n\\\",\\\"/bin/bash ../../libtool --tag=CC   --mode=compile gcc -DHAVE_CONFIG_H -I. -I../../include  -I../ta_common/   -g -O2 -MT ta_FLOOR.lo -MD -MP -MF .deps/ta_FLOOR.Tpo -c -o ta_FLOOR.lo ta_FLOOR.c\\\\n\\\",\\\" gcc -DHAVE_CONFIG_H -I. -I../../include -I../ta_common/ -g -O2 -MT ta_FLOOR.lo -MD -MP -MF .deps/ta_FLOOR.Tpo -c ta_FLOOR.c  -fPIC -DPIC -o .libs/ta_FLOOR.o\\\\n\\\",\\\" gcc -DHAVE_CONFIG_H -I. -I../../include -I../ta_common/ -g -O2 -MT ta_FLOOR.lo -MD -MP -MF .deps/ta_FLOOR.Tpo -c ta_FLOOR.c -o ta_FLOOR.o >/dev/null 2>&1\\\\n\\\",\\\"mv -f .deps/ta_FLOOR.Tpo .deps/ta_FLOOR.Plo\\\\n\\\",\\\"/bin/bash ../../libtool --tag=CC   --mode=compile gcc -DHAVE_CONFIG_H -I. -I../../include  -I../ta_common/   -g -O2 -MT ta_HT_DCPERIOD.lo -MD -MP -MF .deps/ta_HT_DCPERIOD.Tpo -c -o ta_HT_DCPERIOD.lo ta_HT_DCPERIOD.c\\\\n\\\",\\\" gcc -DHAVE_CONFIG_H -I. -I../../include -I../ta_common/ -g -O2 -MT ta_HT_DCPERIOD.lo -MD -MP -MF .deps/ta_HT_DCPERIOD.Tpo -c ta_HT_DCPERIOD.c  -fPIC -DPIC -o .libs/ta_HT_DCPERIOD.o\\\\n\\\",\\\" gcc -DHAVE_CONFIG_H -I. -I../../include -I../ta_common/ -g -O2 -MT ta_HT_DCPERIOD.lo -MD -MP -MF .deps/ta_HT_DCPERIOD.Tpo -c ta_HT_DCPERIOD.c -o ta_HT_DCPERIOD.o >/dev/null 2>&1\\\\n\\\",\\\"mv -f .deps/ta_HT_DCPERIOD.Tpo .deps/ta_HT_DCPERIOD.Plo\\\\n\\\",\\\"/bin/bash ../../libtool --tag=CC   --mode=compile gcc -DHAVE_CONFIG_H -I. -I../../include  -I../ta_common/   -g -O2 -MT ta_HT_DCPHASE.lo -MD -MP -MF .deps/ta_HT_DCPHASE.Tpo -c -o ta_HT_DCPHASE.lo ta_HT_DCPHASE.c\\\\n\\\",\\\" gcc -DHAVE_CONFIG_H -I. -I../../include -I../ta_common/ -g -O2 -MT ta_HT_DCPHASE.lo -MD -MP -MF .deps/ta_HT_DCPHASE.Tpo -c ta_HT_DCPHASE.c  -fPIC -DPIC -o .libs/ta_HT_DCPHASE.o\\\\n\\\",\\\" gcc -DHAVE_CONFIG_H -I. -I../../include -I../ta_common/ -g -O2 -MT ta_HT_DCPHASE.lo -MD -MP -MF .deps/ta_HT_DCPHASE.Tpo -c ta_HT_DCPHASE.c -o ta_HT_DCPHASE.o >/dev/null 2>&1\\\\n\\\",\\\"mv -f .deps/ta_HT_DCPHASE.Tpo .deps/ta_HT_DCPHASE.Plo\\\\n\\\",\\\"/bin/bash ../../libtool --tag=CC   --mode=compile gcc -DHAVE_CONFIG_H -I. -I../../include  -I../ta_common/   -g -O2 -MT ta_HT_PHASOR.lo -MD -MP -MF .deps/ta_HT_PHASOR.Tpo -c -o ta_HT_PHASOR.lo ta_HT_PHASOR.c\\\\n\\\",\\\" gcc -DHAVE_CONFIG_H -I. -I../../include -I../ta_common/ -g -O2 -MT ta_HT_PHASOR.lo -MD -MP -MF .deps/ta_HT_PHASOR.Tpo -c ta_HT_PHASOR.c  -fPIC -DPIC -o .libs/ta_HT_PHASOR.o\\\\n\\\",\\\" gcc -DHAVE_CONFIG_H -I. -I../../include -I../ta_common/ -g -O2 -MT ta_HT_PHASOR.lo -MD -MP -MF .deps/ta_HT_PHASOR.Tpo -c ta_HT_PHASOR.c -o ta_HT_PHASOR.o >/dev/null 2>&1\\\\n\\\",\\\"mv -f .deps/ta_HT_PHASOR.Tpo .deps/ta_HT_PHASOR.Plo\\\\n\\\",\\\"/bin/bash ../../libtool --tag=CC   --mode=compile gcc -DHAVE_CONFIG_H -I. -I../../include  -I../ta_common/   -g -O2 -MT ta_HT_SINE.lo -MD -MP -MF .deps/ta_HT_SINE.Tpo -c -o ta_HT_SINE.lo ta_HT_SINE.c\\\\n\\\",\\\" gcc -DHAVE_CONFIG_H -I. -I../../include -I../ta_common/ -g -O2 -MT ta_HT_SINE.lo -MD -MP -MF .deps/ta_HT_SINE.Tpo -c ta_HT_SINE.c  -fPIC -DPIC -o .libs/ta_HT_SINE.o\\\\n\\\",\\\" gcc -DHAVE_CONFIG_H -I. -I../../include -I../ta_common/ -g -O2 -MT ta_HT_SINE.lo -MD -MP -MF .deps/ta_HT_SINE.Tpo -c ta_HT_SINE.c -o ta_HT_SINE.o >/dev/null 2>&1\\\\n\\\",\\\"mv -f .deps/ta_HT_SINE.Tpo .deps/ta_HT_SINE.Plo\\\\n\\\",\\\"/bin/bash ../../libtool --tag=CC   --mode=compile gcc -DHAVE_CONFIG_H -I. -I../../include  -I../ta_common/   -g -O2 -MT ta_HT_TRENDLINE.lo -MD -MP -MF .deps/ta_HT_TRENDLINE.Tpo -c -o ta_HT_TRENDLINE.lo ta_HT_TRENDLINE.c\\\\n\\\",\\\" gcc -DHAVE_CONFIG_H -I. -I../../include -I../ta_common/ -g -O2 -MT ta_HT_TRENDLINE.lo -MD -MP -MF .deps/ta_HT_TRENDLINE.Tpo -c ta_HT_TRENDLINE.c  -fPIC -DPIC -o .libs/ta_HT_TRENDLINE.o\\\\n\\\",\\\" gcc -DHAVE_CONFIG_H -I. -I../../include -I../ta_common/ -g -O2 -MT ta_HT_TRENDLINE.lo -MD -MP -MF .deps/ta_HT_TRENDLINE.Tpo -c ta_HT_TRENDLINE.c -o ta_HT_TRENDLINE.o >/dev/null 2>&1\\\\n\\\",\\\"mv -f .deps/ta_HT_TRENDLINE.Tpo .deps/ta_HT_TRENDLINE.Plo\\\\n\\\",\\\"/bin/bash ../../libtool --tag=CC   --mode=compile gcc -DHAVE_CONFIG_H -I. -I../../include  -I../ta_common/   -g -O2 -MT ta_HT_TRENDMODE.lo -MD -MP -MF .deps/ta_HT_TRENDMODE.Tpo -c -o ta_HT_TRENDMODE.lo ta_HT_TRENDMODE.c\\\\n\\\",\\\" gcc -DHAVE_CONFIG_H -I. -I../../include -I../ta_common/ -g -O2 -MT ta_HT_TRENDMODE.lo -MD -MP -MF .deps/ta_HT_TRENDMODE.Tpo -c ta_HT_TRENDMODE.c  -fPIC -DPIC -o .libs/ta_HT_TRENDMODE.o\\\\n\\\",\\\" gcc -DHAVE_CONFIG_H -I. -I../../include -I../ta_common/ -g -O2 -MT ta_HT_TRENDMODE.lo -MD -MP -MF .deps/ta_HT_TRENDMODE.Tpo -c ta_HT_TRENDMODE.c -o ta_HT_TRENDMODE.o >/dev/null 2>&1\\\\n\\\",\\\"mv -f .deps/ta_HT_TRENDMODE.Tpo .deps/ta_HT_TRENDMODE.Plo\\\\n\\\",\\\"/bin/bash ../../libtool --tag=CC   --mode=compile gcc -DHAVE_CONFIG_H -I. -I../../include  -I../ta_common/   -g -O2 -MT ta_KAMA.lo -MD -MP -MF .deps/ta_KAMA.Tpo -c -o ta_KAMA.lo ta_KAMA.c\\\\n\\\",\\\" gcc -DHAVE_CONFIG_H -I. -I../../include -I../ta_common/ -g -O2 -MT ta_KAMA.lo -MD -MP -MF .deps/ta_KAMA.Tpo -c ta_KAMA.c  -fPIC -DPIC -o .libs/ta_KAMA.o\\\\n\\\",\\\" gcc -DHAVE_CONFIG_H -I. -I../../include -I../ta_common/ -g -O2 -MT ta_KAMA.lo -MD -MP -MF .deps/ta_KAMA.Tpo -c ta_KAMA.c -o ta_KAMA.o >/dev/null 2>&1\\\\n\\\",\\\"mv -f .deps/ta_KAMA.Tpo .deps/ta_KAMA.Plo\\\\n\\\",\\\"/bin/bash ../../libtool --tag=CC   --mode=compile gcc -DHAVE_CONFIG_H -I. -I../../include  -I../ta_common/   -g -O2 -MT ta_LINEARREG.lo -MD -MP -MF .deps/ta_LINEARREG.Tpo -c -o ta_LINEARREG.lo ta_LINEARREG.c\\\\n\\\",\\\" gcc -DHAVE_CONFIG_H -I. -I../../include -I../ta_common/ -g -O2 -MT ta_LINEARREG.lo -MD -MP -MF .deps/ta_LINEARREG.Tpo -c ta_LINEARREG.c  -fPIC -DPIC -o .libs/ta_LINEARREG.o\\\\n\\\",\\\" gcc -DHAVE_CONFIG_H -I. -I../../include -I../ta_common/ -g -O2 -MT ta_LINEARREG.lo -MD -MP -MF .deps/ta_LINEARREG.Tpo -c ta_LINEARREG.c -o ta_LINEARREG.o >/dev/null 2>&1\\\\n\\\",\\\"mv -f .deps/ta_LINEARREG.Tpo .deps/ta_LINEARREG.Plo\\\\n\\\",\\\"/bin/bash ../../libtool --tag=CC   --mode=compile gcc -DHAVE_CONFIG_H -I. -I../../include  -I../ta_common/   -g -O2 -MT ta_LINEARREG_ANGLE.lo -MD -MP -MF .deps/ta_LINEARREG_ANGLE.Tpo -c -o ta_LINEARREG_ANGLE.lo ta_LINEARREG_ANGLE.c\\\\n\\\",\\\" gcc -DHAVE_CONFIG_H -I. -I../../include -I../ta_common/ -g -O2 -MT ta_LINEARREG_ANGLE.lo -MD -MP -MF .deps/ta_LINEARREG_ANGLE.Tpo -c ta_LINEARREG_ANGLE.c  -fPIC -DPIC -o .libs/ta_LINEARREG_ANGLE.o\\\\n\\\",\\\" gcc -DHAVE_CONFIG_H -I. -I../../include -I../ta_common/ -g -O2 -MT ta_LINEARREG_ANGLE.lo -MD -MP -MF .deps/ta_LINEARREG_ANGLE.Tpo -c ta_LINEARREG_ANGLE.c -o ta_LINEARREG_ANGLE.o >/dev/null 2>&1\\\\n\\\",\\\"mv -f .deps/ta_LINEARREG_ANGLE.Tpo .deps/ta_LINEARREG_ANGLE.Plo\\\\n\\\",\\\"/bin/bash ../../libtool --tag=CC   --mode=compile gcc -DHAVE_CONFIG_H -I. -I../../include  -I../ta_common/   -g -O2 -MT ta_LINEARREG_INTERCEPT.lo -MD -MP -MF .deps/ta_LINEARREG_INTERCEPT.Tpo -c -o ta_LINEARREG_INTERCEPT.lo ta_LINEARREG_INTERCEPT.c\\\\n\\\",\\\" gcc -DHAVE_CONFIG_H -I. -I../../include -I../ta_common/ -g -O2 -MT ta_LINEARREG_INTERCEPT.lo -MD -MP -MF .deps/ta_LINEARREG_INTERCEPT.Tpo -c ta_LINEARREG_INTERCEPT.c  -fPIC -DPIC -o .libs/ta_LINEARREG_INTERCEPT.o\\\\n\\\",\\\" gcc -DHAVE_CONFIG_H -I. -I../../include -I../ta_common/ -g -O2 -MT ta_LINEARREG_INTERCEPT.lo -MD -MP -MF .deps/ta_LINEARREG_INTERCEPT.Tpo -c ta_LINEARREG_INTERCEPT.c -o ta_LINEARREG_INTERCEPT.o >/dev/null 2>&1\\\\n\\\",\\\"mv -f .deps/ta_LINEARREG_INTERCEPT.Tpo .deps/ta_LINEARREG_INTERCEPT.Plo\\\\n\\\",\\\"/bin/bash ../../libtool --tag=CC   --mode=compile gcc -DHAVE_CONFIG_H -I. -I../../include  -I../ta_common/   -g -O2 -MT ta_LINEARREG_SLOPE.lo -MD -MP -MF .deps/ta_LINEARREG_SLOPE.Tpo -c -o ta_LINEARREG_SLOPE.lo ta_LINEARREG_SLOPE.c\\\\n\\\",\\\" gcc -DHAVE_CONFIG_H -I. -I../../include -I../ta_common/ -g -O2 -MT ta_LINEARREG_SLOPE.lo -MD -MP -MF .deps/ta_LINEARREG_SLOPE.Tpo -c ta_LINEARREG_SLOPE.c  -fPIC -DPIC -o .libs/ta_LINEARREG_SLOPE.o\\\\n\\\",\\\" gcc -DHAVE_CONFIG_H -I. -I../../include -I../ta_common/ -g -O2 -MT ta_LINEARREG_SLOPE.lo -MD -MP -MF .deps/ta_LINEARREG_SLOPE.Tpo -c ta_LINEARREG_SLOPE.c -o ta_LINEARREG_SLOPE.o >/dev/null 2>&1\\\\n\\\",\\\"mv -f .deps/ta_LINEARREG_SLOPE.Tpo .deps/ta_LINEARREG_SLOPE.Plo\\\\n\\\",\\\"/bin/bash ../../libtool --tag=CC   --mode=compile gcc -DHAVE_CONFIG_H -I. -I../../include  -I../ta_common/   -g -O2 -MT ta_LN.lo -MD -MP -MF .deps/ta_LN.Tpo -c -o ta_LN.lo ta_LN.c\\\\n\\\",\\\" gcc -DHAVE_CONFIG_H -I. -I../../include -I../ta_common/ -g -O2 -MT ta_LN.lo -MD -MP -MF .deps/ta_LN.Tpo -c ta_LN.c  -fPIC -DPIC -o .libs/ta_LN.o\\\\n\\\",\\\" gcc -DHAVE_CONFIG_H -I. -I../../include -I../ta_common/ -g -O2 -MT ta_LN.lo -MD -MP -MF .deps/ta_LN.Tpo -c ta_LN.c -o ta_LN.o >/dev/null 2>&1\\\\n\\\",\\\"mv -f .deps/ta_LN.Tpo .deps/ta_LN.Plo\\\\n\\\",\\\"/bin/bash ../../libtool --tag=CC   --mode=compile gcc -DHAVE_CONFIG_H -I. -I../../include  -I../ta_common/   -g -O2 -MT ta_LOG10.lo -MD -MP -MF .deps/ta_LOG10.Tpo -c -o ta_LOG10.lo ta_LOG10.c\\\\n\\\",\\\" gcc -DHAVE_CONFIG_H -I. -I../../include -I../ta_common/ -g -O2 -MT ta_LOG10.lo -MD -MP -MF .deps/ta_LOG10.Tpo -c ta_LOG10.c  -fPIC -DPIC -o .libs/ta_LOG10.o\\\\n\\\",\\\" gcc -DHAVE_CONFIG_H -I. -I../../include -I../ta_common/ -g -O2 -MT ta_LOG10.lo -MD -MP -MF .deps/ta_LOG10.Tpo -c ta_LOG10.c -o ta_LOG10.o >/dev/null 2>&1\\\\n\\\",\\\"mv -f .deps/ta_LOG10.Tpo .deps/ta_LOG10.Plo\\\\n\\\",\\\"/bin/bash ../../libtool --tag=CC   --mode=compile gcc -DHAVE_CONFIG_H -I. -I../../include  -I../ta_common/   -g -O2 -MT ta_MA.lo -MD -MP -MF .deps/ta_MA.Tpo -c -o ta_MA.lo ta_MA.c\\\\n\\\",\\\" gcc -DHAVE_CONFIG_H -I. -I../../include -I../ta_common/ -g -O2 -MT ta_MA.lo -MD -MP -MF .deps/ta_MA.Tpo -c ta_MA.c  -fPIC -DPIC -o .libs/ta_MA.o\\\\n\\\",\\\" gcc -DHAVE_CONFIG_H -I. -I../../include -I../ta_common/ -g -O2 -MT ta_MA.lo -MD -MP -MF .deps/ta_MA.Tpo -c ta_MA.c -o ta_MA.o >/dev/null 2>&1\\\\n\\\",\\\"mv -f .deps/ta_MA.Tpo .deps/ta_MA.Plo\\\\n\\\",\\\"/bin/bash ../../libtool --tag=CC   --mode=compile gcc -DHAVE_CONFIG_H -I. -I../../include  -I../ta_common/   -g -O2 -MT ta_MACD.lo -MD -MP -MF .deps/ta_MACD.Tpo -c -o ta_MACD.lo ta_MACD.c\\\\n\\\",\\\" gcc -DHAVE_CONFIG_H -I. -I../../include -I../ta_common/ -g -O2 -MT ta_MACD.lo -MD -MP -MF .deps/ta_MACD.Tpo -c ta_MACD.c  -fPIC -DPIC -o .libs/ta_MACD.o\\\\n\\\",\\\" gcc -DHAVE_CONFIG_H -I. -I../../include -I../ta_common/ -g -O2 -MT ta_MACD.lo -MD -MP -MF .deps/ta_MACD.Tpo -c ta_MACD.c -o ta_MACD.o >/dev/null 2>&1\\\\n\\\",\\\"mv -f .deps/ta_MACD.Tpo .deps/ta_MACD.Plo\\\\n\\\",\\\"/bin/bash ../../libtool --tag=CC   --mode=compile gcc -DHAVE_CONFIG_H -I. -I../../include  -I../ta_common/   -g -O2 -MT ta_MACDEXT.lo -MD -MP -MF .deps/ta_MACDEXT.Tpo -c -o ta_MACDEXT.lo ta_MACDEXT.c\\\\n\\\",\\\" gcc -DHAVE_CONFIG_H -I. -I../../include -I../ta_common/ -g -O2 -MT ta_MACDEXT.lo -MD -MP -MF .deps/ta_MACDEXT.Tpo -c ta_MACDEXT.c  -fPIC -DPIC -o .libs/ta_MACDEXT.o\\\\n\\\",\\\" gcc -DHAVE_CONFIG_H -I. -I../../include -I../ta_common/ -g -O2 -MT ta_MACDEXT.lo -MD -MP -MF .deps/ta_MACDEXT.Tpo -c ta_MACDEXT.c -o ta_MACDEXT.o >/dev/null 2>&1\\\\n\\\",\\\"mv -f .deps/ta_MACDEXT.Tpo .deps/ta_MACDEXT.Plo\\\\n\\\",\\\"/bin/bash ../../libtool --tag=CC   --mode=compile gcc -DHAVE_CONFIG_H -I. -I../../include  -I../ta_common/   -g -O2 -MT ta_MACDFIX.lo -MD -MP -MF .deps/ta_MACDFIX.Tpo -c -o ta_MACDFIX.lo ta_MACDFIX.c\\\\n\\\",\\\" gcc -DHAVE_CONFIG_H -I. -I../../include -I../ta_common/ -g -O2 -MT ta_MACDFIX.lo -MD -MP -MF .deps/ta_MACDFIX.Tpo -c ta_MACDFIX.c  -fPIC -DPIC -o .libs/ta_MACDFIX.o\\\\n\\\",\\\" gcc -DHAVE_CONFIG_H -I. -I../../include -I../ta_common/ -g -O2 -MT ta_MACDFIX.lo -MD -MP -MF .deps/ta_MACDFIX.Tpo -c ta_MACDFIX.c -o ta_MACDFIX.o >/dev/null 2>&1\\\\n\\\",\\\"mv -f .deps/ta_MACDFIX.Tpo .deps/ta_MACDFIX.Plo\\\\n\\\",\\\"/bin/bash ../../libtool --tag=CC   --mode=compile gcc -DHAVE_CONFIG_H -I. -I../../include  -I../ta_common/   -g -O2 -MT ta_MAMA.lo -MD -MP -MF .deps/ta_MAMA.Tpo -c -o ta_MAMA.lo ta_MAMA.c\\\\n\\\",\\\" gcc -DHAVE_CONFIG_H -I. -I../../include -I../ta_common/ -g -O2 -MT ta_MAMA.lo -MD -MP -MF .deps/ta_MAMA.Tpo -c ta_MAMA.c  -fPIC -DPIC -o .libs/ta_MAMA.o\\\\n\\\",\\\" gcc -DHAVE_CONFIG_H -I. -I../../include -I../ta_common/ -g -O2 -MT ta_MAMA.lo -MD -MP -MF .deps/ta_MAMA.Tpo -c ta_MAMA.c -o ta_MAMA.o >/dev/null 2>&1\\\\n\\\",\\\"mv -f .deps/ta_MAMA.Tpo .deps/ta_MAMA.Plo\\\\n\\\",\\\"/bin/bash ../../libtool --tag=CC   --mode=compile gcc -DHAVE_CONFIG_H -I. -I../../include  -I../ta_common/   -g -O2 -MT ta_MAVP.lo -MD -MP -MF .deps/ta_MAVP.Tpo -c -o ta_MAVP.lo ta_MAVP.c\\\\n\\\",\\\" gcc -DHAVE_CONFIG_H -I. -I../../include -I../ta_common/ -g -O2 -MT ta_MAVP.lo -MD -MP -MF .deps/ta_MAVP.Tpo -c ta_MAVP.c  -fPIC -DPIC -o .libs/ta_MAVP.o\\\\n\\\",\\\" gcc -DHAVE_CONFIG_H -I. -I../../include -I../ta_common/ -g -O2 -MT ta_MAVP.lo -MD -MP -MF .deps/ta_MAVP.Tpo -c ta_MAVP.c -o ta_MAVP.o >/dev/null 2>&1\\\\n\\\",\\\"mv -f .deps/ta_MAVP.Tpo .deps/ta_MAVP.Plo\\\\n\\\",\\\"/bin/bash ../../libtool --tag=CC   --mode=compile gcc -DHAVE_CONFIG_H -I. -I../../include  -I../ta_common/   -g -O2 -MT ta_MAX.lo -MD -MP -MF .deps/ta_MAX.Tpo -c -o ta_MAX.lo ta_MAX.c\\\\n\\\",\\\" gcc -DHAVE_CONFIG_H -I. -I../../include -I../ta_common/ -g -O2 -MT ta_MAX.lo -MD -MP -MF .deps/ta_MAX.Tpo -c ta_MAX.c  -fPIC -DPIC -o .libs/ta_MAX.o\\\\n\\\",\\\" gcc -DHAVE_CONFIG_H -I. -I../../include -I../ta_common/ -g -O2 -MT ta_MAX.lo -MD -MP -MF .deps/ta_MAX.Tpo -c ta_MAX.c -o ta_MAX.o >/dev/null 2>&1\\\\n\\\",\\\"mv -f .deps/ta_MAX.Tpo .deps/ta_MAX.Plo\\\\n\\\",\\\"/bin/bash ../../libtool --tag=CC   --mode=compile gcc -DHAVE_CONFIG_H -I. -I../../include  -I../ta_common/   -g -O2 -MT ta_MAXINDEX.lo -MD -MP -MF .deps/ta_MAXINDEX.Tpo -c -o ta_MAXINDEX.lo ta_MAXINDEX.c\\\\n\\\",\\\" gcc -DHAVE_CONFIG_H -I. -I../../include -I../ta_common/ -g -O2 -MT ta_MAXINDEX.lo -MD -MP -MF .deps/ta_MAXINDEX.Tpo -c ta_MAXINDEX.c  -fPIC -DPIC -o .libs/ta_MAXINDEX.o\\\\n\\\",\\\" gcc -DHAVE_CONFIG_H -I. -I../../include -I../ta_common/ -g -O2 -MT ta_MAXINDEX.lo -MD -MP -MF .deps/ta_MAXINDEX.Tpo -c ta_MAXINDEX.c -o ta_MAXINDEX.o >/dev/null 2>&1\\\\n\\\",\\\"mv -f .deps/ta_MAXINDEX.Tpo .deps/ta_MAXINDEX.Plo\\\\n\\\",\\\"/bin/bash ../../libtool --tag=CC   --mode=compile gcc -DHAVE_CONFIG_H -I. -I../../include  -I../ta_common/   -g -O2 -MT ta_MEDPRICE.lo -MD -MP -MF .deps/ta_MEDPRICE.Tpo -c -o ta_MEDPRICE.lo ta_MEDPRICE.c\\\\n\\\",\\\" gcc -DHAVE_CONFIG_H -I. -I../../include -I../ta_common/ -g -O2 -MT ta_MEDPRICE.lo -MD -MP -MF .deps/ta_MEDPRICE.Tpo -c ta_MEDPRICE.c  -fPIC -DPIC -o .libs/ta_MEDPRICE.o\\\\n\\\",\\\" gcc -DHAVE_CONFIG_H -I. -I../../include -I../ta_common/ -g -O2 -MT ta_MEDPRICE.lo -MD -MP -MF .deps/ta_MEDPRICE.Tpo -c ta_MEDPRICE.c -o ta_MEDPRICE.o >/dev/null 2>&1\\\\n\\\",\\\"mv -f .deps/ta_MEDPRICE.Tpo .deps/ta_MEDPRICE.Plo\\\\n\\\",\\\"/bin/bash ../../libtool --tag=CC   --mode=compile gcc -DHAVE_CONFIG_H -I. -I../../include  -I../ta_common/   -g -O2 -MT ta_MFI.lo -MD -MP -MF .deps/ta_MFI.Tpo -c -o ta_MFI.lo ta_MFI.c\\\\n\\\",\\\" gcc -DHAVE_CONFIG_H -I. -I../../include -I../ta_common/ -g -O2 -MT ta_MFI.lo -MD -MP -MF .deps/ta_MFI.Tpo -c ta_MFI.c  -fPIC -DPIC -o .libs/ta_MFI.o\\\\n\\\",\\\" gcc -DHAVE_CONFIG_H -I. -I../../include -I../ta_common/ -g -O2 -MT ta_MFI.lo -MD -MP -MF .deps/ta_MFI.Tpo -c ta_MFI.c -o ta_MFI.o >/dev/null 2>&1\\\\n\\\",\\\"mv -f .deps/ta_MFI.Tpo .deps/ta_MFI.Plo\\\\n\\\",\\\"/bin/bash ../../libtool --tag=CC   --mode=compile gcc -DHAVE_CONFIG_H -I. -I../../include  -I../ta_common/   -g -O2 -MT ta_MIDPOINT.lo -MD -MP -MF .deps/ta_MIDPOINT.Tpo -c -o ta_MIDPOINT.lo ta_MIDPOINT.c\\\\n\\\",\\\" gcc -DHAVE_CONFIG_H -I. -I../../include -I../ta_common/ -g -O2 -MT ta_MIDPOINT.lo -MD -MP -MF .deps/ta_MIDPOINT.Tpo -c ta_MIDPOINT.c  -fPIC -DPIC -o .libs/ta_MIDPOINT.o\\\\n\\\",\\\" gcc -DHAVE_CONFIG_H -I. -I../../include -I../ta_common/ -g -O2 -MT ta_MIDPOINT.lo -MD -MP -MF .deps/ta_MIDPOINT.Tpo -c ta_MIDPOINT.c -o ta_MIDPOINT.o >/dev/null 2>&1\\\\n\\\",\\\"mv -f .deps/ta_MIDPOINT.Tpo .deps/ta_MIDPOINT.Plo\\\\n\\\",\\\"/bin/bash ../../libtool --tag=CC   --mode=compile gcc -DHAVE_CONFIG_H -I. -I../../include  -I../ta_common/   -g -O2 -MT ta_MIDPRICE.lo -MD -MP -MF .deps/ta_MIDPRICE.Tpo -c -o ta_MIDPRICE.lo ta_MIDPRICE.c\\\\n\\\",\\\" gcc -DHAVE_CONFIG_H -I. -I../../include -I../ta_common/ -g -O2 -MT ta_MIDPRICE.lo -MD -MP -MF .deps/ta_MIDPRICE.Tpo -c ta_MIDPRICE.c  -fPIC -DPIC -o .libs/ta_MIDPRICE.o\\\\n\\\",\\\" gcc -DHAVE_CONFIG_H -I. -I../../include -I../ta_common/ -g -O2 -MT ta_MIDPRICE.lo -MD -MP -MF .deps/ta_MIDPRICE.Tpo -c ta_MIDPRICE.c -o ta_MIDPRICE.o >/dev/null 2>&1\\\\n\\\",\\\"mv -f .deps/ta_MIDPRICE.Tpo .deps/ta_MIDPRICE.Plo\\\\n\\\",\\\"/bin/bash ../../libtool --tag=CC   --mode=compile gcc -DHAVE_CONFIG_H -I. -I../../include  -I../ta_common/   -g -O2 -MT ta_MIN.lo -MD -MP -MF .deps/ta_MIN.Tpo -c -o ta_MIN.lo ta_MIN.c\\\\n\\\",\\\" gcc -DHAVE_CONFIG_H -I. -I../../include -I../ta_common/ -g -O2 -MT ta_MIN.lo -MD -MP -MF .deps/ta_MIN.Tpo -c ta_MIN.c  -fPIC -DPIC -o .libs/ta_MIN.o\\\\n\\\",\\\" gcc -DHAVE_CONFIG_H -I. -I../../include -I../ta_common/ -g -O2 -MT ta_MIN.lo -MD -MP -MF .deps/ta_MIN.Tpo -c ta_MIN.c -o ta_MIN.o >/dev/null 2>&1\\\\n\\\",\\\"mv -f .deps/ta_MIN.Tpo .deps/ta_MIN.Plo\\\\n\\\",\\\"/bin/bash ../../libtool --tag=CC   --mode=compile gcc -DHAVE_CONFIG_H -I. -I../../include  -I../ta_common/   -g -O2 -MT ta_MININDEX.lo -MD -MP -MF .deps/ta_MININDEX.Tpo -c -o ta_MININDEX.lo ta_MININDEX.c\\\\n\\\",\\\" gcc -DHAVE_CONFIG_H -I. -I../../include -I../ta_common/ -g -O2 -MT ta_MININDEX.lo -MD -MP -MF .deps/ta_MININDEX.Tpo -c ta_MININDEX.c  -fPIC -DPIC -o .libs/ta_MININDEX.o\\\\n\\\",\\\" gcc -DHAVE_CONFIG_H -I. -I../../include -I../ta_common/ -g -O2 -MT ta_MININDEX.lo -MD -MP -MF .deps/ta_MININDEX.Tpo -c ta_MININDEX.c -o ta_MININDEX.o >/dev/null 2>&1\\\\n\\\",\\\"mv -f .deps/ta_MININDEX.Tpo .deps/ta_MININDEX.Plo\\\\n\\\",\\\"/bin/bash ../../libtool --tag=CC   --mode=compile gcc -DHAVE_CONFIG_H -I. -I../../include  -I../ta_common/   -g -O2 -MT ta_MINMAX.lo -MD -MP -MF .deps/ta_MINMAX.Tpo -c -o ta_MINMAX.lo ta_MINMAX.c\\\\n\\\",\\\" gcc -DHAVE_CONFIG_H -I. -I../../include -I../ta_common/ -g -O2 -MT ta_MINMAX.lo -MD -MP -MF .deps/ta_MINMAX.Tpo -c ta_MINMAX.c  -fPIC -DPIC -o .libs/ta_MINMAX.o\\\\n\\\",\\\" gcc -DHAVE_CONFIG_H -I. -I../../include -I../ta_common/ -g -O2 -MT ta_MINMAX.lo -MD -MP -MF .deps/ta_MINMAX.Tpo -c ta_MINMAX.c -o ta_MINMAX.o >/dev/null 2>&1\\\\n\\\",\\\"mv -f .deps/ta_MINMAX.Tpo .deps/ta_MINMAX.Plo\\\\n\\\",\\\"/bin/bash ../../libtool --tag=CC   --mode=compile gcc -DHAVE_CONFIG_H -I. -I../../include  -I../ta_common/   -g -O2 -MT ta_MINMAXINDEX.lo -MD -MP -MF .deps/ta_MINMAXINDEX.Tpo -c -o ta_MINMAXINDEX.lo ta_MINMAXINDEX.c\\\\n\\\",\\\" gcc -DHAVE_CONFIG_H -I. -I../../include -I../ta_common/ -g -O2 -MT ta_MINMAXINDEX.lo -MD -MP -MF .deps/ta_MINMAXINDEX.Tpo -c ta_MINMAXINDEX.c  -fPIC -DPIC -o .libs/ta_MINMAXINDEX.o\\\\n\\\",\\\" gcc -DHAVE_CONFIG_H -I. -I../../include -I../ta_common/ -g -O2 -MT ta_MINMAXINDEX.lo -MD -MP -MF .deps/ta_MINMAXINDEX.Tpo -c ta_MINMAXINDEX.c -o ta_MINMAXINDEX.o >/dev/null 2>&1\\\\n\\\",\\\"mv -f .deps/ta_MINMAXINDEX.Tpo .deps/ta_MINMAXINDEX.Plo\\\\n\\\",\\\"/bin/bash ../../libtool --tag=CC   --mode=compile gcc -DHAVE_CONFIG_H -I. -I../../include  -I../ta_common/   -g -O2 -MT ta_MINUS_DI.lo -MD -MP -MF .deps/ta_MINUS_DI.Tpo -c -o ta_MINUS_DI.lo ta_MINUS_DI.c\\\\n\\\",\\\" gcc -DHAVE_CONFIG_H -I. -I../../include -I../ta_common/ -g -O2 -MT ta_MINUS_DI.lo -MD -MP -MF .deps/ta_MINUS_DI.Tpo -c ta_MINUS_DI.c  -fPIC -DPIC -o .libs/ta_MINUS_DI.o\\\\n\\\",\\\" gcc -DHAVE_CONFIG_H -I. -I../../include -I../ta_common/ -g -O2 -MT ta_MINUS_DI.lo -MD -MP -MF .deps/ta_MINUS_DI.Tpo -c ta_MINUS_DI.c -o ta_MINUS_DI.o >/dev/null 2>&1\\\\n\\\",\\\"mv -f .deps/ta_MINUS_DI.Tpo .deps/ta_MINUS_DI.Plo\\\\n\\\",\\\"/bin/bash ../../libtool --tag=CC   --mode=compile gcc -DHAVE_CONFIG_H -I. -I../../include  -I../ta_common/   -g -O2 -MT ta_MINUS_DM.lo -MD -MP -MF .deps/ta_MINUS_DM.Tpo -c -o ta_MINUS_DM.lo ta_MINUS_DM.c\\\\n\\\",\\\" gcc -DHAVE_CONFIG_H -I. -I../../include -I../ta_common/ -g -O2 -MT ta_MINUS_DM.lo -MD -MP -MF .deps/ta_MINUS_DM.Tpo -c ta_MINUS_DM.c  -fPIC -DPIC -o .libs/ta_MINUS_DM.o\\\\n\\\",\\\" gcc -DHAVE_CONFIG_H -I. -I../../include -I../ta_common/ -g -O2 -MT ta_MINUS_DM.lo -MD -MP -MF .deps/ta_MINUS_DM.Tpo -c ta_MINUS_DM.c -o ta_MINUS_DM.o >/dev/null 2>&1\\\\n\\\",\\\"mv -f .deps/ta_MINUS_DM.Tpo .deps/ta_MINUS_DM.Plo\\\\n\\\",\\\"/bin/bash ../../libtool --tag=CC   --mode=compile gcc -DHAVE_CONFIG_H -I. -I../../include  -I../ta_common/   -g -O2 -MT ta_MOM.lo -MD -MP -MF .deps/ta_MOM.Tpo -c -o ta_MOM.lo ta_MOM.c\\\\n\\\",\\\" gcc -DHAVE_CONFIG_H -I. -I../../include -I../ta_common/ -g -O2 -MT ta_MOM.lo -MD -MP -MF .deps/ta_MOM.Tpo -c ta_MOM.c  -fPIC -DPIC -o .libs/ta_MOM.o\\\\n\\\",\\\" gcc -DHAVE_CONFIG_H -I. -I../../include -I../ta_common/ -g -O2 -MT ta_MOM.lo -MD -MP -MF .deps/ta_MOM.Tpo -c ta_MOM.c -o ta_MOM.o >/dev/null 2>&1\\\\n\\\",\\\"mv -f .deps/ta_MOM.Tpo .deps/ta_MOM.Plo\\\\n\\\",\\\"/bin/bash ../../libtool --tag=CC   --mode=compile gcc -DHAVE_CONFIG_H -I. -I../../include  -I../ta_common/   -g -O2 -MT ta_MULT.lo -MD -MP -MF .deps/ta_MULT.Tpo -c -o ta_MULT.lo ta_MULT.c\\\\n\\\",\\\" gcc -DHAVE_CONFIG_H -I. -I../../include -I../ta_common/ -g -O2 -MT ta_MULT.lo -MD -MP -MF .deps/ta_MULT.Tpo -c ta_MULT.c  -fPIC -DPIC -o .libs/ta_MULT.o\\\\n\\\",\\\" gcc -DHAVE_CONFIG_H -I. -I../../include -I../ta_common/ -g -O2 -MT ta_MULT.lo -MD -MP -MF .deps/ta_MULT.Tpo -c ta_MULT.c -o ta_MULT.o >/dev/null 2>&1\\\\n\\\",\\\"mv -f .deps/ta_MULT.Tpo .deps/ta_MULT.Plo\\\\n\\\",\\\"/bin/bash ../../libtool --tag=CC   --mode=compile gcc -DHAVE_CONFIG_H -I. -I../../include  -I../ta_common/   -g -O2 -MT ta_NATR.lo -MD -MP -MF .deps/ta_NATR.Tpo -c -o ta_NATR.lo ta_NATR.c\\\\n\\\",\\\" gcc -DHAVE_CONFIG_H -I. -I../../include -I../ta_common/ -g -O2 -MT ta_NATR.lo -MD -MP -MF .deps/ta_NATR.Tpo -c ta_NATR.c  -fPIC -DPIC -o .libs/ta_NATR.o\\\\n\\\",\\\" gcc -DHAVE_CONFIG_H -I. -I../../include -I../ta_common/ -g -O2 -MT ta_NATR.lo -MD -MP -MF .deps/ta_NATR.Tpo -c ta_NATR.c -o ta_NATR.o >/dev/null 2>&1\\\\n\\\",\\\"mv -f .deps/ta_NATR.Tpo .deps/ta_NATR.Plo\\\\n\\\",\\\"/bin/bash ../../libtool --tag=CC   --mode=compile gcc -DHAVE_CONFIG_H -I. -I../../include  -I../ta_common/   -g -O2 -MT ta_OBV.lo -MD -MP -MF .deps/ta_OBV.Tpo -c -o ta_OBV.lo ta_OBV.c\\\\n\\\",\\\" gcc -DHAVE_CONFIG_H -I. -I../../include -I../ta_common/ -g -O2 -MT ta_OBV.lo -MD -MP -MF .deps/ta_OBV.Tpo -c ta_OBV.c  -fPIC -DPIC -o .libs/ta_OBV.o\\\\n\\\",\\\" gcc -DHAVE_CONFIG_H -I. -I../../include -I../ta_common/ -g -O2 -MT ta_OBV.lo -MD -MP -MF .deps/ta_OBV.Tpo -c ta_OBV.c -o ta_OBV.o >/dev/null 2>&1\\\\n\\\",\\\"mv -f .deps/ta_OBV.Tpo .deps/ta_OBV.Plo\\\\n\\\",\\\"/bin/bash ../../libtool --tag=CC   --mode=compile gcc -DHAVE_CONFIG_H -I. -I../../include  -I../ta_common/   -g -O2 -MT ta_PLUS_DI.lo -MD -MP -MF .deps/ta_PLUS_DI.Tpo -c -o ta_PLUS_DI.lo ta_PLUS_DI.c\\\\n\\\",\\\" gcc -DHAVE_CONFIG_H -I. -I../../include -I../ta_common/ -g -O2 -MT ta_PLUS_DI.lo -MD -MP -MF .deps/ta_PLUS_DI.Tpo -c ta_PLUS_DI.c  -fPIC -DPIC -o .libs/ta_PLUS_DI.o\\\\n\\\",\\\" gcc -DHAVE_CONFIG_H -I. -I../../include -I../ta_common/ -g -O2 -MT ta_PLUS_DI.lo -MD -MP -MF .deps/ta_PLUS_DI.Tpo -c ta_PLUS_DI.c -o ta_PLUS_DI.o >/dev/null 2>&1\\\\n\\\",\\\"mv -f .deps/ta_PLUS_DI.Tpo .deps/ta_PLUS_DI.Plo\\\\n\\\",\\\"/bin/bash ../../libtool --tag=CC   --mode=compile gcc -DHAVE_CONFIG_H -I. -I../../include  -I../ta_common/   -g -O2 -MT ta_PLUS_DM.lo -MD -MP -MF .deps/ta_PLUS_DM.Tpo -c -o ta_PLUS_DM.lo ta_PLUS_DM.c\\\\n\\\",\\\" gcc -DHAVE_CONFIG_H -I. -I../../include -I../ta_common/ -g -O2 -MT ta_PLUS_DM.lo -MD -MP -MF .deps/ta_PLUS_DM.Tpo -c ta_PLUS_DM.c  -fPIC -DPIC -o .libs/ta_PLUS_DM.o\\\\n\\\",\\\" gcc -DHAVE_CONFIG_H -I. -I../../include -I../ta_common/ -g -O2 -MT ta_PLUS_DM.lo -MD -MP -MF .deps/ta_PLUS_DM.Tpo -c ta_PLUS_DM.c -o ta_PLUS_DM.o >/dev/null 2>&1\\\\n\\\",\\\"mv -f .deps/ta_PLUS_DM.Tpo .deps/ta_PLUS_DM.Plo\\\\n\\\",\\\"/bin/bash ../../libtool --tag=CC   --mode=compile gcc -DHAVE_CONFIG_H -I. -I../../include  -I../ta_common/   -g -O2 -MT ta_PPO.lo -MD -MP -MF .deps/ta_PPO.Tpo -c -o ta_PPO.lo ta_PPO.c\\\\n\\\",\\\" gcc -DHAVE_CONFIG_H -I. -I../../include -I../ta_common/ -g -O2 -MT ta_PPO.lo -MD -MP -MF .deps/ta_PPO.Tpo -c ta_PPO.c  -fPIC -DPIC -o .libs/ta_PPO.o\\\\n\\\",\\\" gcc -DHAVE_CONFIG_H -I. -I../../include -I../ta_common/ -g -O2 -MT ta_PPO.lo -MD -MP -MF .deps/ta_PPO.Tpo -c ta_PPO.c -o ta_PPO.o >/dev/null 2>&1\\\\n\\\",\\\"mv -f .deps/ta_PPO.Tpo .deps/ta_PPO.Plo\\\\n\\\",\\\"/bin/bash ../../libtool --tag=CC   --mode=compile gcc -DHAVE_CONFIG_H -I. -I../../include  -I../ta_common/   -g -O2 -MT ta_ROC.lo -MD -MP -MF .deps/ta_ROC.Tpo -c -o ta_ROC.lo ta_ROC.c\\\\n\\\",\\\" gcc -DHAVE_CONFIG_H -I. -I../../include -I../ta_common/ -g -O2 -MT ta_ROC.lo -MD -MP -MF .deps/ta_ROC.Tpo -c ta_ROC.c  -fPIC -DPIC -o .libs/ta_ROC.o\\\\n\\\",\\\" gcc -DHAVE_CONFIG_H -I. -I../../include -I../ta_common/ -g -O2 -MT ta_ROC.lo -MD -MP -MF .deps/ta_ROC.Tpo -c ta_ROC.c -o ta_ROC.o >/dev/null 2>&1\\\\n\\\",\\\"mv -f .deps/ta_ROC.Tpo .deps/ta_ROC.Plo\\\\n\\\",\\\"/bin/bash ../../libtool --tag=CC   --mode=compile gcc -DHAVE_CONFIG_H -I. -I../../include  -I../ta_common/   -g -O2 -MT ta_ROCP.lo -MD -MP -MF .deps/ta_ROCP.Tpo -c -o ta_ROCP.lo ta_ROCP.c\\\\n\\\",\\\" gcc -DHAVE_CONFIG_H -I. -I../../include -I../ta_common/ -g -O2 -MT ta_ROCP.lo -MD -MP -MF .deps/ta_ROCP.Tpo -c ta_ROCP.c  -fPIC -DPIC -o .libs/ta_ROCP.o\\\\n\\\",\\\" gcc -DHAVE_CONFIG_H -I. -I../../include -I../ta_common/ -g -O2 -MT ta_ROCP.lo -MD -MP -MF .deps/ta_ROCP.Tpo -c ta_ROCP.c -o ta_ROCP.o >/dev/null 2>&1\\\\n\\\",\\\"mv -f .deps/ta_ROCP.Tpo .deps/ta_ROCP.Plo\\\\n\\\",\\\"/bin/bash ../../libtool --tag=CC   --mode=compile gcc -DHAVE_CONFIG_H -I. -I../../include  -I../ta_common/   -g -O2 -MT ta_ROCR.lo -MD -MP -MF .deps/ta_ROCR.Tpo -c -o ta_ROCR.lo ta_ROCR.c\\\\n\\\",\\\" gcc -DHAVE_CONFIG_H -I. -I../../include -I../ta_common/ -g -O2 -MT ta_ROCR.lo -MD -MP -MF .deps/ta_ROCR.Tpo -c ta_ROCR.c  -fPIC -DPIC -o .libs/ta_ROCR.o\\\\n\\\",\\\" gcc -DHAVE_CONFIG_H -I. -I../../include -I../ta_common/ -g -O2 -MT ta_ROCR.lo -MD -MP -MF .deps/ta_ROCR.Tpo -c ta_ROCR.c -o ta_ROCR.o >/dev/null 2>&1\\\\n\\\",\\\"mv -f .deps/ta_ROCR.Tpo .deps/ta_ROCR.Plo\\\\n\\\",\\\"/bin/bash ../../libtool --tag=CC   --mode=compile gcc -DHAVE_CONFIG_H -I. -I../../include  -I../ta_common/   -g -O2 -MT ta_ROCR100.lo -MD -MP -MF .deps/ta_ROCR100.Tpo -c -o ta_ROCR100.lo ta_ROCR100.c\\\\n\\\",\\\" gcc -DHAVE_CONFIG_H -I. -I../../include -I../ta_common/ -g -O2 -MT ta_ROCR100.lo -MD -MP -MF .deps/ta_ROCR100.Tpo -c ta_ROCR100.c  -fPIC -DPIC -o .libs/ta_ROCR100.o\\\\n\\\",\\\" gcc -DHAVE_CONFIG_H -I. -I../../include -I../ta_common/ -g -O2 -MT ta_ROCR100.lo -MD -MP -MF .deps/ta_ROCR100.Tpo -c ta_ROCR100.c -o ta_ROCR100.o >/dev/null 2>&1\\\\n\\\",\\\"mv -f .deps/ta_ROCR100.Tpo .deps/ta_ROCR100.Plo\\\\n\\\",\\\"/bin/bash ../../libtool --tag=CC   --mode=compile gcc -DHAVE_CONFIG_H -I. -I../../include  -I../ta_common/   -g -O2 -MT ta_RSI.lo -MD -MP -MF .deps/ta_RSI.Tpo -c -o ta_RSI.lo ta_RSI.c\\\\n\\\",\\\" gcc -DHAVE_CONFIG_H -I. -I../../include -I../ta_common/ -g -O2 -MT ta_RSI.lo -MD -MP -MF .deps/ta_RSI.Tpo -c ta_RSI.c  -fPIC -DPIC -o .libs/ta_RSI.o\\\\n\\\",\\\" gcc -DHAVE_CONFIG_H -I. -I../../include -I../ta_common/ -g -O2 -MT ta_RSI.lo -MD -MP -MF .deps/ta_RSI.Tpo -c ta_RSI.c -o ta_RSI.o >/dev/null 2>&1\\\\n\\\",\\\"mv -f .deps/ta_RSI.Tpo .deps/ta_RSI.Plo\\\\n\\\",\\\"/bin/bash ../../libtool --tag=CC   --mode=compile gcc -DHAVE_CONFIG_H -I. -I../../include  -I../ta_common/   -g -O2 -MT ta_SAR.lo -MD -MP -MF .deps/ta_SAR.Tpo -c -o ta_SAR.lo ta_SAR.c\\\\n\\\",\\\" gcc -DHAVE_CONFIG_H -I. -I../../include -I../ta_common/ -g -O2 -MT ta_SAR.lo -MD -MP -MF .deps/ta_SAR.Tpo -c ta_SAR.c  -fPIC -DPIC -o .libs/ta_SAR.o\\\\n\\\",\\\" gcc -DHAVE_CONFIG_H -I. -I../../include -I../ta_common/ -g -O2 -MT ta_SAR.lo -MD -MP -MF .deps/ta_SAR.Tpo -c ta_SAR.c -o ta_SAR.o >/dev/null 2>&1\\\\n\\\",\\\"mv -f .deps/ta_SAR.Tpo .deps/ta_SAR.Plo\\\\n\\\",\\\"/bin/bash ../../libtool --tag=CC   --mode=compile gcc -DHAVE_CONFIG_H -I. -I../../include  -I../ta_common/   -g -O2 -MT ta_SAREXT.lo -MD -MP -MF .deps/ta_SAREXT.Tpo -c -o ta_SAREXT.lo ta_SAREXT.c\\\\n\\\",\\\" gcc -DHAVE_CONFIG_H -I. -I../../include -I../ta_common/ -g -O2 -MT ta_SAREXT.lo -MD -MP -MF .deps/ta_SAREXT.Tpo -c ta_SAREXT.c  -fPIC -DPIC -o .libs/ta_SAREXT.o\\\\n\\\",\\\" gcc -DHAVE_CONFIG_H -I. -I../../include -I../ta_common/ -g -O2 -MT ta_SAREXT.lo -MD -MP -MF .deps/ta_SAREXT.Tpo -c ta_SAREXT.c -o ta_SAREXT.o >/dev/null 2>&1\\\\n\\\",\\\"mv -f .deps/ta_SAREXT.Tpo .deps/ta_SAREXT.Plo\\\\n\\\",\\\"/bin/bash ../../libtool --tag=CC   --mode=compile gcc -DHAVE_CONFIG_H -I. -I../../include  -I../ta_common/   -g -O2 -MT ta_SIN.lo -MD -MP -MF .deps/ta_SIN.Tpo -c -o ta_SIN.lo ta_SIN.c\\\\n\\\",\\\" gcc -DHAVE_CONFIG_H -I. -I../../include -I../ta_common/ -g -O2 -MT ta_SIN.lo -MD -MP -MF .deps/ta_SIN.Tpo -c ta_SIN.c  -fPIC -DPIC -o .libs/ta_SIN.o\\\\n\\\",\\\" gcc -DHAVE_CONFIG_H -I. -I../../include -I../ta_common/ -g -O2 -MT ta_SIN.lo -MD -MP -MF .deps/ta_SIN.Tpo -c ta_SIN.c -o ta_SIN.o >/dev/null 2>&1\\\\n\\\",\\\"mv -f .deps/ta_SIN.Tpo .deps/ta_SIN.Plo\\\\n\\\",\\\"/bin/bash ../../libtool --tag=CC   --mode=compile gcc -DHAVE_CONFIG_H -I. -I../../include  -I../ta_common/   -g -O2 -MT ta_SINH.lo -MD -MP -MF .deps/ta_SINH.Tpo -c -o ta_SINH.lo ta_SINH.c\\\\n\\\",\\\" gcc -DHAVE_CONFIG_H -I. -I../../include -I../ta_common/ -g -O2 -MT ta_SINH.lo -MD -MP -MF .deps/ta_SINH.Tpo -c ta_SINH.c  -fPIC -DPIC -o .libs/ta_SINH.o\\\\n\\\",\\\" gcc -DHAVE_CONFIG_H -I. -I../../include -I../ta_common/ -g -O2 -MT ta_SINH.lo -MD -MP -MF .deps/ta_SINH.Tpo -c ta_SINH.c -o ta_SINH.o >/dev/null 2>&1\\\\n\\\",\\\"mv -f .deps/ta_SINH.Tpo .deps/ta_SINH.Plo\\\\n\\\",\\\"/bin/bash ../../libtool --tag=CC   --mode=compile gcc -DHAVE_CONFIG_H -I. -I../../include  -I../ta_common/   -g -O2 -MT ta_SMA.lo -MD -MP -MF .deps/ta_SMA.Tpo -c -o ta_SMA.lo ta_SMA.c\\\\n\\\",\\\" gcc -DHAVE_CONFIG_H -I. -I../../include -I../ta_common/ -g -O2 -MT ta_SMA.lo -MD -MP -MF .deps/ta_SMA.Tpo -c ta_SMA.c  -fPIC -DPIC -o .libs/ta_SMA.o\\\\n\\\",\\\" gcc -DHAVE_CONFIG_H -I. -I../../include -I../ta_common/ -g -O2 -MT ta_SMA.lo -MD -MP -MF .deps/ta_SMA.Tpo -c ta_SMA.c -o ta_SMA.o >/dev/null 2>&1\\\\n\\\",\\\"mv -f .deps/ta_SMA.Tpo .deps/ta_SMA.Plo\\\\n\\\",\\\"/bin/bash ../../libtool --tag=CC   --mode=compile gcc -DHAVE_CONFIG_H -I. -I../../include  -I../ta_common/   -g -O2 -MT ta_SQRT.lo -MD -MP -MF .deps/ta_SQRT.Tpo -c -o ta_SQRT.lo ta_SQRT.c\\\\n\\\",\\\" gcc -DHAVE_CONFIG_H -I. -I../../include -I../ta_common/ -g -O2 -MT ta_SQRT.lo -MD -MP -MF .deps/ta_SQRT.Tpo -c ta_SQRT.c  -fPIC -DPIC -o .libs/ta_SQRT.o\\\\n\\\",\\\" gcc -DHAVE_CONFIG_H -I. -I../../include -I../ta_common/ -g -O2 -MT ta_SQRT.lo -MD -MP -MF .deps/ta_SQRT.Tpo -c ta_SQRT.c -o ta_SQRT.o >/dev/null 2>&1\\\\n\\\",\\\"mv -f .deps/ta_SQRT.Tpo .deps/ta_SQRT.Plo\\\\n\\\",\\\"/bin/bash ../../libtool --tag=CC   --mode=compile gcc -DHAVE_CONFIG_H -I. -I../../include  -I../ta_common/   -g -O2 -MT ta_STDDEV.lo -MD -MP -MF .deps/ta_STDDEV.Tpo -c -o ta_STDDEV.lo ta_STDDEV.c\\\\n\\\",\\\" gcc -DHAVE_CONFIG_H -I. -I../../include -I../ta_common/ -g -O2 -MT ta_STDDEV.lo -MD -MP -MF .deps/ta_STDDEV.Tpo -c ta_STDDEV.c  -fPIC -DPIC -o .libs/ta_STDDEV.o\\\\n\\\",\\\" gcc -DHAVE_CONFIG_H -I. -I../../include -I../ta_common/ -g -O2 -MT ta_STDDEV.lo -MD -MP -MF .deps/ta_STDDEV.Tpo -c ta_STDDEV.c -o ta_STDDEV.o >/dev/null 2>&1\\\\n\\\",\\\"mv -f .deps/ta_STDDEV.Tpo .deps/ta_STDDEV.Plo\\\\n\\\",\\\"/bin/bash ../../libtool --tag=CC   --mode=compile gcc -DHAVE_CONFIG_H -I. -I../../include  -I../ta_common/   -g -O2 -MT ta_STOCH.lo -MD -MP -MF .deps/ta_STOCH.Tpo -c -o ta_STOCH.lo ta_STOCH.c\\\\n\\\",\\\" gcc -DHAVE_CONFIG_H -I. -I../../include -I../ta_common/ -g -O2 -MT ta_STOCH.lo -MD -MP -MF .deps/ta_STOCH.Tpo -c ta_STOCH.c  -fPIC -DPIC -o .libs/ta_STOCH.o\\\\n\\\",\\\" gcc -DHAVE_CONFIG_H -I. -I../../include -I../ta_common/ -g -O2 -MT ta_STOCH.lo -MD -MP -MF .deps/ta_STOCH.Tpo -c ta_STOCH.c -o ta_STOCH.o >/dev/null 2>&1\\\\n\\\",\\\"mv -f .deps/ta_STOCH.Tpo .deps/ta_STOCH.Plo\\\\n\\\",\\\"/bin/bash ../../libtool --tag=CC   --mode=compile gcc -DHAVE_CONFIG_H -I. -I../../include  -I../ta_common/   -g -O2 -MT ta_STOCHF.lo -MD -MP -MF .deps/ta_STOCHF.Tpo -c -o ta_STOCHF.lo ta_STOCHF.c\\\\n\\\",\\\" gcc -DHAVE_CONFIG_H -I. -I../../include -I../ta_common/ -g -O2 -MT ta_STOCHF.lo -MD -MP -MF .deps/ta_STOCHF.Tpo -c ta_STOCHF.c  -fPIC -DPIC -o .libs/ta_STOCHF.o\\\\n\\\",\\\" gcc -DHAVE_CONFIG_H -I. -I../../include -I../ta_common/ -g -O2 -MT ta_STOCHF.lo -MD -MP -MF .deps/ta_STOCHF.Tpo -c ta_STOCHF.c -o ta_STOCHF.o >/dev/null 2>&1\\\\n\\\",\\\"mv -f .deps/ta_STOCHF.Tpo .deps/ta_STOCHF.Plo\\\\n\\\",\\\"/bin/bash ../../libtool --tag=CC   --mode=compile gcc -DHAVE_CONFIG_H -I. -I../../include  -I../ta_common/   -g -O2 -MT ta_STOCHRSI.lo -MD -MP -MF .deps/ta_STOCHRSI.Tpo -c -o ta_STOCHRSI.lo ta_STOCHRSI.c\\\\n\\\",\\\" gcc -DHAVE_CONFIG_H -I. -I../../include -I../ta_common/ -g -O2 -MT ta_STOCHRSI.lo -MD -MP -MF .deps/ta_STOCHRSI.Tpo -c ta_STOCHRSI.c  -fPIC -DPIC -o .libs/ta_STOCHRSI.o\\\\n\\\",\\\" gcc -DHAVE_CONFIG_H -I. -I../../include -I../ta_common/ -g -O2 -MT ta_STOCHRSI.lo -MD -MP -MF .deps/ta_STOCHRSI.Tpo -c ta_STOCHRSI.c -o ta_STOCHRSI.o >/dev/null 2>&1\\\\n\\\",\\\"mv -f .deps/ta_STOCHRSI.Tpo .deps/ta_STOCHRSI.Plo\\\\n\\\",\\\"/bin/bash ../../libtool --tag=CC   --mode=compile gcc -DHAVE_CONFIG_H -I. -I../../include  -I../ta_common/   -g -O2 -MT ta_SUB.lo -MD -MP -MF .deps/ta_SUB.Tpo -c -o ta_SUB.lo ta_SUB.c\\\\n\\\",\\\" gcc -DHAVE_CONFIG_H -I. -I../../include -I../ta_common/ -g -O2 -MT ta_SUB.lo -MD -MP -MF .deps/ta_SUB.Tpo -c ta_SUB.c  -fPIC -DPIC -o .libs/ta_SUB.o\\\\n\\\",\\\" gcc -DHAVE_CONFIG_H -I. -I../../include -I../ta_common/ -g -O2 -MT ta_SUB.lo -MD -MP -MF .deps/ta_SUB.Tpo -c ta_SUB.c -o ta_SUB.o >/dev/null 2>&1\\\\n\\\",\\\"mv -f .deps/ta_SUB.Tpo .deps/ta_SUB.Plo\\\\n\\\",\\\"/bin/bash ../../libtool --tag=CC   --mode=compile gcc -DHAVE_CONFIG_H -I. -I../../include  -I../ta_common/   -g -O2 -MT ta_SUM.lo -MD -MP -MF .deps/ta_SUM.Tpo -c -o ta_SUM.lo ta_SUM.c\\\\n\\\",\\\" gcc -DHAVE_CONFIG_H -I. -I../../include -I../ta_common/ -g -O2 -MT ta_SUM.lo -MD -MP -MF .deps/ta_SUM.Tpo -c ta_SUM.c  -fPIC -DPIC -o .libs/ta_SUM.o\\\\n\\\",\\\" gcc -DHAVE_CONFIG_H -I. -I../../include -I../ta_common/ -g -O2 -MT ta_SUM.lo -MD -MP -MF .deps/ta_SUM.Tpo -c ta_SUM.c -o ta_SUM.o >/dev/null 2>&1\\\\n\\\",\\\"mv -f .deps/ta_SUM.Tpo .deps/ta_SUM.Plo\\\\n\\\",\\\"/bin/bash ../../libtool --tag=CC   --mode=compile gcc -DHAVE_CONFIG_H -I. -I../../include  -I../ta_common/   -g -O2 -MT ta_T3.lo -MD -MP -MF .deps/ta_T3.Tpo -c -o ta_T3.lo ta_T3.c\\\\n\\\",\\\" gcc -DHAVE_CONFIG_H -I. -I../../include -I../ta_common/ -g -O2 -MT ta_T3.lo -MD -MP -MF .deps/ta_T3.Tpo -c ta_T3.c  -fPIC -DPIC -o .libs/ta_T3.o\\\\n\\\",\\\" gcc -DHAVE_CONFIG_H -I. -I../../include -I../ta_common/ -g -O2 -MT ta_T3.lo -MD -MP -MF .deps/ta_T3.Tpo -c ta_T3.c -o ta_T3.o >/dev/null 2>&1\\\\n\\\",\\\"mv -f .deps/ta_T3.Tpo .deps/ta_T3.Plo\\\\n\\\",\\\"/bin/bash ../../libtool --tag=CC   --mode=compile gcc -DHAVE_CONFIG_H -I. -I../../include  -I../ta_common/   -g -O2 -MT ta_TAN.lo -MD -MP -MF .deps/ta_TAN.Tpo -c -o ta_TAN.lo ta_TAN.c\\\\n\\\",\\\" gcc -DHAVE_CONFIG_H -I. -I../../include -I../ta_common/ -g -O2 -MT ta_TAN.lo -MD -MP -MF .deps/ta_TAN.Tpo -c ta_TAN.c  -fPIC -DPIC -o .libs/ta_TAN.o\\\\n\\\",\\\" gcc -DHAVE_CONFIG_H -I. -I../../include -I../ta_common/ -g -O2 -MT ta_TAN.lo -MD -MP -MF .deps/ta_TAN.Tpo -c ta_TAN.c -o ta_TAN.o >/dev/null 2>&1\\\\n\\\",\\\"mv -f .deps/ta_TAN.Tpo .deps/ta_TAN.Plo\\\\n\\\",\\\"/bin/bash ../../libtool --tag=CC   --mode=compile gcc -DHAVE_CONFIG_H -I. -I../../include  -I../ta_common/   -g -O2 -MT ta_TANH.lo -MD -MP -MF .deps/ta_TANH.Tpo -c -o ta_TANH.lo ta_TANH.c\\\\n\\\",\\\" gcc -DHAVE_CONFIG_H -I. -I../../include -I../ta_common/ -g -O2 -MT ta_TANH.lo -MD -MP -MF .deps/ta_TANH.Tpo -c ta_TANH.c  -fPIC -DPIC -o .libs/ta_TANH.o\\\\n\\\",\\\" gcc -DHAVE_CONFIG_H -I. -I../../include -I../ta_common/ -g -O2 -MT ta_TANH.lo -MD -MP -MF .deps/ta_TANH.Tpo -c ta_TANH.c -o ta_TANH.o >/dev/null 2>&1\\\\n\\\",\\\"mv -f .deps/ta_TANH.Tpo .deps/ta_TANH.Plo\\\\n\\\",\\\"/bin/bash ../../libtool --tag=CC   --mode=compile gcc -DHAVE_CONFIG_H -I. -I../../include  -I../ta_common/   -g -O2 -MT ta_TEMA.lo -MD -MP -MF .deps/ta_TEMA.Tpo -c -o ta_TEMA.lo ta_TEMA.c\\\\n\\\",\\\" gcc -DHAVE_CONFIG_H -I. -I../../include -I../ta_common/ -g -O2 -MT ta_TEMA.lo -MD -MP -MF .deps/ta_TEMA.Tpo -c ta_TEMA.c  -fPIC -DPIC -o .libs/ta_TEMA.o\\\\n\\\",\\\" gcc -DHAVE_CONFIG_H -I. -I../../include -I../ta_common/ -g -O2 -MT ta_TEMA.lo -MD -MP -MF .deps/ta_TEMA.Tpo -c ta_TEMA.c -o ta_TEMA.o >/dev/null 2>&1\\\\n\\\",\\\"mv -f .deps/ta_TEMA.Tpo .deps/ta_TEMA.Plo\\\\n\\\",\\\"/bin/bash ../../libtool --tag=CC   --mode=compile gcc -DHAVE_CONFIG_H -I. -I../../include  -I../ta_common/   -g -O2 -MT ta_TRANGE.lo -MD -MP -MF .deps/ta_TRANGE.Tpo -c -o ta_TRANGE.lo ta_TRANGE.c\\\\n\\\",\\\" gcc -DHAVE_CONFIG_H -I. -I../../include -I../ta_common/ -g -O2 -MT ta_TRANGE.lo -MD -MP -MF .deps/ta_TRANGE.Tpo -c ta_TRANGE.c  -fPIC -DPIC -o .libs/ta_TRANGE.o\\\\n\\\",\\\" gcc -DHAVE_CONFIG_H -I. -I../../include -I../ta_common/ -g -O2 -MT ta_TRANGE.lo -MD -MP -MF .deps/ta_TRANGE.Tpo -c ta_TRANGE.c -o ta_TRANGE.o >/dev/null 2>&1\\\\n\\\",\\\"mv -f .deps/ta_TRANGE.Tpo .deps/ta_TRANGE.Plo\\\\n\\\",\\\"/bin/bash ../../libtool --tag=CC   --mode=compile gcc -DHAVE_CONFIG_H -I. -I../../include  -I../ta_common/   -g -O2 -MT ta_TRIMA.lo -MD -MP -MF .deps/ta_TRIMA.Tpo -c -o ta_TRIMA.lo ta_TRIMA.c\\\\n\\\",\\\" gcc -DHAVE_CONFIG_H -I. -I../../include -I../ta_common/ -g -O2 -MT ta_TRIMA.lo -MD -MP -MF .deps/ta_TRIMA.Tpo -c ta_TRIMA.c  -fPIC -DPIC -o .libs/ta_TRIMA.o\\\\n\\\",\\\" gcc -DHAVE_CONFIG_H -I. -I../../include -I../ta_common/ -g -O2 -MT ta_TRIMA.lo -MD -MP -MF .deps/ta_TRIMA.Tpo -c ta_TRIMA.c -o ta_TRIMA.o >/dev/null 2>&1\\\\n\\\",\\\"mv -f .deps/ta_TRIMA.Tpo .deps/ta_TRIMA.Plo\\\\n\\\",\\\"/bin/bash ../../libtool --tag=CC   --mode=compile gcc -DHAVE_CONFIG_H -I. -I../../include  -I../ta_common/   -g -O2 -MT ta_TRIX.lo -MD -MP -MF .deps/ta_TRIX.Tpo -c -o ta_TRIX.lo ta_TRIX.c\\\\n\\\",\\\" gcc -DHAVE_CONFIG_H -I. -I../../include -I../ta_common/ -g -O2 -MT ta_TRIX.lo -MD -MP -MF .deps/ta_TRIX.Tpo -c ta_TRIX.c  -fPIC -DPIC -o .libs/ta_TRIX.o\\\\n\\\",\\\" gcc -DHAVE_CONFIG_H -I. -I../../include -I../ta_common/ -g -O2 -MT ta_TRIX.lo -MD -MP -MF .deps/ta_TRIX.Tpo -c ta_TRIX.c -o ta_TRIX.o >/dev/null 2>&1\\\\n\\\",\\\"mv -f .deps/ta_TRIX.Tpo .deps/ta_TRIX.Plo\\\\n\\\",\\\"/bin/bash ../../libtool --tag=CC   --mode=compile gcc -DHAVE_CONFIG_H -I. -I../../include  -I../ta_common/   -g -O2 -MT ta_TSF.lo -MD -MP -MF .deps/ta_TSF.Tpo -c -o ta_TSF.lo ta_TSF.c\\\\n\\\",\\\" gcc -DHAVE_CONFIG_H -I. -I../../include -I../ta_common/ -g -O2 -MT ta_TSF.lo -MD -MP -MF .deps/ta_TSF.Tpo -c ta_TSF.c  -fPIC -DPIC -o .libs/ta_TSF.o\\\\n\\\",\\\" gcc -DHAVE_CONFIG_H -I. -I../../include -I../ta_common/ -g -O2 -MT ta_TSF.lo -MD -MP -MF .deps/ta_TSF.Tpo -c ta_TSF.c -o ta_TSF.o >/dev/null 2>&1\\\\n\\\",\\\"mv -f .deps/ta_TSF.Tpo .deps/ta_TSF.Plo\\\\n\\\",\\\"/bin/bash ../../libtool --tag=CC   --mode=compile gcc -DHAVE_CONFIG_H -I. -I../../include  -I../ta_common/   -g -O2 -MT ta_TYPPRICE.lo -MD -MP -MF .deps/ta_TYPPRICE.Tpo -c -o ta_TYPPRICE.lo ta_TYPPRICE.c\\\\n\\\",\\\" gcc -DHAVE_CONFIG_H -I. -I../../include -I../ta_common/ -g -O2 -MT ta_TYPPRICE.lo -MD -MP -MF .deps/ta_TYPPRICE.Tpo -c ta_TYPPRICE.c  -fPIC -DPIC -o .libs/ta_TYPPRICE.o\\\\n\\\",\\\" gcc -DHAVE_CONFIG_H -I. -I../../include -I../ta_common/ -g -O2 -MT ta_TYPPRICE.lo -MD -MP -MF .deps/ta_TYPPRICE.Tpo -c ta_TYPPRICE.c -o ta_TYPPRICE.o >/dev/null 2>&1\\\\n\\\",\\\"mv -f .deps/ta_TYPPRICE.Tpo .deps/ta_TYPPRICE.Plo\\\\n\\\",\\\"/bin/bash ../../libtool --tag=CC   --mode=compile gcc -DHAVE_CONFIG_H -I. -I../../include  -I../ta_common/   -g -O2 -MT ta_ULTOSC.lo -MD -MP -MF .deps/ta_ULTOSC.Tpo -c -o ta_ULTOSC.lo ta_ULTOSC.c\\\\n\\\",\\\" gcc -DHAVE_CONFIG_H -I. -I../../include -I../ta_common/ -g -O2 -MT ta_ULTOSC.lo -MD -MP -MF .deps/ta_ULTOSC.Tpo -c ta_ULTOSC.c  -fPIC -DPIC -o .libs/ta_ULTOSC.o\\\\n\\\",\\\" gcc -DHAVE_CONFIG_H -I. -I../../include -I../ta_common/ -g -O2 -MT ta_ULTOSC.lo -MD -MP -MF .deps/ta_ULTOSC.Tpo -c ta_ULTOSC.c -o ta_ULTOSC.o >/dev/null 2>&1\\\\n\\\",\\\"mv -f .deps/ta_ULTOSC.Tpo .deps/ta_ULTOSC.Plo\\\\n\\\",\\\"/bin/bash ../../libtool --tag=CC   --mode=compile gcc -DHAVE_CONFIG_H -I. -I../../include  -I../ta_common/   -g -O2 -MT ta_VAR.lo -MD -MP -MF .deps/ta_VAR.Tpo -c -o ta_VAR.lo ta_VAR.c\\\\n\\\",\\\" gcc -DHAVE_CONFIG_H -I. -I../../include -I../ta_common/ -g -O2 -MT ta_VAR.lo -MD -MP -MF .deps/ta_VAR.Tpo -c ta_VAR.c  -fPIC -DPIC -o .libs/ta_VAR.o\\\\n\\\",\\\" gcc -DHAVE_CONFIG_H -I. -I../../include -I../ta_common/ -g -O2 -MT ta_VAR.lo -MD -MP -MF .deps/ta_VAR.Tpo -c ta_VAR.c -o ta_VAR.o >/dev/null 2>&1\\\\n\\\",\\\"mv -f .deps/ta_VAR.Tpo .deps/ta_VAR.Plo\\\\n\\\",\\\"/bin/bash ../../libtool --tag=CC   --mode=compile gcc -DHAVE_CONFIG_H -I. -I../../include  -I../ta_common/   -g -O2 -MT ta_WCLPRICE.lo -MD -MP -MF .deps/ta_WCLPRICE.Tpo -c -o ta_WCLPRICE.lo ta_WCLPRICE.c\\\\n\\\",\\\" gcc -DHAVE_CONFIG_H -I. -I../../include -I../ta_common/ -g -O2 -MT ta_WCLPRICE.lo -MD -MP -MF .deps/ta_WCLPRICE.Tpo -c ta_WCLPRICE.c  -fPIC -DPIC -o .libs/ta_WCLPRICE.o\\\\n\\\",\\\" gcc -DHAVE_CONFIG_H -I. -I../../include -I../ta_common/ -g -O2 -MT ta_WCLPRICE.lo -MD -MP -MF .deps/ta_WCLPRICE.Tpo -c ta_WCLPRICE.c -o ta_WCLPRICE.o >/dev/null 2>&1\\\\n\\\",\\\"mv -f .deps/ta_WCLPRICE.Tpo .deps/ta_WCLPRICE.Plo\\\\n\\\",\\\"/bin/bash ../../libtool --tag=CC   --mode=compile gcc -DHAVE_CONFIG_H -I. -I../../include  -I../ta_common/   -g -O2 -MT ta_WILLR.lo -MD -MP -MF .deps/ta_WILLR.Tpo -c -o ta_WILLR.lo ta_WILLR.c\\\\n\\\",\\\" gcc -DHAVE_CONFIG_H -I. -I../../include -I../ta_common/ -g -O2 -MT ta_WILLR.lo -MD -MP -MF .deps/ta_WILLR.Tpo -c ta_WILLR.c  -fPIC -DPIC -o .libs/ta_WILLR.o\\\\n\\\",\\\" gcc -DHAVE_CONFIG_H -I. -I../../include -I../ta_common/ -g -O2 -MT ta_WILLR.lo -MD -MP -MF .deps/ta_WILLR.Tpo -c ta_WILLR.c -o ta_WILLR.o >/dev/null 2>&1\\\\n\\\",\\\"mv -f .deps/ta_WILLR.Tpo .deps/ta_WILLR.Plo\\\\n\\\",\\\"/bin/bash ../../libtool --tag=CC   --mode=compile gcc -DHAVE_CONFIG_H -I. -I../../include  -I../ta_common/   -g -O2 -MT ta_WMA.lo -MD -MP -MF .deps/ta_WMA.Tpo -c -o ta_WMA.lo ta_WMA.c\\\\n\\\",\\\" gcc -DHAVE_CONFIG_H -I. -I../../include -I../ta_common/ -g -O2 -MT ta_WMA.lo -MD -MP -MF .deps/ta_WMA.Tpo -c ta_WMA.c  -fPIC -DPIC -o .libs/ta_WMA.o\\\\n\\\",\\\" gcc -DHAVE_CONFIG_H -I. -I../../include -I../ta_common/ -g -O2 -MT ta_WMA.lo -MD -MP -MF .deps/ta_WMA.Tpo -c ta_WMA.c -o ta_WMA.o >/dev/null 2>&1\\\\n\\\",\\\"mv -f .deps/ta_WMA.Tpo .deps/ta_WMA.Plo\\\\n\\\",\\\"/bin/bash ../../libtool --tag=CC   --mode=link gcc  -g -O2 -version-info 0:0:0  -o libta_func.la  ta_utility.lo ta_ACOS.lo ta_AD.lo ta_ADD.lo ta_ADOSC.lo ta_ADX.lo ta_ADXR.lo ta_APO.lo ta_AROON.lo ta_AROONOSC.lo ta_ASIN.lo ta_ATAN.lo ta_ATR.lo ta_AVGPRICE.lo ta_BBANDS.lo ta_BETA.lo ta_BOP.lo ta_CCI.lo ta_CDL2CROWS.lo ta_CDL3BLACKCROWS.lo ta_CDL3INSIDE.lo ta_CDL3LINESTRIKE.lo ta_CDL3OUTSIDE.lo ta_CDL3STARSINSOUTH.lo ta_CDL3WHITESOLDIERS.lo ta_CDLABANDONEDBABY.lo ta_CDLADVANCEBLOCK.lo ta_CDLBELTHOLD.lo ta_CDLBREAKAWAY.lo ta_CDLCLOSINGMARUBOZU.lo ta_CDLCONCEALBABYSWALL.lo ta_CDLCOUNTERATTACK.lo ta_CDLDARKCLOUDCOVER.lo ta_CDLDOJI.lo ta_CDLDOJISTAR.lo ta_CDLDRAGONFLYDOJI.lo ta_CDLENGULFING.lo ta_CDLEVENINGDOJISTAR.lo ta_CDLEVENINGSTAR.lo ta_CDLGAPSIDESIDEWHITE.lo ta_CDLGRAVESTONEDOJI.lo ta_CDLHAMMER.lo ta_CDLHANGINGMAN.lo ta_CDLHARAMI.lo ta_CDLHARAMICROSS.lo ta_CDLHIGHWAVE.lo ta_CDLHIKKAKE.lo ta_CDLHIKKAKEMOD.lo ta_CDLHOMINGPIGEON.lo ta_CDLIDENTICAL3CROWS.lo ta_CDLINNECK.lo ta_CDLINVERTEDHAMMER.lo ta_CDLKICKING.lo ta_CDLKICKINGBYLENGTH.lo ta_CDLLADDERBOTTOM.lo ta_CDLLONGLEGGEDDOJI.lo ta_CDLLONGLINE.lo ta_CDLMARUBOZU.lo ta_CDLMATCHINGLOW.lo ta_CDLMATHOLD.lo ta_CDLMORNINGDOJISTAR.lo ta_CDLMORNINGSTAR.lo ta_CDLONNECK.lo ta_CDLPIERCING.lo ta_CDLRICKSHAWMAN.lo ta_CDLRISEFALL3METHODS.lo ta_CDLSEPARATINGLINES.lo ta_CDLSHOOTINGSTAR.lo ta_CDLSHORTLINE.lo ta_CDLSPINNINGTOP.lo ta_CDLSTALLEDPATTERN.lo ta_CDLSTICKSANDWICH.lo ta_CDLTAKURI.lo ta_CDLTASUKIGAP.lo ta_CDLTHRUSTING.lo ta_CDLTRISTAR.lo ta_CDLUNIQUE3RIVER.lo ta_CDLUPSIDEGAP2CROWS.lo ta_CDLXSIDEGAP3METHODS.lo ta_CEIL.lo ta_CMO.lo ta_CORREL.lo ta_COS.lo ta_COSH.lo ta_DEMA.lo ta_DIV.lo ta_DX.lo ta_EMA.lo ta_EXP.lo ta_FLOOR.lo ta_HT_DCPERIOD.lo ta_HT_DCPHASE.lo ta_HT_PHASOR.lo ta_HT_SINE.lo ta_HT_TRENDLINE.lo ta_HT_TRENDMODE.lo ta_KAMA.lo ta_LINEARREG.lo ta_LINEARREG_ANGLE.lo ta_LINEARREG_INTERCEPT.lo ta_LINEARREG_SLOPE.lo ta_LN.lo ta_LOG10.lo ta_MA.lo ta_MACD.lo ta_MACDEXT.lo ta_MACDFIX.lo ta_MAMA.lo ta_MAVP.lo ta_MAX.lo ta_MAXINDEX.lo ta_MEDPRICE.lo ta_MFI.lo ta_MIDPOINT.lo ta_MIDPRICE.lo ta_MIN.lo ta_MININDEX.lo ta_MINMAX.lo ta_MINMAXINDEX.lo ta_MINUS_DI.lo ta_MINUS_DM.lo ta_MOM.lo ta_MULT.lo ta_NATR.lo ta_OBV.lo ta_PLUS_DI.lo ta_PLUS_DM.lo ta_PPO.lo ta_ROC.lo ta_ROCP.lo ta_ROCR.lo ta_ROCR100.lo ta_RSI.lo ta_SAR.lo ta_SAREXT.lo ta_SIN.lo ta_SINH.lo ta_SMA.lo ta_SQRT.lo ta_STDDEV.lo ta_STOCH.lo ta_STOCHF.lo ta_STOCHRSI.lo ta_SUB.lo ta_SUM.lo ta_T3.lo ta_TAN.lo ta_TANH.lo ta_TEMA.lo ta_TRANGE.lo ta_TRIMA.lo ta_TRIX.lo ta_TSF.lo ta_TYPPRICE.lo ta_ULTOSC.lo ta_VAR.lo ta_WCLPRICE.lo ta_WILLR.lo ta_WMA.lo  -lpthread -ldl \\\\n\\\",\\\"libtool: link: warning: `-version-info/-version-number' is ignored for convenience libraries\\\\n\\\",\\\"ar cru .libs/libta_func.a .libs/ta_utility.o .libs/ta_ACOS.o .libs/ta_AD.o .libs/ta_ADD.o .libs/ta_ADOSC.o .libs/ta_ADX.o .libs/ta_ADXR.o .libs/ta_APO.o .libs/ta_AROON.o .libs/ta_AROONOSC.o .libs/ta_ASIN.o .libs/ta_ATAN.o .libs/ta_ATR.o .libs/ta_AVGPRICE.o .libs/ta_BBANDS.o .libs/ta_BETA.o .libs/ta_BOP.o .libs/ta_CCI.o .libs/ta_CDL2CROWS.o .libs/ta_CDL3BLACKCROWS.o .libs/ta_CDL3INSIDE.o .libs/ta_CDL3LINESTRIKE.o .libs/ta_CDL3OUTSIDE.o .libs/ta_CDL3STARSINSOUTH.o .libs/ta_CDL3WHITESOLDIERS.o .libs/ta_CDLABANDONEDBABY.o .libs/ta_CDLADVANCEBLOCK.o .libs/ta_CDLBELTHOLD.o .libs/ta_CDLBREAKAWAY.o .libs/ta_CDLCLOSINGMARUBOZU.o .libs/ta_CDLCONCEALBABYSWALL.o .libs/ta_CDLCOUNTERATTACK.o .libs/ta_CDLDARKCLOUDCOVER.o .libs/ta_CDLDOJI.o .libs/ta_CDLDOJISTAR.o .libs/ta_CDLDRAGONFLYDOJI.o .libs/ta_CDLENGULFING.o .libs/ta_CDLEVENINGDOJISTAR.o .libs/ta_CDLEVENINGSTAR.o .libs/ta_CDLGAPSIDESIDEWHITE.o .libs/ta_CDLGRAVESTONEDOJI.o .libs/ta_CDLHAMMER.o .libs/ta_CDLHANGINGMAN.o .libs/ta_CDLHARAMI.o .libs/ta_CDLHARAMICROSS.o .libs/ta_CDLHIGHWAVE.o .libs/ta_CDLHIKKAKE.o .libs/ta_CDLHIKKAKEMOD.o .libs/ta_CDLHOMINGPIGEON.o .libs/ta_CDLIDENTICAL3CROWS.o .libs/ta_CDLINNECK.o .libs/ta_CDLINVERTEDHAMMER.o .libs/ta_CDLKICKING.o .libs/ta_CDLKICKINGBYLENGTH.o .libs/ta_CDLLADDERBOTTOM.o .libs/ta_CDLLONGLEGGEDDOJI.o .libs/ta_CDLLONGLINE.o .libs/ta_CDLMARUBOZU.o .libs/ta_CDLMATCHINGLOW.o .libs/ta_CDLMATHOLD.o .libs/ta_CDLMORNINGDOJISTAR.o .libs/ta_CDLMORNINGSTAR.o .libs/ta_CDLONNECK.o .libs/ta_CDLPIERCING.o .libs/ta_CDLRICKSHAWMAN.o .libs/ta_CDLRISEFALL3METHODS.o .libs/ta_CDLSEPARATINGLINES.o .libs/ta_CDLSHOOTINGSTAR.o .libs/ta_CDLSHORTLINE.o .libs/ta_CDLSPINNINGTOP.o .libs/ta_CDLSTALLEDPATTERN.o .libs/ta_CDLSTICKSANDWICH.o .libs/ta_CDLTAKURI.o .libs/ta_CDLTASUKIGAP.o .libs/ta_CDLTHRUSTING.o .libs/ta_CDLTRISTAR.o .libs/ta_CDLUNIQUE3RIVER.o .libs/ta_CDLUPSIDEGAP2CROWS.o .libs/ta_CDLXSIDEGAP3METHODS.o .libs/ta_CEIL.o .libs/ta_CMO.o .libs/ta_CORREL.o .libs/ta_COS.o .libs/ta_COSH.o .libs/ta_DEMA.o .libs/ta_DIV.o .libs/ta_DX.o .libs/ta_EMA.o .libs/ta_EXP.o .libs/ta_FLOOR.o .libs/ta_HT_DCPERIOD.o .libs/ta_HT_DCPHASE.o .libs/ta_HT_PHASOR.o .libs/ta_HT_SINE.o .libs/ta_HT_TRENDLINE.o .libs/ta_HT_TRENDMODE.o .libs/ta_KAMA.o .libs/ta_LINEARREG.o .libs/ta_LINEARREG_ANGLE.o .libs/ta_LINEARREG_INTERCEPT.o .libs/ta_LINEARREG_SLOPE.o .libs/ta_LN.o .libs/ta_LOG10.o .libs/ta_MA.o .libs/ta_MACD.o .libs/ta_MACDEXT.o .libs/ta_MACDFIX.o .libs/ta_MAMA.o .libs/ta_MAVP.o .libs/ta_MAX.o .libs/ta_MAXINDEX.o .libs/ta_MEDPRICE.o .libs/ta_MFI.o .libs/ta_MIDPOINT.o .libs/ta_MIDPRICE.o .libs/ta_MIN.o .libs/ta_MININDEX.o .libs/ta_MINMAX.o .libs/ta_MINMAXINDEX.o .libs/ta_MINUS_DI.o .libs/ta_MINUS_DM.o .libs/ta_MOM.o .libs/ta_MULT.o .libs/ta_NATR.o .libs/ta_OBV.o .libs/ta_PLUS_DI.o .libs/ta_PLUS_DM.o .libs/ta_PPO.o .libs/ta_ROC.o .libs/ta_ROCP.o .libs/ta_ROCR.o .libs/ta_ROCR100.o .libs/ta_RSI.o .libs/ta_SAR.o .libs/ta_SAREXT.o .libs/ta_SIN.o .libs/ta_SINH.o .libs/ta_SMA.o .libs/ta_SQRT.o .libs/ta_STDDEV.o .libs/ta_STOCH.o .libs/ta_STOCHF.o .libs/ta_STOCHRSI.o .libs/ta_SUB.o .libs/ta_SUM.o .libs/ta_T3.o .libs/ta_TAN.o .libs/ta_TANH.o .libs/ta_TEMA.o .libs/ta_TRANGE.o .libs/ta_TRIMA.o .libs/ta_TRIX.o .libs/ta_TSF.o .libs/ta_TYPPRICE.o .libs/ta_ULTOSC.o .libs/ta_VAR.o .libs/ta_WCLPRICE.o .libs/ta_WILLR.o .libs/ta_WMA.o\\\\n\\\",\\\"ar: `u' modifier ignored since `D' is the default (see `U')\\\\n\\\",\\\"ranlib .libs/libta_func.a\\\\n\\\",\\\"creating libta_func.la\\\\n\\\",\\\"(cd .libs && rm -f libta_func.la && ln -s ../libta_func.la libta_func.la)\\\\n\\\",\\\"make[2]: Leaving directory '/content/ta-lib/src/ta_func'\\\\n\\\",\\\"make[2]: Entering directory '/content/ta-lib/src'\\\\n\\\",\\\"/bin/bash ../libtool --tag=CC   --mode=link gcc  -g -O2 -version-info 0:0:0  -o libta_lib.la -rpath /usr/lib  ta_abstract/libta_abstract.la ta_func/libta_func.la ta_common/libta_common.la -lpthread -ldl \\\\n\\\",\\\"mkdir .libs\\\\n\\\",\\\"gcc -shared  -Wl,--whole-archive ta_abstract/.libs/libta_abstract.a ta_func/.libs/libta_func.a ta_common/.libs/libta_common.a -Wl,--no-whole-archive  -lpthread -ldl  -Wl,-soname -Wl,libta_lib.so.0 -o .libs/libta_lib.so.0.0.0\\\\n\\\",\\\"(cd .libs && rm -f libta_lib.so.0 && ln -s libta_lib.so.0.0.0 libta_lib.so.0)\\\\n\\\",\\\"(cd .libs && rm -f libta_lib.so && ln -s libta_lib.so.0.0.0 libta_lib.so)\\\\n\\\",\\\"rm -fr .libs/libta_lib.lax\\\\n\\\",\\\"mkdir .libs/libta_lib.lax\\\\n\\\",\\\"rm -fr .libs/libta_lib.lax/libta_abstract.a\\\\n\\\",\\\"mkdir .libs/libta_lib.lax/libta_abstract.a\\\\n\\\",\\\"(cd .libs/libta_lib.lax/libta_abstract.a && ar x /content/ta-lib/src/ta_abstract/.libs/libta_abstract.a)\\\\n\\\",\\\"rm -fr .libs/libta_lib.lax/libta_func.a\\\\n\\\",\\\"mkdir .libs/libta_lib.lax/libta_func.a\\\\n\\\",\\\"(cd .libs/libta_lib.lax/libta_func.a && ar x /content/ta-lib/src/ta_func/.libs/libta_func.a)\\\\n\\\",\\\"rm -fr .libs/libta_lib.lax/libta_common.a\\\\n\\\",\\\"mkdir .libs/libta_lib.lax/libta_common.a\\\\n\\\",\\\"(cd .libs/libta_lib.lax/libta_common.a && ar x /content/ta-lib/src/ta_common/.libs/libta_common.a)\\\\n\\\",\\\"ar cru .libs/libta_lib.a   .libs/libta_lib.lax/libta_abstract.a/libta_abstract_la-table_i.o .libs/libta_lib.lax/libta_abstract.a/libta_abstract_la-table_j.o .libs/libta_lib.lax/libta_abstract.a/libta_abstract_la-table_v.o .libs/libta_lib.lax/libta_abstract.a/libta_abstract_la-table_h.o .libs/libta_lib.lax/libta_abstract.a/libta_abstract_la-table_p.o .libs/libta_lib.lax/libta_abstract.a/libta_abstract_la-table_s.o .libs/libta_lib.lax/libta_abstract.a/libta_abstract_la-ta_func_api.o .libs/libta_lib.lax/libta_abstract.a/libta_abstract_la-ta_abstract.o .libs/libta_lib.lax/libta_abstract.a/libta_abstract_la-table_k.o .libs/libta_lib.lax/libta_abstract.a/libta_abstract_la-table_y.o .libs/libta_lib.lax/libta_abstract.a/libta_abstract_la-ta_def_ui.o .libs/libta_lib.lax/libta_abstract.a/libta_abstract_la-ta_group_idx.o .libs/libta_lib.lax/libta_abstract.a/libta_abstract_la-table_o.o .libs/libta_lib.lax/libta_abstract.a/libta_abstract_la-table_e.o .libs/libta_lib.lax/libta_abstract.a/libta_abstract_la-table_b.o .libs/libta_lib.lax/libta_abstract.a/libta_abstract_la-table_l.o .libs/libta_lib.lax/libta_abstract.a/libta_abstract_la-table_x.o .libs/libta_lib.lax/libta_abstract.a/libta_abstract_la-table_d.o .libs/libta_lib.lax/libta_abstract.a/libta_abstract_la-table_u.o .libs/libta_lib.lax/libta_abstract.a/libta_abstract_la-table_a.o .libs/libta_lib.lax/libta_abstract.a/libta_abstract_la-table_t.o .libs/libta_lib.lax/libta_abstract.a/libta_abstract_la-table_m.o .libs/libta_lib.lax/libta_abstract.a/libta_abstract_la-table_w.o .libs/libta_lib.lax/libta_abstract.a/libta_abstract_la-table_g.o .libs/libta_lib.lax/libta_abstract.a/libta_abstract_la-table_f.o .libs/libta_lib.lax/libta_abstract.a/libta_abstract_la-table_c.o .libs/libta_lib.lax/libta_abstract.a/libta_abstract_la-table_r.o .libs/libta_lib.lax/libta_abstract.a/libta_abstract_la-table_n.o .libs/libta_lib.lax/libta_abstract.a/libta_abstract_la-table_q.o .libs/libta_lib.lax/libta_abstract.a/libta_abstract_la-table_z.o .libs/libta_lib.lax/libta_abstract.a/libta_abstract_la-ta_frame.o  .libs/libta_lib.lax/libta_func.a/ta_ULTOSC.o .libs/libta_lib.lax/libta_func.a/ta_CDLCLOSINGMARUBOZU.o .libs/libta_lib.lax/libta_func.a/ta_COS.o .libs/libta_lib.lax/libta_func.a/ta_ADX.o .libs/libta_lib.lax/libta_func.a/ta_HT_DCPERIOD.o .libs/libta_lib.lax/libta_func.a/ta_TAN.o .libs/libta_lib.lax/libta_func.a/ta_MINMAXINDEX.o .libs/libta_lib.lax/libta_func.a/ta_WILLR.o .libs/libta_lib.lax/libta_func.a/ta_CDLMORNINGSTAR.o .libs/libta_lib.lax/libta_func.a/ta_AVGPRICE.o .libs/libta_lib.lax/libta_func.a/ta_WMA.o .libs/libta_lib.lax/libta_func.a/ta_SUM.o .libs/libta_lib.lax/libta_func.a/ta_CDLMARUBOZU.o .libs/libta_lib.lax/libta_func.a/ta_TSF.o .libs/libta_lib.lax/libta_func.a/ta_CDLHARAMI.o .libs/libta_lib.lax/libta_func.a/ta_STOCHF.o .libs/libta_lib.lax/libta_func.a/ta_CDLINVERTEDHAMMER.o .libs/libta_lib.lax/libta_func.a/ta_CDL3WHITESOLDIERS.o .libs/libta_lib.lax/libta_func.a/ta_ASIN.o .libs/libta_lib.lax/libta_func.a/ta_CDLSHOOTINGSTAR.o .libs/libta_lib.lax/libta_func.a/ta_CDLRISEFALL3METHODS.o .libs/libta_lib.lax/libta_func.a/ta_CDLSPINNINGTOP.o .libs/libta_lib.lax/libta_func.a/ta_MAX.o .libs/libta_lib.lax/libta_func.a/ta_ATR.o .libs/libta_lib.lax/libta_func.a/ta_CDL3LINESTRIKE.o .libs/libta_lib.lax/libta_func.a/ta_MOM.o .libs/libta_lib.lax/libta_func.a/ta_DIV.o .libs/libta_lib.lax/libta_func.a/ta_LINEARREG_SLOPE.o .libs/libta_lib.lax/libta_func.a/ta_CDLLADDERBOTTOM.o .libs/libta_lib.lax/libta_func.a/ta_AROON.o .libs/libta_lib.lax/libta_func.a/ta_MAMA.o .libs/libta_lib.lax/libta_func.a/ta_CDLEVENINGSTAR.o .libs/libta_lib.lax/libta_func.a/ta_SAR.o .libs/libta_lib.lax/libta_func.a/ta_CDLIDENTICAL3CROWS.o .libs/libta_lib.lax/libta_func.a/ta_CDLTASUKIGAP.o .libs/libta_lib.lax/libta_func.a/ta_MACDFIX.o .libs/libta_lib.lax/libta_func.a/ta_MIDPRICE.o .libs/libta_lib.lax/libta_func.a/ta_TANH.o .libs/libta_lib.lax/libta_func.a/ta_CDLGRAVESTONEDOJI.o .libs/libta_lib.lax/libta_func.a/ta_CDL3BLACKCROWS.o .libs/libta_lib.lax/libta_func.a/ta_CDLMATCHINGLOW.o .libs/libta_lib.lax/libta_func.a/ta_ROC.o .libs/libta_lib.lax/libta_func.a/ta_NATR.o .libs/libta_lib.lax/libta_func.a/ta_KAMA.o .libs/libta_lib.lax/libta_func.a/ta_CDLADVANCEBLOCK.o .libs/libta_lib.lax/libta_func.a/ta_DX.o .libs/libta_lib.lax/libta_func.a/ta_CDLLONGLINE.o .libs/libta_lib.lax/libta_func.a/ta_HT_SINE.o .libs/libta_lib.lax/libta_func.a/ta_SIN.o .libs/libta_lib.lax/libta_func.a/ta_CDLBREAKAWAY.o .libs/libta_lib.lax/libta_func.a/ta_SUB.o .libs/libta_lib.lax/libta_func.a/ta_COSH.o .libs/libta_lib.lax/libta_func.a/ta_SINH.o .libs/libta_lib.lax/libta_func.a/ta_STOCH.o .libs/libta_lib.lax/libta_func.a/ta_MINUS_DM.o .libs/libta_lib.lax/libta_func.a/ta_SAREXT.o .libs/libta_lib.lax/libta_func.a/ta_ROCR100.o .libs/libta_lib.lax/libta_func.a/ta_CDLEVENINGDOJISTAR.o .libs/libta_lib.lax/libta_func.a/ta_PLUS_DM.o .libs/libta_lib.lax/libta_func.a/ta_CDLTRISTAR.o .libs/libta_lib.lax/libta_func.a/ta_STDDEV.o .libs/libta_lib.lax/libta_func.a/ta_LOG10.o .libs/libta_lib.lax/libta_func.a/ta_CDLHIKKAKE.o .libs/libta_lib.lax/libta_func.a/ta_SQRT.o .libs/libta_lib.lax/libta_func.a/ta_LINEARREG_ANGLE.o .libs/libta_lib.lax/libta_func.a/ta_ACOS.o .libs/libta_lib.lax/libta_func.a/ta_MACD.o .libs/libta_lib.lax/libta_func.a/ta_ADXR.o .libs/libta_lib.lax/libta_func.a/ta_STOCHRSI.o .libs/libta_lib.lax/libta_func.a/ta_CDLMORNINGDOJISTAR.o .libs/libta_lib.lax/libta_func.a/ta_AROONOSC.o .libs/libta_lib.lax/libta_func.a/ta_CDLKICKINGBYLENGTH.o .libs/libta_lib.lax/libta_func.a/ta_utility.o .libs/libta_lib.lax/libta_func.a/ta_CDL2CROWS.o .libs/libta_lib.lax/libta_func.a/ta_CDL3OUTSIDE.o .libs/libta_lib.lax/libta_func.a/ta_CDL3STARSINSOUTH.o .libs/libta_lib.lax/libta_func.a/ta_CDLHARAMICROSS.o .libs/libta_lib.lax/libta_func.a/ta_CDLKICKING.o .libs/libta_lib.lax/libta_func.a/ta_TYPPRICE.o .libs/libta_lib.lax/libta_func.a/ta_CDLHIKKAKEMOD.o .libs/libta_lib.lax/libta_func.a/ta_ATAN.o .libs/libta_lib.lax/libta_func.a/ta_TEMA.o .libs/libta_lib.lax/libta_func.a/ta_CDLPIERCING.o .libs/libta_lib.lax/libta_func.a/ta_CDLRICKSHAWMAN.o .libs/libta_lib.lax/libta_func.a/ta_CDLSHORTLINE.o .libs/libta_lib.lax/libta_func.a/ta_BOP.o .libs/libta_lib.lax/libta_func.a/ta_CDLCONCEALBABYSWALL.o .libs/libta_lib.lax/libta_func.a/ta_CDLONNECK.o .libs/libta_lib.lax/libta_func.a/ta_CDLSTALLEDPATTERN.o .libs/libta_lib.lax/libta_func.a/ta_CDLLONGLEGGEDDOJI.o .libs/libta_lib.lax/libta_func.a/ta_CMO.o .libs/libta_lib.lax/libta_func.a/ta_CDLDOJI.o .libs/libta_lib.lax/libta_func.a/ta_TRANGE.o .libs/libta_lib.lax/libta_func.a/ta_MINMAX.o .libs/libta_lib.lax/libta_func.a/ta_CEIL.o .libs/libta_lib.lax/libta_func.a/ta_LN.o .libs/libta_lib.lax/libta_func.a/ta_CORREL.o .libs/libta_lib.lax/libta_func.a/ta_RSI.o .libs/libta_lib.lax/libta_func.a/ta_BETA.o .libs/libta_lib.lax/libta_func.a/ta_CDLUPSIDEGAP2CROWS.o .libs/libta_lib.lax/libta_func.a/ta_TRIX.o .libs/libta_lib.lax/libta_func.a/ta_CDLGAPSIDESIDEWHITE.o .libs/libta_lib.lax/libta_func.a/ta_PLUS_DI.o .libs/libta_lib.lax/libta_func.a/ta_CDLDRAGONFLYDOJI.o .libs/libta_lib.lax/libta_func.a/ta_MINUS_DI.o .libs/libta_lib.lax/libta_func.a/ta_MULT.o .libs/libta_lib.lax/libta_func.a/ta_CDLINNECK.o .libs/libta_lib.lax/libta_func.a/ta_LINEARREG_INTERCEPT.o .libs/libta_lib.lax/libta_func.a/ta_MAVP.o .libs/libta_lib.lax/libta_func.a/ta_CDLDARKCLOUDCOVER.o .libs/libta_lib.lax/libta_func.a/ta_TRIMA.o .libs/libta_lib.lax/libta_func.a/ta_CCI.o .libs/libta_lib.lax/libta_func.a/ta_APO.o .libs/libta_lib.lax/libta_func.a/ta_CDLTHRUSTING.o .libs/libta_lib.lax/libta_func.a/ta_LINEARREG.o .libs/libta_lib.lax/libta_func.a/ta_ADD.o .libs/libta_lib.lax/libta_func.a/ta_CDLHIGHWAVE.o .libs/libta_lib.lax/libta_func.a/ta_ADOSC.o .libs/libta_lib.lax/libta_func.a/ta_MIDPOINT.o .libs/libta_lib.lax/libta_func.a/ta_OBV.o .libs/libta_lib.lax/libta_func.a/ta_SMA.o .libs/libta_lib.lax/libta_func.a/ta_MFI.o .libs/libta_lib.lax/libta_func.a/ta_CDLENGULFING.o .libs/libta_lib.lax/libta_func.a/ta_CDLABANDONEDBABY.o .libs/libta_lib.lax/libta_func.a/ta_MAXINDEX.o .libs/libta_lib.lax/libta_func.a/ta_CDLHOMINGPIGEON.o .libs/libta_lib.lax/libta_func.a/ta_VAR.o .libs/libta_lib.lax/libta_func.a/ta_WCLPRICE.o .libs/libta_lib.lax/libta_func.a/ta_T3.o .libs/libta_lib.lax/libta_func.a/ta_FLOOR.o .libs/libta_lib.lax/libta_func.a/ta_HT_DCPHASE.o .libs/libta_lib.lax/libta_func.a/ta_CDLHANGINGMAN.o .libs/libta_lib.lax/libta_func.a/ta_CDLDOJISTAR.o .libs/libta_lib.lax/libta_func.a/ta_CDLXSIDEGAP3METHODS.o .libs/libta_lib.lax/libta_func.a/ta_EXP.o .libs/libta_lib.lax/libta_func.a/ta_HT_PHASOR.o .libs/libta_lib.lax/libta_func.a/ta_AD.o .libs/libta_lib.lax/libta_func.a/ta_CDLUNIQUE3RIVER.o .libs/libta_lib.lax/libta_func.a/ta_BBANDS.o .libs/libta_lib.lax/libta_func.a/ta_MIN.o .libs/libta_lib.lax/libta_func.a/ta_MACDEXT.o .libs/libta_lib.lax/libta_func.a/ta_CDLSTICKSANDWICH.o .libs/libta_lib.lax/libta_func.a/ta_CDLTAKURI.o .libs/libta_lib.lax/libta_func.a/ta_MEDPRICE.o .libs/libta_lib.lax/libta_func.a/ta_MININDEX.o .libs/libta_lib.lax/libta_func.a/ta_CDLBELTHOLD.o .libs/libta_lib.lax/libta_func.a/ta_EMA.o .libs/libta_lib.lax/libta_func.a/ta_HT_TRENDLINE.o .libs/libta_lib.lax/libta_func.a/ta_HT_TRENDMODE.o .libs/libta_lib.lax/libta_func.a/ta_CDLHAMMER.o .libs/libta_lib.lax/libta_func.a/ta_ROCP.o .libs/libta_lib.lax/libta_func.a/ta_CDL3INSIDE.o .libs/libta_lib.lax/libta_func.a/ta_ROCR.o .libs/libta_lib.lax/libta_func.a/ta_PPO.o .libs/libta_lib.lax/libta_func.a/ta_CDLMATHOLD.o .libs/libta_lib.lax/libta_func.a/ta_CDLSEPARATINGLINES.o .libs/libta_lib.lax/libta_func.a/ta_DEMA.o .libs/libta_lib.lax/libta_func.a/ta_MA.o .libs/libta_lib.lax/libta_func.a/ta_CDLCOUNTERATTACK.o  .libs/libta_lib.lax/libta_common.a/ta_version.o .libs/libta_lib.lax/libta_common.a/ta_global.o .libs/libta_lib.lax/libta_common.a/ta_retcode.o \\\\n\\\",\\\"ar: `u' modifier ignored since `D' is the default (see `U')\\\\n\\\",\\\"ranlib .libs/libta_lib.a\\\\n\\\",\\\"rm -fr .libs/libta_lib.lax\\\\n\\\",\\\"creating libta_lib.la\\\\n\\\",\\\"(cd .libs && rm -f libta_lib.la && ln -s ../libta_lib.la libta_lib.la)\\\\n\\\",\\\"make[2]: Leaving directory '/content/ta-lib/src'\\\\n\\\",\\\"make[1]: Leaving directory '/content/ta-lib/src'\\\\n\\\",\\\"Making all in src/tools\\\\n\\\",\\\"make[1]: Entering directory '/content/ta-lib/src/tools'\\\\n\\\",\\\"Making all in gen_code\\\\n\\\",\\\"make[2]: Entering directory '/content/ta-lib/src/tools/gen_code'\\\\n\\\",\\\"gcc -DHAVE_CONFIG_H -I. -I../../../include  -I../../ta_common   -g -O2 -MT gen_code-gen_code.o -MD -MP -MF .deps/gen_code-gen_code.Tpo -c -o gen_code-gen_code.o `test -f 'gen_code.c' || echo './'`gen_code.c\\\\n\\\",\\\"\\\\u001b[01m\\\\u001b[Kgen_code.c:\\\\u001b[m\\\\u001b[K In function ‘\\\\u001b[01m\\\\u001b[KprintFuncHeaderDoc\\\\u001b[m\\\\u001b[K’:\\\\n\\\",\\\"\\\\u001b[01m\\\\u001b[Kgen_code.c:3456:4:\\\\u001b[m\\\\u001b[K \\\\u001b[01;35m\\\\u001b[Kwarning: \\\\u001b[m\\\\u001b[Kformat not a string literal and no format arguments [\\\\u001b[01;35m\\\\u001b[K-Wformat-security\\\\u001b[m\\\\u001b[K]\\\\n\\\",\\\"    \\\\u001b[01;35m\\\\u001b[Kfprintf\\\\u001b[m\\\\u001b[K( out, prefix );\\\\n\\\",\\\"    \\\\u001b[01;35m\\\\u001b[K^~~~~~~\\\\u001b[m\\\\u001b[K\\\\n\\\",\\\"mv -f .deps/gen_code-gen_code.Tpo .deps/gen_code-gen_code.Po\\\\n\\\",\\\"/bin/bash ../../../libtool --tag=CC   --mode=link gcc  -g -O2 -L../../ta_common -L../../ta_abstract -L../../ta_func  -o gen_code gen_code-gen_code.o -lta_common -lta_abstract_gc -lta_func -lm -lpthread -ldl \\\\n\\\",\\\"mkdir .libs\\\\n\\\",\\\"gcc -g -O2 -o gen_code gen_code-gen_code.o  -L/content/ta-lib/src/ta_common -L/content/ta-lib/src/ta_abstract -L/content/ta-lib/src/ta_func /content/ta-lib/src/ta_common/.libs/libta_common.a /content/ta-lib/src/ta_abstract/.libs/libta_abstract_gc.a /content/ta-lib/src/ta_func/.libs/libta_func.a -lm -lpthread -ldl\\\\n\\\",\\\"make  gen_code\\\\n\\\",\\\"make[3]: Entering directory '/content/ta-lib/src/tools/gen_code'\\\\n\\\",\\\"make[3]: 'gen_code' is up to date.\\\\n\\\",\\\"make[3]: Leaving directory '/content/ta-lib/src/tools/gen_code'\\\\n\\\",\\\"cp gen_code ../../../bin\\\\n\\\",\\\"make[2]: Leaving directory '/content/ta-lib/src/tools/gen_code'\\\\n\\\",\\\"Making all in ta_regtest\\\\n\\\",\\\"make[2]: Entering directory '/content/ta-lib/src/tools/ta_regtest'\\\\n\\\",\\\"gcc -DHAVE_CONFIG_H -I. -I../../../include  -I../../ta_func -I../../ta_common/trio -I../../ta_common/mt -I../../ta_common -I../../ta_abstract   -g -O2 -MT ta_regtest-ta_regtest.o -MD -MP -MF .deps/ta_regtest-ta_regtest.Tpo -c -o ta_regtest-ta_regtest.o `test -f 'ta_regtest.c' || echo './'`ta_regtest.c\\\\n\\\",\\\"mv -f .deps/ta_regtest-ta_regtest.Tpo .deps/ta_regtest-ta_regtest.Po\\\\n\\\",\\\"gcc -DHAVE_CONFIG_H -I. -I../../../include  -I../../ta_func -I../../ta_common/trio -I../../ta_common/mt -I../../ta_common -I../../ta_abstract   -g -O2 -MT ta_regtest-test_data.o -MD -MP -MF .deps/ta_regtest-test_data.Tpo -c -o ta_regtest-test_data.o `test -f 'test_data.c' || echo './'`test_data.c\\\\n\\\",\\\"mv -f .deps/ta_regtest-test_data.Tpo .deps/ta_regtest-test_data.Po\\\\n\\\",\\\"gcc -DHAVE_CONFIG_H -I. -I../../../include  -I../../ta_func -I../../ta_common/trio -I../../ta_common/mt -I../../ta_common -I../../ta_abstract   -g -O2 -MT ta_regtest-test_util.o -MD -MP -MF .deps/ta_regtest-test_util.Tpo -c -o ta_regtest-test_util.o `test -f 'test_util.c' || echo './'`test_util.c\\\\n\\\",\\\"mv -f .deps/ta_regtest-test_util.Tpo .deps/ta_regtest-test_util.Po\\\\n\\\",\\\"gcc -DHAVE_CONFIG_H -I. -I../../../include  -I../../ta_func -I../../ta_common/trio -I../../ta_common/mt -I../../ta_common -I../../ta_abstract   -g -O2 -MT ta_regtest-test_abstract.o -MD -MP -MF .deps/ta_regtest-test_abstract.Tpo -c -o ta_regtest-test_abstract.o `test -f 'test_abstract.c' || echo './'`test_abstract.c\\\\n\\\",\\\"mv -f .deps/ta_regtest-test_abstract.Tpo .deps/ta_regtest-test_abstract.Po\\\\n\\\",\\\"gcc -DHAVE_CONFIG_H -I. -I../../../include  -I../../ta_func -I../../ta_common/trio -I../../ta_common/mt -I../../ta_common -I../../ta_abstract   -g -O2 -MT ta_regtest-test_adx.o -MD -MP -MF .deps/ta_regtest-test_adx.Tpo -c -o ta_regtest-test_adx.o `test -f 'ta_test_func/test_adx.c' || echo './'`ta_test_func/test_adx.c\\\\n\\\",\\\"mv -f .deps/ta_regtest-test_adx.Tpo .deps/ta_regtest-test_adx.Po\\\\n\\\",\\\"gcc -DHAVE_CONFIG_H -I. -I../../../include  -I../../ta_func -I../../ta_common/trio -I../../ta_common/mt -I../../ta_common -I../../ta_abstract   -g -O2 -MT ta_regtest-test_mom.o -MD -MP -MF .deps/ta_regtest-test_mom.Tpo -c -o ta_regtest-test_mom.o `test -f 'ta_test_func/test_mom.c' || echo './'`ta_test_func/test_mom.c\\\\n\\\",\\\"mv -f .deps/ta_regtest-test_mom.Tpo .deps/ta_regtest-test_mom.Po\\\\n\\\",\\\"gcc -DHAVE_CONFIG_H -I. -I../../../include  -I../../ta_func -I../../ta_common/trio -I../../ta_common/mt -I../../ta_common -I../../ta_abstract   -g -O2 -MT ta_regtest-test_sar.o -MD -MP -MF .deps/ta_regtest-test_sar.Tpo -c -o ta_regtest-test_sar.o `test -f 'ta_test_func/test_sar.c' || echo './'`ta_test_func/test_sar.c\\\\n\\\",\\\"mv -f .deps/ta_regtest-test_sar.Tpo .deps/ta_regtest-test_sar.Po\\\\n\\\",\\\"gcc -DHAVE_CONFIG_H -I. -I../../../include  -I../../ta_func -I../../ta_common/trio -I../../ta_common/mt -I../../ta_common -I../../ta_abstract   -g -O2 -MT ta_regtest-test_rsi.o -MD -MP -MF .deps/ta_regtest-test_rsi.Tpo -c -o ta_regtest-test_rsi.o `test -f 'ta_test_func/test_rsi.c' || echo './'`ta_test_func/test_rsi.c\\\\n\\\",\\\"mv -f .deps/ta_regtest-test_rsi.Tpo .deps/ta_regtest-test_rsi.Po\\\\n\\\",\\\"gcc -DHAVE_CONFIG_H -I. -I../../../include  -I../../ta_func -I../../ta_common/trio -I../../ta_common/mt -I../../ta_common -I../../ta_abstract   -g -O2 -MT ta_regtest-test_candlestick.o -MD -MP -MF .deps/ta_regtest-test_candlestick.Tpo -c -o ta_regtest-test_candlestick.o `test -f 'ta_test_func/test_candlestick.c' || echo './'`ta_test_func/test_candlestick.c\\\\n\\\",\\\"mv -f .deps/ta_regtest-test_candlestick.Tpo .deps/ta_regtest-test_candlestick.Po\\\\n\\\",\\\"gcc -DHAVE_CONFIG_H -I. -I../../../include  -I../../ta_func -I../../ta_common/trio -I../../ta_common/mt -I../../ta_common -I../../ta_abstract   -g -O2 -MT ta_regtest-test_per_ema.o -MD -MP -MF .deps/ta_regtest-test_per_ema.Tpo -c -o ta_regtest-test_per_ema.o `test -f 'ta_test_func/test_per_ema.c' || echo './'`ta_test_func/test_per_ema.c\\\\n\\\",\\\"mv -f .deps/ta_regtest-test_per_ema.Tpo .deps/ta_regtest-test_per_ema.Po\\\\n\\\",\\\"gcc -DHAVE_CONFIG_H -I. -I../../../include  -I../../ta_func -I../../ta_common/trio -I../../ta_common/mt -I../../ta_common -I../../ta_abstract   -g -O2 -MT ta_regtest-test_per_hlc.o -MD -MP -MF .deps/ta_regtest-test_per_hlc.Tpo -c -o ta_regtest-test_per_hlc.o `test -f 'ta_test_func/test_per_hlc.c' || echo './'`ta_test_func/test_per_hlc.c\\\\n\\\",\\\"mv -f .deps/ta_regtest-test_per_hlc.Tpo .deps/ta_regtest-test_per_hlc.Po\\\\n\\\",\\\"gcc -DHAVE_CONFIG_H -I. -I../../../include  -I../../ta_func -I../../ta_common/trio -I../../ta_common/mt -I../../ta_common -I../../ta_abstract   -g -O2 -MT ta_regtest-test_stoch.o -MD -MP -MF .deps/ta_regtest-test_stoch.Tpo -c -o ta_regtest-test_stoch.o `test -f 'ta_test_func/test_stoch.c' || echo './'`ta_test_func/test_stoch.c\\\\n\\\",\\\"mv -f .deps/ta_regtest-test_stoch.Tpo .deps/ta_regtest-test_stoch.Po\\\\n\\\",\\\"gcc -DHAVE_CONFIG_H -I. -I../../../include  -I../../ta_func -I../../ta_common/trio -I../../ta_common/mt -I../../ta_common -I../../ta_abstract   -g -O2 -MT ta_regtest-test_macd.o -MD -MP -MF .deps/ta_regtest-test_macd.Tpo -c -o ta_regtest-test_macd.o `test -f 'ta_test_func/test_macd.c' || echo './'`ta_test_func/test_macd.c\\\\n\\\",\\\"mv -f .deps/ta_regtest-test_macd.Tpo .deps/ta_regtest-test_macd.Po\\\\n\\\",\\\"gcc -DHAVE_CONFIG_H -I. -I../../../include  -I../../ta_func -I../../ta_common/trio -I../../ta_common/mt -I../../ta_common -I../../ta_abstract   -g -O2 -MT ta_regtest-test_minmax.o -MD -MP -MF .deps/ta_regtest-test_minmax.Tpo -c -o ta_regtest-test_minmax.o `test -f 'ta_test_func/test_minmax.c' || echo './'`ta_test_func/test_minmax.c\\\\n\\\",\\\"mv -f .deps/ta_regtest-test_minmax.Tpo .deps/ta_regtest-test_minmax.Po\\\\n\\\",\\\"gcc -DHAVE_CONFIG_H -I. -I../../../include  -I../../ta_func -I../../ta_common/trio -I../../ta_common/mt -I../../ta_common -I../../ta_abstract   -g -O2 -MT ta_regtest-test_per_hlcv.o -MD -MP -MF .deps/ta_regtest-test_per_hlcv.Tpo -c -o ta_regtest-test_per_hlcv.o `test -f 'ta_test_func/test_per_hlcv.c' || echo './'`ta_test_func/test_per_hlcv.c\\\\n\\\",\\\"mv -f .deps/ta_regtest-test_per_hlcv.Tpo .deps/ta_regtest-test_per_hlcv.Po\\\\n\\\",\\\"gcc -DHAVE_CONFIG_H -I. -I../../../include  -I../../ta_func -I../../ta_common/trio -I../../ta_common/mt -I../../ta_common -I../../ta_abstract   -g -O2 -MT ta_regtest-test_1in_1out.o -MD -MP -MF .deps/ta_regtest-test_1in_1out.Tpo -c -o ta_regtest-test_1in_1out.o `test -f 'ta_test_func/test_1in_1out.c' || echo './'`ta_test_func/test_1in_1out.c\\\\n\\\",\\\"mv -f .deps/ta_regtest-test_1in_1out.Tpo .deps/ta_regtest-test_1in_1out.Po\\\\n\\\",\\\"gcc -DHAVE_CONFIG_H -I. -I../../../include  -I../../ta_func -I../../ta_common/trio -I../../ta_common/mt -I../../ta_common -I../../ta_abstract   -g -O2 -MT ta_regtest-test_1in_2out.o -MD -MP -MF .deps/ta_regtest-test_1in_2out.Tpo -c -o ta_regtest-test_1in_2out.o `test -f 'ta_test_func/test_1in_2out.c' || echo './'`ta_test_func/test_1in_2out.c\\\\n\\\",\\\"mv -f .deps/ta_regtest-test_1in_2out.Tpo .deps/ta_regtest-test_1in_2out.Po\\\\n\\\",\\\"gcc -DHAVE_CONFIG_H -I. -I../../../include  -I../../ta_func -I../../ta_common/trio -I../../ta_common/mt -I../../ta_common -I../../ta_abstract   -g -O2 -MT ta_regtest-test_per_ohlc.o -MD -MP -MF .deps/ta_regtest-test_per_ohlc.Tpo -c -o ta_regtest-test_per_ohlc.o `test -f 'ta_test_func/test_per_ohlc.c' || echo './'`ta_test_func/test_per_ohlc.c\\\\n\\\",\\\"mv -f .deps/ta_regtest-test_per_ohlc.Tpo .deps/ta_regtest-test_per_ohlc.Po\\\\n\\\",\\\"gcc -DHAVE_CONFIG_H -I. -I../../../include  -I../../ta_func -I../../ta_common/trio -I../../ta_common/mt -I../../ta_common -I../../ta_abstract   -g -O2 -MT ta_regtest-test_stddev.o -MD -MP -MF .deps/ta_regtest-test_stddev.Tpo -c -o ta_regtest-test_stddev.o `test -f 'ta_test_func/test_stddev.c' || echo './'`ta_test_func/test_stddev.c\\\\n\\\",\\\"mv -f .deps/ta_regtest-test_stddev.Tpo .deps/ta_regtest-test_stddev.Po\\\\n\\\",\\\"gcc -DHAVE_CONFIG_H -I. -I../../../include  -I../../ta_func -I../../ta_common/trio -I../../ta_common/mt -I../../ta_common -I../../ta_abstract   -g -O2 -MT ta_regtest-test_bbands.o -MD -MP -MF .deps/ta_regtest-test_bbands.Tpo -c -o ta_regtest-test_bbands.o `test -f 'ta_test_func/test_bbands.c' || echo './'`ta_test_func/test_bbands.c\\\\n\\\",\\\"mv -f .deps/ta_regtest-test_bbands.Tpo .deps/ta_regtest-test_bbands.Po\\\\n\\\",\\\"gcc -DHAVE_CONFIG_H -I. -I../../../include  -I../../ta_func -I../../ta_common/trio -I../../ta_common/mt -I../../ta_common -I../../ta_abstract   -g -O2 -MT ta_regtest-test_ma.o -MD -MP -MF .deps/ta_regtest-test_ma.Tpo -c -o ta_regtest-test_ma.o `test -f 'ta_test_func/test_ma.c' || echo './'`ta_test_func/test_ma.c\\\\n\\\",\\\"mv -f .deps/ta_regtest-test_ma.Tpo .deps/ta_regtest-test_ma.Po\\\\n\\\",\\\"gcc -DHAVE_CONFIG_H -I. -I../../../include  -I../../ta_func -I../../ta_common/trio -I../../ta_common/mt -I../../ta_common -I../../ta_abstract   -g -O2 -MT ta_regtest-test_po.o -MD -MP -MF .deps/ta_regtest-test_po.Tpo -c -o ta_regtest-test_po.o `test -f 'ta_test_func/test_po.c' || echo './'`ta_test_func/test_po.c\\\\n\\\",\\\"mv -f .deps/ta_regtest-test_po.Tpo .deps/ta_regtest-test_po.Po\\\\n\\\",\\\"gcc -DHAVE_CONFIG_H -I. -I../../../include  -I../../ta_func -I../../ta_common/trio -I../../ta_common/mt -I../../ta_common -I../../ta_abstract   -g -O2 -MT ta_regtest-test_per_hl.o -MD -MP -MF .deps/ta_regtest-test_per_hl.Tpo -c -o ta_regtest-test_per_hl.o `test -f 'ta_test_func/test_per_hl.c' || echo './'`ta_test_func/test_per_hl.c\\\\n\\\",\\\"mv -f .deps/ta_regtest-test_per_hl.Tpo .deps/ta_regtest-test_per_hl.Po\\\\n\\\",\\\"gcc -DHAVE_CONFIG_H -I. -I../../../include  -I../../ta_func -I../../ta_common/trio -I../../ta_common/mt -I../../ta_common -I../../ta_abstract   -g -O2 -MT ta_regtest-test_trange.o -MD -MP -MF .deps/ta_regtest-test_trange.Tpo -c -o ta_regtest-test_trange.o `test -f 'ta_test_func/test_trange.c' || echo './'`ta_test_func/test_trange.c\\\\n\\\",\\\"mv -f .deps/ta_regtest-test_trange.Tpo .deps/ta_regtest-test_trange.Po\\\\n\\\",\\\"gcc -DHAVE_CONFIG_H -I. -I../../../include  -I../../ta_func -I../../ta_common/trio -I../../ta_common/mt -I../../ta_common -I../../ta_abstract   -g -O2 -MT ta_regtest-test_internals.o -MD -MP -MF .deps/ta_regtest-test_internals.Tpo -c -o ta_regtest-test_internals.o `test -f 'test_internals.c' || echo './'`test_internals.c\\\\n\\\",\\\"mv -f .deps/ta_regtest-test_internals.Tpo .deps/ta_regtest-test_internals.Po\\\\n\\\",\\\"/bin/bash ../../../libtool --tag=CC   --mode=link gcc  -g -O2 -L../.. -lta_lib -lm  -o ta_regtest ta_regtest-ta_regtest.o ta_regtest-test_data.o ta_regtest-test_util.o ta_regtest-test_abstract.o ta_regtest-test_adx.o ta_regtest-test_mom.o ta_regtest-test_sar.o ta_regtest-test_rsi.o ta_regtest-test_candlestick.o ta_regtest-test_per_ema.o ta_regtest-test_per_hlc.o ta_regtest-test_stoch.o ta_regtest-test_macd.o ta_regtest-test_minmax.o ta_regtest-test_per_hlcv.o ta_regtest-test_1in_1out.o ta_regtest-test_1in_2out.o ta_regtest-test_per_ohlc.o ta_regtest-test_stddev.o ta_regtest-test_bbands.o ta_regtest-test_ma.o ta_regtest-test_po.o ta_regtest-test_per_hl.o ta_regtest-test_trange.o ta_regtest-test_internals.o  -lpthread -ldl \\\\n\\\",\\\"mkdir .libs\\\\n\\\",\\\"gcc -g -O2 -o .libs/ta_regtest ta_regtest-ta_regtest.o ta_regtest-test_data.o ta_regtest-test_util.o ta_regtest-test_abstract.o ta_regtest-test_adx.o ta_regtest-test_mom.o ta_regtest-test_sar.o ta_regtest-test_rsi.o ta_regtest-test_candlestick.o ta_regtest-test_per_ema.o ta_regtest-test_per_hlc.o ta_regtest-test_stoch.o ta_regtest-test_macd.o ta_regtest-test_minmax.o ta_regtest-test_per_hlcv.o ta_regtest-test_1in_1out.o ta_regtest-test_1in_2out.o ta_regtest-test_per_ohlc.o ta_regtest-test_stddev.o ta_regtest-test_bbands.o ta_regtest-test_ma.o ta_regtest-test_po.o ta_regtest-test_per_hl.o ta_regtest-test_trange.o ta_regtest-test_internals.o  -L/content/ta-lib/src /content/ta-lib/src/.libs/libta_lib.so -lm -lpthread -ldl\\\\n\\\",\\\"creating ta_regtest\\\\n\\\",\\\"make[2]: Leaving directory '/content/ta-lib/src/tools/ta_regtest'\\\\n\\\",\\\"make[2]: Entering directory '/content/ta-lib/src/tools'\\\\n\\\",\\\"make[2]: Nothing to be done for 'all-am'.\\\\n\\\",\\\"make[2]: Leaving directory '/content/ta-lib/src/tools'\\\\n\\\",\\\"make[1]: Leaving directory '/content/ta-lib/src/tools'\\\\n\\\",\\\"make[1]: Entering directory '/content/ta-lib'\\\\n\\\",\\\"make[1]: Nothing to be done for 'all-am'.\\\\n\\\",\\\"make[1]: Leaving directory '/content/ta-lib'\\\\n\\\",\\\"Making install in src\\\\n\\\",\\\"make[1]: Entering directory '/content/ta-lib/src'\\\\n\\\",\\\"Making install in ta_abstract\\\\n\\\",\\\"make[2]: Entering directory '/content/ta-lib/src/ta_abstract'\\\\n\\\",\\\"make[3]: Entering directory '/content/ta-lib/src/ta_abstract'\\\\n\\\",\\\"make[3]: Nothing to be done for 'install-exec-am'.\\\\n\\\",\\\"test -z \\\\\\\"/usr/include/ta-lib/\\\\\\\" || /bin/mkdir -p \\\\\\\"/usr/include/ta-lib/\\\\\\\"\\\\n\\\",\\\" /usr/bin/install -c -m 644 '../../include/ta_defs.h' '/usr/include/ta-lib//ta_defs.h'\\\\n\\\",\\\" /usr/bin/install -c -m 644 '../../include/ta_libc.h' '/usr/include/ta-lib//ta_libc.h'\\\\n\\\",\\\" /usr/bin/install -c -m 644 '../../include/ta_abstract.h' '/usr/include/ta-lib//ta_abstract.h'\\\\n\\\",\\\"make[3]: Leaving directory '/content/ta-lib/src/ta_abstract'\\\\n\\\",\\\"make[2]: Leaving directory '/content/ta-lib/src/ta_abstract'\\\\n\\\",\\\"Making install in ta_common\\\\n\\\",\\\"make[2]: Entering directory '/content/ta-lib/src/ta_common'\\\\n\\\",\\\"make[3]: Entering directory '/content/ta-lib/src/ta_common'\\\\n\\\",\\\"make[3]: Nothing to be done for 'install-exec-am'.\\\\n\\\",\\\"test -z \\\\\\\"/usr/include/ta-lib/\\\\\\\" || /bin/mkdir -p \\\\\\\"/usr/include/ta-lib/\\\\\\\"\\\\n\\\",\\\" /usr/bin/install -c -m 644 '../../include/ta_defs.h' '/usr/include/ta-lib//ta_defs.h'\\\\n\\\",\\\" /usr/bin/install -c -m 644 '../../include/ta_libc.h' '/usr/include/ta-lib//ta_libc.h'\\\\n\\\",\\\" /usr/bin/install -c -m 644 '../../include/ta_common.h' '/usr/include/ta-lib//ta_common.h'\\\\n\\\",\\\"make[3]: Leaving directory '/content/ta-lib/src/ta_common'\\\\n\\\",\\\"make[2]: Leaving directory '/content/ta-lib/src/ta_common'\\\\n\\\",\\\"Making install in ta_func\\\\n\\\",\\\"make[2]: Entering directory '/content/ta-lib/src/ta_func'\\\\n\\\",\\\"make[3]: Entering directory '/content/ta-lib/src/ta_func'\\\\n\\\",\\\"make[3]: Nothing to be done for 'install-exec-am'.\\\\n\\\",\\\"test -z \\\\\\\"/usr/include/ta-lib/\\\\\\\" || /bin/mkdir -p \\\\\\\"/usr/include/ta-lib/\\\\\\\"\\\\n\\\",\\\" /usr/bin/install -c -m 644 '../../include/ta_defs.h' '/usr/include/ta-lib//ta_defs.h'\\\\n\\\",\\\" /usr/bin/install -c -m 644 '../../include/ta_libc.h' '/usr/include/ta-lib//ta_libc.h'\\\\n\\\",\\\" /usr/bin/install -c -m 644 '../../include/ta_func.h' '/usr/include/ta-lib//ta_func.h'\\\\n\\\",\\\"make[3]: Leaving directory '/content/ta-lib/src/ta_func'\\\\n\\\",\\\"make[2]: Leaving directory '/content/ta-lib/src/ta_func'\\\\n\\\",\\\"make[2]: Entering directory '/content/ta-lib/src'\\\\n\\\",\\\"make[3]: Entering directory '/content/ta-lib/src'\\\\n\\\",\\\"test -z \\\\\\\"/usr/lib\\\\\\\" || /bin/mkdir -p \\\\\\\"/usr/lib\\\\\\\"\\\\n\\\",\\\" /bin/bash ../libtool --mode=install /usr/bin/install -c  'libta_lib.la' '/usr/lib/libta_lib.la'\\\\n\\\",\\\"/usr/bin/install -c .libs/libta_lib.so.0.0.0 /usr/lib/libta_lib.so.0.0.0\\\\n\\\",\\\"(cd /usr/lib && { ln -s -f libta_lib.so.0.0.0 libta_lib.so.0 || { rm -f libta_lib.so.0 && ln -s libta_lib.so.0.0.0 libta_lib.so.0; }; })\\\\n\\\",\\\"(cd /usr/lib && { ln -s -f libta_lib.so.0.0.0 libta_lib.so || { rm -f libta_lib.so && ln -s libta_lib.so.0.0.0 libta_lib.so; }; })\\\\n\\\",\\\"/usr/bin/install -c .libs/libta_lib.lai /usr/lib/libta_lib.la\\\\n\\\",\\\"/usr/bin/install -c .libs/libta_lib.a /usr/lib/libta_lib.a\\\\n\\\",\\\"chmod 644 /usr/lib/libta_lib.a\\\\n\\\",\\\"ranlib /usr/lib/libta_lib.a\\\\n\\\",\\\"PATH=\\\\\\\"$PATH:/sbin\\\\\\\" ldconfig -n /usr/lib\\\\n\\\",\\\"----------------------------------------------------------------------\\\\n\\\",\\\"Libraries have been installed in:\\\\n\\\",\\\"   /usr/lib\\\\n\\\",\\\"\\\\n\\\",\\\"If you ever happen to want to link against installed libraries\\\\n\\\",\\\"in a given directory, LIBDIR, you must either use libtool, and\\\\n\\\",\\\"specify the full pathname of the library, or use the `-LLIBDIR'\\\\n\\\",\\\"flag during linking and do at least one of the following:\\\\n\\\",\\\"   - add LIBDIR to the `LD_LIBRARY_PATH' environment variable\\\\n\\\",\\\"     during execution\\\\n\\\",\\\"   - add LIBDIR to the `LD_RUN_PATH' environment variable\\\\n\\\",\\\"     during linking\\\\n\\\",\\\"   - use the `-Wl,--rpath -Wl,LIBDIR' linker flag\\\\n\\\",\\\"   - have your system administrator add LIBDIR to `/etc/ld.so.conf'\\\\n\\\",\\\"\\\\n\\\",\\\"See any operating system documentation about shared libraries for\\\\n\\\",\\\"more information, such as the ld(1) and ld.so(8) manual pages.\\\\n\\\",\\\"----------------------------------------------------------------------\\\\n\\\",\\\"make[3]: Nothing to be done for 'install-data-am'.\\\\n\\\",\\\"make[3]: Leaving directory '/content/ta-lib/src'\\\\n\\\",\\\"make[2]: Leaving directory '/content/ta-lib/src'\\\\n\\\",\\\"make[1]: Leaving directory '/content/ta-lib/src'\\\\n\\\",\\\"Making install in src/tools\\\\n\\\",\\\"make[1]: Entering directory '/content/ta-lib/src/tools'\\\\n\\\",\\\"Making install in gen_code\\\\n\\\",\\\"make[2]: Entering directory '/content/ta-lib/src/tools/gen_code'\\\\n\\\",\\\"make  gen_code\\\\n\\\",\\\"make[3]: Entering directory '/content/ta-lib/src/tools/gen_code'\\\\n\\\",\\\"make[3]: 'gen_code' is up to date.\\\\n\\\",\\\"make[3]: Leaving directory '/content/ta-lib/src/tools/gen_code'\\\\n\\\",\\\"cp gen_code ../../../bin\\\\n\\\",\\\"make[3]: Entering directory '/content/ta-lib/src/tools/gen_code'\\\\n\\\",\\\"make[3]: Nothing to be done for 'install-exec-am'.\\\\n\\\",\\\"make[3]: Nothing to be done for 'install-data-am'.\\\\n\\\",\\\"make[3]: Leaving directory '/content/ta-lib/src/tools/gen_code'\\\\n\\\",\\\"make[2]: Leaving directory '/content/ta-lib/src/tools/gen_code'\\\\n\\\",\\\"Making install in ta_regtest\\\\n\\\",\\\"make[2]: Entering directory '/content/ta-lib/src/tools/ta_regtest'\\\\n\\\",\\\"make[3]: Entering directory '/content/ta-lib/src/tools/ta_regtest'\\\\n\\\",\\\"make[3]: Nothing to be done for 'install-exec-am'.\\\\n\\\",\\\"make[3]: Nothing to be done for 'install-data-am'.\\\\n\\\",\\\"make[3]: Leaving directory '/content/ta-lib/src/tools/ta_regtest'\\\\n\\\",\\\"make[2]: Leaving directory '/content/ta-lib/src/tools/ta_regtest'\\\\n\\\",\\\"make[2]: Entering directory '/content/ta-lib/src/tools'\\\\n\\\",\\\"make[3]: Entering directory '/content/ta-lib/src/tools'\\\\n\\\",\\\"make[3]: Nothing to be done for 'install-exec-am'.\\\\n\\\",\\\"make[3]: Nothing to be done for 'install-data-am'.\\\\n\\\",\\\"make[3]: Leaving directory '/content/ta-lib/src/tools'\\\\n\\\",\\\"make[2]: Leaving directory '/content/ta-lib/src/tools'\\\\n\\\",\\\"make[1]: Leaving directory '/content/ta-lib/src/tools'\\\\n\\\",\\\"make[1]: Entering directory '/content/ta-lib'\\\\n\\\",\\\"make[2]: Entering directory '/content/ta-lib'\\\\n\\\",\\\"test -z \\\\\\\"/usr/bin\\\\\\\" || /bin/mkdir -p \\\\\\\"/usr/bin\\\\\\\"\\\\n\\\",\\\" /usr/bin/install -c 'ta-lib-config' '/usr/bin/ta-lib-config'\\\\n\\\",\\\"make[2]: Nothing to be done for 'install-data-am'.\\\\n\\\",\\\"make[2]: Leaving directory '/content/ta-lib'\\\\n\\\",\\\"make[1]: Leaving directory '/content/ta-lib'\\\\n\\\",\\\"Collecting Ta-Lib\\\\n\\\",\\\"  Using cached https://files.pythonhosted.org/packages/d7/15/ebf1a6ebcf7580dc53e342979c7425affc38ef272bc10a7f4565ee87b394/TA-Lib-0.4.18.tar.gz\\\\n\\\",\\\"Requirement already satisfied: numpy in /usr/local/lib/python3.6/dist-packages (from Ta-Lib) (1.18.5)\\\\n\\\",\\\"Building wheels for collected packages: Ta-Lib\\\\n\\\",\\\"  Building wheel for Ta-Lib (setup.py) ... \\\\u001b[?25l\\\\u001b[?25hdone\\\\n\\\",\\\"  Created wheel for Ta-Lib: filename=TA_Lib-0.4.18-cp36-cp36m-linux_x86_64.whl size=1531843 sha256=e7325d6ad5b34fe97f29ffe9fbd40be1188e035ccca3105204c3ed821d9af7c0\\\\n\\\",\\\"  Stored in directory: /root/.cache/pip/wheels/11/cc/88/20dc42c28a07efb297dad4303948ef6dd4a3c7257553db8f09\\\\n\\\",\\\"Successfully built Ta-Lib\\\\n\\\",\\\"Installing collected packages: Ta-Lib\\\\n\\\",\\\"Successfully installed Ta-Lib-0.4.18\\\\n\\\"],\\\"name\\\":\\\"stdout\\\"}]},{\\\"cell_type\\\":\\\"code\\\",\\\"metadata\\\":{\\\"id\\\":\\\"qR2hVbtv6R5T\\\",\\\"colab_type\\\":\\\"code\\\",\\\"colab\\\":{\\\"base_uri\\\":\\\"https://localhost:8080/\\\",\\\"height\\\":300},\\\"executionInfo\\\":{\\\"status\\\":\\\"error\\\",\\\"timestamp\\\":1597626220003,\\\"user_tz\\\":-330,\\\"elapsed\\\":1019,\\\"user\\\":{\\\"displayName\\\":\\\"Chirag Pangoriya\\\",\\\"photoUrl\\\":\\\"\\\",\\\"userId\\\":\\\"03597992445652118502\\\"}},\\\"outputId\\\":\\\"0191a53a-1e55-445d-8482-429c60d94900\\\"},\\\"source\\\":[\\\"\\\"],\\\"execution_count\\\":13,\\\"outputs\\\":[{\\\"output_type\\\":\\\"error\\\",\\\"ename\\\":\\\"ModuleNotFoundError\\\",\\\"evalue\\\":\\\"ignored\\\",\\\"traceback\\\":[\\\"\\\\u001b[0;31m---------------------------------------------------------------------------\\\\u001b[0m\\\",\\\"\\\\u001b[0;31mModuleNotFoundError\\\\u001b[0m                       Traceback (most recent call last)\\\",\\\"\\\\u001b[0;32m<ipython-input-13-39dfa4ca4359>\\\\u001b[0m in \\\\u001b[0;36m<module>\\\\u001b[0;34m()\\\\u001b[0m\\\\n\\\\u001b[0;32m----> 1\\\\u001b[0;31m \\\\u001b[0;32mfrom\\\\u001b[0m \\\\u001b[0mtalib\\\\u001b[0m\\\\u001b[0;34m.\\\\u001b[0m\\\\u001b[0mtrend\\\\u001b[0m \\\\u001b[0;32mimport\\\\u001b[0m \\\\u001b[0mADXIndicator\\\\u001b[0m\\\\u001b[0;34m\\\\u001b[0m\\\\u001b[0;34m\\\\u001b[0m\\\\u001b[0m\\\\n\\\\u001b[0m\\\",\\\"\\\\u001b[0;31mModuleNotFoundError\\\\u001b[0m: No module named 'talib.trend'\\\",\\\"\\\",\\\"\\\\u001b[0;31m---------------------------------------------------------------------------\\\\u001b[0;32m\\\\nNOTE: If your import is failing due to a missing package, you can\\\\nmanually install dependencies using either !pip or !apt.\\\\n\\\\nTo view examples of installing some common dependencies, click the\\\\n\\\\\\\"Open Examples\\\\\\\" button below.\\\\n\\\\u001b[0;31m---------------------------------------------------------------------------\\\\u001b[0m\\\\n\\\"]}]},{\\\"cell_type\\\":\\\"code\\\",\\\"metadata\\\":{\\\"id\\\":\\\"AwV6BrI68XeM\\\",\\\"colab_type\\\":\\\"code\\\",\\\"colab\\\":{},\\\"executionInfo\\\":{\\\"status\\\":\\\"ok\\\",\\\"timestamp\\\":1597626241018,\\\"user_tz\\\":-330,\\\"elapsed\\\":1441,\\\"user\\\":{\\\"displayName\\\":\\\"Chirag Pangoriya\\\",\\\"photoUrl\\\":\\\"\\\",\\\"userId\\\":\\\"03597992445652118502\\\"}}},\\\"source\\\":[\\\"import talib as ta\\\"],\\\"execution_count\\\":14,\\\"outputs\\\":[]},{\\\"cell_type\\\":\\\"code\\\",\\\"metadata\\\":{\\\"id\\\":\\\"iB_tOAJE8cnf\\\",\\\"colab_type\\\":\\\"code\\\",\\\"colab\\\":{\\\"base_uri\\\":\\\"https://localhost:8080/\\\",\\\"height\\\":119},\\\"executionInfo\\\":{\\\"status\\\":\\\"ok\\\",\\\"timestamp\\\":1597627458465,\\\"user_tz\\\":-330,\\\"elapsed\\\":4965,\\\"user\\\":{\\\"displayName\\\":\\\"Chirag Pangoriya\\\",\\\"photoUrl\\\":\\\"\\\",\\\"userId\\\":\\\"03597992445652118502\\\"}},\\\"outputId\\\":\\\"d8abb1f1-a5f6-41d0-9a4f-3fcd8a4f96ea\\\"},\\\"source\\\":[\\\"pip install ta\\\"],\\\"execution_count\\\":1,\\\"outputs\\\":[{\\\"output_type\\\":\\\"stream\\\",\\\"text\\\":[\\\"Requirement already satisfied: ta in /usr/local/lib/python3.6/dist-packages (0.5.25)\\\\n\\\",\\\"Requirement already satisfied: pandas in /usr/local/lib/python3.6/dist-packages (from ta) (1.0.5)\\\\n\\\",\\\"Requirement already satisfied: numpy in /usr/local/lib/python3.6/dist-packages (from ta) (1.18.5)\\\\n\\\",\\\"Requirement already satisfied: python-dateutil>=2.6.1 in /usr/local/lib/python3.6/dist-packages (from pandas->ta) (2.8.1)\\\\n\\\",\\\"Requirement already satisfied: pytz>=2017.2 in /usr/local/lib/python3.6/dist-packages (from pandas->ta) (2018.9)\\\\n\\\",\\\"Requirement already satisfied: six>=1.5 in /usr/local/lib/python3.6/dist-packages (from python-dateutil>=2.6.1->pandas->ta) (1.15.0)\\\\n\\\"],\\\"name\\\":\\\"stdout\\\"}]},{\\\"cell_type\\\":\\\"code\\\",\\\"metadata\\\":{\\\"id\\\":\\\"GWa1xDSTA-wN\\\",\\\"colab_type\\\":\\\"code\\\",\\\"colab\\\":{},\\\"executionInfo\\\":{\\\"status\\\":\\\"ok\\\",\\\"timestamp\\\":1597627462848,\\\"user_tz\\\":-330,\\\"elapsed\\\":874,\\\"user\\\":{\\\"displayName\\\":\\\"Chirag Pangoriya\\\",\\\"photoUrl\\\":\\\"\\\",\\\"userId\\\":\\\"03597992445652118502\\\"}}},\\\"source\\\":[\\\"import ta\\\"],\\\"execution_count\\\":2,\\\"outputs\\\":[]},{\\\"cell_type\\\":\\\"code\\\",\\\"metadata\\\":{\\\"id\\\":\\\"vpxeQxnhBHDk\\\",\\\"colab_type\\\":\\\"code\\\",\\\"colab\\\":{}},\\\"source\\\":[\\\"ta.trend\\\"],\\\"execution_count\\\":null,\\\"outputs\\\":[]}]}\"],\"name\":\"stdout\"}]},{\"cell_type\":\"code\",\"metadata\":{\"id\":\"VgBS4Qm8pnZU\",\"colab_type\":\"code\",\"colab\":{},\"executionInfo\":{\"status\":\"ok\",\"timestamp\":1597889773579,\"user_tz\":-330,\"elapsed\":1310,\"user\":{\"displayName\":\"Chirag Pangoriya\",\"photoUrl\":\"\",\"userId\":\"03597992445652118502\"}}},\"source\":[\"\\n\",\"import pandas as pd\\n\",\"import logging\\n\",\"import json\\n\",\"from copy import copy\\n\",\"import sys\\n\",\"import queue\\n\",\"import os\\n\",\"import re\\n\",\"import requests\\n\",\"from google.colab import files\\n\",\"import time\\n\",\"import datetime\\n\",\"import pytz\\n\",\"import matplotlib.pyplot as plt\\n\",\"from google.colab import output\"],\"execution_count\":5,\"outputs\":[]},{\"cell_type\":\"code\",\"metadata\":{\"id\":\"AXRMIDARpwUU\",\"colab_type\":\"code\",\"colab\":{},\"executionInfo\":{\"status\":\"ok\",\"timestamp\":1597889808474,\"user_tz\":-330,\"elapsed\":1126,\"user\":{\"displayName\":\"Chirag Pangoriya\",\"photoUrl\":\"\",\"userId\":\"03597992445652118502\"}}},\"source\":[\"sys.path.append('/content/gdrive/My Drive/Colab Notebooks')\"],\"execution_count\":7,\"outputs\":[]},{\"cell_type\":\"code\",\"metadata\":{\"id\":\"-r9lWEwdp6Vl\",\"colab_type\":\"code\",\"colab\":{\"base_uri\":\"https://localhost:8080/\",\"height\":34},\"executionInfo\":{\"status\":\"ok\",\"timestamp\":1597889819812,\"user_tz\":-330,\"elapsed\":1203,\"user\":{\"displayName\":\"Chirag Pangoriya\",\"photoUrl\":\"\",\"userId\":\"03597992445652118502\"}},\"outputId\":\"896b32bd-7973-411b-9710-5288957e9a33\"},\"source\":[\"cd '/content/gdrive/My Drive/Colab Notebooks/'\"],\"execution_count\":8,\"outputs\":[{\"output_type\":\"stream\",\"text\":[\"/content/gdrive/My Drive/Colab Notebooks\\n\"],\"name\":\"stdout\"}]},{\"cell_type\":\"code\",\"metadata\":{\"id\":\"yMMpt10Dp8Qe\",\"colab_type\":\"code\",\"colab\":{},\"executionInfo\":{\"status\":\"ok\",\"timestamp\":1597889913098,\"user_tz\":-330,\"elapsed\":976,\"user\":{\"displayName\":\"Chirag Pangoriya\",\"photoUrl\":\"\",\"userId\":\"03597992445652118502\"}}},\"source\":[\"import import_ipynb\\n\",\"import Indicators\"],\"execution_count\":10,\"outputs\":[]},{\"cell_type\":\"code\",\"metadata\":{\"id\":\"gbj7belmU1aG\",\"colab_type\":\"code\",\"colab\":{},\"executionInfo\":{\"status\":\"ok\",\"timestamp\":1597889938887,\"user_tz\":-330,\"elapsed\":773,\"user\":{\"displayName\":\"Chirag Pangoriya\",\"photoUrl\":\"\",\"userId\":\"03597992445652118502\"}}},\"source\":[\"def gen_Breakout_trade_signals(back_data, intraday_close_price, data):\\n\",\"  atr = Indicators.ATR_self(back_data, 14)\\n\",\"  \\n\",\"  flag_entry_signals = {}\\n\",\"  flag_exit_signals = {}\\n\",\"  for i in range(1, len(data['open'])):\\n\",\"    day_low = (data['open'])[i]\\n\",\"    day_high = (data['open'])[i]\\n\",\"    trade_time = 0\\n\",\"    flag_trade_avail = 1\\n\",\"    gap_downup_flag = 0\\n\",\"    # if ( intraday_close_price.index[i].date() == ((data['open']).index[i]).date() and intraday_close_price.index[i].time() == datetime.time(9,15,0) ):\\n\",\"    #   yoyo_open = intraday_close_price[i]\\n\",\"    for i in range(0, len(data['open'])):  \\n\",\"      if ((data['open'])[i]   <   (data['low'])[i-1]):\\n\",\"        gap_downup_flag   =   -1\\n\",\"      elif ((data['open'])[i]   >   (data['high'])[i-1]):   \\n\",\"        gap_downup_flag    =   1 \\n\",\"      else:\\n\",\"        gap_downup_flag    =   0\\n\",\"      for j in intraday_close_price.index:\\n\",\"        flag_intraday = 0\\n\",\"        # date_and_time_intraday = j.split()\\n\",\"        if (j.date() == (((data['open']).index[i]).date()) ) :\\n\",\"\\n\",\"    \\n\",\"\\n\",\"\\n\",\"          if (j.time() < datetime.time(15,0,0)):\\n\",\"            if (flag_trade_avail == 1):\\n\",\"              # if (gap_downup_flag != 0):\\n\",\"              if (intraday_close_price[j]   <   (data['low'])[i-1]):\\n\",\"                flag_intraday   =   -1\\n\",\"              elif (intraday_close_price[j]   >   (data['high'])[i-1]):   \\n\",\"                flag_intraday   =   1\\n\",\"              else:\\n\",\"                flag_intraday   =   0\\n\",\"              # else :\\n\",\"              #   if (intraday_close_price[j]   <   min((data['low'])[i-1], day_low)):\\n\",\"              #     flag_intraday   =   -1\\n\",\"              #   elif (intraday_close_price[j]   >   max((data['high'])[i-1], day_high)):   \\n\",\"              #     flag_intraday   =   1\\n\",\"              #   else:\\n\",\"              #     flag_intraday   =   0\\n\",\"\\n\",\"              \\n\",\"\\n\",\"              if (intraday_close_price[j]< day_low):\\n\",\"                day_low = intraday_close_price[j]\\n\",\"              if (intraday_close_price[j]> day_high):\\n\",\"                day_high = intraday_close_price[j]\\n\",\"\\n\",\"              # if (j.date() == datetime.date(2015,1,19)):\\n\",\"              #   print(flag_intraday)\\n\",\"              #   print(\\\"kya baat hai - 18 JAN\\\")\\n\",\"              #   print(gap_downup_flag)\\n\",\"\\n\",\"              # if (j.date() == datetime.date(2015,1,19)):\\n\",\"              #   print(flag_intraday)\\n\",\"              #   print(\\\"kya baat hai - 19 JAN\\\")\\n\",\"              #   print(gap_downup_flag)       \\n\",\"              if (flag_intraday > gap_downup_flag):\\n\",\"                flag_entry_signals[j] = 1\\n\",\"                trade_time = j\\n\",\"                flag_trade_avail = 0\\n\",\"                continue\\n\",\"              elif (flag_intraday < gap_downup_flag):  \\n\",\"                flag_entry_signals[j] = -1\\n\",\"                trade_time = j\\n\",\"                flag_trade_avail = 0\\n\",\"                continue\\n\",\"\\n\",\"\\n\",\"          if (flag_trade_avail == 0   ):\\n\",\"            if (( j.time() == datetime.time(15,0,0)) or   (flag_entry_signals[trade_time]*(intraday_close_price[j] - intraday_close_price[trade_time])  <   -(atr[trade_time])  )):\\n\",\"              flag_exit_signals[j] = -flag_entry_signals[trade_time]\\n\",\"              flag_trade_avail = 1\\n\",\"              continue\\n\",\"          \\n\",\"          # elif (j.time() == datetime.time(15,0,0)):\\n\",\"          #   flag_exit_signals[j] = -flag_entry_signals[trade_time]\\n\",\"          #   flag_trade_avail = 1\\n\",\"          #   break\\n\",\"          #(flag_entry_signals[trade_time] == -1 and intraday_close_price[j]  >  (EMA_self(intraday_close_price, 8))[j]) or \\n\",\"          \\n\",\"\\n\",\"  return flag_entry_signals, flag_exit_signals\"],\"execution_count\":11,\"outputs\":[]},{\"cell_type\":\"code\",\"metadata\":{\"id\":\"jGdMt57VVJMX\",\"colab_type\":\"code\",\"colab\":{}},\"source\":[\"\"],\"execution_count\":null,\"outputs\":[]}]}"
          ],
          "name": "stdout"
        }
      ]
    },
    {
      "cell_type": "code",
      "metadata": {
        "id": "4cwqsQfvcJc2",
        "colab_type": "code",
        "colab": {}
      },
      "source": [
        "import pandas as pd\n",
        "import io\n",
        "import re\n",
        "import matplotlib.pyplot as plt\n",
        "import sys\n",
        "import itertools\n",
        "import statistics\n",
        "from kiteconnect import KiteConnect\n",
        "from kiteconnect import KiteTicker\n",
        "from google.colab import files\n",
        "import logging\n",
        "import datetime\n",
        "import math\n",
        "import time"
      ],
      "execution_count": 1,
      "outputs": []
    },
    {
      "cell_type": "code",
      "metadata": {
        "id": "73j1kvdMgGMl",
        "colab_type": "code",
        "colab": {}
      },
      "source": [
        "sys.path.append('/content/gdrive/My Drive')"
      ],
      "execution_count": null,
      "outputs": []
    },
    {
      "cell_type": "code",
      "metadata": {
        "id": "TOD8mhziphp1",
        "colab_type": "code",
        "colab": {
          "base_uri": "https://localhost:8080/",
          "height": 51
        },
        "outputId": "f115cfa6-bd1f-493a-a53e-909bf665ab7a"
      },
      "source": [
        "cd '/content/gdrive/My Drive/Colab Notebooks/'"
      ],
      "execution_count": null,
      "outputs": [
        {
          "output_type": "stream",
          "text": [
            "[Errno 2] No such file or directory: '/content/gdrive/My Drive/Colab Notebooks/'\n",
            "/content\n"
          ],
          "name": "stdout"
        }
      ]
    },
    {
      "cell_type": "code",
      "metadata": {
        "id": "x6gtzi2LxzQb",
        "colab_type": "code",
        "colab": {}
      },
      "source": [
        "import import_ipynb\n",
        "\n",
        "import Breakout_atr\n"
      ],
      "execution_count": null,
      "outputs": []
    },
    {
      "cell_type": "code",
      "metadata": {
        "id": "3LVy4tquq20d",
        "colab_type": "code",
        "colab": {
          "base_uri": "https://localhost:8080/",
          "height": 38
        },
        "outputId": "a4dc56b9-2a0e-4779-bd61-0cfd2ddf8c2d"
      },
      "source": [
        "%%html\n",
        "<marquee style='width: 100%; color: blue; background-color: grey;'><b>FUNCTIONS DEFINITIONS START</b></marquee>"
      ],
      "execution_count": null,
      "outputs": [
        {
          "output_type": "display_data",
          "data": {
            "text/html": [
              "<marquee style='width: 100%; color: blue; background-color: grey;'><b>FUNCTIONS DEFINITIONS START</b></marquee>"
            ],
            "text/plain": [
              "<IPython.core.display.HTML object>"
            ]
          },
          "metadata": {
            "tags": []
          }
        }
      ]
    },
    {
      "cell_type": "code",
      "metadata": {
        "id": "7b5QmOXh0SEc",
        "colab_type": "code",
        "colab": {}
      },
      "source": [
        "def gen_trading_journal(df1, entry_signals, exit_signals):\n",
        "  features = ['Entry Time', \"Signal\", \"Entry Price\", \"Exit Price\", \"Exit Time\", \"PnL\", \"Running_MAX_PnL\", \"Running_MIN_PnL\" ]\n",
        "  Entry_Time = []\n",
        "  Exit_Time = []\n",
        "  Entry_Price = []\n",
        "  Exit_Price = []\n",
        "  PnL = []\n",
        "  Signal = []\n",
        "  count = 0\n",
        " \n",
        "  Running_MAX_PnL = []\n",
        "  Running_MIN_PnL = []\n",
        "\n",
        "  for key in entry_signals:\n",
        "    Entry_Time.append(key)\n",
        "    Entry_Price.append(df1['close'][key].tolist())\n",
        "    if entry_signals[key] == -1:\n",
        "      Signal.append(\"SELL\")\n",
        "    else:\n",
        "      Signal.append(\"BUY\")  \n",
        "    count +=1\n",
        "  \n",
        "  for key in exit_signals:\n",
        "    Exit_Time.append(key)\n",
        "    Exit_Price.append(df1['close'][key].tolist())\n",
        "  # print(count)\n",
        "  # print(len(Entry_Price))\n",
        "  # print(len(Exit_Price))\n",
        "  # for key in entry_signals:\n",
        "  #   PnL = (entry_signals[key])*\n",
        "  for i in range(0, len(exit_signals)):\n",
        "    Running_MAX_PnL_per_sig = 0\n",
        "    Running_MIN_PnL_per_sig = 0\n",
        "    PnL.append((Exit_Price[i] - Entry_Price[i]) * entry_signals[Entry_Time[i]])\n",
        "    flag = 0\n",
        "    for j in df1['close'].index:\n",
        "      if (j == Entry_Time[i]):\n",
        "        flag = 1\n",
        "      if (flag == 1):\n",
        "        cont_PnL = (df1['close'][j]  -  df1['close'][Entry_Time[i]]) * entry_signals[Entry_Time[i]]\n",
        "        # print(cont_PnL)\n",
        "\n",
        "        if ((cont_PnL)   >   Running_MAX_PnL_per_sig ):\n",
        "        \n",
        "          Running_MAX_PnL_per_sig = (cont_PnL) \n",
        "                                                                                                \n",
        "        if ((cont_PnL)   <   Running_MIN_PnL_per_sig ):\n",
        "\n",
        "          Running_MIN_PnL_per_sig = (cont_PnL) \n",
        "      \n",
        "      if(j == Exit_Time[i]):\n",
        "        flag = 0\n",
        "        break                                                                                            \n",
        "    Running_MAX_PnL.append(Running_MAX_PnL_per_sig)\n",
        "    Running_MIN_PnL.append(Running_MIN_PnL_per_sig)\n",
        "  \n",
        "                                                                                  \n",
        "  trading_journal_T = pd.DataFrame([Entry_Time, Signal, Entry_Price, Exit_Price, Exit_Time, PnL, Running_MAX_PnL, Running_MIN_PnL], index = features)\n",
        "  trading_journal = trading_journal_T.T\n",
        "  return trading_journal"
      ],
      "execution_count": 3,
      "outputs": []
    },
    {
      "cell_type": "code",
      "metadata": {
        "id": "L_Ip-hkD4xTv",
        "colab_type": "code",
        "colab": {}
      },
      "source": [
        "def gen_Results(trading_Journal):\n",
        "\n",
        "  # keys = ['Net_PnL', 'Max_Drawdown', 'Sharpe Ratio','Profit/Loss trades' 'Max_Cons_Profit', 'Max_Cons_Loss']\n",
        "  Net_PnL = 0\n",
        "\n",
        "  Max_Drawdown = trading_Journal['PnL'].min()\n",
        "\n",
        "  neg_count = len(list(filter(lambda x: (x < 0), trading_Journal['PnL'])))\n",
        "  pos_count = len(list(filter(lambda x: (x > 0), trading_Journal['PnL'])))\n",
        "  PnL_Trade_Ratio = pos_count/neg_count\n",
        "  mmp = []\n",
        "  mml = []\n",
        "  mp = 0\n",
        "  ml = 0\n",
        "  count_trades =  len(trading_Journal['PnL'])\n",
        "  window = math.floor(count_trades/5)\n",
        "  max_running_drawdown = trading_Journal['PnL'].max()\n",
        "  max_crest_trough_running_drawdown = 0\n",
        "  running_PnL =[]\n",
        "  if trading_Journal['PnL'][0]> 0:\n",
        "    flag =1\n",
        "  else:\n",
        "    flag = -1 \n",
        "  \n",
        "  for i in trading_Journal['PnL']:\n",
        "    \n",
        "    try:\n",
        "      Net_PnL += i\n",
        "      running_PnL.append(Net_PnL)\n",
        "      if Net_PnL < max_running_drawdown:\n",
        "        max_running_drawdown = Net_PnL\n",
        "      if flag == 1:\n",
        "        if i >0:\n",
        "          flag =1\n",
        "          mp+=i\n",
        "        if i <0:\n",
        "          flag = -1\n",
        "          ml+=i\n",
        "          mmp.append(mp)\n",
        "          mp = 0  \n",
        "        continue  \n",
        "      if flag == -1:\n",
        "        if i >0:\n",
        "          flag =1\n",
        "          mp+=i\n",
        "          mml.append(ml)\n",
        "          ml = 0\n",
        "        if i <0:\n",
        "          flag = -1\n",
        "          ml+=i\n",
        "    except TypeError:\n",
        "      break          \n",
        "  mmp.append(mp)\n",
        "  mml.append(ml)\n",
        "  Max_Cons_Profit = max(mmp)\n",
        "  Max_Cons_Loss = min(mml)\n",
        "  Portfolio_Return = Net_PnL/trading_Journal['Entry Price'][0]\n",
        "\n",
        "  roll_max = pd.Series(running_PnL).rolling(window).max()\n",
        "  daily_dd = (running_PnL- roll_max)\n",
        "  max_crest_trough_running_drawdown = min(daily_dd.rolling(window).min().fillna(0))\n",
        "  # max_crest_trough_running_drawdown = max((pd.Series(running_PnL).rolling(180).max()- pd.Series(running_PnL).rolling(180).min().shift(-180)).fillna(0))\n",
        "  plt.plot(running_PnL)\n",
        "  plt.show()\n",
        "  # print(min(pd.Series(running_PnL).rolling(180).max()))\n",
        "  # print(pd.Series(running_PnL).rolling(180).min())\n",
        "  Sharpe_Ratio = (((Portfolio_Return/2000)*365*100) -6.5)/statistics.stdev(trading_Journal['PnL'])\n",
        "  neg_list = (trading_Journal['PnL'].where(trading_Journal['PnL']<0)).dropna()\n",
        "  Sortino_Ratio = (((Portfolio_Return/2000)*365*100) -6.5)/statistics.stdev(neg_list)\n",
        "  Results  = {'Net_PnL': Net_PnL, 'Max One Trade Drawdown': Max_Drawdown, 'Sharpe Ratio': Sharpe_Ratio, 'Sortino Ratio' : Sortino_Ratio, 'Max_Cons_Profit': Max_Cons_Profit, 'Max_Cons_Loss':Max_Cons_Loss, 'PnL Trade Ratio': PnL_Trade_Ratio, 'Minimum of PnL': max_running_drawdown, 'Max Draw-Down': max_crest_trough_running_drawdown}\n",
        "  return Results"
      ],
      "execution_count": 4,
      "outputs": []
    },
    {
      "cell_type": "code",
      "metadata": {
        "id": "NaNzjNw-YPPy",
        "colab_type": "code",
        "colab": {}
      },
      "source": [
        "def rsi_trend_signals(data, rsi_data):\n",
        "  \n",
        "  trade_flag =0\n",
        "  entry_signal = {}\n",
        "  exit_signal = {}\n",
        "  atr= ATR_self(data, 14)\n",
        "  low = max(data['high'])\n",
        "  high = min(data['low'])\n",
        "  for i in range(1, len(data.index)):\n",
        "    if (trade_flag == 0 and data.index[i].time() > datetime.time(9,15,0) and data.index[i].time() < datetime.time(15,15,0)):\n",
        "\n",
        "      if (data['close'][i]>data['high'][i-1] and data['close'][i]>data['open'][i] and data['close'][i-1]> data['open'][i-1] and rsi_data[i]>70 ):\n",
        "        entry_signal[data.index[i]] = 1\n",
        "        sl_price = data['low'][i-1]\n",
        "        sl_price1 = data['close'][i]-atr[i]\n",
        "        trade_flag = 1\n",
        "        \n",
        "      elif  (data['close'][i]< data['low'][i-1] and data['close'][i]<data['open'][i] and data['close'][i-1]< data['open'][i-1] and rsi_data[i]<30 ):\n",
        "        entry_signal[data.index[i]] = -1\n",
        "        sl_price = data['high'][i-1]\n",
        "        sl_price1 = data['close'][i]+atr[i]\n",
        "        trade_flag = -1\n",
        "\n",
        "    elif (trade_flag!=0) :\n",
        "      low = min(low, data['close'][i])\n",
        "      high = max(high, data['close'][i])\n",
        "      if (trade_flag == 1):\n",
        "        \"\"\" adding experiment code here\"\"\"\n",
        "\n",
        "        # if ( data.index[i].time() == datetime.time(15,0,0)):\n",
        "        #   if (data['close'][i] >= high):\n",
        "        #     exit_signal[data.index[i]] = -1\n",
        "        #     trade_flag = 0\n",
        "        #     continue\n",
        "        # experiment code ends\n",
        "        if (data['close'][i] < max(sl_price,sl_price1)  or data.index[i].time() == datetime.time(15,15,0)):\n",
        "          exit_signal[data.index[i]] = -1\n",
        "          trade_flag = 0\n",
        "\n",
        "      elif (trade_flag == -1):\n",
        "        # if ( data.index[i].time() == datetime.time(15,0,0)):\n",
        "        #   if (data['close'][i] <= low):\n",
        "        #     exit_signal[data.index[i]] = -1\n",
        "        #     trade_flag = 0\n",
        "        #     continue\n",
        "        if (data['close'][i] > min(sl_price, sl_price1) or data.index[i].time() == datetime.time(15,15,0)):\n",
        "          exit_signal[data.index[i]] = 1\n",
        "          trade_flag = 0    \n",
        "  return entry_signal, exit_signal          \n"
      ],
      "execution_count": 5,
      "outputs": []
    },
    {
      "cell_type": "code",
      "metadata": {
        "id": "FV0SSl5kMFXi",
        "colab_type": "code",
        "colab": {}
      },
      "source": [
        "def gen_signal_adx(data_daily, n,m):\n",
        "  entry_signals = {}\n",
        "  exit_signals = {}\n",
        "  adx = pd.DataFrame()\n",
        "  ADX = ADXIndicator(data_daily['high'], data_daily['low'], data_daily['close'], n)\n",
        "  adx[\"pdi\"] = ADX.adx_pos()\n",
        "  adx[\"ndi\"] = ADX.adx_neg()\n",
        "  adx[\"adxi\"] = ADX.adx()\n",
        "  flag_dir_past = 0\n",
        "  flag_dir_current = 0\n",
        "  flag_trade = 0\n",
        "  \n",
        "\n",
        "  for i in range(1, len(adx.index)-1):\n",
        "    \n",
        "    if (adx[\"pdi\"][i-1] > adx[\"ndi\"][i-1] ):\n",
        "      flag_dir_past = 1\n",
        "    elif (adx[\"pdi\"][i-1] < adx[\"ndi\"][i-1] )  :\n",
        "      flag_dir_past = -1\n",
        "    else:\n",
        "      flag_dir_past = 0  \n",
        "\n",
        "    if (adx[\"pdi\"][i] > adx[\"ndi\"][i] ):\n",
        "      flag_dir_current = 1\n",
        "    elif (adx[\"pdi\"][i] < adx[\"ndi\"][i] )  :\n",
        "      flag_dir_current = -1\n",
        "    else:\n",
        "      flag_dir_current = 0  \n",
        "\n",
        "    if (flag_trade == 0):\n",
        "      # BUY signal\n",
        "      if ( flag_dir_current > flag_dir_past ):\n",
        "        if (adx['adxi'][i] > m ):\n",
        "          entry_signals[adx.index[i]] = 1\n",
        "          stoploss_price = data_daily['low'][i-1]\n",
        "          \n",
        "          flag_trade = 1\n",
        "      # SELL signal\n",
        "      elif ( flag_dir_current < flag_dir_past ):\n",
        "        if (adx['adxi'][i] > m ):\n",
        "          entry_signals[adx.index[i]] = -1\n",
        "          stoploss_price = data_daily['high'][i-1]\n",
        "          \n",
        "          flag_trade = -1    \n",
        "\n",
        "\n",
        "    if (flag_trade == 1): \n",
        "      if (flag_dir_current < flag_dir_past or data_daily['close'][i]< stoploss_price):\n",
        "        exit_signals[adx.index[i]] = -1\n",
        "        flag_trade = 0\n",
        "    elif  (flag_trade == -1): \n",
        "      if (flag_dir_current > flag_dir_past or data_daily['close'][i]> stoploss_price):\n",
        "        exit_signals[adx.index[i]] = -1\n",
        "        flag_trade = 0 \n",
        "\n",
        "  return entry_signals, exit_signals        \n",
        "\n"
      ],
      "execution_count": 45,
      "outputs": []
    },
    {
      "cell_type": "code",
      "metadata": {
        "id": "up0c5yjCLUDw",
        "colab_type": "code",
        "colab": {
          "base_uri": "https://localhost:8080/",
          "height": 336
        },
        "outputId": "25192a55-edc1-47f4-8347-41b1fa4aed98"
      },
      "source": [
        "if __name__ == \"__main__\":\n",
        "  # Timewiseresults = {}\n",
        "  # i = '5minute'\n",
        "# VHF = VHF_self(backtest_df['close'], 14)\n",
        "  # backtest_data = total_dataset[i]\n",
        "# MACD, MACD_Signal = MACD_self(backtest_df['close'], 26, 12, 9)\n",
        "# Entry_Signals, Exit_Signals = gen_VHF_MACD_trade_signals(VHF, MACD, MACD_Signal)\n",
        "  # Entry_Signals, Exit_Signals = gen_Breakout_trade_signals(backtest_data, backtest_data['close'], data_daily)\n",
        "# Entry_Signals, Exit_Signals, RS =rs_strat_buy_sell(data_daily_rel['close'], data_daily_NIFTY['close'], 200)\n",
        "  # results_net = {}\n",
        "  # trading_journal_total = {}\n",
        "  # for j in total_dataset:\n",
        "  # try:\n",
        "    # data = total_dataset[j]\n",
        "    # Entry_Signals, Exit_Signals = gen_signal_adx(backtest_df_x, 14, 20)\n",
        "  rsi_data = rsi(backtest_df_x['close'], 3)\n",
        "  # ema_data = ema_indicator(backtest_df_x['close'],n= 50)\n",
        "  Entry_Signals , Exit_Signals = rsi_trend_signals(backtest_df_x, rsi_data)\n",
        "  try:\n",
        "    Trading_Journal = gen_trading_journal(backtest_df_x, Entry_Signals, Exit_Signals)\n",
        "  except KeyError:\n",
        "    print(\"aayi thi ek\")  \n",
        "  Trading_Journal = Trading_Journal.fillna(0)\n",
        "  # trading_journal_total[j] = Trading_Journal\n",
        "  Results = gen_Results(Trading_Journal)\n",
        "    # results_net[j] = Results\n",
        "  # except KeyError:\n",
        "  #   print(j)  \n",
        "\n",
        "  print(Results)"
      ],
      "execution_count": 51,
      "outputs": [
        {
          "output_type": "stream",
          "text": [
            "/usr/local/lib/python3.6/dist-packages/ipykernel_launcher.py:2: DeprecationWarning: The default dtype for empty Series will be 'object' instead of 'float64' in a future version. Specify a dtype explicitly to silence this warning.\n",
            "  \n"
          ],
          "name": "stderr"
        },
        {
          "output_type": "display_data",
          "data": {
            "image/png": "[encoded data removed]",
            "text/plain": [
              "<Figure size 432x288 with 1 Axes>"
            ]
          },
          "metadata": {
            "tags": [],
            "needs_background": "light"
          }
        },
        {
          "output_type": "stream",
          "text": [
            "{'Net_PnL': 8382.000000000007, 'Max One Trade Drawdown': -90.0, 'Sharpe Ratio': 0.30533086775091606, 'Sortino Ratio': 1.3986199884591246, 'Max_Cons_Profit': 659.5499999999975, 'Max_Cons_Loss': -213.45000000000255, 'PnL Trade Ratio': 0.38758456028651017, 'Minimum of PnL': -159.9499999999971, 'Max Draw-Down': -548.4500000000016}\n"
          ],
          "name": "stdout"
        }
      ]
    },
    {
      "cell_type": "code",
      "metadata": {
        "id": "H3gtpophCuJ8",
        "colab_type": "code",
        "colab": {
          "base_uri": "https://localhost:8080/",
          "height": 419
        },
        "outputId": "095b4cf9-3b05-4f3e-88c0-1f5e0e57b2eb"
      },
      "source": [
        "Trading_Journal"
      ],
      "execution_count": 52,
      "outputs": [
        {
          "output_type": "execute_result",
          "data": {
            "text/html": [
              "<div>\n",
              "<style scoped>\n",
              "    .dataframe tbody tr th:only-of-type {\n",
              "        vertical-align: middle;\n",
              "    }\n",
              "\n",
              "    .dataframe tbody tr th {\n",
              "        vertical-align: top;\n",
              "    }\n",
              "\n",
              "    .dataframe thead th {\n",
              "        text-align: right;\n",
              "    }\n",
              "</style>\n",
              "<table border=\"1\" class=\"dataframe\">\n",
              "  <thead>\n",
              "    <tr style=\"text-align: right;\">\n",
              "      <th></th>\n",
              "      <th>Entry Time</th>\n",
              "      <th>Signal</th>\n",
              "      <th>Entry Price</th>\n",
              "      <th>Exit Price</th>\n",
              "      <th>Exit Time</th>\n",
              "      <th>PnL</th>\n",
              "      <th>Running_MAX_PnL</th>\n",
              "      <th>Running_MIN_PnL</th>\n",
              "    </tr>\n",
              "  </thead>\n",
              "  <tbody>\n",
              "    <tr>\n",
              "      <th>0</th>\n",
              "      <td>2015-03-02 09:35:00</td>\n",
              "      <td>BUY</td>\n",
              "      <td>8967.85</td>\n",
              "      <td>8942.15</td>\n",
              "      <td>2015-03-02 10:40:00</td>\n",
              "      <td>-25.70</td>\n",
              "      <td>3.00</td>\n",
              "      <td>-25.70</td>\n",
              "    </tr>\n",
              "    <tr>\n",
              "      <th>1</th>\n",
              "      <td>2015-03-02 10:45:00</td>\n",
              "      <td>SELL</td>\n",
              "      <td>8933.10</td>\n",
              "      <td>8962.60</td>\n",
              "      <td>2015-03-02 15:05:00</td>\n",
              "      <td>-29.50</td>\n",
              "      <td>41.40</td>\n",
              "      <td>-29.50</td>\n",
              "    </tr>\n",
              "    <tr>\n",
              "      <th>2</th>\n",
              "      <td>2015-03-03 10:05:00</td>\n",
              "      <td>BUY</td>\n",
              "      <td>8958.65</td>\n",
              "      <td>8942.35</td>\n",
              "      <td>2015-03-03 11:15:00</td>\n",
              "      <td>-16.30</td>\n",
              "      <td>10.65</td>\n",
              "      <td>-16.30</td>\n",
              "    </tr>\n",
              "    <tr>\n",
              "      <th>3</th>\n",
              "      <td>2015-03-03 11:20:00</td>\n",
              "      <td>SELL</td>\n",
              "      <td>8939.80</td>\n",
              "      <td>8951.05</td>\n",
              "      <td>2015-03-03 11:40:00</td>\n",
              "      <td>-11.25</td>\n",
              "      <td>0.00</td>\n",
              "      <td>-11.25</td>\n",
              "    </tr>\n",
              "    <tr>\n",
              "      <th>4</th>\n",
              "      <td>2015-03-03 11:55:00</td>\n",
              "      <td>BUY</td>\n",
              "      <td>8957.85</td>\n",
              "      <td>9004.40</td>\n",
              "      <td>2015-03-03 15:00:00</td>\n",
              "      <td>46.55</td>\n",
              "      <td>46.55</td>\n",
              "      <td>-0.15</td>\n",
              "    </tr>\n",
              "    <tr>\n",
              "      <th>...</th>\n",
              "      <td>...</td>\n",
              "      <td>...</td>\n",
              "      <td>...</td>\n",
              "      <td>...</td>\n",
              "      <td>...</td>\n",
              "      <td>...</td>\n",
              "      <td>...</td>\n",
              "      <td>...</td>\n",
              "    </tr>\n",
              "    <tr>\n",
              "      <th>3484</th>\n",
              "      <td>2020-02-06 10:40:00</td>\n",
              "      <td>SELL</td>\n",
              "      <td>12110.75</td>\n",
              "      <td>12125.10</td>\n",
              "      <td>2020-02-06 11:45:00</td>\n",
              "      <td>-14.35</td>\n",
              "      <td>25.10</td>\n",
              "      <td>-14.35</td>\n",
              "    </tr>\n",
              "    <tr>\n",
              "      <th>3485</th>\n",
              "      <td>2020-02-06 11:50:00</td>\n",
              "      <td>BUY</td>\n",
              "      <td>12146.10</td>\n",
              "      <td>12131.00</td>\n",
              "      <td>2020-02-06 12:10:00</td>\n",
              "      <td>-15.10</td>\n",
              "      <td>3.45</td>\n",
              "      <td>-15.10</td>\n",
              "    </tr>\n",
              "    <tr>\n",
              "      <th>3486</th>\n",
              "      <td>2020-02-06 12:30:00</td>\n",
              "      <td>BUY</td>\n",
              "      <td>12145.45</td>\n",
              "      <td>12125.60</td>\n",
              "      <td>2020-02-06 13:50:00</td>\n",
              "      <td>-19.85</td>\n",
              "      <td>13.25</td>\n",
              "      <td>-19.85</td>\n",
              "    </tr>\n",
              "    <tr>\n",
              "      <th>3487</th>\n",
              "      <td>2020-02-06 13:55:00</td>\n",
              "      <td>SELL</td>\n",
              "      <td>12115.00</td>\n",
              "      <td>12129.40</td>\n",
              "      <td>2020-02-06 14:15:00</td>\n",
              "      <td>-14.40</td>\n",
              "      <td>3.05</td>\n",
              "      <td>-14.40</td>\n",
              "    </tr>\n",
              "    <tr>\n",
              "      <th>3488</th>\n",
              "      <td>2020-02-06 14:20:00</td>\n",
              "      <td>BUY</td>\n",
              "      <td>12139.00</td>\n",
              "      <td>12139.90</td>\n",
              "      <td>2020-02-06 15:15:00</td>\n",
              "      <td>0.90</td>\n",
              "      <td>6.60</td>\n",
              "      <td>-11.15</td>\n",
              "    </tr>\n",
              "  </tbody>\n",
              "</table>\n",
              "<p>3489 rows × 8 columns</p>\n",
              "</div>"
            ],
            "text/plain": [
              "              Entry Time Signal  ...  Running_MAX_PnL  Running_MIN_PnL\n",
              "0    2015-03-02 09:35:00    BUY  ...             3.00           -25.70\n",
              "1    2015-03-02 10:45:00   SELL  ...            41.40           -29.50\n",
              "2    2015-03-03 10:05:00    BUY  ...            10.65           -16.30\n",
              "3    2015-03-03 11:20:00   SELL  ...             0.00           -11.25\n",
              "4    2015-03-03 11:55:00    BUY  ...            46.55            -0.15\n",
              "...                  ...    ...  ...              ...              ...\n",
              "3484 2020-02-06 10:40:00   SELL  ...            25.10           -14.35\n",
              "3485 2020-02-06 11:50:00    BUY  ...             3.45           -15.10\n",
              "3486 2020-02-06 12:30:00    BUY  ...            13.25           -19.85\n",
              "3487 2020-02-06 13:55:00   SELL  ...             3.05           -14.40\n",
              "3488 2020-02-06 14:20:00    BUY  ...             6.60           -11.15\n",
              "\n",
              "[3489 rows x 8 columns]"
            ]
          },
          "metadata": {
            "tags": []
          },
          "execution_count": 52
        }
      ]
    },
    {
      "cell_type": "code",
      "metadata": {
        "id": "1cMgqxvxhB4J",
        "colab_type": "code",
        "colab": {
          "base_uri": "https://localhost:8080/",
          "height": 153
        },
        "outputId": "ee55da5c-838f-4cbd-f5a9-75495c35228f"
      },
      "source": [
        "date_series = pd.date_range('2015-03-02', '2020-08-18')\n",
        "print(date_series)"
      ],
      "execution_count": 25,
      "outputs": [
        {
          "output_type": "stream",
          "text": [
            "DatetimeIndex(['2015-03-02', '2015-03-03', '2015-03-04', '2015-03-05',\n",
            "               '2015-03-06', '2015-03-07', '2015-03-08', '2015-03-09',\n",
            "               '2015-03-10', '2015-03-11',\n",
            "               ...\n",
            "               '2020-08-09', '2020-08-10', '2020-08-11', '2020-08-12',\n",
            "               '2020-08-13', '2020-08-14', '2020-08-15', '2020-08-16',\n",
            "               '2020-08-17', '2020-08-18'],\n",
            "              dtype='datetime64[ns]', length=1997, freq='D')\n"
          ],
          "name": "stdout"
        }
      ]
    },
    {
      "cell_type": "code",
      "metadata": {
        "id": "bED3SuMdDGZz",
        "colab_type": "code",
        "colab": {
          "base_uri": "https://localhost:8080/",
          "height": 419
        },
        "outputId": "cd1ae4cf-88f4-4803-e796-6639a5d51fc2"
      },
      "source": [
        "Trading_Journal"
      ],
      "execution_count": 29,
      "outputs": [
        {
          "output_type": "execute_result",
          "data": {
            "text/html": [
              "<div>\n",
              "<style scoped>\n",
              "    .dataframe tbody tr th:only-of-type {\n",
              "        vertical-align: middle;\n",
              "    }\n",
              "\n",
              "    .dataframe tbody tr th {\n",
              "        vertical-align: top;\n",
              "    }\n",
              "\n",
              "    .dataframe thead th {\n",
              "        text-align: right;\n",
              "    }\n",
              "</style>\n",
              "<table border=\"1\" class=\"dataframe\">\n",
              "  <thead>\n",
              "    <tr style=\"text-align: right;\">\n",
              "      <th></th>\n",
              "      <th>Entry Time</th>\n",
              "      <th>Signal</th>\n",
              "      <th>Entry Price</th>\n",
              "      <th>Exit Price</th>\n",
              "      <th>Exit Time</th>\n",
              "      <th>PnL</th>\n",
              "      <th>Running_MAX_PnL</th>\n",
              "      <th>Running_MIN_PnL</th>\n",
              "    </tr>\n",
              "  </thead>\n",
              "  <tbody>\n",
              "    <tr>\n",
              "      <th>0</th>\n",
              "      <td>2015-03-02 10:45:00</td>\n",
              "      <td>SELL</td>\n",
              "      <td>8926.00</td>\n",
              "      <td>8958.80</td>\n",
              "      <td>2015-03-02 15:00:00</td>\n",
              "      <td>-32.80</td>\n",
              "      <td>34.30</td>\n",
              "      <td>-32.80</td>\n",
              "    </tr>\n",
              "    <tr>\n",
              "      <th>1</th>\n",
              "      <td>2015-03-03 13:30:00</td>\n",
              "      <td>BUY</td>\n",
              "      <td>8983.35</td>\n",
              "      <td>8969.65</td>\n",
              "      <td>2015-03-03 13:45:00</td>\n",
              "      <td>-13.70</td>\n",
              "      <td>0.00</td>\n",
              "      <td>-13.70</td>\n",
              "    </tr>\n",
              "    <tr>\n",
              "      <th>2</th>\n",
              "      <td>2015-03-04 12:00:00</td>\n",
              "      <td>SELL</td>\n",
              "      <td>9040.30</td>\n",
              "      <td>8918.40</td>\n",
              "      <td>2015-03-04 15:15:00</td>\n",
              "      <td>121.90</td>\n",
              "      <td>121.90</td>\n",
              "      <td>-17.30</td>\n",
              "    </tr>\n",
              "    <tr>\n",
              "      <th>3</th>\n",
              "      <td>2015-03-05 09:45:00</td>\n",
              "      <td>SELL</td>\n",
              "      <td>8901.40</td>\n",
              "      <td>8933.15</td>\n",
              "      <td>2015-03-05 10:15:00</td>\n",
              "      <td>-31.75</td>\n",
              "      <td>0.00</td>\n",
              "      <td>-31.75</td>\n",
              "    </tr>\n",
              "    <tr>\n",
              "      <th>4</th>\n",
              "      <td>2015-03-05 12:45:00</td>\n",
              "      <td>SELL</td>\n",
              "      <td>8871.25</td>\n",
              "      <td>8909.20</td>\n",
              "      <td>2015-03-05 13:45:00</td>\n",
              "      <td>-37.95</td>\n",
              "      <td>8.50</td>\n",
              "      <td>-37.95</td>\n",
              "    </tr>\n",
              "    <tr>\n",
              "      <th>...</th>\n",
              "      <td>...</td>\n",
              "      <td>...</td>\n",
              "      <td>...</td>\n",
              "      <td>...</td>\n",
              "      <td>...</td>\n",
              "      <td>...</td>\n",
              "      <td>...</td>\n",
              "      <td>...</td>\n",
              "    </tr>\n",
              "    <tr>\n",
              "      <th>1710</th>\n",
              "      <td>2020-02-05 09:30:00</td>\n",
              "      <td>BUY</td>\n",
              "      <td>12026.20</td>\n",
              "      <td>11996.25</td>\n",
              "      <td>2020-02-05 11:45:00</td>\n",
              "      <td>-29.95</td>\n",
              "      <td>19.45</td>\n",
              "      <td>-29.95</td>\n",
              "    </tr>\n",
              "    <tr>\n",
              "      <th>1711</th>\n",
              "      <td>2020-02-05 12:00:00</td>\n",
              "      <td>SELL</td>\n",
              "      <td>11993.15</td>\n",
              "      <td>12022.25</td>\n",
              "      <td>2020-02-05 12:30:00</td>\n",
              "      <td>-29.10</td>\n",
              "      <td>0.00</td>\n",
              "      <td>-29.10</td>\n",
              "    </tr>\n",
              "    <tr>\n",
              "      <th>1712</th>\n",
              "      <td>2020-02-05 13:45:00</td>\n",
              "      <td>BUY</td>\n",
              "      <td>12043.00</td>\n",
              "      <td>12091.95</td>\n",
              "      <td>2020-02-05 15:15:00</td>\n",
              "      <td>48.95</td>\n",
              "      <td>48.95</td>\n",
              "      <td>0.00</td>\n",
              "    </tr>\n",
              "    <tr>\n",
              "      <th>1713</th>\n",
              "      <td>2020-02-06 09:30:00</td>\n",
              "      <td>BUY</td>\n",
              "      <td>12150.85</td>\n",
              "      <td>12113.35</td>\n",
              "      <td>2020-02-06 10:00:00</td>\n",
              "      <td>-37.50</td>\n",
              "      <td>0.00</td>\n",
              "      <td>-37.50</td>\n",
              "    </tr>\n",
              "    <tr>\n",
              "      <th>1714</th>\n",
              "      <td>2020-02-06 11:00:00</td>\n",
              "      <td>SELL</td>\n",
              "      <td>12085.65</td>\n",
              "      <td>12149.55</td>\n",
              "      <td>2020-02-06 11:45:00</td>\n",
              "      <td>-63.90</td>\n",
              "      <td>0.00</td>\n",
              "      <td>-63.90</td>\n",
              "    </tr>\n",
              "  </tbody>\n",
              "</table>\n",
              "<p>1715 rows × 8 columns</p>\n",
              "</div>"
            ],
            "text/plain": [
              "              Entry Time Signal  ...  Running_MAX_PnL  Running_MIN_PnL\n",
              "0    2015-03-02 10:45:00   SELL  ...            34.30           -32.80\n",
              "1    2015-03-03 13:30:00    BUY  ...             0.00           -13.70\n",
              "2    2015-03-04 12:00:00   SELL  ...           121.90           -17.30\n",
              "3    2015-03-05 09:45:00   SELL  ...             0.00           -31.75\n",
              "4    2015-03-05 12:45:00   SELL  ...             8.50           -37.95\n",
              "...                  ...    ...  ...              ...              ...\n",
              "1710 2020-02-05 09:30:00    BUY  ...            19.45           -29.95\n",
              "1711 2020-02-05 12:00:00   SELL  ...             0.00           -29.10\n",
              "1712 2020-02-05 13:45:00    BUY  ...            48.95             0.00\n",
              "1713 2020-02-06 09:30:00    BUY  ...             0.00           -37.50\n",
              "1714 2020-02-06 11:00:00   SELL  ...             0.00           -63.90\n",
              "\n",
              "[1715 rows x 8 columns]"
            ]
          },
          "metadata": {
            "tags": []
          },
          "execution_count": 29
        }
      ]
    },
    {
      "cell_type": "code",
      "metadata": {
        "id": "9oJ_0fLEg4VS",
        "colab_type": "code",
        "colab": {
          "base_uri": "https://localhost:8080/",
          "height": 275
        },
        "outputId": "dca2a587-86be-490b-e2cd-b1a152e1b9f8"
      },
      "source": [
        "# FOR PRODUCING DAILY TIMELINE OF RESULTS\n",
        "\n",
        "\n",
        "daily_results= pd.Series()\n",
        "for i in date_series:\n",
        "  daily_results[i] = 0.00\n",
        "  for j in Trading_Journal.index:\n",
        "    \n",
        "    \n",
        "    if ( (i> (Trading_Journal['Entry Time'][j]).date() and i < (Trading_Journal['Exit Time'][j]).date() )):\n",
        "      that_day_price = kite.historical_data(instrument_token = 260105, from_date = i, to_date = i, interval = 'day', continuous = False)\n",
        "      that_day_price = pd.DataFrame(that_day_price)\n",
        "      if ( \"date\" in that_day_price.columns):\n",
        "        that_day_price = that_day_price.set_index(\"date\")\n",
        "      \n",
        "      # print(that_day_price.columns)\n",
        "      # print(that_day_price)\n",
        "      if (Trading_Journal['Signal'][j] == 'BUY'):\n",
        "        signal = 1\n",
        "      else:\n",
        "        signal = 0  \n",
        "      if (\"close\" in that_day_price.columns):  \n",
        "        \n",
        "        daily_results[i] += signal* (that_day_price['close'][0]- Trading_Journal['Entry Price'][j])\n",
        "    elif (i == (Trading_Journal['Entry Time'][j]).date() and i == (Trading_Journal['Exit Time'][j]).date()):\n",
        "      daily_results[i] +=  Trading_Journal['PnL'][j]\n",
        "      \n",
        "    elif (Trading_Journal['Entry Time'][j].date() > i) :\n",
        "      break\n",
        "        \n",
        "print(daily_results)      "
      ],
      "execution_count": 32,
      "outputs": [
        {
          "output_type": "stream",
          "text": [
            "/usr/local/lib/python3.6/dist-packages/ipykernel_launcher.py:4: DeprecationWarning: The default dtype for empty Series will be 'object' instead of 'float64' in a future version. Specify a dtype explicitly to silence this warning.\n",
            "  after removing the cwd from sys.path.\n"
          ],
          "name": "stderr"
        },
        {
          "output_type": "stream",
          "text": [
            "2015-03-02    -32.8\n",
            "2015-03-03    -13.7\n",
            "2015-03-04    121.9\n",
            "2015-03-05    -84.0\n",
            "2015-03-06      0.0\n",
            "              ...  \n",
            "2020-08-14      0.0\n",
            "2020-08-15      0.0\n",
            "2020-08-16      0.0\n",
            "2020-08-17      0.0\n",
            "2020-08-18      0.0\n",
            "Length: 1997, dtype: float64\n"
          ],
          "name": "stdout"
        }
      ]
    },
    {
      "cell_type": "code",
      "metadata": {
        "id": "R-tjPZ7Jn5-J",
        "colab_type": "code",
        "colab": {
          "base_uri": "https://localhost:8080/",
          "height": 34
        },
        "outputId": "5cb7ef4d-3b6b-4571-b89b-3fcae1c85ca3"
      },
      "source": [
        "c=0\n",
        "for i in daily_results:\n",
        "  c+=i\n",
        "print(c)  "
      ],
      "execution_count": 34,
      "outputs": [
        {
          "output_type": "stream",
          "text": [
            "6579.749999999955\n"
          ],
          "name": "stdout"
        }
      ]
    },
    {
      "cell_type": "code",
      "metadata": {
        "id": "wOZvlUUoMrqn",
        "colab_type": "code",
        "colab": {
          "base_uri": "https://localhost:8080/",
          "height": 17
        },
        "outputId": "e52d4eaf-4d6f-44df-ddb4-3b7e9f9bcdb9"
      },
      "source": [
        "daily_results.to_excel(\"daily_time_rsi.xlsx\")\n",
        "files.download(\"daily_time_rsi.xlsx\")"
      ],
      "execution_count": 35,
      "outputs": [
        {
          "output_type": "display_data",
          "data": {
            "application/javascript": [
              "\n",
              "    async function download(id, filename, size) {\n",
              "      if (!google.colab.kernel.accessAllowed) {\n",
              "        return;\n",
              "      }\n",
              "      const div = document.createElement('div');\n",
              "      const label = document.createElement('label');\n",
              "      label.textContent = `Downloading \"${filename}\": `;\n",
              "      div.appendChild(label);\n",
              "      const progress = document.createElement('progress');\n",
              "      progress.max = size;\n",
              "      div.appendChild(progress);\n",
              "      document.body.appendChild(div);\n",
              "\n",
              "      const buffers = [];\n",
              "      let downloaded = 0;\n",
              "\n",
              "      const channel = await google.colab.kernel.comms.open(id);\n",
              "      // Send a message to notify the kernel that we're ready.\n",
              "      channel.send({})\n",
              "\n",
              "      for await (const message of channel.messages) {\n",
              "        // Send a message to notify the kernel that we're ready.\n",
              "        channel.send({})\n",
              "        if (message.buffers) {\n",
              "          for (const buffer of message.buffers) {\n",
              "            buffers.push(buffer);\n",
              "            downloaded += buffer.byteLength;\n",
              "            progress.value = downloaded;\n",
              "          }\n",
              "        }\n",
              "      }\n",
              "      const blob = new Blob(buffers, {type: 'application/binary'});\n",
              "      const a = document.createElement('a');\n",
              "      a.href = window.URL.createObjectURL(blob);\n",
              "      a.download = filename;\n",
              "      div.appendChild(a);\n",
              "      a.click();\n",
              "      div.remove();\n",
              "    }\n",
              "  "
            ],
            "text/plain": [
              "<IPython.core.display.Javascript object>"
            ]
          },
          "metadata": {
            "tags": []
          }
        },
        {
          "output_type": "display_data",
          "data": {
            "application/javascript": [
              "download(\"download_82e02b19-adbf-4322-998b-ee77c2903762\", \"daily_time_rsi.xlsx\", 33123)"
            ],
            "text/plain": [
              "<IPython.core.display.Javascript object>"
            ]
          },
          "metadata": {
            "tags": []
          }
        }
      ]
    },
    {
      "cell_type": "code",
      "metadata": {
        "id": "l6AV4edoAKEk",
        "colab_type": "code",
        "colab": {
          "base_uri": "https://localhost:8080/",
          "height": 631
        },
        "outputId": "d6f755d6-7ff1-480d-fca8-68e40b32dcd9"
      },
      "source": [
        "print(daily_results.head(15))\n",
        "Trading_Journal.head(10)"
      ],
      "execution_count": 33,
      "outputs": [
        {
          "output_type": "stream",
          "text": [
            "2015-03-02    -32.80\n",
            "2015-03-03    -13.70\n",
            "2015-03-04    121.90\n",
            "2015-03-05    -84.00\n",
            "2015-03-06      0.00\n",
            "2015-03-07      0.00\n",
            "2015-03-08      0.00\n",
            "2015-03-09     73.05\n",
            "2015-03-10    -63.90\n",
            "2015-03-11    -25.25\n",
            "2015-03-12      0.00\n",
            "2015-03-13     76.50\n",
            "2015-03-14      0.00\n",
            "2015-03-15      0.00\n",
            "2015-03-16    -19.55\n",
            "dtype: float64\n"
          ],
          "name": "stdout"
        },
        {
          "output_type": "execute_result",
          "data": {
            "text/html": [
              "<div>\n",
              "<style scoped>\n",
              "    .dataframe tbody tr th:only-of-type {\n",
              "        vertical-align: middle;\n",
              "    }\n",
              "\n",
              "    .dataframe tbody tr th {\n",
              "        vertical-align: top;\n",
              "    }\n",
              "\n",
              "    .dataframe thead th {\n",
              "        text-align: right;\n",
              "    }\n",
              "</style>\n",
              "<table border=\"1\" class=\"dataframe\">\n",
              "  <thead>\n",
              "    <tr style=\"text-align: right;\">\n",
              "      <th></th>\n",
              "      <th>Entry Time</th>\n",
              "      <th>Signal</th>\n",
              "      <th>Entry Price</th>\n",
              "      <th>Exit Price</th>\n",
              "      <th>Exit Time</th>\n",
              "      <th>PnL</th>\n",
              "      <th>Running_MAX_PnL</th>\n",
              "      <th>Running_MIN_PnL</th>\n",
              "    </tr>\n",
              "  </thead>\n",
              "  <tbody>\n",
              "    <tr>\n",
              "      <th>0</th>\n",
              "      <td>2015-03-02 10:45:00</td>\n",
              "      <td>SELL</td>\n",
              "      <td>8926.00</td>\n",
              "      <td>8958.80</td>\n",
              "      <td>2015-03-02 15:00:00</td>\n",
              "      <td>-32.80</td>\n",
              "      <td>34.30</td>\n",
              "      <td>-32.80</td>\n",
              "    </tr>\n",
              "    <tr>\n",
              "      <th>1</th>\n",
              "      <td>2015-03-03 13:30:00</td>\n",
              "      <td>BUY</td>\n",
              "      <td>8983.35</td>\n",
              "      <td>8969.65</td>\n",
              "      <td>2015-03-03 13:45:00</td>\n",
              "      <td>-13.70</td>\n",
              "      <td>0.00</td>\n",
              "      <td>-13.70</td>\n",
              "    </tr>\n",
              "    <tr>\n",
              "      <th>2</th>\n",
              "      <td>2015-03-04 12:00:00</td>\n",
              "      <td>SELL</td>\n",
              "      <td>9040.30</td>\n",
              "      <td>8918.40</td>\n",
              "      <td>2015-03-04 15:15:00</td>\n",
              "      <td>121.90</td>\n",
              "      <td>121.90</td>\n",
              "      <td>-17.30</td>\n",
              "    </tr>\n",
              "    <tr>\n",
              "      <th>3</th>\n",
              "      <td>2015-03-05 09:45:00</td>\n",
              "      <td>SELL</td>\n",
              "      <td>8901.40</td>\n",
              "      <td>8933.15</td>\n",
              "      <td>2015-03-05 10:15:00</td>\n",
              "      <td>-31.75</td>\n",
              "      <td>0.00</td>\n",
              "      <td>-31.75</td>\n",
              "    </tr>\n",
              "    <tr>\n",
              "      <th>4</th>\n",
              "      <td>2015-03-05 12:45:00</td>\n",
              "      <td>SELL</td>\n",
              "      <td>8871.25</td>\n",
              "      <td>8909.20</td>\n",
              "      <td>2015-03-05 13:45:00</td>\n",
              "      <td>-37.95</td>\n",
              "      <td>8.50</td>\n",
              "      <td>-37.95</td>\n",
              "    </tr>\n",
              "    <tr>\n",
              "      <th>5</th>\n",
              "      <td>2015-03-05 15:00:00</td>\n",
              "      <td>BUY</td>\n",
              "      <td>8952.05</td>\n",
              "      <td>8937.75</td>\n",
              "      <td>2015-03-05 15:15:00</td>\n",
              "      <td>-14.30</td>\n",
              "      <td>0.00</td>\n",
              "      <td>-14.30</td>\n",
              "    </tr>\n",
              "    <tr>\n",
              "      <th>6</th>\n",
              "      <td>2015-03-09 09:30:00</td>\n",
              "      <td>SELL</td>\n",
              "      <td>8816.30</td>\n",
              "      <td>8743.25</td>\n",
              "      <td>2015-03-09 15:15:00</td>\n",
              "      <td>73.05</td>\n",
              "      <td>73.05</td>\n",
              "      <td>-8.40</td>\n",
              "    </tr>\n",
              "    <tr>\n",
              "      <th>7</th>\n",
              "      <td>2015-03-10 10:45:00</td>\n",
              "      <td>BUY</td>\n",
              "      <td>8775.00</td>\n",
              "      <td>8734.15</td>\n",
              "      <td>2015-03-10 13:00:00</td>\n",
              "      <td>-40.85</td>\n",
              "      <td>0.00</td>\n",
              "      <td>-40.85</td>\n",
              "    </tr>\n",
              "    <tr>\n",
              "      <th>8</th>\n",
              "      <td>2015-03-10 13:45:00</td>\n",
              "      <td>SELL</td>\n",
              "      <td>8702.55</td>\n",
              "      <td>8725.60</td>\n",
              "      <td>2015-03-10 15:15:00</td>\n",
              "      <td>-23.05</td>\n",
              "      <td>9.90</td>\n",
              "      <td>-23.05</td>\n",
              "    </tr>\n",
              "    <tr>\n",
              "      <th>9</th>\n",
              "      <td>2015-03-11 14:15:00</td>\n",
              "      <td>BUY</td>\n",
              "      <td>8747.80</td>\n",
              "      <td>8722.55</td>\n",
              "      <td>2015-03-11 14:30:00</td>\n",
              "      <td>-25.25</td>\n",
              "      <td>0.00</td>\n",
              "      <td>-25.25</td>\n",
              "    </tr>\n",
              "  </tbody>\n",
              "</table>\n",
              "</div>"
            ],
            "text/plain": [
              "           Entry Time Signal  ...  Running_MAX_PnL  Running_MIN_PnL\n",
              "0 2015-03-02 10:45:00   SELL  ...            34.30           -32.80\n",
              "1 2015-03-03 13:30:00    BUY  ...             0.00           -13.70\n",
              "2 2015-03-04 12:00:00   SELL  ...           121.90           -17.30\n",
              "3 2015-03-05 09:45:00   SELL  ...             0.00           -31.75\n",
              "4 2015-03-05 12:45:00   SELL  ...             8.50           -37.95\n",
              "5 2015-03-05 15:00:00    BUY  ...             0.00           -14.30\n",
              "6 2015-03-09 09:30:00   SELL  ...            73.05            -8.40\n",
              "7 2015-03-10 10:45:00    BUY  ...             0.00           -40.85\n",
              "8 2015-03-10 13:45:00   SELL  ...             9.90           -23.05\n",
              "9 2015-03-11 14:15:00    BUY  ...             0.00           -25.25\n",
              "\n",
              "[10 rows x 8 columns]"
            ]
          },
          "metadata": {
            "tags": []
          },
          "execution_count": 33
        }
      ]
    },
    {
      "cell_type": "markdown",
      "metadata": {
        "id": "l-8oLGC6n2Nz",
        "colab_type": "text"
      },
      "source": [
        "**DATA EXTRACTION STARTS HERE** "
      ]
    },
    {
      "cell_type": "code",
      "metadata": {
        "id": "qVzrFGZmgFWp",
        "colab_type": "code",
        "colab": {}
      },
      "source": [
        "api_key = \"4ml456nfmg2jovun\"\n",
        "api_secret = \"4m6f0lp1br20124oadj12dj3eol1zewm\""
      ],
      "execution_count": 4,
      "outputs": []
    },
    {
      "cell_type": "code",
      "metadata": {
        "id": "-YZjyC9AhBOz",
        "colab_type": "code",
        "colab": {}
      },
      "source": [
        "kite = KiteConnect(api_key, api_secret)"
      ],
      "execution_count": 5,
      "outputs": []
    },
    {
      "cell_type": "code",
      "metadata": {
        "id": "_25vljvFhEvr",
        "colab_type": "code",
        "colab": {
          "base_uri": "https://localhost:8080/",
          "height": 35
        },
        "outputId": "6409e4d4-501a-46cf-914e-0732780e7de5"
      },
      "source": [
        "kite.login_url()"
      ],
      "execution_count": 6,
      "outputs": [
        {
          "output_type": "execute_result",
          "data": {
            "application/vnd.google.colaboratory.intrinsic+json": {
              "type": "string"
            },
            "text/plain": [
              "'https://kite.trade/connect/login?api_key=4ml456nfmg2jovun&v=3'"
            ]
          },
          "metadata": {
            "tags": []
          },
          "execution_count": 6
        }
      ]
    },
    {
      "cell_type": "code",
      "metadata": {
        "id": "_JVGKlnFhGcR",
        "colab_type": "code",
        "colab": {
          "base_uri": "https://localhost:8080/",
          "height": 306
        },
        "outputId": "0452204d-ab94-4f32-c0f6-8d9b870583cc"
      },
      "source": [
        "kite.generate_session(\"7SCj1nv0knNKQA30281YWvBQoKSosbRT\", api_secret)"
      ],
      "execution_count": 7,
      "outputs": [
        {
          "output_type": "execute_result",
          "data": {
            "text/plain": [
              "{'access_token': 'TVjDVI8FQcxl01emgnopiDE7FAkG1njq',\n",
              " 'api_key': '4ml456nfmg2jovun',\n",
              " 'avatar_url': '',\n",
              " 'broker': 'ZERODHA',\n",
              " 'email': 'chir.pang@gmail.com',\n",
              " 'exchanges': ['NFO', 'MF', 'NSE', 'BFO', 'CDS', 'BSE', 'MCX'],\n",
              " 'login_time': datetime.datetime(2020, 9, 4, 9, 13, 20),\n",
              " 'meta': {'demat_consent': 'physical'},\n",
              " 'order_types': ['MARKET', 'LIMIT', 'SL', 'SL-M'],\n",
              " 'products': ['CNC', 'NRML', 'MIS', 'BO', 'CO'],\n",
              " 'public_token': 'DBf0oRO7A5Hm6cc6UpaQdn3Apv8FBkH7',\n",
              " 'refresh_token': '',\n",
              " 'silo': '',\n",
              " 'user_id': 'WM7362',\n",
              " 'user_name': 'Chirag Pangoriya',\n",
              " 'user_shortname': 'Chirag',\n",
              " 'user_type': 'individual'}"
            ]
          },
          "metadata": {
            "tags": []
          },
          "execution_count": 7
        }
      ]
    },
    {
      "cell_type": "code",
      "metadata": {
        "id": "WBXKSrvPFD46",
        "colab_type": "code",
        "colab": {}
      },
      "source": [
        "data_daily = kite.historical_data(instrument_token = '260105', from_date = '2015-03-01', to_date = '2020-08-18', interval = 'day', continuous = False)\n",
        "data_daily = pd.DataFrame(data_daily)\n",
        "data_daily = data_daily.set_index(\"date\")\n",
        "# print(data_daily)"
      ],
      "execution_count": null,
      "outputs": []
    },
    {
      "cell_type": "code",
      "metadata": {
        "id": "Rh7KIntCWm2e",
        "colab_type": "code",
        "colab": {}
      },
      "source": [
        "# asian paints = 60417\n",
        "# reliance  = 738561\n",
        "data_daily_rel = kite.historical_data(instrument_token = '738561', from_date = '2015-03-01', to_date = '2020-06-22', interval = 'day', continuous = False)\n",
        "data_daily_rel = pd.DataFrame(data_daily_rel)\n",
        "data_daily_rel = data_daily_rel.set_index(\"date\")"
      ],
      "execution_count": null,
      "outputs": []
    },
    {
      "cell_type": "code",
      "metadata": {
        "id": "KmnI72CDLhXJ",
        "colab_type": "code",
        "colab": {}
      },
      "source": [
        "def movt_stats(data) :\n",
        "  movement = []\n",
        "  movement_high = []\n",
        "  movement_low = []\n",
        "  \n",
        "  values = [0.02, 0.03, 0.04, 0.05, 0.06, 0.07, 0.08]\n",
        "  percentage_dict_4days = {}\n",
        "  percentage_dict_3days = {}\n",
        "  percentage_dict_2days = {}\n",
        "  percentage_dict_1day = {}\n",
        "  percentage_dict_last_day = {}\n",
        "  print(len(data['high']))\n",
        "  for baba in values:\n",
        "    c = 0\n",
        "    b = 0\n",
        "    a = 0\n",
        "    e = 0\n",
        "    f = 0\n",
        "    g = 0\n",
        "    h = 0\n",
        "    n = 0\n",
        "    j = 0\n",
        "    k = 0\n",
        "    l = 0\n",
        "    p = 0\n",
        "    q = 0\n",
        "    for i in range(0, len(data['high'])-1) :\n",
        "      c +=1\n",
        "      # movement.append((data['high'])[i] - (data['low'])[i])\n",
        "      # movement_high.append((data['high'])[i] - (data['open'])[i])\n",
        "      # movement_low.append((data['open'])[i] - (data['low'])[i])\n",
        "      # if ( (data['high'])[i] - (data['open'])[i]  >  0.01 * (data['open'])[i]):\n",
        "      #   b +=1\n",
        "      # if ( (data['open'])[i] - (data['low'])[i]  >  0.01 * (data['open'])[i]):\n",
        "      #   a +=1  \n",
        "\n",
        "\n",
        "      \n",
        "      \n",
        "      if ( max((data['high'])[i], (data['high'])[i-1], (data['high'])[i-2], (data['high'])[i-3], (data['high'])[i-4]) - (data['close'])[i-5]  >  baba * (data['close'])[i-5]):\n",
        "        e +=1\n",
        "      if ( (data['close'])[i-5] - min((data['low'])[i], (data['low'])[i-1], (data['low'])[i-2], (data['low'])[i-3], (data['low'])[i-4])  >  baba * (data['close'])[i-5]):\n",
        "        f +=1\n",
        "    \n",
        "      \n",
        "      \n",
        "\n",
        "\n",
        "      if ( max((data['high'])[i], (data['high'])[i-1], (data['high'])[i-2], (data['high'])[i-3]) - (data['close'])[i-4]  >  baba * (data['close'])[i-4]):\n",
        "        g +=1\n",
        "      if ( (data['close'])[i-4] - min((data['low'])[i], (data['low'])[i-1], (data['low'])[i-2], (data['low'])[i-3])  >  baba * (data['close'])[i-4]):\n",
        "        h +=1  \n",
        "        \n",
        "\n",
        "\n",
        "\n",
        "      if ( max((data['high'])[i], (data['high'])[i-1], (data['high'])[i-2]) - (data['close'])[i-3]  >  baba * (data['close'])[i-3]):\n",
        "        n +=1\n",
        "      if ( (data['close'])[i-3] - min((data['low'])[i], (data['low'])[i-1], (data['low'])[i-2])  >  baba * (data['close'])[i-3]):\n",
        "        j +=1   \n",
        "    \n",
        "\n",
        "\n",
        "\n",
        "      if ( max((data['high'])[i], (data['high'])[i-1]) - (data['close'])[i-2]  >  baba * (data['close'])[i-2]):\n",
        "        k +=1\n",
        "      if ( (data['close'])[i-2] - min((data['low'])[i], (data['low'])[i-1])  >  baba * (data['close'])[i-2]):\n",
        "        l +=1\n",
        "\n",
        "\n",
        "      if ( (data['high'])[i] - (data['close'])[i-1]  >  baba * (data['close'])[i-1]):\n",
        "        p +=1\n",
        "      if ( (data['close'])[i-1] - (data['low'])[i]  >  baba * (data['close'])[i-1]):\n",
        "        q +=1  \n",
        "    percentage_dict_4days[baba] = (e+f)*50/len(data['high'])\n",
        "    percentage_dict_3days[baba] = (g+h)*50/c \n",
        "    percentage_dict_2days[baba] = (n+j)*50/c  \n",
        "    percentage_dict_1day[baba] = (k+l)*50/c\n",
        "    percentage_dict_last_day[baba] = (p+q)*50/c\n",
        "\n",
        "\n",
        "\n",
        "  range_dict_overall = {'Thursday Close':percentage_dict_4days, 'Friday Close': percentage_dict_3days, 'Monday Close': percentage_dict_2days, 'Tuesday Close': percentage_dict_1day, \"Wednesday Close\": percentage_dict_last_day}    \n",
        "  return (range_dict_overall)\n",
        "  # df_range = pd.DataFrame(index = [\"5 DAYS\", \"4 DAYS\", \"3 DAYS\", \"2 DAYS\"], columns = [\"8\"])\n",
        "\n",
        "  # print(max(movement))\n",
        "  # print(max(movement_high))\n",
        "  # print(max(movement_low))\n",
        "  # print(statistics.mean(movement_high))\n",
        "  # print(statistics.mean(movement_low))\n",
        "  # print(statistics.mean(movement))\n",
        "  # print(b)\n",
        "  # print(a)\n",
        "\n",
        "  # print(c)\n",
        "  # print(\"5 days\")\n",
        "  # print(b*100/c)\n",
        "  # print(a*100/c)\n",
        "  # print(\"4 days\")\n",
        "  # print(e*100/c)\n",
        "  # print(f*100/c)\n",
        "  # print(\"3 days\")\n",
        "  # print(g*100/c)\n",
        "  # print(h*100/c)\n",
        "  # print(\"2 days\")\n",
        "  # print(n*100/c)\n",
        "  # print(j*100/c)\n",
        "  # print(\"1 day\")\n",
        "  # print(k*100/c)\n",
        "  # print(l*100/c)"
      ],
      "execution_count": null,
      "outputs": []
    },
    {
      "cell_type": "code",
      "metadata": {
        "id": "rVcQSRw3VSHa",
        "colab_type": "code",
        "colab": {
          "base_uri": "https://localhost:8080/",
          "height": 51
        },
        "outputId": "055f12e9-ed9f-4c8d-b2cd-d6f12fc3a530"
      },
      "source": [
        "movt_stats_nifty = movt_stats(data_daily_NIFTY)\n",
        "movt_stats_banknifty = movt_stats(data_daily)\n",
        "\n",
        "# print(\"bababababababan\")\n",
        "# movt_stats(data_daily)"
      ],
      "execution_count": null,
      "outputs": [
        {
          "output_type": "stream",
          "text": [
            "1351\n",
            "1351\n"
          ],
          "name": "stdout"
        }
      ]
    },
    {
      "cell_type": "code",
      "metadata": {
        "id": "AlkoZ3e7HjuB",
        "colab_type": "code",
        "colab": {}
      },
      "source": [
        "stats_nifty = pd.DataFrame(data = movt_stats_nifty)\n",
        "stats_bn = pd.DataFrame(data = movt_stats_banknifty)\n"
      ],
      "execution_count": null,
      "outputs": []
    },
    {
      "cell_type": "code",
      "metadata": {
        "id": "txKhppkgLoz_",
        "colab_type": "code",
        "colab": {
          "base_uri": "https://localhost:8080/",
          "height": 187
        },
        "outputId": "9e287dee-53d5-4dd8-8313-5c449655e43c"
      },
      "source": [
        "print(stats_bn)"
      ],
      "execution_count": null,
      "outputs": [
        {
          "output_type": "stream",
          "text": [
            "      Thursday Close  Friday Close  ...  Tuesday Close  Wednesday Close\n",
            "0.02       40.192450     35.185185  ...      19.814815         9.333333\n",
            "0.03       24.093264     19.888889  ...       9.518519         4.333333\n",
            "0.04       13.804589     10.851852  ...       4.592593         1.814815\n",
            "0.05        8.364175      6.000000  ...       2.925926         1.222222\n",
            "0.06        5.662472      4.074074  ...       2.037037         0.925926\n",
            "0.07        3.960030      3.000000  ...       1.259259         0.666667\n",
            "0.08        2.775722      2.111111  ...       1.074074         0.518519\n",
            "\n",
            "[7 rows x 5 columns]\n"
          ],
          "name": "stdout"
        }
      ]
    },
    {
      "cell_type": "code",
      "metadata": {
        "id": "w7vpHMx4U2c6",
        "colab_type": "code",
        "colab": {}
      },
      "source": [
        "data_daily_NIFTY = kite.historical_data(instrument_token = '260105', from_date = '2015-03-01', to_date = '2020-06-22', interval = 'day', continuous = False)\n",
        "data_daily_NIFTY = pd.DataFrame(data_daily_NIFTY)\n",
        "data_daily_NIFTY = data_daily_NIFTY.set_index(\"date\")"
      ],
      "execution_count": null,
      "outputs": []
    },
    {
      "cell_type": "code",
      "metadata": {
        "id": "gC6lZdfIDdbb",
        "colab_type": "code",
        "colab": {
          "base_uri": "https://localhost:8080/",
          "height": 54
        },
        "outputId": "39a22460-4c1f-40f5-b6db-d0bbe04987fc"
      },
      "source": [
        "tradable_instruments = []\n",
        "for b in instrument_df['segment'].index:\n",
        "  if(instrument_df['segment'][b] == \"NFO-FUT\"):\n",
        "    tradable_instruments.append(instrument_df['name'][b])\n",
        "print(tradable_instruments)    \n"
      ],
      "execution_count": null,
      "outputs": [
        {
          "output_type": "stream",
          "text": [
            "['ACC', 'ACC', 'ACC', 'ADANIENT', 'ADANIENT', 'ADANIENT', 'ADANIPORTS', 'ADANIPORTS', 'ADANIPORTS', 'ADANIPOWER', 'AMARAJABAT', 'AMARAJABAT', 'AMARAJABAT', 'AMBUJACEM', 'AMBUJACEM', 'AMBUJACEM', 'APOLLOHOSP', 'APOLLOHOSP', 'APOLLOHOSP', 'APOLLOTYRE', 'APOLLOTYRE', 'APOLLOTYRE', 'ASHOKLEY', 'ASHOKLEY', 'ASHOKLEY', 'ASIANPAINT', 'ASIANPAINT', 'ASIANPAINT', 'AUROPHARMA', 'AUROPHARMA', 'AUROPHARMA', 'AXISBANK', 'AXISBANK', 'AXISBANK', 'BAJAJ-AUTO', 'BAJAJ-AUTO', 'BAJAJ-AUTO', 'BAJAJFINSV', 'BAJAJFINSV', 'BAJAJFINSV', 'BAJFINANCE', 'BAJFINANCE', 'BAJFINANCE', 'BALKRISIND', 'BALKRISIND', 'BALKRISIND', 'BANDHANBNK', 'BANDHANBNK', 'BANDHANBNK', 'BANKBARODA', 'BANKBARODA', 'BANKBARODA', 'BANKNIFTY', 'BANKNIFTY', 'BANKNIFTY', 'BATAINDIA', 'BATAINDIA', 'BATAINDIA', 'BEL', 'BEL', 'BEL', 'BERGEPAINT', 'BERGEPAINT', 'BERGEPAINT', 'BHARATFORG', 'BHARATFORG', 'BHARATFORG', 'BHARTIARTL', 'BHARTIARTL', 'BHARTIARTL', 'BHEL', 'BHEL', 'BHEL', 'BIOCON', 'BIOCON', 'BIOCON', 'BOSCHLTD', 'BOSCHLTD', 'BOSCHLTD', 'BPCL', 'BPCL', 'BPCL', 'BRITANNIA', 'BRITANNIA', 'BRITANNIA', 'CADILAHC', 'CADILAHC', 'CADILAHC', 'CANBK', 'CANBK', 'CANBK', 'CENTURYTEX', 'CENTURYTEX', 'CENTURYTEX', 'CHOLAFIN', 'CHOLAFIN', 'CHOLAFIN', 'CIPLA', 'CIPLA', 'CIPLA', 'COALINDIA', 'COALINDIA', 'COALINDIA', 'COLPAL', 'COLPAL', 'COLPAL', 'CONCOR', 'CONCOR', 'CONCOR', 'CUMMINSIND', 'CUMMINSIND', 'CUMMINSIND', 'DABUR', 'DABUR', 'DABUR', 'DIVISLAB', 'DIVISLAB', 'DIVISLAB', 'DLF', 'DLF', 'DLF', 'DRREDDY', 'DRREDDY', 'DRREDDY', 'EICHERMOT', 'EICHERMOT', 'EICHERMOT', 'EQUITAS', 'EQUITAS', 'EQUITAS', 'ESCORTS', 'ESCORTS', 'ESCORTS', 'EXIDEIND', 'EXIDEIND', 'EXIDEIND', 'FEDERALBNK', 'FEDERALBNK', 'FEDERALBNK', 'GAIL', 'GAIL', 'GAIL', 'GLENMARK', 'GLENMARK', 'GLENMARK', 'GMRINFRA', 'GMRINFRA', 'GMRINFRA', 'GODREJCP', 'GODREJCP', 'GODREJCP', 'GODREJPROP', 'GODREJPROP', 'GODREJPROP', 'GRASIM', 'GRASIM', 'GRASIM', 'HAVELLS', 'HAVELLS', 'HAVELLS', 'HCLTECH', 'HCLTECH', 'HCLTECH', 'HDFC', 'HDFC', 'HDFC', 'HDFCBANK', 'HDFCBANK', 'HDFCBANK', 'HDFCLIFE', 'HDFCLIFE', 'HDFCLIFE', 'HEROMOTOCO', 'HEROMOTOCO', 'HEROMOTOCO', 'HINDALCO', 'HINDALCO', 'HINDALCO', 'HINDPETRO', 'HINDPETRO', 'HINDPETRO', 'HINDUNILVR', 'HINDUNILVR', 'HINDUNILVR', 'IBULHSGFIN', 'IBULHSGFIN', 'IBULHSGFIN', 'ICICIBANK', 'ICICIBANK', 'ICICIBANK', 'ICICIPRULI', 'ICICIPRULI', 'ICICIPRULI', 'IDEA', 'IDEA', 'IDEA', 'IDFCFIRSTB', 'IDFCFIRSTB', 'IDFCFIRSTB', 'IGL', 'IGL', 'IGL', 'INDIGO', 'INDIGO', 'INDIGO', 'INDUSINDBK', 'INDUSINDBK', 'INDUSINDBK', 'INFRATEL', 'INFRATEL', 'INFRATEL', 'INFY', 'INFY', 'INFY', 'IOC', 'IOC', 'IOC', 'ITC', 'ITC', 'ITC', 'JINDALSTEL', 'JINDALSTEL', 'JINDALSTEL', 'JSWSTEEL', 'JSWSTEEL', 'JSWSTEEL', 'JUBLFOOD', 'JUBLFOOD', 'JUBLFOOD', 'JUSTDIAL', 'JUSTDIAL', 'KOTAKBANK', 'KOTAKBANK', 'KOTAKBANK', 'L&TFH', 'L&TFH', 'L&TFH', 'LICHSGFIN', 'LICHSGFIN', 'LICHSGFIN', 'LT', 'LT', 'LT', 'LUPIN', 'LUPIN', 'LUPIN', 'M&M', 'M&M', 'M&M', 'M&MFIN', 'M&MFIN', 'M&MFIN', 'MANAPPURAM', 'MANAPPURAM', 'MANAPPURAM', 'MARICO', 'MARICO', 'MARICO', 'MARUTI', 'MARUTI', 'MARUTI', 'MCDOWELL-N', 'MCDOWELL-N', 'MCDOWELL-N', 'MFSL', 'MFSL', 'MFSL', 'MGL', 'MGL', 'MGL', 'MINDTREE', 'MINDTREE', 'MINDTREE', 'MOTHERSUMI', 'MOTHERSUMI', 'MOTHERSUMI', 'MOTHERSUMI', 'MRF', 'MRF', 'MRF', 'MUTHOOTFIN', 'MUTHOOTFIN', 'MUTHOOTFIN', 'NATIONALUM', 'NATIONALUM', 'NATIONALUM', 'NAUKRI', 'NAUKRI', 'NAUKRI', 'NCC', 'NCC', 'NESTLEIND', 'NESTLEIND', 'NESTLEIND', 'NIFTY', 'NIFTY', 'NIFTY', 'NIFTYIT', 'NIITTECH', 'NIITTECH', 'NIITTECH', 'NMDC', 'NMDC', 'NMDC', 'NTPC', 'NTPC', 'NTPC', 'ONGC', 'ONGC', 'ONGC', 'PAGEIND', 'PAGEIND', 'PAGEIND', 'PEL', 'PEL', 'PEL', 'PETRONET', 'PETRONET', 'PETRONET', 'PFC', 'PFC', 'PFC', 'PIDILITIND', 'PIDILITIND', 'PIDILITIND', 'PNB', 'PNB', 'PNB', 'POWERGRID', 'POWERGRID', 'POWERGRID', 'PVR', 'PVR', 'PVR', 'RAMCOCEM', 'RAMCOCEM', 'RAMCOCEM', 'RBLBANK', 'RBLBANK', 'RBLBANK', 'RECLTD', 'RECLTD', 'RECLTD', 'RELIANCE', 'RELIANCE', 'RELIANCE', 'SAIL', 'SAIL', 'SAIL', 'SBILIFE', 'SBILIFE', 'SBILIFE', 'SBIN', 'SBIN', 'SBIN', 'SHREECEM', 'SHREECEM', 'SHREECEM', 'SIEMENS', 'SIEMENS', 'SIEMENS', 'SRF', 'SRF', 'SRF', 'SRTRANSFIN', 'SRTRANSFIN', 'SRTRANSFIN', 'SUNPHARMA', 'SUNPHARMA', 'SUNPHARMA', 'SUNTV', 'SUNTV', 'SUNTV', 'TATACHEM', 'TATACHEM', 'TATACHEM', 'TATACONSUM', 'TATACONSUM', 'TATACONSUM', 'TATAMOTORS', 'TATAMOTORS', 'TATAMOTORS', 'TATAPOWER', 'TATAPOWER', 'TATAPOWER', 'TATASTEEL', 'TATASTEEL', 'TATASTEEL', 'TCS', 'TCS', 'TCS', 'TECHM', 'TECHM', 'TECHM', 'TITAN', 'TITAN', 'TITAN', 'TORNTPHARM', 'TORNTPHARM', 'TORNTPHARM', 'TORNTPOWER', 'TORNTPOWER', 'TORNTPOWER', 'TVSMOTOR', 'TVSMOTOR', 'TVSMOTOR', 'UBL', 'UBL', 'UBL', 'UJJIVAN', 'UJJIVAN', 'UJJIVAN', 'ULTRACEMCO', 'ULTRACEMCO', 'ULTRACEMCO', 'UPL', 'UPL', 'UPL', 'VEDL', 'VEDL', 'VEDL', 'VOLTAS', 'VOLTAS', 'VOLTAS', 'WIPRO', 'WIPRO', 'WIPRO', 'ZEEL', 'ZEEL', 'ZEEL']\n"
          ],
          "name": "stdout"
        }
      ]
    },
    {
      "cell_type": "code",
      "metadata": {
        "id": "sUDg0wx4kOvX",
        "colab_type": "code",
        "colab": {}
      },
      "source": [
        "tradable_instruments = set(tradable_instruments)"
      ],
      "execution_count": null,
      "outputs": []
    },
    {
      "cell_type": "code",
      "metadata": {
        "id": "L42J0Xgku6B-",
        "colab_type": "code",
        "colab": {
          "base_uri": "https://localhost:8080/",
          "height": 105
        },
        "outputId": "88632403-70de-4ef2-a2a0-58603c44f5dd"
      },
      "source": [
        "tradable_instruments_codes = []\n",
        "for bb in tradable_instruments:\n",
        "  for j in instrument_df.index :\n",
        "    if (instrument_df['tradingsymbol'][j] == bb and instrument_df['exchange'][j]== 'NSE'):\n",
        "      tradable_instruments_codes.append(instrument_df['instrument_token'][j])\n",
        "      break\n",
        "    if j == instrument_df.index[-1]:\n",
        "      print(bb)  \n",
        "print(tradable_instruments_codes)"
      ],
      "execution_count": null,
      "outputs": [
        {
          "output_type": "stream",
          "text": [
            "NIFTYIT\n",
            "BANKNIFTY\n",
            "NIFTY\n",
            "[2977281, 877057, 519937, 2911489, 3924993, 348929, 2800641, 1895937, 837889, 975873, 345089, 3689729, 523009, 2815745, 738561, 2955009, 895745, 340481, 5215745, 325121, 4708097, 1629185, 1346049, 779521, 315393, 794369, 197633, 871681, 41729, 6054401, 3365633, 2513665, 177665, 175361, 1195009, 3834113, 2672641, 54273, 4278529, 6401, 4268801, 1041153, 5582849, 2730497, 3529217, 245249, 3677697, 1270529, 85761, 2674433, 1207553, 969473, 784129, 4632577, 3400961, 140033, 492033, 4451329, 119553, 758529, 5633, 1076225, 4598529, 548353, 173057, 582913, 81153, 4369665, 94977, 884737, 6386689, 4879617, 4774913, 7458561, 356865, 103425, 4314113, 160001, 2863105, 878593, 593665, 3431425, 232961, 424961, 2714625, 341249, 3861249, 1850625, 3463169, 1723649, 2953217, 7670273, 2889473, 2170625, 633601, 3771393, 359937, 261889, 25601, 70401, 1510401, 3520257, 225537, 3660545, 415745, 511233, 4267265, 134657, 108033, 681985, 900609, 40193, 2763265, 3930881, 897537, 3001089, 951809, 857857, 3465729, 7712001, 486657, 1102337, 2585345, 112129, 2883073, 558337, 1215745, 60417, 3675137, 408065, 3876097, 98049, 2865921, 4488705, 617473, 2939649, 4576001, 2905857, 579329, 2029825, 806401, 2952193]\n"
          ],
          "name": "stdout"
        }
      ]
    },
    {
      "cell_type": "code",
      "metadata": {
        "id": "iV2Zt8BAw_ss",
        "colab_type": "code",
        "colab": {}
      },
      "source": [
        "tradable_instruments_codes = [2977281, 877057, 519937, 2911489, 3924993, 348929, 2800641, 1895937, 837889, 975873, 345089, 3689729, 523009, 2815745, 738561, 2955009, 895745, 340481, 5215745, 325121, 4708097, 1629185, 1346049, 779521, 315393, 794369, 197633, 871681, 41729, 6054401, 3365633, 2513665, 177665, 175361, 1195009, 3834113, 2672641, 54273, 4278529, 6401, 4268801, 1041153, 5582849, 2730497, 3529217, 245249, 3677697, 1270529, 85761, 2674433, 1207553, 969473, 784129, 4632577, 3400961, 140033, 492033, 4451329, 119553, 758529, 5633, 1076225, 4598529, 548353, 173057, 582913, 81153, 4369665, 94977, 884737, 6386689, 4879617, 4774913, 7458561, 356865, 103425, 4314113, 160001, 2863105, 878593, 593665, 3431425, 232961, 424961, 2714625, 341249, 3861249, 1850625, 3463169, 1723649, 2953217, 7670273, 2889473, 2170625, 633601, 3771393, 359937, 261889, 25601, 70401, 1510401, 3520257, 225537, 3660545, 415745, 511233, 4267265, 134657, 108033, 681985, 900609, 40193, 2763265, 3930881, 897537, 3001089, 951809, 857857, 3465729, 7712001, 486657, 1102337, 2585345, 112129, 2883073, 558337, 1215745, 60417, 3675137, 408065, 3876097, 98049, 2865921, 4488705, 617473, 2939649, 4576001, 2905857, 579329, 2029825, 806401, 2952193]\n"
      ],
      "execution_count": null,
      "outputs": []
    },
    {
      "cell_type": "code",
      "metadata": {
        "id": "3Aoa4cQnlAcL",
        "colab_type": "code",
        "colab": {}
      },
      "source": [
        "  # daba = [ 240,220, 120, 20 ,10 ]\n",
        "  # results_series = {}\n",
        "  # for i in daba:\n",
        "  #   Results_net = {}\n",
        "\n",
        "  for ins in tradable_instruments_codes :\n",
        "    try:\n",
        "      data_daily_x = kite.historical_data(instrument_token = ins, from_date = '2015-03-01', to_date = '2020-06-22', interval = 'day', continuous = False)\n",
        "      data_daily_x = pd.DataFrame(data_daily_x)\n",
        "      data_daily_x = data_daily_x.set_index(\"date\")\n",
        "      Entry_Signals, Exit_Signals, RS = rs_strat_buy_sell(data_daily_x['close'], data_daily_NIFTY['close'], 200)\n",
        "      Trading_Journal = gen_trading_journal(data_daily_x, Entry_Signals, Exit_Signals)\n",
        "      Trading_Journal = Trading_Journal.fillna(0)\n",
        "      \n",
        "      Results_net[ins] = gen_Results(Trading_Journal)\n",
        "      \n",
        "    except :\n",
        "      print(ins)  \n",
        "\n",
        "    \n",
        "  pura_pnl = 0\n",
        "  for key in Results_net:\n",
        "    pura_pnl += Results_net[key]['Net_PnL']  \n",
        "  print(pura_pnl)    \n",
        "  #   results_series[i] = pura_pnl   \n",
        "  # print(results_series)"
      ],
      "execution_count": null,
      "outputs": []
    },
    {
      "cell_type": "code",
      "metadata": {
        "id": "8otMzX9COoPd",
        "colab_type": "code",
        "colab": {
          "base_uri": "https://localhost:8080/",
          "height": 54
        },
        "outputId": "79d7af72-0762-487f-9e76-52631a304f1c"
      },
      "source": [
        "\n",
        "print(Results_net)"
      ],
      "execution_count": null,
      "outputs": [
        {
          "output_type": "stream",
          "text": [
            "{3924993: {'Net_PnL': 145.68000000000006, 'Max One Trade Drawdown': -16.599999999999994, 'Sharpe Ratio': 1.657820913535113, 'Sortino Ratio': 4.815535734539189, 'Max_Cons_Profit': 60.54999999999998, 'Max_Cons_Loss': -39.24999999999997, 'PnL Trade Ratio': 0.6338028169014085, 'Minimum of PnL': -39.119999999999976, 'Max Draw-Down': -53.69999999999996}, 1629185: {'Net_PnL': 45.28999999999989, 'Max One Trade Drawdown': -7.899999999999999, 'Sharpe Ratio': 2.928005740438847, 'Sortino Ratio': 6.5201016993225345, 'Max_Cons_Profit': 23.25, 'Max_Cons_Loss': -15.75, 'PnL Trade Ratio': 0.7323943661971831, 'Minimum of PnL': -19.409999999999975, 'Max Draw-Down': -28.5}, 175361: {'Net_PnL': 148.5500000000001, 'Max One Trade Drawdown': -28.55000000000001, 'Sharpe Ratio': 0.8715108552902763, 'Sortino Ratio': 2.598481907941136, 'Max_Cons_Profit': 171.30000000000004, 'Max_Cons_Loss': -61.85000000000002, 'PnL Trade Ratio': 0.8082191780821918, 'Minimum of PnL': -21.10000000000001, 'Max Draw-Down': -120.80000000000001}, 245249: {'Net_PnL': 1443.0300000000007, 'Max One Trade Drawdown': -98.69999999999993, 'Sharpe Ratio': 3.5179121416661343, 'Sortino Ratio': 11.62527669740683, 'Max_Cons_Profit': 353.54999999999995, 'Max_Cons_Loss': -171.14999999999986, 'PnL Trade Ratio': 0.734375, 'Minimum of PnL': -98.11999999999986, 'Max Draw-Down': -171.14999999999964}, 4451329: {'Net_PnL': 76.0, 'Max One Trade Drawdown': -8.300000000000004, 'Sharpe Ratio': 4.704962887317134, 'Sortino Ratio': 14.669811555520582, 'Max_Cons_Profit': 32.15, 'Max_Cons_Loss': -18.05000000000001, 'PnL Trade Ratio': 0.7258064516129032, 'Minimum of PnL': 14.149999999999984, 'Max Draw-Down': -20.70000000000001}, 6386689: {'Net_PnL': 129.79000000000016, 'Max One Trade Drawdown': -16.900000000000006, 'Sharpe Ratio': 3.649505237808553, 'Sortino Ratio': 8.940456842862826, 'Max_Cons_Profit': 51.65000000000006, 'Max_Cons_Loss': -47.90000000000002, 'PnL Trade Ratio': 0.7058823529411765, 'Minimum of PnL': -8.959999999999965, 'Max Draw-Down': -47.89999999999999}, 4879617: {'Net_PnL': 119.45000000000006, 'Max One Trade Drawdown': -39.400000000000006, 'Sharpe Ratio': 6.33704288480915, 'Sortino Ratio': 11.83852180757304, 'Max_Cons_Profit': 53.60000000000004, 'Max_Cons_Loss': -45.349999999999994, 'PnL Trade Ratio': 0.5972222222222222, 'Minimum of PnL': -5.150000000000006, 'Max Draw-Down': -57.500000000000085}, 2863105: {'Net_PnL': 44.05000000000003, 'Max One Trade Drawdown': -6.299999999999997, 'Sharpe Ratio': 1.5612405855799858, 'Sortino Ratio': 4.530229801219313, 'Max_Cons_Profit': 36.30000000000001, 'Max_Cons_Loss': -11.150000000000006, 'PnL Trade Ratio': 0.5882352941176471, 'Minimum of PnL': -13.799999999999997, 'Max Draw-Down': -16.44999999999998}, 1723649: {'Net_PnL': 210.52000000000018, 'Max One Trade Drawdown': -26.94999999999999, 'Sharpe Ratio': 1.0891009733081198, 'Sortino Ratio': 3.536075288998086, 'Max_Cons_Profit': 85.60000000000002, 'Max_Cons_Loss': -41.69999999999999, 'PnL Trade Ratio': 0.6623376623376623, 'Minimum of PnL': -2.9000000000000057, 'Max Draw-Down': -102.15000000000009}, 3771393: {'Net_PnL': 288.85000000000014, 'Max One Trade Drawdown': -33.20000000000002, 'Sharpe Ratio': 1.6128765892686443, 'Sortino Ratio': 4.915209738281082, 'Max_Cons_Profit': 176.60000000000002, 'Max_Cons_Loss': -55.05000000000004, 'PnL Trade Ratio': 0.6493506493506493, 'Minimum of PnL': -21.299999999999983, 'Max Draw-Down': -81.05000000000004}}\n"
          ],
          "name": "stdout"
        }
      ]
    },
    {
      "cell_type": "code",
      "metadata": {
        "id": "Kx5H8u1p90TP",
        "colab_type": "code",
        "colab": {
          "base_uri": "https://localhost:8080/",
          "height": 238
        },
        "outputId": "7743b3be-9dc4-476c-d798-dc5fe9dc5d91"
      },
      "source": [
        "results_eq_rs_buy_pure_stocks = pd.DataFrame.from_dict(Results_net)\n",
        "results_eq_rs_buy_pure_stocks = results_eq_rs_buy_pure_stocks.transpose()\n",
        "print(results_eq_rs_buy_pure_stocks)"
      ],
      "execution_count": null,
      "outputs": [
        {
          "output_type": "stream",
          "text": [
            "         Net_PnL  Max One Trade Drawdown  ...  Minimum of PnL  Max Draw-Down\n",
            "3924993   145.68                  -16.60  ...          -39.12         -53.70\n",
            "1629185    45.29                   -7.90  ...          -19.41         -28.50\n",
            "175361    148.55                  -28.55  ...          -21.10        -120.80\n",
            "245249   1443.03                  -98.70  ...          -98.12        -171.15\n",
            "4451329    76.00                   -8.30  ...           14.15         -20.70\n",
            "6386689   129.79                  -16.90  ...           -8.96         -47.90\n",
            "4879617   119.45                  -39.40  ...           -5.15         -57.50\n",
            "2863105    44.05                   -6.30  ...          -13.80         -16.45\n",
            "1723649   210.52                  -26.95  ...           -2.90        -102.15\n",
            "3771393   288.85                  -33.20  ...          -21.30         -81.05\n",
            "\n",
            "[10 rows x 9 columns]\n"
          ],
          "name": "stdout"
        }
      ]
    },
    {
      "cell_type": "code",
      "metadata": {
        "id": "-I8ImEo4RcTi",
        "colab_type": "code",
        "colab": {
          "base_uri": "https://localhost:8080/",
          "height": 34
        },
        "outputId": "a4268af0-996a-40db-b389-0f55acad50c5"
      },
      "source": [
        "bhadiya = []\n",
        "for i in results_eq_rs_buy_pure_stocks['Sortino Ratio'].index:\n",
        "  if(results_eq_rs_buy_pure_stocks['Sortino Ratio'][i]>2):\n",
        "    bhadiya.append(i)\n",
        "print(bhadiya)    \n",
        "# results_eq_rs_buy_pure_stocks.set_index(\"\")"
      ],
      "execution_count": null,
      "outputs": [
        {
          "output_type": "stream",
          "text": [
            "[3924993, 1629185, 175361, 245249, 4451329, 6386689, 4879617, 2863105, 1723649, 3771393]\n"
          ],
          "name": "stdout"
        }
      ]
    },
    {
      "cell_type": "code",
      "metadata": {
        "id": "3yCa0jp_1G4Q",
        "colab_type": "code",
        "colab": {
          "base_uri": "https://localhost:8080/",
          "height": 17
        },
        "outputId": "83f4235d-190e-41a7-a639-5969df6fe450"
      },
      "source": [
        "results_eq_rs_buy_pure_stocks.to_excel(\"Results_equity_rs_pure_stocks.xlsx\")\n",
        "files.download(\"Results_equity_rs_pure_stocks.xlsx\")"
      ],
      "execution_count": null,
      "outputs": [
        {
          "output_type": "display_data",
          "data": {
            "application/javascript": [
              "\n",
              "    async function download(id, filename, size) {\n",
              "      if (!google.colab.kernel.accessAllowed) {\n",
              "        return;\n",
              "      }\n",
              "      const div = document.createElement('div');\n",
              "      const label = document.createElement('label');\n",
              "      label.textContent = `Downloading \"${filename}\": `;\n",
              "      div.appendChild(label);\n",
              "      const progress = document.createElement('progress');\n",
              "      progress.max = size;\n",
              "      div.appendChild(progress);\n",
              "      document.body.appendChild(div);\n",
              "\n",
              "      const buffers = [];\n",
              "      let downloaded = 0;\n",
              "\n",
              "      const channel = await google.colab.kernel.comms.open(id);\n",
              "      // Send a message to notify the kernel that we're ready.\n",
              "      channel.send({})\n",
              "\n",
              "      for await (const message of channel.messages) {\n",
              "        // Send a message to notify the kernel that we're ready.\n",
              "        channel.send({})\n",
              "        if (message.buffers) {\n",
              "          for (const buffer of message.buffers) {\n",
              "            buffers.push(buffer);\n",
              "            downloaded += buffer.byteLength;\n",
              "            progress.value = downloaded;\n",
              "          }\n",
              "        }\n",
              "      }\n",
              "      const blob = new Blob(buffers, {type: 'application/binary'});\n",
              "      const a = document.createElement('a');\n",
              "      a.href = window.URL.createObjectURL(blob);\n",
              "      a.download = filename;\n",
              "      div.appendChild(a);\n",
              "      a.click();\n",
              "      div.remove();\n",
              "    }\n",
              "  "
            ],
            "text/plain": [
              "<IPython.core.display.Javascript object>"
            ]
          },
          "metadata": {
            "tags": []
          }
        },
        {
          "output_type": "display_data",
          "data": {
            "application/javascript": [
              "download(\"download_8c5c1202-08e7-47de-88b9-1a609de22a3d\", \"Results_equity_rs_pure_stocks.xlsx\", 18882)"
            ],
            "text/plain": [
              "<IPython.core.display.Javascript object>"
            ]
          },
          "metadata": {
            "tags": []
          }
        }
      ]
    },
    {
      "cell_type": "code",
      "metadata": {
        "id": "fsDWdDTDhDBE",
        "colab_type": "code",
        "colab": {
          "base_uri": "https://localhost:8080/",
          "height": 1000
        },
        "outputId": "1c172b4d-3bba-4d44-f222-93204e065840"
      },
      "source": [
        "bhadiya_stocks = pd.read_csv(\"/content/Results_equity_rs (2).csv\")\n",
        "bhadiya_stocks = pd.DataFrame(bhadiya_stocks)\n",
        "print(bhadiya_stocks.head(57))"
      ],
      "execution_count": null,
      "outputs": [
        {
          "output_type": "stream",
          "text": [
            "    Unnamed: 0  Net_PnL  ...  Minimum of PnL  Max Draw-Down\n",
            "0      3463169    73.26  ...            0.81          -3.45\n",
            "1      4879617   402.65  ...            1.00         -12.10\n",
            "2      1207553   549.25  ...           -1.55          -9.25\n",
            "3      2883073   809.04  ...           -5.65          -9.70\n",
            "4      1629185   185.78  ...           -3.30          -4.95\n",
            "5        54273   374.65  ...          -10.50         -10.30\n",
            "6      2905857   714.28  ...           -4.77         -22.30\n",
            "7       758529   203.83  ...            1.40         -12.20\n",
            "8       173057   838.36  ...            1.85         -13.00\n",
            "9      6386689   417.31  ...            2.55         -27.60\n",
            "10       98049   422.66  ...           -3.92         -16.26\n",
            "11     4451329   191.30  ...           -3.65         -14.20\n",
            "12      415745   403.03  ...            0.12         -14.04\n",
            "13     1076225   665.61  ...            0.61         -12.28\n",
            "14     3771393   818.00  ...           -7.50         -16.40\n",
            "15      593665   460.40  ...          -11.85          -6.65\n",
            "16       41729   711.90  ...            0.45         -14.80\n",
            "17     3930881   535.46  ...            5.83         -21.45\n",
            "18      348929   702.20  ...           -6.60         -21.95\n",
            "19     3660545   433.14  ...            4.32         -14.95\n",
            "20      261889   228.26  ...            1.65         -10.35\n",
            "21     1270529  1356.12  ...           23.77         -17.10\n",
            "22     3001089   730.82  ...           -2.00         -36.30\n",
            "23     3924993   311.14  ...            4.29         -23.15\n",
            "24      112129   329.79  ...            1.19         -11.42\n",
            "25      175361   811.75  ...           14.95         -45.25\n",
            "26     1041153   806.42  ...           37.90         -21.80\n",
            "27      359937   995.57  ...            0.75         -27.50\n",
            "28      245249  2334.47  ...          -20.15         -79.80\n",
            "29     3677697   361.95  ...           -3.35         -14.50\n",
            "30     2585345  2125.85  ...            6.98         -54.30\n",
            "31     2730497   400.88  ...           -1.71         -14.65\n",
            "32     1510401  2604.30  ...           -0.56         -29.80\n",
            "33     2911489   398.05  ...            2.25        -117.60\n",
            "34      424961   797.45  ...            1.84         -32.70\n",
            "35     2763265  1215.32  ...            2.40         -23.70\n",
            "36     2714625  1313.90  ...           26.60         -21.10\n",
            "37      633601   473.06  ...           -2.00         -12.49\n",
            "38      738561  3088.70  ...           30.48         -50.58\n",
            "39     1195009   433.02  ...           -6.05         -20.85\n",
            "40     4576001  2501.46  ...           15.61         -55.55\n",
            "41     2977281   288.92  ...           -6.93         -14.04\n",
            "42     3834113   278.16  ...          -10.13         -22.80\n",
            "43     3400961  1162.20  ...          -13.75         -34.20\n",
            "44      341249  3359.60  ...           -4.45        -107.25\n",
            "45     7458561  1245.80  ...           69.15         -26.50\n",
            "46       85761  2426.42  ...           39.73         -65.15\n",
            "47      103425   789.50  ...           -5.13         -59.25\n",
            "48      134657  1295.04  ...           44.45        -161.89\n",
            "49     1723649   635.10  ...          -25.90         -36.10\n",
            "50     3861249  1081.78  ...          -39.47         -31.45\n",
            "51      779521   857.63  ...           -5.35         -38.50\n",
            "52      511233  1852.85  ...           14.80         -56.75\n",
            "53      325121   708.01  ...          -14.59         -46.70\n",
            "54     2955009  3495.65  ...           -8.25        -149.90\n",
            "55     2939649  3632.24  ...          -43.00         -43.90\n",
            "56      617473  5954.10  ...           54.70        -138.90\n",
            "\n",
            "[57 rows x 10 columns]\n"
          ],
          "name": "stdout"
        }
      ]
    },
    {
      "cell_type": "code",
      "metadata": {
        "id": "0bB5uWIliR0Q",
        "colab_type": "code",
        "colab": {}
      },
      "source": [
        "bhadiya_codes = list(bhadiya_stocks['Unnamed: 0'].head(57))"
      ],
      "execution_count": null,
      "outputs": []
    },
    {
      "cell_type": "code",
      "metadata": {
        "id": "52PSUmrF41EH",
        "colab_type": "code",
        "colab": {
          "base_uri": "https://localhost:8080/",
          "height": 34
        },
        "outputId": "e7edd807-1c97-44b8-f06b-32bb0dcd843b"
      },
      "source": [
        "pura_pnl = 0\n",
        "for key in Results_net:\n",
        "  pura_pnl += Results_net[key]['Net_PnL']\n",
        "\n",
        "print(pura_pnl)  "
      ],
      "execution_count": null,
      "outputs": [
        {
          "output_type": "stream",
          "text": [
            "543475.7599999999\n"
          ],
          "name": "stdout"
        }
      ]
    },
    {
      "cell_type": "code",
      "metadata": {
        "id": "bKfTlctv5Sit",
        "colab_type": "code",
        "colab": {
          "base_uri": "https://localhost:8080/",
          "height": 34
        },
        "outputId": "21b9d2dc-c350-4d15-e9a5-57944b1c527c"
      },
      "source": [
        "price_net = 0\n",
        "for i in bhadiya:\n",
        "  try:\n",
        "    abc_df = kite.historical_data(instrument_token = i, from_date = '2020-08-06', to_date = '2020-08-06', interval = 'day', continuous = False)\n",
        "    abc_df = pd.DataFrame(abc_df)\n",
        "    price_net += abc_df['close'][0]\n",
        "  except KeyError:\n",
        "    print(i)  \n",
        "print(price_net)  "
      ],
      "execution_count": null,
      "outputs": [
        {
          "output_type": "stream",
          "text": [
            "2067.3\n"
          ],
          "name": "stdout"
        }
      ]
    },
    {
      "cell_type": "code",
      "metadata": {
        "id": "28ZSFupEWLNS",
        "colab_type": "code",
        "colab": {}
      },
      "source": [
        "time_pos_series = pd.Series()\n",
        "for tareeq in data_daily_NIFTY.index:\n",
        "  pos_series = pd.Series()\n",
        "  for ins in tradable_instruments_codes:\n",
        "    \n",
        "    data_daily_x = kite.historical_data(instrument_token = ins, from_date = '2015-03-01', to_date = '2020-08-10', interval = 'day', continuous = False)\n",
        "    data_daily_x = pd.DataFrame(data_daily_x)\n",
        "    data_daily_x = data_daily_x.set_index(\"date\")\n",
        "    Entry_Signals, Exit_Signals, RS = RelativeStrength.rs_strat_buy_sell(data_daily_x['close'], data_daily_NIFTY['close'], 20)\n",
        "    ctr = 0\n",
        "    for x in Entry_Signals.keys():\n",
        "      ctr+=1\n",
        "      if (x.date() > tareeq.date()):\n",
        "        pos_series[ins] = Entry_Signals[list(Entry_Signals.keys())[ctr-1]]\n",
        "        break\n",
        "  \n",
        "     \n",
        "  time_pos_series[tareeq] = pos_series      \n",
        "print(time_pos_series)  "
      ],
      "execution_count": null,
      "outputs": []
    },
    {
      "cell_type": "code",
      "metadata": {
        "id": "9g9wSM7aTou6",
        "colab_type": "code",
        "colab": {}
      },
      "source": [
        "# !wget http://prdownloads.sourceforge.net/ta-lib/ta-lib-0.4.0-src.tar.gz\n",
        "# !tar -xzvf ta-lib-0.4.0-src.tar.gz\n",
        "# %cd ta-lib\n",
        "# !./configure --prefix=/usr\n",
        "# !make\n",
        "# !make install\n",
        "# !pip install Ta-Lib\n",
        "# import talib"
      ],
      "execution_count": null,
      "outputs": []
    },
    {
      "cell_type": "code",
      "metadata": {
        "id": "nMcL29BfA2rA",
        "colab_type": "code",
        "colab": {
          "base_uri": "https://localhost:8080/",
          "height": 119
        },
        "outputId": "0ea1e857-4fce-40d2-8f47-f40dd8a059d7"
      },
      "source": [
        "pip install ta"
      ],
      "execution_count": 30,
      "outputs": [
        {
          "output_type": "stream",
          "text": [
            "Requirement already satisfied: ta in /usr/local/lib/python3.6/dist-packages (0.5.25)\n",
            "Requirement already satisfied: numpy in /usr/local/lib/python3.6/dist-packages (from ta) (1.18.5)\n",
            "Requirement already satisfied: pandas in /usr/local/lib/python3.6/dist-packages (from ta) (1.0.5)\n",
            "Requirement already satisfied: python-dateutil>=2.6.1 in /usr/local/lib/python3.6/dist-packages (from pandas->ta) (2.8.1)\n",
            "Requirement already satisfied: pytz>=2017.2 in /usr/local/lib/python3.6/dist-packages (from pandas->ta) (2018.9)\n",
            "Requirement already satisfied: six>=1.5 in /usr/local/lib/python3.6/dist-packages (from python-dateutil>=2.6.1->pandas->ta) (1.15.0)\n"
          ],
          "name": "stdout"
        }
      ]
    },
    {
      "cell_type": "code",
      "metadata": {
        "id": "epOujCMSBWCQ",
        "colab_type": "code",
        "colab": {}
      },
      "source": [
        "from ta.trend import ADXIndicator"
      ],
      "execution_count": null,
      "outputs": []
    },
    {
      "cell_type": "code",
      "metadata": {
        "id": "Tc6KbcrCZFVm",
        "colab_type": "code",
        "colab": {}
      },
      "source": [
        "from ta.momentum import rsi"
      ],
      "execution_count": 31,
      "outputs": []
    },
    {
      "cell_type": "code",
      "metadata": {
        "id": "cscX0NJJCAWc",
        "colab_type": "code",
        "colab": {}
      },
      "source": [
        "from ta.trend import ema_indicator"
      ],
      "execution_count": 12,
      "outputs": []
    },
    {
      "cell_type": "code",
      "metadata": {
        "id": "__M6250bCoKN",
        "colab_type": "code",
        "colab": {}
      },
      "source": [
        "# total_dataset = {}\n",
        "# for ins in tradable_instruments_codes :\n",
        "\n",
        "    # data_daily_x = kite.historical_data(instrument_token = ins, from_date = '2015-03-01', to_date = '2020-08-18', interval = 'day', continuous = False)\n",
        "    # data_daily_x = pd.DataFrame(data_daily_x)\n",
        "    # data_daily_x = data_daily_x.set_index(\"date\")\n",
        "try:\n",
        "\n",
        "\n",
        "# data1_x = kite.historical_data(instrument_token = ins, from_date = '2020-02-07', to_date = '2020-08-18', interval = '15minute', continuous = False)\n",
        "# data1_x = pd.DataFrame(data1_x)\n",
        "# data1_x = data1_x.set_indexins\n",
        "  i = '5minute'\n",
        "  ins = 256265 \n",
        "  # ins = 260105 \n",
        "  # data_x = kite.historical_data(instrument_token = ins, from_date = '2020-05-06', to_date = '2020-08-18', interval = i, continuous = False)\n",
        "  # data_x = pd.DataFrame(data_x)\n",
        "  # data_x = data_x.set_index(\"date\")\n",
        "\n",
        "\n",
        "  # data1_x = kite.historical_data(instrument_token = ins, from_date = '2020-02-07', to_date = '2020-05-05', interval = i, continuous = False)\n",
        "  # data1_x = pd.DataFrame(data1_x)\n",
        "  # data1_x = data1_x.set_index(\"date\")\n",
        "  # time.sleep(1)\n",
        "\n",
        "  data2_x = kite.historical_data(instrument_token = ins, from_date = '2019-11-01', to_date = '2020-02-06', interval = i, continuous = False)\n",
        "  data2_x = pd.DataFrame(data2_x)\n",
        "  data2_x = data2_x.set_index(\"date\")\n",
        "\n",
        "\n",
        "  data3_x = kite.historical_data(instrument_token = ins, from_date = '2019-08-01', to_date = '2019-10-30', interval = i, continuous = False)\n",
        "  data3_x = pd.DataFrame(data3_x)\n",
        "  data3_x = data3_x.set_index(\"date\")\n",
        "\n",
        "  data4_x = kite.historical_data(instrument_token = ins, from_date = '2019-05-01', to_date = '2019-07-31', interval = i, continuous = False)\n",
        "  data4_x = pd.DataFrame(data4_x)\n",
        "  data4_x = data4_x.set_index(\"date\")\n",
        "  time.sleep(1)\n",
        "\n",
        "\n",
        "  data5_x = kite.historical_data(instrument_token = ins, from_date = '2019-02-01', to_date = '2019-04-30', interval = i, continuous = False)\n",
        "  data5_x = pd.DataFrame(data5_x)\n",
        "  data5_x = data5_x.set_index(\"date\")\n",
        "\n",
        "  data6_x = kite.historical_data(instrument_token = ins, from_date = '2018-11-01', to_date = '2019-01-31', interval = i, continuous = False)\n",
        "  data6_x = pd.DataFrame(data6_x)\n",
        "  data6_x = data6_x.set_index(\"date\")\n",
        "\n",
        "  data7_x = kite.historical_data(instrument_token = ins, from_date = '2018-08-01', to_date = '2018-10-31', interval = i, continuous = False)\n",
        "  data7_x = pd.DataFrame(data7_x)\n",
        "  data7_x = data7_x.set_index(\"date\")\n",
        "  time.sleep(1)\n",
        "\n",
        "\n",
        "  data8_x = kite.historical_data(instrument_token = ins, from_date = '2018-05-01', to_date = '2018-07-31', interval = i, continuous = False)\n",
        "  data8_x = pd.DataFrame(data8_x)\n",
        "  data8_x = data8_x.set_index(\"date\")\n",
        "  time.sleep(1)\n",
        "  data9_x = kite.historical_data(instrument_token = ins, from_date = '2018-02-01', to_date = '2018-04-30', interval = i, continuous = False)\n",
        "  data9_x = pd.DataFrame(data9_x)\n",
        "  data9_x = data9_x.set_index(\"date\")\n",
        "\n",
        "  data10_x = kite.historical_data(instrument_token = ins, from_date = '2017-11-01', to_date = '2018-01-31', interval = i, continuous = False)\n",
        "  data10_x = pd.DataFrame(data10_x)\n",
        "  data10_x = data10_x.set_index(\"date\")\n",
        "  time.sleep(1)\n",
        "\n",
        "  data11_x = kite.historical_data(instrument_token = ins, from_date = '2017-08-01', to_date = '2017-10-31', interval = i, continuous = False)\n",
        "  data11_x = pd.DataFrame(data11_x)\n",
        "  data11_x = data11_x.set_index(\"date\")\n",
        "  time.sleep(1)\n",
        "\n",
        "  data12_x = kite.historical_data(instrument_token = ins, from_date = '2017-05-01', to_date = '2017-07-31', interval = i, continuous = False)\n",
        "  data12_x = pd.DataFrame(data12_x)\n",
        "  data12_x = data12_x.set_index(\"date\")\n",
        "\n",
        "  data13_x = kite.historical_data(instrument_token = ins, from_date = '2017-02-01', to_date = '2017-04-30', interval = i, continuous = False)\n",
        "  data13_x = pd.DataFrame(data13_x)\n",
        "  data13_x = data13_x.set_index(\"date\")\n",
        "  time.sleep(1)\n",
        "\n",
        "  data14_x = kite.historical_data(instrument_token = ins, from_date = '2016-11-01', to_date = '2017-01-31', interval = i, continuous = False)\n",
        "  data14_x = pd.DataFrame(data14_x)\n",
        "  data14_x = data14_x.set_index(\"date\")\n",
        "  time.sleep(1)\n",
        "\n",
        "\n",
        "  data15_x = kite.historical_data(instrument_token = ins, from_date = '2016-08-01', to_date = '2016-10-31', interval = i, continuous = False)\n",
        "  data15_x = pd.DataFrame(data15_x)\n",
        "  data15_x = data15_x.set_index(\"date\")\n",
        "\n",
        "  data16_x = kite.historical_data(instrument_token = ins, from_date = '2016-05-01', to_date = '2016-07-31', interval = i, continuous = False)\n",
        "  data16_x = pd.DataFrame(data16_x)\n",
        "  data16_x = data16_x.set_index(\"date\")\n",
        "  time.sleep(1)\n",
        "\n",
        "  data17_x = kite.historical_data(instrument_token = ins, from_date = '2016-02-01', to_date = '2016-04-30', interval = i, continuous = False)\n",
        "  data17_x = pd.DataFrame(data17_x)\n",
        "  data17_x = data17_x.set_index(\"date\")\n",
        "\n",
        "  data18_x = kite.historical_data(instrument_token = ins, from_date = '2015-11-01', to_date = '2016-01-31', interval = i, continuous = False)\n",
        "  data18_x = pd.DataFrame(data18_x)\n",
        "  data18_x = data18_x.set_index(\"date\")\n",
        "  time.sleep(1)\n",
        "\n",
        "  data19_x = kite.historical_data(instrument_token = ins, from_date = '2015-08-01', to_date = '2015-10-31', interval = i, continuous = False)\n",
        "  data19_x = pd.DataFrame(data19_x)\n",
        "  data19_x = data19_x.set_index(\"date\")\n",
        "\n",
        "  data20_x = kite.historical_data(instrument_token = ins, from_date = '2015-05-01', to_date = '2015-07-31', interval = i, continuous = False)\n",
        "  data20_x = pd.DataFrame(data20_x)\n",
        "  data20_x = data20_x.set_index(\"date\")\n",
        "  time.sleep(1)\n",
        "\n",
        "  data21_x = kite.historical_data(instrument_token = ins, from_date = '2015-03-01', to_date = '2015-04-30', interval = i, continuous = False)\n",
        "  data21_x = pd.DataFrame(data21_x)\n",
        "  data21_x = data21_x.set_index(\"date\")\n",
        "\n",
        "\n",
        "  entire_backtest_data_frames = [ data21_x, data20_x, data19_x, data18_x, data17_x, data16_x, data15_x, data14_x, data13_x, data12_x, data11_x, data10_x, data9_x, data8_x, data7_x, data6_x, data5_x, data4_x, data3_x, data2_x]\n",
        "  backtest_df_x = pd.concat(entire_backtest_data_frames)\n",
        "  backtest_df_x.index = backtest_df_x.index.tz_localize(None)\n",
        "  # total_dataset[ins] = backtest_df_x\n",
        "\n",
        "except KeyError:\n",
        "  print(ins)  \n",
        "    # Entry_Signals, Exit_Signals = gen_Breakout_trade_signals(backtest_df_x, backtest_df_x['close'], data_daily_x)\n",
        "    # Trading_Journal = gen_trading_journal(backtest_df_x, Entry_Signals, Exit_Signals)\n",
        "    # Trading_Journal = Trading_Journal.fillna(0)\n",
        "    \n",
        "    # Results_net[ins] = gen_Results(Trading_Journal)\n",
        "      \n",
        "    # except :\n",
        "    #   print(ins)  \n",
        "\n",
        "    \n",
        "# pura_pnl = 0\n",
        "# for key in Results_net:\n",
        "#   pura_pnl += Results_net[key]['Net_PnL']  \n",
        "# print(pura_pnl)    "
      ],
      "execution_count": 35,
      "outputs": []
    },
    {
      "cell_type": "code",
      "metadata": {
        "id": "ZC_iC5skQ55o",
        "colab_type": "code",
        "colab": {
          "base_uri": "https://localhost:8080/",
          "height": 255
        },
        "outputId": "8cfde16f-b4c4-4b3f-afae-3737edb05300"
      },
      "source": [
        "pool_results = pd.read_excel(\"/content/daily_time_brkoutatr.xlsx\")\n",
        "print(pool_results)"
      ],
      "execution_count": null,
      "outputs": [
        {
          "output_type": "stream",
          "text": [
            "     Unnamed: 0    0  Unnamed: 2   0.1  0.053959073043605\n",
            "0    2015-03-01    0         NaN   0.0                  0\n",
            "1    2015-03-02    0         NaN   0.0                  0\n",
            "2    2015-03-03    0         NaN -66.0                -66\n",
            "3    2015-03-04  144         NaN -78.0                 66\n",
            "4    2015-03-05 -255         NaN   0.0               -255\n",
            "...         ...  ...         ...   ...                ...\n",
            "1993 2020-08-14    0         NaN   NaN                  0\n",
            "1994 2020-08-15    0         NaN   NaN                  0\n",
            "1995 2020-08-16    0         NaN   NaN                  0\n",
            "1996 2020-08-17    0         NaN   NaN                  0\n",
            "1997 2020-08-18    0         NaN   NaN                  0\n",
            "\n",
            "[1998 rows x 5 columns]\n"
          ],
          "name": "stdout"
        }
      ]
    },
    {
      "cell_type": "code",
      "metadata": {
        "id": "PKZCRpUsR2N_",
        "colab_type": "code",
        "colab": {}
      },
      "source": [
        "running_pnl = []\n",
        "net_pnl = 0\n",
        "for i in pool_results[0.053959073043605]:\n",
        "  net_pnl += i\n",
        "  running_pnl.append(net_pnl)"
      ],
      "execution_count": null,
      "outputs": []
    },
    {
      "cell_type": "code",
      "metadata": {
        "id": "C7jfFIPohhbI",
        "colab_type": "code",
        "colab": {
          "base_uri": "https://localhost:8080/",
          "height": 34
        },
        "outputId": "5b4a5711-64c7-4130-a15d-36e21340945a"
      },
      "source": [
        "window = 200\n",
        "roll_max = pd.Series(running_pnl).rolling(window).max()\n",
        "daily_dd = (running_pnl- roll_max)\n",
        "max_crest_trough_running_drawdown = min(daily_dd.rolling(window).min().fillna(0))\n",
        "print(max_crest_trough_running_drawdown)"
      ],
      "execution_count": null,
      "outputs": [
        {
          "output_type": "stream",
          "text": [
            "-2429.0\n"
          ],
          "name": "stdout"
        }
      ]
    },
    {
      "cell_type": "code",
      "metadata": {
        "id": "c_ZQRCQqyXHq",
        "colab_type": "code",
        "colab": {}
      },
      "source": [
        "def ATR_self(data, n):\n",
        "  true_range = pd.Series()\n",
        "  for i in range(1, len(data['high'].index)):\n",
        "    # try:\n",
        "    true_range[data['high'].index[i]]   =   (max((data['high'])[i]-(data['low'])[i], abs((data['high'])[i]-(data['close'])[i-1]), abs((data['low'])[i]-(data['close'])[i-1])))\n",
        "    # except indexError:\n",
        "    #   continue\n",
        "  atr = (true_range).ewm(alpha = 1/(n), adjust = False).mean()\n",
        "  # atr = ( atr.shift(1)*13 + true_range ) /  14\n",
        "  return atr"
      ],
      "execution_count": 17,
      "outputs": []
    },
    {
      "cell_type": "code",
      "metadata": {
        "id": "BtG81P9kLEMO",
        "colab_type": "code",
        "colab": {}
      },
      "source": [
        ""
      ],
      "execution_count": null,
      "outputs": []
    }
  ]
}